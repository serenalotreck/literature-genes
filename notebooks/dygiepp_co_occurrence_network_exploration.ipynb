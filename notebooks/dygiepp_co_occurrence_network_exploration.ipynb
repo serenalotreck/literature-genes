{
 "cells": [
  {
   "cell_type": "markdown",
   "metadata": {},
   "source": [
    "# DyGIE++ co-occurrence network exploration\n",
    "Idea: to use DyGIE++-extracted named entities to build a sentence-level co-occurrence network, where nodes and edges are labeled as drought or desiccation based on the paper they came from, and then apply simple ML over the graph to predict new connections as being involved in desiccation."
   ]
  },
  {
   "cell_type": "code",
   "execution_count": 76,
   "metadata": {},
   "outputs": [],
   "source": [
    "import jsonlines\n",
    "import networkx as nx\n",
    "from itertools import combinations\n",
    "from collections import defaultdict, Counter\n",
    "from tqdm import tqdm\n",
    "import matplotlib.pyplot as plt\n",
    "import matplotlib\n",
    "matplotlib.rcParams[\"axes.formatter.limits\"] = (-99, 99)\n",
    "from statistics import median\n",
    "from random import sample\n",
    "import pandas as pd\n"
   ]
  },
  {
   "cell_type": "markdown",
   "metadata": {},
   "source": [
    "## Read in data"
   ]
  },
  {
   "cell_type": "code",
   "execution_count": 2,
   "metadata": {},
   "outputs": [],
   "source": [
    "with jsonlines.open('../data/wos_files/drought_and_desiccation_combined_22Mar2024.jsonl') as reader:\n",
    "    dset_papers = [obj for obj in reader]"
   ]
  },
  {
   "cell_type": "code",
   "execution_count": 3,
   "metadata": {},
   "outputs": [],
   "source": [
    "paper2drought = {p['UID']: p['is_drought'] for p in dset_papers}\n",
    "paper2desiccation = {p['UID']: p['is_desiccation'] for p in dset_papers}\n",
    "paper2year = {p['UID']: p['year'] for p in dset_papers}"
   ]
  },
  {
   "cell_type": "code",
   "execution_count": 4,
   "metadata": {},
   "outputs": [],
   "source": [
    "with jsonlines.open('../data/dygiepp/model_predictions/09Apr24_dygiepp_test_formatted_data_pickle_predictions.jsonl') as reader:\n",
    "    dygiepp_preds = [obj for obj in reader]"
   ]
  },
  {
   "cell_type": "markdown",
   "metadata": {},
   "source": [
    "## Define util functions\n",
    "We want to be able to get co-occurrence edges from each document, so let's make a set of functions for it."
   ]
  },
  {
   "cell_type": "code",
   "execution_count": 5,
   "metadata": {},
   "outputs": [],
   "source": [
    "def get_single_doc_edges(doc, paper2drought, paper2desiccation):\n",
    "    \"\"\"\n",
    "    Get sentence-level co-occurrence edges dor a single dygiepp-formatted document.\n",
    "    \n",
    "    parameters:\n",
    "        doc, dict: doc to format\n",
    "        paper2drought, dict: keys are UIDs, values are whether or not it was in the\n",
    "            drought dataset\n",
    "        paper2desiccation, dict: keys are UIDs, values are whether or not it was in the\n",
    "            desiccation dataset\n",
    "\n",
    "    returns:\n",
    "        nodes, list: nodes to add\n",
    "        edges, list: edges to add\n",
    "    \"\"\"\n",
    "    is_drought = paper2drought[doc['doc_key']]\n",
    "    is_desiccation = paper2desiccation[doc['doc_key']]\n",
    "    \n",
    "    all_toks = [tok for sent in doc['sentences'] for tok in sent]\n",
    "    \n",
    "    nodes = []\n",
    "    edges = []\n",
    "    for sent in doc['predicted_ner']:\n",
    "        sent_ents = []\n",
    "        for ent in sent:\n",
    "            ent_text = ' '.join(all_toks[ent[0]: ent[1]+1]).lower()\n",
    "            ent_type = ent[2]\n",
    "            sent_ents.append(ent_text)\n",
    "            nodes.append((ent_text, {'ent_type': ent_type, 'is_drought': is_drought,\n",
    "                                    'is_desiccation': is_desiccation, 'doc_of_origin': doc['doc_key'],\n",
    "                                    'year': paper2year[doc['doc_key']]}))\n",
    "        node_pairs = combinations(sent_ents, 2)\n",
    "        node_pairs = [p for p in node_pairs if p[0] != p[1]] # Exclude meaningless edges\n",
    "        for np in node_pairs:\n",
    "            edge = (np[0], np[1], {'doc_of_origin': doc['doc_key'],\n",
    "                                  'is_drought': is_drought,\n",
    "                                  'is_desiccation': is_desiccation,\n",
    "                                  'year': paper2year[doc['doc_key']]})\n",
    "            edges.append(edge)\n",
    "    return nodes, edges"
   ]
  },
  {
   "cell_type": "code",
   "execution_count": 6,
   "metadata": {},
   "outputs": [],
   "source": [
    "def coalesce_dset_nodes(doc_node_attrs):\n",
    "    \"\"\"\n",
    "    Combines repeated nodes in the graph. If a node appears multiple times,\n",
    "    and at least once has the is_drought and another time has the is_desiccation attribute,\n",
    "    we want the node we include to have both of those attributes. Additionally, we'd like to\n",
    "    keep track of how often the nodes are mentioned, keep track of the first year of mention, \n",
    "    and choose the most frequent entity type if there are multiples reported for a given node.\n",
    "    We can do all of this by looking at the attribute dicts for each edge and node.\n",
    "\n",
    "    parameters:\n",
    "        doc_node_attrs, dict: keys are node names, values are lists of attribute dicts for\n",
    "            all individual mentions of that node\n",
    "\n",
    "    returns:\n",
    "        all_nodes, list: nodes for main graph\n",
    "    \"\"\"\n",
    "    all_nodes = []\n",
    "    num_w_mults = 0\n",
    "    for n, attr_dict_list in tqdm(doc_node_attrs.items()):\n",
    "        earliest_year = min([attrs['year'] for attrs in attr_dict_list])\n",
    "        is_drought = any([attrs['is_drought'] for attrs in attr_dict_list])\n",
    "        is_desiccation = any([attrs['is_desiccation'] for attrs in attr_dict_list])\n",
    "        uids_of_origin = [attrs['doc_of_origin'] for attrs in attr_dict_list]\n",
    "        num_doc_mentions = len(attr_dict_list)\n",
    "        ent_types = [attrs['ent_type'] for attrs in attr_dict_list]\n",
    "        if len(set(ent_types)) > 1:\n",
    "            ent_type, count = Counter(ent_types).most_common(1)[0]\n",
    "            num_w_mults += 1\n",
    "        else:\n",
    "            ent_type = ent_types[0]\n",
    "        all_nodes.append((n, {\n",
    "            'uids_of_origin': uids_of_origin,\n",
    "            'num_doc_mentions_all_time': num_doc_mentions,\n",
    "            'is_drought': is_drought,\n",
    "            'is_desiccation': is_desiccation,\n",
    "            'ent_type': ent_type,\n",
    "            'first_year_mentioned': earliest_year\n",
    "        }))\n",
    "    \n",
    "    print(f'{num_w_mults} of {len(all_nodes)} nodes had multiple entity type choices, the '\n",
    "         'most common was used.')\n",
    "\n",
    "    return all_nodes\n",
    "\n",
    "\n",
    "def coalesce_dset_edges(doc_edge_attrs):\n",
    "    \"\"\"\n",
    "    Combines repeated edges in the graph. If a edge appears multiple times,\n",
    "    and at least once has the is_drought and another time has the is_desiccation attribute,\n",
    "    we want the edge we include to have both of those attributes. Additionally, we'd like to\n",
    "    keep track of how often the edges are mentioned, and keep track of the first year of mention.\n",
    "    We can do all of this by looking at the attribute dicts for each edge and node.\n",
    "\n",
    "    parameters:\n",
    "        doc_edge_attrs, dict: keys are edge names, values are lists of attribute dicts for\n",
    "            all individual mentions of that edge\n",
    "\n",
    "    returns:\n",
    "        all_edges, list: edges for main graph\n",
    "    \"\"\"\n",
    "    all_edges = []\n",
    "    for epair, attr_dict_list in tqdm(doc_edge_attrs.items()):\n",
    "        earliest_year = min([attrs['year'] for attrs in attr_dict_list])\n",
    "        is_drought = any([attrs['is_drought'] for attrs in attr_dict_list])\n",
    "        is_desiccation = any([attrs['is_desiccation'] for attrs in attr_dict_list])\n",
    "        uids_of_origin = [attrs['doc_of_origin'] for attrs in attr_dict_list]\n",
    "        num_doc_mentions = len(attr_dict_list)\n",
    "        \n",
    "        all_edges.append((epair[0], epair[1], {\n",
    "            'uids_of_origin': uids_of_origin,\n",
    "            'num_doc_mentions_all_time': num_doc_mentions,\n",
    "            'is_drought': is_drought,\n",
    "            'is_desiccation': is_desiccation,\n",
    "            'first_year_mentioned': earliest_year\n",
    "        }))\n",
    "\n",
    "    return all_edges"
   ]
  },
  {
   "cell_type": "code",
   "execution_count": 7,
   "metadata": {},
   "outputs": [],
   "source": [
    "def get_dataset_graph(dset, paper2drought, paper2desiccation):\n",
    "    \"\"\"\n",
    "    Get sentence-level co-occurrence edges dor a dygiepp-formatted dataset and\n",
    "    build a graph.\n",
    "    \n",
    "    parameters:\n",
    "        dset, list of dict: dataset to format\n",
    "        paper2drought, dict: keys are UIDs, values are whether or not it was in the\n",
    "            drought dataset\n",
    "        paper2desiccation, dict: keys are UIDs, values are whether or not it was in the\n",
    "            desiccation dataset\n",
    "\n",
    "    returns:\n",
    "        graph, networkx Graph: graph representation of sentence-level co-occurrence\n",
    "    \"\"\"\n",
    "    # First get doc level ents and edges\n",
    "    print('\\nGetting document-level edges and nodes...')\n",
    "    doc_level_nodes = []\n",
    "    doc_level_edges = []\n",
    "    for doc in tqdm(dset):\n",
    "        nodes, edges = get_single_doc_edges(doc, paper2drought, paper2desiccation)\n",
    "        doc_level_nodes.extend(nodes)\n",
    "        doc_level_edges.extend(edges)\n",
    "    \n",
    "    # Get the attr dicts for each node and edge:\n",
    "    print('\\nGetting combined attributes for nodes...')\n",
    "    doc_node_attrs = defaultdict(list)\n",
    "    for n, attrs in tqdm(doc_level_nodes):\n",
    "        doc_node_attrs[n].append(attrs)\n",
    "    print('\\nGetting combined attributes for edges...')\n",
    "    doc_edge_attrs = defaultdict(list)\n",
    "    for e1, e2, attrs in tqdm(doc_level_edges):\n",
    "        doc_edge_attrs[(e1, e2)].append(attrs)\n",
    "    \n",
    "    # Now combine the docs they come from, the drought/desiccation attributes:\n",
    "    print('\\nCombining nodes...')\n",
    "    all_nodes = coalesce_dset_nodes(doc_node_attrs)\n",
    "    print('\\nCombining edges...')\n",
    "    all_edges = coalesce_dset_edges(doc_edge_attrs)\n",
    "    \n",
    "    # Make graph\n",
    "    print('\\nBuilding graph...')\n",
    "    graph = nx.Graph()\n",
    "    _ = graph.add_nodes_from(all_nodes)\n",
    "    _ = graph.add_edges_from(all_edges)\n",
    "    \n",
    "    print('\\nDone!')\n",
    "    \n",
    "    return graph"
   ]
  },
  {
   "cell_type": "markdown",
   "metadata": {},
   "source": [
    "## Build graph"
   ]
  },
  {
   "cell_type": "code",
   "execution_count": 8,
   "metadata": {},
   "outputs": [
    {
     "name": "stdout",
     "output_type": "stream",
     "text": [
      "\n",
      "Getting document-level edges and nodes...\n"
     ]
    },
    {
     "name": "stderr",
     "output_type": "stream",
     "text": [
      "100%|██████████| 81886/81886 [00:07<00:00, 10403.27it/s]\n"
     ]
    },
    {
     "name": "stdout",
     "output_type": "stream",
     "text": [
      "\n",
      "Getting combined attributes for nodes...\n"
     ]
    },
    {
     "name": "stderr",
     "output_type": "stream",
     "text": [
      "100%|██████████| 1340759/1340759 [00:03<00:00, 413419.99it/s]\n"
     ]
    },
    {
     "name": "stdout",
     "output_type": "stream",
     "text": [
      "\n",
      "Getting combined attributes for edges...\n"
     ]
    },
    {
     "name": "stderr",
     "output_type": "stream",
     "text": [
      "100%|██████████| 1988310/1988310 [00:01<00:00, 1326712.26it/s]\n"
     ]
    },
    {
     "name": "stdout",
     "output_type": "stream",
     "text": [
      "\n",
      "Combining nodes...\n"
     ]
    },
    {
     "name": "stderr",
     "output_type": "stream",
     "text": [
      "100%|██████████| 334579/334579 [00:04<00:00, 66938.23it/s] \n"
     ]
    },
    {
     "name": "stdout",
     "output_type": "stream",
     "text": [
      "22440 of 334579 nodes had multiple entity type choices, the most common was used.\n",
      "\n",
      "Combining edges...\n"
     ]
    },
    {
     "name": "stderr",
     "output_type": "stream",
     "text": [
      "100%|██████████| 1406222/1406222 [00:06<00:00, 213917.95it/s]\n"
     ]
    },
    {
     "name": "stdout",
     "output_type": "stream",
     "text": [
      "\n",
      "Building graph...\n",
      "\n",
      "Done!\n"
     ]
    }
   ],
   "source": [
    "graph = get_dataset_graph(dygiepp_preds, paper2drought, paper2desiccation)"
   ]
  },
  {
   "cell_type": "code",
   "execution_count": 9,
   "metadata": {},
   "outputs": [],
   "source": [
    "# Can't save lists as attributes in graphml, so make it into a str:\n",
    "for n, attrs in graph.nodes(data=True):\n",
    "    attrs['uids_of_origin'] = ', '.join(attrs['uids_of_origin'])\n",
    "for e1, e2, attrs in graph.edges(data=True):\n",
    "    attrs['uids_of_origin'] = ', '.join(attrs['uids_of_origin'])"
   ]
  },
  {
   "cell_type": "code",
   "execution_count": 10,
   "metadata": {},
   "outputs": [],
   "source": [
    "nx.write_graphml(graph, '../data/kg/all_drought_dt_co_occurrence_graph_29Apr2024.graphml')"
   ]
  },
  {
   "cell_type": "markdown",
   "metadata": {},
   "source": [
    "## Characterize graph"
   ]
  },
  {
   "cell_type": "code",
   "execution_count": 11,
   "metadata": {},
   "outputs": [
    {
     "name": "stdout",
     "output_type": "stream",
     "text": [
      "There are 334579 nodes and 1289214 edges in the dataset, giving an edge:node ratio of 3.85\n"
     ]
    }
   ],
   "source": [
    "print(f'There are {len(graph.nodes)} nodes and {len(graph.edges)} edges in the dataset, giving an '\n",
    "     f'edge:node ratio of {len(graph.edges)/len(graph.nodes):.2f}')"
   ]
  },
  {
   "cell_type": "code",
   "execution_count": 12,
   "metadata": {},
   "outputs": [
    {
     "name": "stdout",
     "output_type": "stream",
     "text": [
      "Of the 1289214 edges in the graph, 22017 (1.71%) are in both the desiccation and drought datasets, while 1193325 (92.56%) are drought only, and 73872 (5.73%) are desiccation only.\n"
     ]
    }
   ],
   "source": [
    "drought_edges = nx.get_edge_attributes(graph, 'is_drought')\n",
    "desiccation_edges = nx.get_edge_attributes(graph, 'is_desiccation')\n",
    "is_both = []\n",
    "dr_only = []\n",
    "des_only = []\n",
    "for epair in drought_edges.keys():\n",
    "    if drought_edges[epair] and desiccation_edges[epair]:\n",
    "        is_both.append(epair)\n",
    "    elif drought_edges[epair] and not desiccation_edges[epair]:\n",
    "        dr_only.append(epair)\n",
    "    elif not drought_edges[epair] and desiccation_edges[epair]:\n",
    "        des_only.append(epair)\n",
    "\n",
    "print(f'Of the {len(graph.edges)} edges in the graph, {len(is_both)} ({100*(len(is_both)/len(graph.edges)):.2f}%) '\n",
    "     f'are in both the desiccation and drought datasets, while {len(dr_only)} ({100*(len(dr_only)/len(graph.edges)):.2f}%) '\n",
    "     f'are drought only, and {len(des_only)} ({100*(len(des_only)/len(graph.edges)):.2f}%) are desiccation only.')"
   ]
  },
  {
   "cell_type": "code",
   "execution_count": 13,
   "metadata": {},
   "outputs": [
    {
     "name": "stdout",
     "output_type": "stream",
     "text": [
      "Of the 334579 nodes in the graph, 14134 (4.22%) are in both the desiccation and drought datasets, while 299831 (89.61%) are drought only, and 20614 (6.16%) are desiccation only.\n"
     ]
    }
   ],
   "source": [
    "drought_nodes = nx.get_node_attributes(graph, 'is_drought')\n",
    "desiccation_nodes = nx.get_node_attributes(graph, 'is_desiccation')\n",
    "is_both = []\n",
    "dr_only = []\n",
    "des_only = []\n",
    "for n in drought_nodes.keys():\n",
    "    if drought_nodes[n] and desiccation_nodes[n]:\n",
    "        is_both.append(n)\n",
    "    elif drought_nodes[n] and not desiccation_nodes[n]:\n",
    "        dr_only.append(n)\n",
    "    elif not drought_nodes[n] and desiccation_nodes[n]:\n",
    "        des_only.append(n)\n",
    "\n",
    "print(f'Of the {len(graph.nodes)} nodes in the graph, {len(is_both)} ({100*(len(is_both)/len(graph.nodes)):.2f}%) '\n",
    "     f'are in both the desiccation and drought datasets, while {len(dr_only)} ({100*(len(dr_only)/len(graph.nodes)):.2f}%) '\n",
    "     f'are drought only, and {len(des_only)} ({100*(len(des_only)/len(graph.nodes)):.2f}%) are desiccation only.')"
   ]
  },
  {
   "cell_type": "code",
   "execution_count": 14,
   "metadata": {},
   "outputs": [
    {
     "data": {
      "text/plain": [
       "Text(0.5, 0.98, 'Distribution of degree')"
      ]
     },
     "execution_count": 14,
     "metadata": {},
     "output_type": "execute_result"
    },
    {
     "data": {
      "image/png": "[encoded data removed]",
      "text/plain": [
       "<Figure size 640x480 with 2 Axes>"
      ]
     },
     "metadata": {},
     "output_type": "display_data"
    }
   ],
   "source": [
    "degs = [deg[1] for deg in graph.degree]\n",
    "\n",
    "# Code from https://matplotlib.org/2.0.2/examples/pylab_examples/broken_axis.html\n",
    "fig, (ax1, ax2) = plt.subplots(2, 1, sharex=True)\n",
    "\n",
    "_ = ax1.hist(degs, bins=50)\n",
    "_ = ax2.hist(degs, bins=50)\n",
    "\n",
    "# Get max y-value\n",
    "maxy = ax1.get_ylim()[1]\n",
    "basemax = plt.yticks()[0][-2]\n",
    "\n",
    "# Set the y limits\n",
    "ax1.set_ylim(basemax, maxy)\n",
    "ax2.set_ylim(0, 80) # Got by trial end error\n",
    "\n",
    "# Finish formatting\n",
    "ax1.spines['bottom'].set_visible(False)\n",
    "ax2.spines['top'].set_visible(False)\n",
    "ax1.xaxis.tick_top()\n",
    "ax1.tick_params(labeltop='off')  # don't put tick labels at the top\n",
    "ax2.xaxis.tick_bottom()\n",
    "\n",
    "# Add the cut diagonals\n",
    "d = .015  # how big to make the diagonal lines in axes coordinates\n",
    "# arguments to pass to plot, just so we don't keep repeating them\n",
    "kwargs = dict(transform=ax1.transAxes, color='k', clip_on=False)\n",
    "ax1.plot((-d, +d), (-d, +d), **kwargs)        # top-left diagonal\n",
    "ax1.plot((1 - d, 1 + d), (-d, +d), **kwargs)  # top-right diagonal\n",
    "\n",
    "kwargs.update(transform=ax2.transAxes)  # switch to the bottom axes\n",
    "ax2.plot((-d, +d), (1 - d, 1 + d), **kwargs)  # bottom-left diagonal\n",
    "ax2.plot((1 - d, 1 + d), (1 - d, 1 + d), **kwargs)  # bottom-right diagonal\n",
    "\n",
    "fig.suptitle('Distribution of degree')"
   ]
  },
  {
   "cell_type": "code",
   "execution_count": 15,
   "metadata": {},
   "outputs": [
    {
     "name": "stdout",
     "output_type": "stream",
     "text": [
      "The most well-connected entities are: ['water', 'salt', 'aba']\n"
     ]
    }
   ],
   "source": [
    "most_connected = [deg[0] for deg in graph.degree if deg[1] > 10000]\n",
    "print(f'The most well-connected entities are: {most_connected}')"
   ]
  },
  {
   "cell_type": "markdown",
   "metadata": {},
   "source": [
    "If we exclude the three most connected entities and re-plot the histogram, we see that while the distribution is skewed, it's certainly less bad than in previous graphs we've constructed:"
   ]
  },
  {
   "cell_type": "code",
   "execution_count": 16,
   "metadata": {},
   "outputs": [
    {
     "data": {
      "text/plain": [
       "Text(0.5, 0.98, 'Distribution of degree')"
      ]
     },
     "execution_count": 16,
     "metadata": {},
     "output_type": "execute_result"
    },
    {
     "data": {
      "image/png": "[encoded data removed]",
      "text/plain": [
       "<Figure size 640x480 with 2 Axes>"
      ]
     },
     "metadata": {},
     "output_type": "display_data"
    }
   ],
   "source": [
    "degs = [deg[1] for deg in graph.degree if deg[1] < 10000]\n",
    "\n",
    "# Code from https://matplotlib.org/2.0.2/examples/pylab_examples/broken_axis.html\n",
    "fig, (ax1, ax2) = plt.subplots(2, 1, sharex=True)\n",
    "\n",
    "_ = ax1.hist(degs, bins=50)\n",
    "_ = ax2.hist(degs, bins=50)\n",
    "\n",
    "# Get max y-value\n",
    "maxy = ax1.get_ylim()[1]\n",
    "basemax = plt.yticks()[0][-2]\n",
    "\n",
    "# Set the y limits\n",
    "ax1.set_ylim(basemax, maxy)\n",
    "ax2.set_ylim(0, 900) # Got by trial end error\n",
    "\n",
    "# Finish formatting\n",
    "ax1.spines['bottom'].set_visible(False)\n",
    "ax2.spines['top'].set_visible(False)\n",
    "ax1.xaxis.tick_top()\n",
    "ax1.tick_params(labeltop='off')  # don't put tick labels at the top\n",
    "ax2.xaxis.tick_bottom()\n",
    "\n",
    "# Add the cut diagonals\n",
    "d = .015  # how big to make the diagonal lines in axes coordinates\n",
    "# arguments to pass to plot, just so we don't keep repeating them\n",
    "kwargs = dict(transform=ax1.transAxes, color='k', clip_on=False)\n",
    "ax1.plot((-d, +d), (-d, +d), **kwargs)        # top-left diagonal\n",
    "ax1.plot((1 - d, 1 + d), (-d, +d), **kwargs)  # top-right diagonal\n",
    "\n",
    "kwargs.update(transform=ax2.transAxes)  # switch to the bottom axes\n",
    "ax2.plot((-d, +d), (1 - d, 1 + d), **kwargs)  # bottom-left diagonal\n",
    "ax2.plot((1 - d, 1 + d), (1 - d, 1 + d), **kwargs)  # bottom-right diagonal\n",
    "\n",
    "fig.suptitle('Distribution of degree')"
   ]
  },
  {
   "cell_type": "code",
   "execution_count": 17,
   "metadata": {},
   "outputs": [
    {
     "name": "stdout",
     "output_type": "stream",
     "text": [
      "The next-most well-connected entities are: ['n', 'wheat', 'rice', 'soybean', 'soil water', 'co2', 'peg', 'proline', 'chlorophyll', 'mda', 'h2o2', 'abscisic acid', 'arabidopsis', 'maize', 'nacl', 'arabidopsis thaliana', 'nitrogen']\n"
     ]
    }
   ],
   "source": [
    "next_most_connected = [deg[0] for deg in graph.degree if 3000 < deg[1] < 10000]\n",
    "print(f'The next-most well-connected entities are: {next_most_connected}')"
   ]
  },
  {
   "cell_type": "markdown",
   "metadata": {},
   "source": [
    "We also have weights for how many time each edge and node were mentioned on a per-document basis, let's take a look at the distribution of those values:"
   ]
  },
  {
   "cell_type": "code",
   "execution_count": 18,
   "metadata": {},
   "outputs": [],
   "source": [
    "node_weights = [attrs['num_doc_mentions_all_time'] for n, attrs in graph.nodes(data=True)]\n",
    "edge_weights = [attrs['num_doc_mentions_all_time'] for e1, e2, attrs in graph.edges(data=True)]"
   ]
  },
  {
   "cell_type": "code",
   "execution_count": 19,
   "metadata": {},
   "outputs": [
    {
     "data": {
      "text/plain": [
       "Text(0.5, 0.98, 'Distribution of node weights')"
      ]
     },
     "execution_count": 19,
     "metadata": {},
     "output_type": "execute_result"
    },
    {
     "data": {
      "image/png": "[encoded data removed]",
      "text/plain": [
       "<Figure size 640x480 with 2 Axes>"
      ]
     },
     "metadata": {},
     "output_type": "display_data"
    }
   ],
   "source": [
    "# Code from https://matplotlib.org/2.0.2/examples/pylab_examples/broken_axis.html\n",
    "fig, (ax1, ax2) = plt.subplots(2, 1, sharex=True)\n",
    "\n",
    "_ = ax1.hist(node_weights, bins=50)\n",
    "_ = ax2.hist(node_weights, bins=50)\n",
    "\n",
    "# Get max y-value\n",
    "maxy = ax1.get_ylim()[1]\n",
    "basemax = plt.yticks()[0][-2]\n",
    "\n",
    "# Set the y limits\n",
    "ax1.set_ylim(basemax, maxy)\n",
    "ax2.set_ylim(0, 20) # Got by trial end error\n",
    "\n",
    "# Finish formatting\n",
    "ax1.spines['bottom'].set_visible(False)\n",
    "ax2.spines['top'].set_visible(False)\n",
    "ax1.xaxis.tick_top()\n",
    "ax1.tick_params(labeltop='off')  # don't put tick labels at the top\n",
    "ax2.xaxis.tick_bottom()\n",
    "\n",
    "# Add the cut diagonals\n",
    "d = .015  # how big to make the diagonal lines in axes coordinates\n",
    "# arguments to pass to plot, just so we don't keep repeating them\n",
    "kwargs = dict(transform=ax1.transAxes, color='k', clip_on=False)\n",
    "ax1.plot((-d, +d), (-d, +d), **kwargs)        # top-left diagonal\n",
    "ax1.plot((1 - d, 1 + d), (-d, +d), **kwargs)  # top-right diagonal\n",
    "\n",
    "kwargs.update(transform=ax2.transAxes)  # switch to the bottom axes\n",
    "ax2.plot((-d, +d), (1 - d, 1 + d), **kwargs)  # bottom-left diagonal\n",
    "ax2.plot((1 - d, 1 + d), (1 - d, 1 + d), **kwargs)  # bottom-right diagonal\n",
    "\n",
    "plt.suptitle('Distribution of node weights')"
   ]
  },
  {
   "cell_type": "code",
   "execution_count": 20,
   "metadata": {},
   "outputs": [
    {
     "name": "stdout",
     "output_type": "stream",
     "text": [
      "The most common node in our dataset is: water\n"
     ]
    }
   ],
   "source": [
    "most_common_nodes = [n for n, attrs in graph.nodes(data=True) if attrs['num_doc_mentions_all_time'] > 80000]\n",
    "print(f'The most common node in our dataset is: {most_common_nodes[0]}')"
   ]
  },
  {
   "cell_type": "code",
   "execution_count": 21,
   "metadata": {},
   "outputs": [
    {
     "data": {
      "text/plain": [
       "Text(0.5, 0.98, 'Distribution of edge weights')"
      ]
     },
     "execution_count": 21,
     "metadata": {},
     "output_type": "execute_result"
    },
    {
     "data": {
      "image/png": "[encoded data removed]",
      "text/plain": [
       "<Figure size 640x480 with 2 Axes>"
      ]
     },
     "metadata": {},
     "output_type": "display_data"
    }
   ],
   "source": [
    "# Code from https://matplotlib.org/2.0.2/examples/pylab_examples/broken_axis.html\n",
    "fig, (ax1, ax2) = plt.subplots(2, 1, sharex=True)\n",
    "\n",
    "_ = ax1.hist(edge_weights, bins=50)\n",
    "_ = ax2.hist(edge_weights, bins=50)\n",
    "\n",
    "# Get max y-value\n",
    "maxy = ax1.get_ylim()[1]\n",
    "basemax = plt.yticks()[0][-2]\n",
    "\n",
    "# Set the y limits\n",
    "ax1.set_ylim(basemax, maxy)\n",
    "ax2.set_ylim(0, 1000) # Got by trial end error\n",
    "\n",
    "# Finish formatting\n",
    "ax1.spines['bottom'].set_visible(False)\n",
    "ax2.spines['top'].set_visible(False)\n",
    "ax1.xaxis.tick_top()\n",
    "ax1.tick_params(labeltop='off')  # don't put tick labels at the top\n",
    "ax2.xaxis.tick_bottom()\n",
    "\n",
    "# Add the cut diagonals\n",
    "d = .015  # how big to make the diagonal lines in axes coordinates\n",
    "# arguments to pass to plot, just so we don't keep repeating them\n",
    "kwargs = dict(transform=ax1.transAxes, color='k', clip_on=False)\n",
    "ax1.plot((-d, +d), (-d, +d), **kwargs)        # top-left diagonal\n",
    "ax1.plot((1 - d, 1 + d), (-d, +d), **kwargs)  # top-right diagonal\n",
    "\n",
    "kwargs.update(transform=ax2.transAxes)  # switch to the bottom axes\n",
    "ax2.plot((-d, +d), (1 - d, 1 + d), **kwargs)  # bottom-left diagonal\n",
    "ax2.plot((1 - d, 1 + d), (1 - d, 1 + d), **kwargs)  # bottom-right diagonal\n",
    "\n",
    "fig.suptitle('Distribution of edge weights')"
   ]
  },
  {
   "cell_type": "code",
   "execution_count": 22,
   "metadata": {
    "scrolled": true
   },
   "outputs": [
    {
     "name": "stdout",
     "output_type": "stream",
     "text": [
      "The most common edges in our dataset are:\n",
      "('water', 'n')\n",
      "('water', 'wheat')\n",
      "('water', 'p')\n",
      "('water', 'co2')\n",
      "('water', 'proline')\n",
      "('water', 'maize')\n",
      "('water', 'nitrogen')\n",
      "('water', 'abscisic acid')\n",
      "('water', 'aba')\n",
      "('water', 'chlorophyll')\n",
      "('water', 'tomato')\n",
      "('water', 'soil water')\n",
      "('water', 'winter wheat')\n",
      "('water', 'salt')\n",
      "('water', 'cotton')\n",
      "('water', 'rice')\n",
      "('water', 'soybean')\n",
      "('n', 'k')\n",
      "('n', 'c')\n",
      "('wheat', 'maize')\n",
      "('pod', 'sod')\n",
      "('pod', 'cat')\n",
      "('peg', 'nacl')\n",
      "('proline', 'mda')\n",
      "('proline', 'malondialdehyde')\n",
      "('proline', 'chlorophyll')\n",
      "('mda', 'h2o2')\n",
      "('h2o2', 'malondialdehyde')\n",
      "('salt', 'aba')\n",
      "('salt', 'abscisic acid')\n",
      "('abscisic acid', 'salicylic acid')\n",
      "('aba', 'sa')\n",
      "('superoxide dismutase', 'catalase')\n",
      "('superoxide dismutase', 'peroxidase')\n",
      "('sod', 'cat')\n",
      "('sod', 'peroxidase')\n",
      "('barley', 'hordeum vulgare l.')\n",
      "('peroxidase', 'catalase')\n",
      "('catalase', 'glutathione reductase')\n"
     ]
    }
   ],
   "source": [
    "most_common_edges = [(e1, e2) for e1, e2, attrs in graph.edges(data=True) if attrs['num_doc_mentions_all_time'] > 200]\n",
    "print('The most common edges in our dataset are:')\n",
    "for mce in most_common_edges:\n",
    "    print(mce)"
   ]
  },
  {
   "cell_type": "markdown",
   "metadata": {},
   "source": [
    "That almost all the most common edges in our graph are related to water is an imporant reminder of the limitations of co-occurrence -- just because two words appear together in the same sentence does not mean they convey information together as a pair, or even that they are actually related (although water clearly is important for plants in this case, that information is so obvious as to be irrelevant)"
   ]
  }
 ],
 "metadata": {
  "kernelspec": {
   "display_name": "ontogpt",
   "language": "python",
   "name": "ontogpt"
  },
  "language_info": {
   "codemirror_mode": {
    "name": "ipython",
    "version": 3
   },
   "file_extension": ".py",
   "mimetype": "text/x-python",
   "name": "python",
   "nbconvert_exporter": "python",
   "pygments_lexer": "ipython3",
   "version": "3.9.18"
  }
 },
 "nbformat": 4,
 "nbformat_minor": 2
}
