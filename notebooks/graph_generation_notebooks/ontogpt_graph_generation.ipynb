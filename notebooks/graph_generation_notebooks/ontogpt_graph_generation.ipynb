{
 "cells": [
  {
   "cell_type": "markdown",
   "metadata": {},
   "source": [
    "# OntoGPT graph generation\n",
    "We ran OntoGPT on the desiccation subset of our dataset; here, we'll post-process the output and format it as a graph."
   ]
  },
  {
   "cell_type": "code",
   "execution_count": 9,
   "metadata": {},
   "outputs": [],
   "source": [
    "import pandas as pd\n",
    "from collections import Counter\n",
    "import networkx as nx"
   ]
  },
  {
   "cell_type": "markdown",
   "metadata": {},
   "source": [
    "## Read in converted OntoGPT output"
   ]
  },
  {
   "cell_type": "markdown",
   "metadata": {},
   "source": [
    "### Entities"
   ]
  },
  {
   "cell_type": "code",
   "execution_count": 3,
   "metadata": {},
   "outputs": [
    {
     "data": {
      "text/html": [
       "<div>\n",
       "<style scoped>\n",
       "    .dataframe tbody tr th:only-of-type {\n",
       "        vertical-align: middle;\n",
       "    }\n",
       "\n",
       "    .dataframe tbody tr th {\n",
       "        vertical-align: top;\n",
       "    }\n",
       "\n",
       "    .dataframe thead th {\n",
       "        text-align: right;\n",
       "    }\n",
       "</style>\n",
       "<table border=\"1\" class=\"dataframe\">\n",
       "  <thead>\n",
       "    <tr style=\"text-align: right;\">\n",
       "      <th></th>\n",
       "      <th>id</th>\n",
       "      <th>category</th>\n",
       "      <th>name</th>\n",
       "      <th>provided_by</th>\n",
       "    </tr>\n",
       "  </thead>\n",
       "  <tbody>\n",
       "    <tr>\n",
       "      <th>0</th>\n",
       "      <td>AUTO:N/A</td>\n",
       "      <td>Protein</td>\n",
       "      <td>NaN</td>\n",
       "      <td>1811d3fb-5fb9-4cbe-aa8b-84b4d4716af6</td>\n",
       "    </tr>\n",
       "    <tr>\n",
       "      <th>1</th>\n",
       "      <td>AUTO:lipid%20peroxidation</td>\n",
       "      <td>Molecule</td>\n",
       "      <td>lipid peroxidation</td>\n",
       "      <td>1811d3fb-5fb9-4cbe-aa8b-84b4d4716af6</td>\n",
       "    </tr>\n",
       "    <tr>\n",
       "      <th>2</th>\n",
       "      <td>CHEBI:16856</td>\n",
       "      <td>Molecule</td>\n",
       "      <td>glutathione</td>\n",
       "      <td>1811d3fb-5fb9-4cbe-aa8b-84b4d4716af6</td>\n",
       "    </tr>\n",
       "    <tr>\n",
       "      <th>3</th>\n",
       "      <td>CHEBI:29191</td>\n",
       "      <td>Molecule</td>\n",
       "      <td>hydroxyl radical</td>\n",
       "      <td>1811d3fb-5fb9-4cbe-aa8b-84b4d4716af6</td>\n",
       "    </tr>\n",
       "    <tr>\n",
       "      <th>4</th>\n",
       "      <td>AUTO:Trichilia%20dregeana</td>\n",
       "      <td>Organism</td>\n",
       "      <td>Trichilia dregeana</td>\n",
       "      <td>1811d3fb-5fb9-4cbe-aa8b-84b4d4716af6</td>\n",
       "    </tr>\n",
       "  </tbody>\n",
       "</table>\n",
       "</div>"
      ],
      "text/plain": [
       "                          id  category                name  \\\n",
       "0                   AUTO:N/A   Protein                 NaN   \n",
       "1  AUTO:lipid%20peroxidation  Molecule  lipid peroxidation   \n",
       "2                CHEBI:16856  Molecule         glutathione   \n",
       "3                CHEBI:29191  Molecule    hydroxyl radical   \n",
       "4  AUTO:Trichilia%20dregeana  Organism  Trichilia dregeana   \n",
       "\n",
       "                            provided_by  \n",
       "0  1811d3fb-5fb9-4cbe-aa8b-84b4d4716af6  \n",
       "1  1811d3fb-5fb9-4cbe-aa8b-84b4d4716af6  \n",
       "2  1811d3fb-5fb9-4cbe-aa8b-84b4d4716af6  \n",
       "3  1811d3fb-5fb9-4cbe-aa8b-84b4d4716af6  \n",
       "4  1811d3fb-5fb9-4cbe-aa8b-84b4d4716af6  "
      ]
     },
     "execution_count": 3,
     "metadata": {},
     "output_type": "execute_result"
    }
   ],
   "source": [
    "ent_df = pd.read_csv('../../data/kg/ontogpt_slim_ent_df_20May2024.csv')\n",
    "ent_df.head()"
   ]
  },
  {
   "cell_type": "markdown",
   "metadata": {},
   "source": [
    "Problematic entities by ID that we can observe just by scrolling through the list: `AUTO:N/A`, `AUTO:Not%20provided`, `AUTO:Not%20mentioned`, `AUTO:None`, `AUTO:Not%20found`, `AUTO:Unknown`... etc. Quantify prevalance and remove:"
   ]
  },
  {
   "cell_type": "code",
   "execution_count": 103,
   "metadata": {},
   "outputs": [],
   "source": [
    "problem_ents = ['AUTO:N/A', 'AUTO:Not%20provided', 'AUTO:not%20provided', 'AUTO:Not%20mentioned', 'AUTO:None', 'AUTO:Not%20found', 'AUTO:Unknown',\n",
    "               'AUTO:Not%20mentioned%20in%20the%20text.', 'AUTO:unknown', 'AUTO:none', 'AUTO:Not%20applicable',\n",
    "               'AUTO:not%20available', 'AUTO:Not%20mentioned.', 'AUTO:No%20information%20provided.',\n",
    "               'AUTO:Not%20provided%20in%20the%20text.', 'AUTO:Not%20specified', 'AUTO:not%20specified', 'AUTO:unspecified',\n",
    "               'AUTO:n/a', 'AUTO:not%20applicable', 'AUTO:%5Bnot%20mentioned%5D']"
   ]
  },
  {
   "cell_type": "code",
   "execution_count": 104,
   "metadata": {},
   "outputs": [
    {
     "name": "stdout",
     "output_type": "stream",
     "text": [
      "Prevelance of problematic entities:\n",
      "AUTO:N/A -- 5237\n",
      "AUTO:Not%20provided -- 5235\n",
      "AUTO:not%20provided -- 5170\n",
      "AUTO:Not%20mentioned -- 5227\n",
      "AUTO:None -- 5226\n",
      "AUTO:Not%20found -- 5078\n",
      "AUTO:Unknown -- 5209\n",
      "AUTO:Not%20mentioned%20in%20the%20text. -- 4849\n",
      "AUTO:unknown -- 5177\n",
      "AUTO:none -- 5176\n",
      "AUTO:Not%20applicable -- 4678\n",
      "AUTO:not%20available -- 4655\n",
      "AUTO:Not%20mentioned. -- 3663\n",
      "AUTO:No%20information%20provided. -- 2641\n",
      "AUTO:Not%20provided%20in%20the%20text. -- 2593\n",
      "AUTO:Not%20specified -- 5016\n",
      "AUTO:not%20specified -- 5092\n",
      "AUTO:unspecified -- 5092\n",
      "AUTO:n/a -- 4259\n",
      "AUTO:not%20applicable -- 4908\n",
      "AUTO:%5Bnot%20mentioned%5D -- 3663\n",
      "Of a total of 36380420 entities.\n"
     ]
    }
   ],
   "source": [
    "entity_counts = Counter(ent_df.id.tolist())\n",
    "print('Prevelance of problematic entities:')\n",
    "for ent in problem_ents:\n",
    "    print(ent, '--', entity_counts[ent])\n",
    "print(f'Of a total of {len(ent_df)} entities.')"
   ]
  },
  {
   "cell_type": "markdown",
   "metadata": {},
   "source": [
    "Not horrible in absolute numbers, but worse than we might like. Also, all of these hallucinated entities have at least 2,000 instances in the dataset, even something as seemingly strange as `AUTO:%5Bnot%20mentioned%5D`. Let's clean them:"
   ]
  },
  {
   "cell_type": "code",
   "execution_count": 105,
   "metadata": {},
   "outputs": [
    {
     "data": {
      "text/html": [
       "<div>\n",
       "<style scoped>\n",
       "    .dataframe tbody tr th:only-of-type {\n",
       "        vertical-align: middle;\n",
       "    }\n",
       "\n",
       "    .dataframe tbody tr th {\n",
       "        vertical-align: top;\n",
       "    }\n",
       "\n",
       "    .dataframe thead th {\n",
       "        text-align: right;\n",
       "    }\n",
       "</style>\n",
       "<table border=\"1\" class=\"dataframe\">\n",
       "  <thead>\n",
       "    <tr style=\"text-align: right;\">\n",
       "      <th></th>\n",
       "      <th>id</th>\n",
       "      <th>category</th>\n",
       "      <th>name</th>\n",
       "      <th>provided_by</th>\n",
       "    </tr>\n",
       "  </thead>\n",
       "  <tbody>\n",
       "    <tr>\n",
       "      <th>1</th>\n",
       "      <td>AUTO:lipid%20peroxidation</td>\n",
       "      <td>Molecule</td>\n",
       "      <td>lipid peroxidation</td>\n",
       "      <td>1811d3fb-5fb9-4cbe-aa8b-84b4d4716af6</td>\n",
       "    </tr>\n",
       "    <tr>\n",
       "      <th>2</th>\n",
       "      <td>CHEBI:16856</td>\n",
       "      <td>Molecule</td>\n",
       "      <td>glutathione</td>\n",
       "      <td>1811d3fb-5fb9-4cbe-aa8b-84b4d4716af6</td>\n",
       "    </tr>\n",
       "    <tr>\n",
       "      <th>3</th>\n",
       "      <td>CHEBI:29191</td>\n",
       "      <td>Molecule</td>\n",
       "      <td>hydroxyl radical</td>\n",
       "      <td>1811d3fb-5fb9-4cbe-aa8b-84b4d4716af6</td>\n",
       "    </tr>\n",
       "    <tr>\n",
       "      <th>4</th>\n",
       "      <td>AUTO:Trichilia%20dregeana</td>\n",
       "      <td>Organism</td>\n",
       "      <td>Trichilia dregeana</td>\n",
       "      <td>1811d3fb-5fb9-4cbe-aa8b-84b4d4716af6</td>\n",
       "    </tr>\n",
       "    <tr>\n",
       "      <th>6</th>\n",
       "      <td>AUTO:lipid%20peroxidation</td>\n",
       "      <td>Molecule</td>\n",
       "      <td>lipid peroxidation</td>\n",
       "      <td>623dce16-704e-41a7-b549-22982835bff9</td>\n",
       "    </tr>\n",
       "  </tbody>\n",
       "</table>\n",
       "</div>"
      ],
      "text/plain": [
       "                          id  category                name  \\\n",
       "1  AUTO:lipid%20peroxidation  Molecule  lipid peroxidation   \n",
       "2                CHEBI:16856  Molecule         glutathione   \n",
       "3                CHEBI:29191  Molecule    hydroxyl radical   \n",
       "4  AUTO:Trichilia%20dregeana  Organism  Trichilia dregeana   \n",
       "6  AUTO:lipid%20peroxidation  Molecule  lipid peroxidation   \n",
       "\n",
       "                            provided_by  \n",
       "1  1811d3fb-5fb9-4cbe-aa8b-84b4d4716af6  \n",
       "2  1811d3fb-5fb9-4cbe-aa8b-84b4d4716af6  \n",
       "3  1811d3fb-5fb9-4cbe-aa8b-84b4d4716af6  \n",
       "4  1811d3fb-5fb9-4cbe-aa8b-84b4d4716af6  \n",
       "6  623dce16-704e-41a7-b549-22982835bff9  "
      ]
     },
     "execution_count": 105,
     "metadata": {},
     "output_type": "execute_result"
    }
   ],
   "source": [
    "ent_df_cleaned = ent_df[~ent_df['id'].isin(problem_ents)]\n",
    "ent_df_cleaned.head()"
   ]
  },
  {
   "cell_type": "code",
   "execution_count": 106,
   "metadata": {},
   "outputs": [
    {
     "name": "stdout",
     "output_type": "stream",
     "text": [
      "97844 total entities were dropped on cleaning (0.27%)\n"
     ]
    }
   ],
   "source": [
    "print(f'{len(ent_df) - len(ent_df_cleaned)} total entities were dropped on cleaning ({100*(len(ent_df) - len(ent_df_cleaned))/len(ent_df):.2f}%)')"
   ]
  },
  {
   "cell_type": "code",
   "execution_count": 107,
   "metadata": {},
   "outputs": [
    {
     "name": "stdout",
     "output_type": "stream",
     "text": [
      "This is 21 of 12508 unqiue entities lost (0.17%)\n"
     ]
    }
   ],
   "source": [
    "unique_ents = ent_df.id.unique()\n",
    "unique_after_cleaning = ent_df_cleaned.id.unique()\n",
    "unique_dropped = problem_ents\n",
    "assert len(unique_dropped) == len(unique_ents) - len(unique_after_cleaning)\n",
    "print(f'This is {len(unique_ents) - len(unique_after_cleaning)} of {len(unique_ents)} unqiue entities lost ({100*(len(unique_ents) - len(unique_after_cleaning))/len(unique_ents):.2f}%)')"
   ]
  },
  {
   "cell_type": "markdown",
   "metadata": {},
   "source": [
    "Check how many are truly grounded:"
   ]
  },
  {
   "cell_type": "code",
   "execution_count": 113,
   "metadata": {},
   "outputs": [
    {
     "name": "stdout",
     "output_type": "stream",
     "text": [
      "23.30% of entities have a true grounding.\n"
     ]
    }
   ],
   "source": [
    "clean_ent_counts = Counter(ent_df_cleaned.id.tolist())\n",
    "true_grounded = sum([v for k, v in clean_ent_counts.items() if 'AUTO:' not in k])\n",
    "print(f'{100*true_grounded/sum(clean_ent_counts.values()):.2f}% of entities have a true grounding.')"
   ]
  },
  {
   "cell_type": "markdown",
   "metadata": {},
   "source": [
    "### Relations"
   ]
  },
  {
   "cell_type": "code",
   "execution_count": 114,
   "metadata": {},
   "outputs": [
    {
     "data": {
      "text/html": [
       "<div>\n",
       "<style scoped>\n",
       "    .dataframe tbody tr th:only-of-type {\n",
       "        vertical-align: middle;\n",
       "    }\n",
       "\n",
       "    .dataframe tbody tr th {\n",
       "        vertical-align: top;\n",
       "    }\n",
       "\n",
       "    .dataframe thead th {\n",
       "        text-align: right;\n",
       "    }\n",
       "</style>\n",
       "<table border=\"1\" class=\"dataframe\">\n",
       "  <thead>\n",
       "    <tr style=\"text-align: right;\">\n",
       "      <th></th>\n",
       "      <th>id</th>\n",
       "      <th>category</th>\n",
       "      <th>provided_by</th>\n",
       "      <th>predicate</th>\n",
       "      <th>subject</th>\n",
       "      <th>object</th>\n",
       "    </tr>\n",
       "  </thead>\n",
       "  <tbody>\n",
       "    <tr>\n",
       "      <th>0</th>\n",
       "      <td>f40835d2-e716-4073-88c5-27eac763fe43</td>\n",
       "      <td>GeneGeneInteraction</td>\n",
       "      <td>1811d3fb-5fb9-4cbe-aa8b-84b4d4716af6</td>\n",
       "      <td>GeneGeneInteraction</td>\n",
       "      <td>AUTO:N/A</td>\n",
       "      <td>AUTO:N/A</td>\n",
       "    </tr>\n",
       "    <tr>\n",
       "      <th>1</th>\n",
       "      <td>c20331ec-e5aa-4af8-9483-618678e9d6ca</td>\n",
       "      <td>GeneOrganismRelationship</td>\n",
       "      <td>1811d3fb-5fb9-4cbe-aa8b-84b4d4716af6</td>\n",
       "      <td>GeneOrganismRelationship</td>\n",
       "      <td>AUTO:N/A</td>\n",
       "      <td>AUTO:N/A</td>\n",
       "    </tr>\n",
       "    <tr>\n",
       "      <th>2</th>\n",
       "      <td>d4dd7d59-1118-4577-a870-9a85d7f89f17</td>\n",
       "      <td>ProteinProteinInteraction</td>\n",
       "      <td>1811d3fb-5fb9-4cbe-aa8b-84b4d4716af6</td>\n",
       "      <td>ProteinProteinInteraction</td>\n",
       "      <td>AUTO:N/A</td>\n",
       "      <td>AUTO:N/A</td>\n",
       "    </tr>\n",
       "    <tr>\n",
       "      <th>3</th>\n",
       "      <td>09f0659d-9ea2-42d6-a331-d076507d012c</td>\n",
       "      <td>ProteinOrganismRelationship</td>\n",
       "      <td>1811d3fb-5fb9-4cbe-aa8b-84b4d4716af6</td>\n",
       "      <td>ProteinOrganismRelationship</td>\n",
       "      <td>AUTO:N/A</td>\n",
       "      <td>AUTO:N/A</td>\n",
       "    </tr>\n",
       "    <tr>\n",
       "      <th>4</th>\n",
       "      <td>af2466f5-44d4-4224-bf3e-befef9553aa3</td>\n",
       "      <td>GeneMoleculeInteraction</td>\n",
       "      <td>1811d3fb-5fb9-4cbe-aa8b-84b4d4716af6</td>\n",
       "      <td>GeneMoleculeInteraction</td>\n",
       "      <td>AUTO:N/A</td>\n",
       "      <td>AUTO:N/A</td>\n",
       "    </tr>\n",
       "  </tbody>\n",
       "</table>\n",
       "</div>"
      ],
      "text/plain": [
       "                                     id                     category  \\\n",
       "0  f40835d2-e716-4073-88c5-27eac763fe43          GeneGeneInteraction   \n",
       "1  c20331ec-e5aa-4af8-9483-618678e9d6ca     GeneOrganismRelationship   \n",
       "2  d4dd7d59-1118-4577-a870-9a85d7f89f17    ProteinProteinInteraction   \n",
       "3  09f0659d-9ea2-42d6-a331-d076507d012c  ProteinOrganismRelationship   \n",
       "4  af2466f5-44d4-4224-bf3e-befef9553aa3      GeneMoleculeInteraction   \n",
       "\n",
       "                            provided_by                    predicate  \\\n",
       "0  1811d3fb-5fb9-4cbe-aa8b-84b4d4716af6          GeneGeneInteraction   \n",
       "1  1811d3fb-5fb9-4cbe-aa8b-84b4d4716af6     GeneOrganismRelationship   \n",
       "2  1811d3fb-5fb9-4cbe-aa8b-84b4d4716af6    ProteinProteinInteraction   \n",
       "3  1811d3fb-5fb9-4cbe-aa8b-84b4d4716af6  ProteinOrganismRelationship   \n",
       "4  1811d3fb-5fb9-4cbe-aa8b-84b4d4716af6      GeneMoleculeInteraction   \n",
       "\n",
       "    subject    object  \n",
       "0  AUTO:N/A  AUTO:N/A  \n",
       "1  AUTO:N/A  AUTO:N/A  \n",
       "2  AUTO:N/A  AUTO:N/A  \n",
       "3  AUTO:N/A  AUTO:N/A  \n",
       "4  AUTO:N/A  AUTO:N/A  "
      ]
     },
     "execution_count": 114,
     "metadata": {},
     "output_type": "execute_result"
    }
   ],
   "source": [
    "rel_df = pd.read_csv('../../data/kg/ontogpt_slim_rel_df_20May2024.csv')\n",
    "rel_df.head()"
   ]
  },
  {
   "cell_type": "markdown",
   "metadata": {},
   "source": [
    "We need to get rid of any relations that rely on the three problem entities, and quantify the prevalence of both relations with two problem entities and relations with one problem entity."
   ]
  },
  {
   "cell_type": "code",
   "execution_count": 120,
   "metadata": {},
   "outputs": [
    {
     "name": "stdout",
     "output_type": "stream",
     "text": [
      "3568 relations were dropped for having both entities be problem entities (44.68% of initial relations)\n"
     ]
    }
   ],
   "source": [
    "rel_df_cleaned_just_both = rel_df[~((rel_df['subject'].isin(problem_ents)) & (rel_df['object'].isin(problem_ents)))]\n",
    "print(f'{len(rel_df) - len(rel_df_cleaned_just_both)} relations were dropped for having both entities be problem entities ({100*(len(rel_df) - len(rel_df_cleaned_just_both))/len(rel_df):.2f}% of initial relations)')"
   ]
  },
  {
   "cell_type": "code",
   "execution_count": 122,
   "metadata": {
    "scrolled": false
   },
   "outputs": [
    {
     "name": "stdout",
     "output_type": "stream",
     "text": [
      "292 relations were dropped for having one entity be problem entities (3.66% of initial relations)\n"
     ]
    }
   ],
   "source": [
    "rel_df_cleaned = rel_df_cleaned_just_both[~((rel_df_cleaned_just_both['subject'].isin(problem_ents)) | (rel_df_cleaned_just_both['object'].isin(problem_ents)))]\n",
    "print(f'{len(rel_df_cleaned_just_both) - len(rel_df_cleaned)} relations were dropped for having one entity be problem entities ({100*(len(rel_df_cleaned_just_both) - len(rel_df_cleaned))/len(rel_df):.2f}% of initial relations)')"
   ]
  },
  {
   "cell_type": "code",
   "execution_count": 123,
   "metadata": {},
   "outputs": [
    {
     "data": {
      "text/html": [
       "<div>\n",
       "<style scoped>\n",
       "    .dataframe tbody tr th:only-of-type {\n",
       "        vertical-align: middle;\n",
       "    }\n",
       "\n",
       "    .dataframe tbody tr th {\n",
       "        vertical-align: top;\n",
       "    }\n",
       "\n",
       "    .dataframe thead th {\n",
       "        text-align: right;\n",
       "    }\n",
       "</style>\n",
       "<table border=\"1\" class=\"dataframe\">\n",
       "  <thead>\n",
       "    <tr style=\"text-align: right;\">\n",
       "      <th></th>\n",
       "      <th>id</th>\n",
       "      <th>category</th>\n",
       "      <th>provided_by</th>\n",
       "      <th>predicate</th>\n",
       "      <th>subject</th>\n",
       "      <th>object</th>\n",
       "    </tr>\n",
       "  </thead>\n",
       "  <tbody>\n",
       "    <tr>\n",
       "      <th>7</th>\n",
       "      <td>f295e8fe-b138-42e3-91e3-40d943d2a050</td>\n",
       "      <td>GeneOrganismRelationship</td>\n",
       "      <td>5affdb3c-e22a-4c71-8755-d0bc2efdefcd</td>\n",
       "      <td>GeneOrganismRelationship</td>\n",
       "      <td>AUTO:Alphitobius%20diaperinus</td>\n",
       "      <td>AUTO:Alphitobius%20diaperinus</td>\n",
       "    </tr>\n",
       "    <tr>\n",
       "      <th>8</th>\n",
       "      <td>48f8a4d8-1151-4597-917c-9697c0387e4a</td>\n",
       "      <td>ProteinOrganismRelationship</td>\n",
       "      <td>5affdb3c-e22a-4c71-8755-d0bc2efdefcd</td>\n",
       "      <td>ProteinOrganismRelationship</td>\n",
       "      <td>AUTO:Alphitobius%20diaperinus</td>\n",
       "      <td>AUTO:Alphitobius%20diaperinus</td>\n",
       "    </tr>\n",
       "    <tr>\n",
       "      <th>16</th>\n",
       "      <td>4e28a40b-68d8-4f57-b1de-5d7b61c6b497</td>\n",
       "      <td>GeneOrganismRelationship</td>\n",
       "      <td>6635dc3a-a6ba-4fd3-9ba5-16d95f8108d7</td>\n",
       "      <td>GeneOrganismRelationship</td>\n",
       "      <td>AUTO:Delia%20antiqua</td>\n",
       "      <td>AUTO:Delia%20antiqua</td>\n",
       "    </tr>\n",
       "    <tr>\n",
       "      <th>23</th>\n",
       "      <td>ed9c4fc6-0721-429b-a130-bea4988c41b6</td>\n",
       "      <td>GeneMoleculeInteraction</td>\n",
       "      <td>a1fa005c-4606-4a90-aca3-65f02a03de6e</td>\n",
       "      <td>GeneMoleculeInteraction</td>\n",
       "      <td>AUTO:CsGolS1</td>\n",
       "      <td>CHEBI:17505</td>\n",
       "    </tr>\n",
       "    <tr>\n",
       "      <th>25</th>\n",
       "      <td>d4bf6963-8019-4ec4-b452-5e10e692b758</td>\n",
       "      <td>GeneMoleculeInteraction</td>\n",
       "      <td>effe7e16-b4ae-40b1-931c-d7abca0007bd</td>\n",
       "      <td>GeneMoleculeInteraction</td>\n",
       "      <td>AUTO:PAO</td>\n",
       "      <td>CHEBI:32875</td>\n",
       "    </tr>\n",
       "  </tbody>\n",
       "</table>\n",
       "</div>"
      ],
      "text/plain": [
       "                                      id                     category  \\\n",
       "7   f295e8fe-b138-42e3-91e3-40d943d2a050     GeneOrganismRelationship   \n",
       "8   48f8a4d8-1151-4597-917c-9697c0387e4a  ProteinOrganismRelationship   \n",
       "16  4e28a40b-68d8-4f57-b1de-5d7b61c6b497     GeneOrganismRelationship   \n",
       "23  ed9c4fc6-0721-429b-a130-bea4988c41b6      GeneMoleculeInteraction   \n",
       "25  d4bf6963-8019-4ec4-b452-5e10e692b758      GeneMoleculeInteraction   \n",
       "\n",
       "                             provided_by                    predicate  \\\n",
       "7   5affdb3c-e22a-4c71-8755-d0bc2efdefcd     GeneOrganismRelationship   \n",
       "8   5affdb3c-e22a-4c71-8755-d0bc2efdefcd  ProteinOrganismRelationship   \n",
       "16  6635dc3a-a6ba-4fd3-9ba5-16d95f8108d7     GeneOrganismRelationship   \n",
       "23  a1fa005c-4606-4a90-aca3-65f02a03de6e      GeneMoleculeInteraction   \n",
       "25  effe7e16-b4ae-40b1-931c-d7abca0007bd      GeneMoleculeInteraction   \n",
       "\n",
       "                          subject                         object  \n",
       "7   AUTO:Alphitobius%20diaperinus  AUTO:Alphitobius%20diaperinus  \n",
       "8   AUTO:Alphitobius%20diaperinus  AUTO:Alphitobius%20diaperinus  \n",
       "16           AUTO:Delia%20antiqua           AUTO:Delia%20antiqua  \n",
       "23                   AUTO:CsGolS1                    CHEBI:17505  \n",
       "25                       AUTO:PAO                    CHEBI:32875  "
      ]
     },
     "execution_count": 123,
     "metadata": {},
     "output_type": "execute_result"
    }
   ],
   "source": [
    "rel_df_cleaned.head()"
   ]
  },
  {
   "cell_type": "markdown",
   "metadata": {},
   "source": [
    "Almost 50% of relations were dropped because they were hallucinated around non-existent entities -- not a great look."
   ]
  },
  {
   "cell_type": "markdown",
   "metadata": {},
   "source": [
    "## Format into a networkx graph"
   ]
  },
  {
   "cell_type": "code",
   "execution_count": null,
   "metadata": {},
   "outputs": [],
   "source": [
    "nodes = []\n",
    "for ent_id in unique_after_cleaning:\n",
    "    all_instances = ent_df_cleaned[ent_df_cleaned['id'] == ent_id]\n",
    "    types = set(all_instances['category'].tolist())\n",
    "    if len(types) == 1:\n",
    "        ent_type = list(types)[0]\n",
    "    else:\n",
    "        print(f'Entity {ent_id} has multiple types, choosing one arbitrarily.')\n",
    "        ent_type = list(types)[0]\n",
    "    num_mentions = len(all_instances)\n",
    "    docs_of_origin = ', '.join(all_instances['provided_by'].unique().tolist())\n",
    "    semantic_name = all_instances['name'].unique().tolist()[0]\n",
    "    nodes.append((ent_id, {\n",
    "        'ent_type': ent_type,\n",
    "        'num_mentions': num_mentions,\n",
    "        'docs_of_origin': docs_of_origin,\n",
    "        'semantic_name': semantic_name\n",
    "    }))"
   ]
  },
  {
   "cell_type": "code",
   "execution_count": null,
   "metadata": {},
   "outputs": [],
   "source": []
  }
 ],
 "metadata": {
  "kernelspec": {
   "display_name": "ontogpt",
   "language": "python",
   "name": "ontogpt"
  },
  "language_info": {
   "codemirror_mode": {
    "name": "ipython",
    "version": 3
   },
   "file_extension": ".py",
   "mimetype": "text/x-python",
   "name": "python",
   "nbconvert_exporter": "python",
   "pygments_lexer": "ipython3",
   "version": "3.9.18"
  }
 },
 "nbformat": 4,
 "nbformat_minor": 2
}
