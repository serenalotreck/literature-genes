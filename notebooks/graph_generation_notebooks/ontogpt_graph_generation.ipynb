{
 "cells": [
  {
   "cell_type": "markdown",
   "metadata": {},
   "source": [
    "# OntoGPT graph generation\n",
    "We ran OntoGPT on the desiccation subset of our dataset; here, we'll post-process the output and format it as a graph."
   ]
  },
  {
   "cell_type": "code",
   "execution_count": 1,
   "metadata": {},
   "outputs": [
    {
     "name": "stderr",
     "output_type": "stream",
     "text": [
      "/mnt/home/lotrecks/anaconda3/envs/ontogpt/lib/python3.9/site-packages/tqdm/auto.py:21: TqdmWarning: IProgress not found. Please update jupyter and ipywidgets. See https://ipywidgets.readthedocs.io/en/stable/user_install.html\n",
      "  from .autonotebook import tqdm as notebook_tqdm\n"
     ]
    }
   ],
   "source": [
    "import sys\n",
    "sys.path.append('/mnt/home/lotrecks/haai_vanburen_lab/ontogpt/src/ontogpt/io')\n",
    "from csv_wrapper import parse_yaml_predictions"
   ]
  },
  {
   "cell_type": "markdown",
   "metadata": {},
   "source": [
    "## Read in OntoGPT output"
   ]
  },
  {
   "cell_type": "code",
   "execution_count": 6,
   "metadata": {},
   "outputs": [
    {
     "name": "stderr",
     "output_type": "stream",
     "text": [
      "100%|█████████▉| 1209/1210 [00:00<00:00, 149267.44it/s]\n"
     ]
    },
    {
     "ename": "TypeError",
     "evalue": "'NoneType' object is not subscriptable",
     "output_type": "error",
     "traceback": [
      "\u001b[0;31m---------------------------------------------------------------------------\u001b[0m",
      "\u001b[0;31mTypeError\u001b[0m                                 Traceback (most recent call last)",
      "Cell \u001b[0;32mIn[6], line 1\u001b[0m\n\u001b[0;32m----> 1\u001b[0m full_ent_df, full_rel_df \u001b[38;5;241m=\u001b[39m \u001b[43mparse_yaml_predictions\u001b[49m\u001b[43m(\u001b[49m\u001b[38;5;124;43m'\u001b[39;49m\u001b[38;5;124;43m../../data/ontogpt_output/destol_all_full_08May2024/output.txt\u001b[39;49m\u001b[38;5;124;43m'\u001b[39;49m\u001b[43m,\u001b[49m\u001b[43m \u001b[49m\u001b[38;5;124;43m'\u001b[39;49m\u001b[38;5;124;43m../../knowledge_graph/schema/desiccation_full.yaml\u001b[39;49m\u001b[38;5;124;43m'\u001b[39;49m\u001b[43m)\u001b[49m\n",
      "File \u001b[0;32m~/haai_vanburen_lab/ontogpt/src/ontogpt/io/csv_wrapper.py:220\u001b[0m, in \u001b[0;36mparse_yaml_predictions\u001b[0;34m(yaml_path, schema_path, root_class)\u001b[0m\n\u001b[1;32m    218\u001b[0m \u001b[38;5;28;01mfor\u001b[39;00m doc \u001b[38;5;129;01min\u001b[39;00m tqdm(output_docs):\n\u001b[1;32m    219\u001b[0m     \u001b[38;5;28;01mtry\u001b[39;00m:\n\u001b[0;32m--> 220\u001b[0m         \u001b[38;5;28;01mfor\u001b[39;00m typ, ent_list \u001b[38;5;129;01min\u001b[39;00m \u001b[43mdoc\u001b[49m\u001b[43m[\u001b[49m\u001b[38;5;124;43m\"\u001b[39;49m\u001b[38;5;124;43mextracted_object\u001b[39;49m\u001b[38;5;124;43m\"\u001b[39;49m\u001b[43m]\u001b[49m\u001b[38;5;241m.\u001b[39mitems():\n\u001b[1;32m    221\u001b[0m             \u001b[38;5;28;01mif\u001b[39;00m typ \u001b[38;5;129;01min\u001b[39;00m SKIP_SLOTS:\n\u001b[1;32m    222\u001b[0m                 \u001b[38;5;28;01mcontinue\u001b[39;00m\n",
      "\u001b[0;31mTypeError\u001b[0m: 'NoneType' object is not subscriptable"
     ]
    }
   ],
   "source": [
    "full_ent_df, full_rel_df = parse_yaml_predictions('../../data/ontogpt_output/destol_all_full_08May2024/output.txt', '../../knowledge_graph/schema/desiccation_full.yaml')"
   ]
  },
  {
   "cell_type": "code",
   "execution_count": 5,
   "metadata": {},
   "outputs": [
    {
     "name": "stderr",
     "output_type": "stream",
     "text": [
      "100%|██████████| 929/929 [00:00<00:00, 156360.69it/s]\n"
     ]
    }
   ],
   "source": [
    "slim_ent_df, slim_rel_df = parse_yaml_predictions('../../data/ontogpt_output/destol_all_slim_08May2024/output.txt', '../../knowledge_graph/schema/desiccation.yaml')"
   ]
  },
  {
   "cell_type": "markdown",
   "metadata": {},
   "source": [
    "## Format into a networkx graph"
   ]
  },
  {
   "cell_type": "code",
   "execution_count": 7,
   "metadata": {},
   "outputs": [
    {
     "data": {
      "text/html": [
       "<div>\n",
       "<style scoped>\n",
       "    .dataframe tbody tr th:only-of-type {\n",
       "        vertical-align: middle;\n",
       "    }\n",
       "\n",
       "    .dataframe tbody tr th {\n",
       "        vertical-align: top;\n",
       "    }\n",
       "\n",
       "    .dataframe thead th {\n",
       "        text-align: right;\n",
       "    }\n",
       "</style>\n",
       "<table border=\"1\" class=\"dataframe\">\n",
       "  <thead>\n",
       "    <tr style=\"text-align: right;\">\n",
       "      <th></th>\n",
       "      <th>id</th>\n",
       "      <th>category</th>\n",
       "      <th>name</th>\n",
       "      <th>provided_by</th>\n",
       "    </tr>\n",
       "  </thead>\n",
       "  <tbody>\n",
       "    <tr>\n",
       "      <th>0</th>\n",
       "      <td>AUTO:N/A</td>\n",
       "      <td>Gene</td>\n",
       "      <td>N/A</td>\n",
       "      <td>c92d3abf-f214-4576-9125-184a9e207613</td>\n",
       "    </tr>\n",
       "    <tr>\n",
       "      <th>1</th>\n",
       "      <td>AUTO:lipid%20peroxidation</td>\n",
       "      <td>Molecule</td>\n",
       "      <td>lipid peroxidation</td>\n",
       "      <td>c92d3abf-f214-4576-9125-184a9e207613</td>\n",
       "    </tr>\n",
       "    <tr>\n",
       "      <th>2</th>\n",
       "      <td>CHEBI:16856</td>\n",
       "      <td>Molecule</td>\n",
       "      <td>glutathione</td>\n",
       "      <td>c92d3abf-f214-4576-9125-184a9e207613</td>\n",
       "    </tr>\n",
       "    <tr>\n",
       "      <th>3</th>\n",
       "      <td>CHEBI:29191</td>\n",
       "      <td>Molecule</td>\n",
       "      <td>hydroxyl radical</td>\n",
       "      <td>c92d3abf-f214-4576-9125-184a9e207613</td>\n",
       "    </tr>\n",
       "    <tr>\n",
       "      <th>4</th>\n",
       "      <td>AUTO:Trichilia%20dregeana</td>\n",
       "      <td>Organism</td>\n",
       "      <td>Trichilia dregeana</td>\n",
       "      <td>c92d3abf-f214-4576-9125-184a9e207613</td>\n",
       "    </tr>\n",
       "    <tr>\n",
       "      <th>...</th>\n",
       "      <td>...</td>\n",
       "      <td>...</td>\n",
       "      <td>...</td>\n",
       "      <td>...</td>\n",
       "    </tr>\n",
       "    <tr>\n",
       "      <th>1556951</th>\n",
       "      <td>PR:000015781</td>\n",
       "      <td>Protein</td>\n",
       "      <td>ascorbic acid (ASC)</td>\n",
       "      <td>fd92b661-e6fd-4359-8d35-2bb2670287ef</td>\n",
       "    </tr>\n",
       "    <tr>\n",
       "      <th>1556952</th>\n",
       "      <td>AUTO:total%20thiol</td>\n",
       "      <td>Molecule</td>\n",
       "      <td>total thiol</td>\n",
       "      <td>fd92b661-e6fd-4359-8d35-2bb2670287ef</td>\n",
       "    </tr>\n",
       "    <tr>\n",
       "      <th>1556953</th>\n",
       "      <td>NCBITaxon:56917</td>\n",
       "      <td>Organism</td>\n",
       "      <td>Dumortiera hirsuta</td>\n",
       "      <td>fd92b661-e6fd-4359-8d35-2bb2670287ef</td>\n",
       "    </tr>\n",
       "    <tr>\n",
       "      <th>1556954</th>\n",
       "      <td>AUTO:thylakoidal%20oligogalactolipids</td>\n",
       "      <td>Molecule</td>\n",
       "      <td>thylakoidal oligogalactolipids</td>\n",
       "      <td>fd92b661-e6fd-4359-8d35-2bb2670287ef</td>\n",
       "    </tr>\n",
       "    <tr>\n",
       "      <th>1556955</th>\n",
       "      <td>AUTO:unicellular%20green%20algae</td>\n",
       "      <td>Organism</td>\n",
       "      <td>unicellular green algae</td>\n",
       "      <td>fd92b661-e6fd-4359-8d35-2bb2670287ef</td>\n",
       "    </tr>\n",
       "  </tbody>\n",
       "</table>\n",
       "<p>1556956 rows × 4 columns</p>\n",
       "</div>"
      ],
      "text/plain": [
       "                                            id  category  \\\n",
       "0                                     AUTO:N/A      Gene   \n",
       "1                    AUTO:lipid%20peroxidation  Molecule   \n",
       "2                                  CHEBI:16856  Molecule   \n",
       "3                                  CHEBI:29191  Molecule   \n",
       "4                    AUTO:Trichilia%20dregeana  Organism   \n",
       "...                                        ...       ...   \n",
       "1556951                           PR:000015781   Protein   \n",
       "1556952                     AUTO:total%20thiol  Molecule   \n",
       "1556953                        NCBITaxon:56917  Organism   \n",
       "1556954  AUTO:thylakoidal%20oligogalactolipids  Molecule   \n",
       "1556955       AUTO:unicellular%20green%20algae  Organism   \n",
       "\n",
       "                                   name                           provided_by  \n",
       "0                                   N/A  c92d3abf-f214-4576-9125-184a9e207613  \n",
       "1                    lipid peroxidation  c92d3abf-f214-4576-9125-184a9e207613  \n",
       "2                           glutathione  c92d3abf-f214-4576-9125-184a9e207613  \n",
       "3                      hydroxyl radical  c92d3abf-f214-4576-9125-184a9e207613  \n",
       "4                    Trichilia dregeana  c92d3abf-f214-4576-9125-184a9e207613  \n",
       "...                                 ...                                   ...  \n",
       "1556951             ascorbic acid (ASC)  fd92b661-e6fd-4359-8d35-2bb2670287ef  \n",
       "1556952                     total thiol  fd92b661-e6fd-4359-8d35-2bb2670287ef  \n",
       "1556953              Dumortiera hirsuta  fd92b661-e6fd-4359-8d35-2bb2670287ef  \n",
       "1556954  thylakoidal oligogalactolipids  fd92b661-e6fd-4359-8d35-2bb2670287ef  \n",
       "1556955         unicellular green algae  fd92b661-e6fd-4359-8d35-2bb2670287ef  \n",
       "\n",
       "[1556956 rows x 4 columns]"
      ]
     },
     "execution_count": 7,
     "metadata": {},
     "output_type": "execute_result"
    }
   ],
   "source": [
    "slim_ent_df\n"
   ]
  },
  {
   "cell_type": "code",
   "execution_count": null,
   "metadata": {},
   "outputs": [],
   "source": []
  }
 ],
 "metadata": {
  "kernelspec": {
   "display_name": "ontogpt",
   "language": "python",
   "name": "ontogpt"
  },
  "language_info": {
   "codemirror_mode": {
    "name": "ipython",
    "version": 3
   },
   "file_extension": ".py",
   "mimetype": "text/x-python",
   "name": "python",
   "nbconvert_exporter": "python",
   "pygments_lexer": "ipython3",
   "version": "3.9.18"
  }
 },
 "nbformat": 4,
 "nbformat_minor": 2
}
