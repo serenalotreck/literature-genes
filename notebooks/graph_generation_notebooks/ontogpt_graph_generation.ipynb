{
 "cells": [
  {
   "cell_type": "markdown",
   "metadata": {},
   "source": [
    "# OntoGPT graph generation\n",
    "We ran OntoGPT on the desiccation subset of our dataset; here, we'll post-process the output and format it as a graph."
   ]
  },
  {
   "cell_type": "code",
   "execution_count": 1,
   "metadata": {},
   "outputs": [],
   "source": [
    "import pandas as pd\n",
    "from collections import Counter\n",
    "import networkx as nx\n",
    "from tqdm import tqdm"
   ]
  },
  {
   "cell_type": "markdown",
   "metadata": {},
   "source": [
    "## Read in converted OntoGPT output"
   ]
  },
  {
   "cell_type": "markdown",
   "metadata": {},
   "source": [
    "### Entities"
   ]
  },
  {
   "cell_type": "code",
   "execution_count": 2,
   "metadata": {},
   "outputs": [
    {
     "data": {
      "text/html": [
       "<div>\n",
       "<style scoped>\n",
       "    .dataframe tbody tr th:only-of-type {\n",
       "        vertical-align: middle;\n",
       "    }\n",
       "\n",
       "    .dataframe tbody tr th {\n",
       "        vertical-align: top;\n",
       "    }\n",
       "\n",
       "    .dataframe thead th {\n",
       "        text-align: right;\n",
       "    }\n",
       "</style>\n",
       "<table border=\"1\" class=\"dataframe\">\n",
       "  <thead>\n",
       "    <tr style=\"text-align: right;\">\n",
       "      <th></th>\n",
       "      <th>id</th>\n",
       "      <th>category</th>\n",
       "      <th>name</th>\n",
       "      <th>provided_by</th>\n",
       "    </tr>\n",
       "  </thead>\n",
       "  <tbody>\n",
       "    <tr>\n",
       "      <th>0</th>\n",
       "      <td>AUTO:N/A</td>\n",
       "      <td>Protein</td>\n",
       "      <td>NaN</td>\n",
       "      <td>1811d3fb-5fb9-4cbe-aa8b-84b4d4716af6</td>\n",
       "    </tr>\n",
       "    <tr>\n",
       "      <th>1</th>\n",
       "      <td>AUTO:lipid%20peroxidation</td>\n",
       "      <td>Molecule</td>\n",
       "      <td>lipid peroxidation</td>\n",
       "      <td>1811d3fb-5fb9-4cbe-aa8b-84b4d4716af6</td>\n",
       "    </tr>\n",
       "    <tr>\n",
       "      <th>2</th>\n",
       "      <td>CHEBI:16856</td>\n",
       "      <td>Molecule</td>\n",
       "      <td>glutathione</td>\n",
       "      <td>1811d3fb-5fb9-4cbe-aa8b-84b4d4716af6</td>\n",
       "    </tr>\n",
       "    <tr>\n",
       "      <th>3</th>\n",
       "      <td>CHEBI:29191</td>\n",
       "      <td>Molecule</td>\n",
       "      <td>hydroxyl radical</td>\n",
       "      <td>1811d3fb-5fb9-4cbe-aa8b-84b4d4716af6</td>\n",
       "    </tr>\n",
       "    <tr>\n",
       "      <th>4</th>\n",
       "      <td>AUTO:Trichilia%20dregeana</td>\n",
       "      <td>Organism</td>\n",
       "      <td>Trichilia dregeana</td>\n",
       "      <td>1811d3fb-5fb9-4cbe-aa8b-84b4d4716af6</td>\n",
       "    </tr>\n",
       "  </tbody>\n",
       "</table>\n",
       "</div>"
      ],
      "text/plain": [
       "                          id  category                name  \\\n",
       "0                   AUTO:N/A   Protein                 NaN   \n",
       "1  AUTO:lipid%20peroxidation  Molecule  lipid peroxidation   \n",
       "2                CHEBI:16856  Molecule         glutathione   \n",
       "3                CHEBI:29191  Molecule    hydroxyl radical   \n",
       "4  AUTO:Trichilia%20dregeana  Organism  Trichilia dregeana   \n",
       "\n",
       "                            provided_by  \n",
       "0  1811d3fb-5fb9-4cbe-aa8b-84b4d4716af6  \n",
       "1  1811d3fb-5fb9-4cbe-aa8b-84b4d4716af6  \n",
       "2  1811d3fb-5fb9-4cbe-aa8b-84b4d4716af6  \n",
       "3  1811d3fb-5fb9-4cbe-aa8b-84b4d4716af6  \n",
       "4  1811d3fb-5fb9-4cbe-aa8b-84b4d4716af6  "
      ]
     },
     "execution_count": 2,
     "metadata": {},
     "output_type": "execute_result"
    }
   ],
   "source": [
    "initial_ent_df = pd.read_csv('../../data/kg/ontogpt_slim_ent_df_20May2024.csv')\n",
    "initial_ent_df.head()"
   ]
  },
  {
   "cell_type": "markdown",
   "metadata": {},
   "source": [
    "There was a bug in OntoGPT at the time of running that caused entities to be needlessly duplicated in the output file. While the bug has since been fixed, it takes several days to run on a dataset of this size, so let's see if we can determine where the entities truly belong with confidence.\n",
    "\n",
    "The bug causes all entities from the previous document to be prepended to the list of entities in the current document. This means that the entities grow exponentially, as all entities from all previous documents are in the current document. To remedy this, let's drop duplicates, keeping only the first occurrence, which should preserve the correct `provided_by` ID."
   ]
  },
  {
   "cell_type": "code",
   "execution_count": 3,
   "metadata": {},
   "outputs": [
    {
     "name": "stdout",
     "output_type": "stream",
     "text": [
      "Initial entity df shape was: (36380420, 4). There are 5237 unique document identifiers in the dataset.\n"
     ]
    }
   ],
   "source": [
    "print(f'Initial entity df shape was: {initial_ent_df.shape}. There are {len(initial_ent_df.provided_by.unique())} unique document identifiers in the dataset.')"
   ]
  },
  {
   "cell_type": "code",
   "execution_count": 4,
   "metadata": {},
   "outputs": [
    {
     "data": {
      "text/html": [
       "<div>\n",
       "<style scoped>\n",
       "    .dataframe tbody tr th:only-of-type {\n",
       "        vertical-align: middle;\n",
       "    }\n",
       "\n",
       "    .dataframe tbody tr th {\n",
       "        vertical-align: top;\n",
       "    }\n",
       "\n",
       "    .dataframe thead th {\n",
       "        text-align: right;\n",
       "    }\n",
       "</style>\n",
       "<table border=\"1\" class=\"dataframe\">\n",
       "  <thead>\n",
       "    <tr style=\"text-align: right;\">\n",
       "      <th></th>\n",
       "      <th>id</th>\n",
       "      <th>category</th>\n",
       "      <th>name</th>\n",
       "      <th>provided_by</th>\n",
       "    </tr>\n",
       "  </thead>\n",
       "  <tbody>\n",
       "    <tr>\n",
       "      <th>0</th>\n",
       "      <td>AUTO:N/A</td>\n",
       "      <td>Protein</td>\n",
       "      <td>NaN</td>\n",
       "      <td>1811d3fb-5fb9-4cbe-aa8b-84b4d4716af6</td>\n",
       "    </tr>\n",
       "    <tr>\n",
       "      <th>1</th>\n",
       "      <td>AUTO:lipid%20peroxidation</td>\n",
       "      <td>Molecule</td>\n",
       "      <td>lipid peroxidation</td>\n",
       "      <td>1811d3fb-5fb9-4cbe-aa8b-84b4d4716af6</td>\n",
       "    </tr>\n",
       "    <tr>\n",
       "      <th>2</th>\n",
       "      <td>CHEBI:16856</td>\n",
       "      <td>Molecule</td>\n",
       "      <td>glutathione</td>\n",
       "      <td>1811d3fb-5fb9-4cbe-aa8b-84b4d4716af6</td>\n",
       "    </tr>\n",
       "    <tr>\n",
       "      <th>3</th>\n",
       "      <td>CHEBI:29191</td>\n",
       "      <td>Molecule</td>\n",
       "      <td>hydroxyl radical</td>\n",
       "      <td>1811d3fb-5fb9-4cbe-aa8b-84b4d4716af6</td>\n",
       "    </tr>\n",
       "    <tr>\n",
       "      <th>4</th>\n",
       "      <td>AUTO:Trichilia%20dregeana</td>\n",
       "      <td>Organism</td>\n",
       "      <td>Trichilia dregeana</td>\n",
       "      <td>1811d3fb-5fb9-4cbe-aa8b-84b4d4716af6</td>\n",
       "    </tr>\n",
       "  </tbody>\n",
       "</table>\n",
       "</div>"
      ],
      "text/plain": [
       "                          id  category                name  \\\n",
       "0                   AUTO:N/A   Protein                 NaN   \n",
       "1  AUTO:lipid%20peroxidation  Molecule  lipid peroxidation   \n",
       "2                CHEBI:16856  Molecule         glutathione   \n",
       "3                CHEBI:29191  Molecule    hydroxyl radical   \n",
       "4  AUTO:Trichilia%20dregeana  Organism  Trichilia dregeana   \n",
       "\n",
       "                            provided_by  \n",
       "0  1811d3fb-5fb9-4cbe-aa8b-84b4d4716af6  \n",
       "1  1811d3fb-5fb9-4cbe-aa8b-84b4d4716af6  \n",
       "2  1811d3fb-5fb9-4cbe-aa8b-84b4d4716af6  \n",
       "3  1811d3fb-5fb9-4cbe-aa8b-84b4d4716af6  \n",
       "4  1811d3fb-5fb9-4cbe-aa8b-84b4d4716af6  "
      ]
     },
     "execution_count": 4,
     "metadata": {},
     "output_type": "execute_result"
    }
   ],
   "source": [
    "ent_df = initial_ent_df.drop_duplicates(subset=['id', 'category', 'name'], keep='first', ignore_index=True)\n",
    "ent_df.head()"
   ]
  },
  {
   "cell_type": "code",
   "execution_count": 5,
   "metadata": {},
   "outputs": [
    {
     "name": "stdout",
     "output_type": "stream",
     "text": [
      "Cleaned entity df shape is: (12508, 4)\n"
     ]
    }
   ],
   "source": [
    "print(f'Cleaned entity df shape is: {ent_df.shape}')"
   ]
  },
  {
   "cell_type": "markdown",
   "metadata": {},
   "source": [
    "Assert that we still have the same number of unique `provided_by` identifiers:"
   ]
  },
  {
   "cell_type": "code",
   "execution_count": 6,
   "metadata": {},
   "outputs": [
    {
     "name": "stdout",
     "output_type": "stream",
     "text": [
      "There are 4144 unique document identifiers in the dataset.\n"
     ]
    }
   ],
   "source": [
    "print(f'There are {len(ent_df.provided_by.unique())} unique document identifiers in the dataset.')"
   ]
  },
  {
   "cell_type": "markdown",
   "metadata": {},
   "source": [
    "It's reasonable to think that the missing document identifiers are the result of the model not having extracted any entities for that document; however, we need to confirm this. Let's get the ID's that don't have entities and check that their entities are identical to those of the previous document in the set:"
   ]
  },
  {
   "cell_type": "code",
   "execution_count": 7,
   "metadata": {},
   "outputs": [],
   "source": [
    "all_ids = list(initial_ent_df.provided_by.unique())"
   ]
  },
  {
   "cell_type": "code",
   "execution_count": 8,
   "metadata": {},
   "outputs": [],
   "source": [
    "missing_ids = [x for x in all_ids if x not in ent_df.provided_by.unique()]"
   ]
  },
  {
   "cell_type": "code",
   "execution_count": 9,
   "metadata": {},
   "outputs": [
    {
     "data": {
      "text/plain": [
       "['00287dc5-4c7b-4e9b-ae1c-c05e7a86c1ad',\n",
       " '636772eb-eb24-4f4f-bfe1-ae89e08fb80f',\n",
       " 'a2bd0277-2183-42e5-98c0-08b20474cd00',\n",
       " 'df986ea9-cb5f-4122-aec4-f90d578d7af7',\n",
       " '11ade7df-60ad-449d-a0ab-cd754d163cc3']"
      ]
     },
     "execution_count": 9,
     "metadata": {},
     "output_type": "execute_result"
    }
   ],
   "source": [
    "missing_ids[:5]"
   ]
  },
  {
   "cell_type": "markdown",
   "metadata": {},
   "source": [
    "Note: The following cell is intensive and takes about an hour and a half to run."
   ]
  },
  {
   "cell_type": "code",
   "execution_count": 10,
   "metadata": {},
   "outputs": [
    {
     "name": "stderr",
     "output_type": "stream",
     "text": [
      "100%|██████████| 1093/1093 [1:21:46<00:00,  4.49s/it]\n"
     ]
    }
   ],
   "source": [
    "is_ident_to_prev = []\n",
    "for i in tqdm(range(len(missing_ids))):\n",
    "    idx = [idx for idx, doc_id in enumerate(all_ids) if doc_id == missing_ids[i]][0]\n",
    "    current_doc_ents = initial_ent_df[initial_ent_df['provided_by'] == missing_ids[i]]\n",
    "    prev_doc_ents = initial_ent_df[initial_ent_df['provided_by'] == all_ids[idx-1]]\n",
    "    is_eq = current_doc_ents.drop(columns='provided_by').reset_index(drop=True).equals(prev_doc_ents.drop(columns='provided_by').reset_index(drop=True))\n",
    "    is_ident_to_prev.append(is_eq)"
   ]
  },
  {
   "cell_type": "code",
   "execution_count": 11,
   "metadata": {},
   "outputs": [
    {
     "name": "stdout",
     "output_type": "stream",
     "text": [
      "All missing IDs have 0 new entities compared to their previous document: True\n"
     ]
    }
   ],
   "source": [
    "print(f'All missing IDs have 0 new entities compared to their previous document: {all(is_ident_to_prev)}')"
   ]
  },
  {
   "cell_type": "markdown",
   "metadata": {},
   "source": [
    "Yay! It worked! We can safely drop the extra entities. All we have to do is make sure to add back the missing document ID's when we calculate the per-doc ratios, as we've been giving docs with no entities or relations a 0 in those analyses."
   ]
  },
  {
   "cell_type": "markdown",
   "metadata": {},
   "source": [
    "Problematic entities by ID that we can observe just by scrolling through the list: `AUTO:N/A`, `AUTO:Not%20provided`, `AUTO:Not%20mentioned`, `AUTO:None`, `AUTO:Not%20found`, `AUTO:Unknown`... etc. Quantify prevalance and remove:"
   ]
  },
  {
   "cell_type": "code",
   "execution_count": 12,
   "metadata": {},
   "outputs": [],
   "source": [
    "problem_ents = ['AUTO:N/A', 'AUTO:Not%20provided', 'AUTO:not%20provided', 'AUTO:Not%20mentioned', 'AUTO:None', 'AUTO:Not%20found', 'AUTO:Unknown',\n",
    "               'AUTO:Not%20mentioned%20in%20the%20text.', 'AUTO:unknown', 'AUTO:none', 'AUTO:Not%20applicable',\n",
    "               'AUTO:not%20available', 'AUTO:Not%20mentioned.', 'AUTO:No%20information%20provided.',\n",
    "               'AUTO:Not%20provided%20in%20the%20text.', 'AUTO:Not%20specified', 'AUTO:not%20specified', 'AUTO:unspecified',\n",
    "               'AUTO:n/a', 'AUTO:not%20applicable', 'AUTO:%5Bnot%20mentioned%5D']"
   ]
  },
  {
   "cell_type": "code",
   "execution_count": 13,
   "metadata": {},
   "outputs": [
    {
     "name": "stdout",
     "output_type": "stream",
     "text": [
      "Prevelance of problematic entities:\n",
      "AUTO:N/A -- 1\n",
      "AUTO:Not%20provided -- 1\n",
      "AUTO:not%20provided -- 1\n",
      "AUTO:Not%20mentioned -- 1\n",
      "AUTO:None -- 1\n",
      "AUTO:Not%20found -- 1\n",
      "AUTO:Unknown -- 1\n",
      "AUTO:Not%20mentioned%20in%20the%20text. -- 1\n",
      "AUTO:unknown -- 1\n",
      "AUTO:none -- 1\n",
      "AUTO:Not%20applicable -- 1\n",
      "AUTO:not%20available -- 1\n",
      "AUTO:Not%20mentioned. -- 1\n",
      "AUTO:No%20information%20provided. -- 1\n",
      "AUTO:Not%20provided%20in%20the%20text. -- 1\n",
      "AUTO:Not%20specified -- 1\n",
      "AUTO:not%20specified -- 1\n",
      "AUTO:unspecified -- 1\n",
      "AUTO:n/a -- 1\n",
      "AUTO:not%20applicable -- 1\n",
      "AUTO:%5Bnot%20mentioned%5D -- 1\n",
      "Of a total of 12508 entities.\n"
     ]
    }
   ],
   "source": [
    "entity_counts = Counter(ent_df.id.tolist())\n",
    "print('Prevelance of problematic entities:')\n",
    "for ent in problem_ents:\n",
    "    print(ent, '--', entity_counts[ent])\n",
    "print(f'Of a total of {len(ent_df)} entities.')"
   ]
  },
  {
   "cell_type": "markdown",
   "metadata": {},
   "source": [
    "Not horrible in absolute numbers, but worse than we might like. Also, all of these hallucinated entities have at least 2,000 instances in the dataset, even something as seemingly strange as `AUTO:%5Bnot%20mentioned%5D`. Let's clean them:"
   ]
  },
  {
   "cell_type": "code",
   "execution_count": 14,
   "metadata": {},
   "outputs": [
    {
     "data": {
      "text/html": [
       "<div>\n",
       "<style scoped>\n",
       "    .dataframe tbody tr th:only-of-type {\n",
       "        vertical-align: middle;\n",
       "    }\n",
       "\n",
       "    .dataframe tbody tr th {\n",
       "        vertical-align: top;\n",
       "    }\n",
       "\n",
       "    .dataframe thead th {\n",
       "        text-align: right;\n",
       "    }\n",
       "</style>\n",
       "<table border=\"1\" class=\"dataframe\">\n",
       "  <thead>\n",
       "    <tr style=\"text-align: right;\">\n",
       "      <th></th>\n",
       "      <th>id</th>\n",
       "      <th>category</th>\n",
       "      <th>name</th>\n",
       "      <th>provided_by</th>\n",
       "    </tr>\n",
       "  </thead>\n",
       "  <tbody>\n",
       "    <tr>\n",
       "      <th>1</th>\n",
       "      <td>AUTO:lipid%20peroxidation</td>\n",
       "      <td>Molecule</td>\n",
       "      <td>lipid peroxidation</td>\n",
       "      <td>1811d3fb-5fb9-4cbe-aa8b-84b4d4716af6</td>\n",
       "    </tr>\n",
       "    <tr>\n",
       "      <th>2</th>\n",
       "      <td>CHEBI:16856</td>\n",
       "      <td>Molecule</td>\n",
       "      <td>glutathione</td>\n",
       "      <td>1811d3fb-5fb9-4cbe-aa8b-84b4d4716af6</td>\n",
       "    </tr>\n",
       "    <tr>\n",
       "      <th>3</th>\n",
       "      <td>CHEBI:29191</td>\n",
       "      <td>Molecule</td>\n",
       "      <td>hydroxyl radical</td>\n",
       "      <td>1811d3fb-5fb9-4cbe-aa8b-84b4d4716af6</td>\n",
       "    </tr>\n",
       "    <tr>\n",
       "      <th>4</th>\n",
       "      <td>AUTO:Trichilia%20dregeana</td>\n",
       "      <td>Organism</td>\n",
       "      <td>Trichilia dregeana</td>\n",
       "      <td>1811d3fb-5fb9-4cbe-aa8b-84b4d4716af6</td>\n",
       "    </tr>\n",
       "    <tr>\n",
       "      <th>5</th>\n",
       "      <td>CHEBI:22152</td>\n",
       "      <td>Molecule</td>\n",
       "      <td>abscisic acid</td>\n",
       "      <td>623dce16-704e-41a7-b549-22982835bff9</td>\n",
       "    </tr>\n",
       "  </tbody>\n",
       "</table>\n",
       "</div>"
      ],
      "text/plain": [
       "                          id  category                name  \\\n",
       "1  AUTO:lipid%20peroxidation  Molecule  lipid peroxidation   \n",
       "2                CHEBI:16856  Molecule         glutathione   \n",
       "3                CHEBI:29191  Molecule    hydroxyl radical   \n",
       "4  AUTO:Trichilia%20dregeana  Organism  Trichilia dregeana   \n",
       "5                CHEBI:22152  Molecule       abscisic acid   \n",
       "\n",
       "                            provided_by  \n",
       "1  1811d3fb-5fb9-4cbe-aa8b-84b4d4716af6  \n",
       "2  1811d3fb-5fb9-4cbe-aa8b-84b4d4716af6  \n",
       "3  1811d3fb-5fb9-4cbe-aa8b-84b4d4716af6  \n",
       "4  1811d3fb-5fb9-4cbe-aa8b-84b4d4716af6  \n",
       "5  623dce16-704e-41a7-b549-22982835bff9  "
      ]
     },
     "execution_count": 14,
     "metadata": {},
     "output_type": "execute_result"
    }
   ],
   "source": [
    "ent_df_cleaned = ent_df[~ent_df['id'].isin(problem_ents)]\n",
    "ent_df_cleaned.head()"
   ]
  },
  {
   "cell_type": "code",
   "execution_count": 15,
   "metadata": {},
   "outputs": [
    {
     "name": "stdout",
     "output_type": "stream",
     "text": [
      "21 total entities were dropped on cleaning (0.17%)\n"
     ]
    }
   ],
   "source": [
    "print(f'{len(ent_df) - len(ent_df_cleaned)} total entities were dropped on cleaning ({100*(len(ent_df) - len(ent_df_cleaned))/len(ent_df):.2f}%)')"
   ]
  },
  {
   "cell_type": "code",
   "execution_count": 16,
   "metadata": {},
   "outputs": [
    {
     "name": "stdout",
     "output_type": "stream",
     "text": [
      "This is 21 of 12508 unqiue entities lost (0.17%)\n"
     ]
    }
   ],
   "source": [
    "unique_ents = ent_df.id.unique()\n",
    "unique_after_cleaning = ent_df_cleaned.id.unique()\n",
    "unique_dropped = problem_ents\n",
    "assert len(unique_dropped) == len(unique_ents) - len(unique_after_cleaning)\n",
    "print(f'This is {len(unique_ents) - len(unique_after_cleaning)} of {len(unique_ents)} unqiue entities lost ({100*(len(unique_ents) - len(unique_after_cleaning))/len(unique_ents):.2f}%)')"
   ]
  },
  {
   "cell_type": "markdown",
   "metadata": {},
   "source": [
    "Check how many are truly grounded:"
   ]
  },
  {
   "cell_type": "code",
   "execution_count": 17,
   "metadata": {},
   "outputs": [
    {
     "name": "stdout",
     "output_type": "stream",
     "text": [
      "20.99% of entities have a true grounding.\n"
     ]
    }
   ],
   "source": [
    "clean_ent_counts = Counter(ent_df_cleaned.id.tolist())\n",
    "true_grounded = sum([v for k, v in clean_ent_counts.items() if 'AUTO:' not in k])\n",
    "print(f'{100*true_grounded/sum(clean_ent_counts.values()):.2f}% of entities have a true grounding.')"
   ]
  },
  {
   "cell_type": "markdown",
   "metadata": {},
   "source": [
    "### Relations"
   ]
  },
  {
   "cell_type": "code",
   "execution_count": 18,
   "metadata": {},
   "outputs": [
    {
     "data": {
      "text/html": [
       "<div>\n",
       "<style scoped>\n",
       "    .dataframe tbody tr th:only-of-type {\n",
       "        vertical-align: middle;\n",
       "    }\n",
       "\n",
       "    .dataframe tbody tr th {\n",
       "        vertical-align: top;\n",
       "    }\n",
       "\n",
       "    .dataframe thead th {\n",
       "        text-align: right;\n",
       "    }\n",
       "</style>\n",
       "<table border=\"1\" class=\"dataframe\">\n",
       "  <thead>\n",
       "    <tr style=\"text-align: right;\">\n",
       "      <th></th>\n",
       "      <th>id</th>\n",
       "      <th>category</th>\n",
       "      <th>provided_by</th>\n",
       "      <th>predicate</th>\n",
       "      <th>subject</th>\n",
       "      <th>object</th>\n",
       "    </tr>\n",
       "  </thead>\n",
       "  <tbody>\n",
       "    <tr>\n",
       "      <th>0</th>\n",
       "      <td>f40835d2-e716-4073-88c5-27eac763fe43</td>\n",
       "      <td>GeneGeneInteraction</td>\n",
       "      <td>1811d3fb-5fb9-4cbe-aa8b-84b4d4716af6</td>\n",
       "      <td>GeneGeneInteraction</td>\n",
       "      <td>AUTO:N/A</td>\n",
       "      <td>AUTO:N/A</td>\n",
       "    </tr>\n",
       "    <tr>\n",
       "      <th>1</th>\n",
       "      <td>c20331ec-e5aa-4af8-9483-618678e9d6ca</td>\n",
       "      <td>GeneOrganismRelationship</td>\n",
       "      <td>1811d3fb-5fb9-4cbe-aa8b-84b4d4716af6</td>\n",
       "      <td>GeneOrganismRelationship</td>\n",
       "      <td>AUTO:N/A</td>\n",
       "      <td>AUTO:N/A</td>\n",
       "    </tr>\n",
       "    <tr>\n",
       "      <th>2</th>\n",
       "      <td>d4dd7d59-1118-4577-a870-9a85d7f89f17</td>\n",
       "      <td>ProteinProteinInteraction</td>\n",
       "      <td>1811d3fb-5fb9-4cbe-aa8b-84b4d4716af6</td>\n",
       "      <td>ProteinProteinInteraction</td>\n",
       "      <td>AUTO:N/A</td>\n",
       "      <td>AUTO:N/A</td>\n",
       "    </tr>\n",
       "    <tr>\n",
       "      <th>3</th>\n",
       "      <td>09f0659d-9ea2-42d6-a331-d076507d012c</td>\n",
       "      <td>ProteinOrganismRelationship</td>\n",
       "      <td>1811d3fb-5fb9-4cbe-aa8b-84b4d4716af6</td>\n",
       "      <td>ProteinOrganismRelationship</td>\n",
       "      <td>AUTO:N/A</td>\n",
       "      <td>AUTO:N/A</td>\n",
       "    </tr>\n",
       "    <tr>\n",
       "      <th>4</th>\n",
       "      <td>af2466f5-44d4-4224-bf3e-befef9553aa3</td>\n",
       "      <td>GeneMoleculeInteraction</td>\n",
       "      <td>1811d3fb-5fb9-4cbe-aa8b-84b4d4716af6</td>\n",
       "      <td>GeneMoleculeInteraction</td>\n",
       "      <td>AUTO:N/A</td>\n",
       "      <td>AUTO:N/A</td>\n",
       "    </tr>\n",
       "  </tbody>\n",
       "</table>\n",
       "</div>"
      ],
      "text/plain": [
       "                                     id                     category  \\\n",
       "0  f40835d2-e716-4073-88c5-27eac763fe43          GeneGeneInteraction   \n",
       "1  c20331ec-e5aa-4af8-9483-618678e9d6ca     GeneOrganismRelationship   \n",
       "2  d4dd7d59-1118-4577-a870-9a85d7f89f17    ProteinProteinInteraction   \n",
       "3  09f0659d-9ea2-42d6-a331-d076507d012c  ProteinOrganismRelationship   \n",
       "4  af2466f5-44d4-4224-bf3e-befef9553aa3      GeneMoleculeInteraction   \n",
       "\n",
       "                            provided_by                    predicate  \\\n",
       "0  1811d3fb-5fb9-4cbe-aa8b-84b4d4716af6          GeneGeneInteraction   \n",
       "1  1811d3fb-5fb9-4cbe-aa8b-84b4d4716af6     GeneOrganismRelationship   \n",
       "2  1811d3fb-5fb9-4cbe-aa8b-84b4d4716af6    ProteinProteinInteraction   \n",
       "3  1811d3fb-5fb9-4cbe-aa8b-84b4d4716af6  ProteinOrganismRelationship   \n",
       "4  1811d3fb-5fb9-4cbe-aa8b-84b4d4716af6      GeneMoleculeInteraction   \n",
       "\n",
       "    subject    object  \n",
       "0  AUTO:N/A  AUTO:N/A  \n",
       "1  AUTO:N/A  AUTO:N/A  \n",
       "2  AUTO:N/A  AUTO:N/A  \n",
       "3  AUTO:N/A  AUTO:N/A  \n",
       "4  AUTO:N/A  AUTO:N/A  "
      ]
     },
     "execution_count": 18,
     "metadata": {},
     "output_type": "execute_result"
    }
   ],
   "source": [
    "rel_df = pd.read_csv('../../data/kg/ontogpt_slim_rel_df_20May2024.csv')\n",
    "rel_df.head()"
   ]
  },
  {
   "cell_type": "markdown",
   "metadata": {},
   "source": [
    "We need to get rid of any relations that rely on the three problem entities, and quantify the prevalence of both relations with two problem entities and relations with one problem entity."
   ]
  },
  {
   "cell_type": "code",
   "execution_count": 19,
   "metadata": {},
   "outputs": [
    {
     "name": "stdout",
     "output_type": "stream",
     "text": [
      "3568 relations were dropped for having both entities be problem entities (44.68% of initial relations)\n"
     ]
    }
   ],
   "source": [
    "rel_df_cleaned_just_both = rel_df[~((rel_df['subject'].isin(problem_ents)) & (rel_df['object'].isin(problem_ents)))]\n",
    "print(f'{len(rel_df) - len(rel_df_cleaned_just_both)} relations were dropped for having both entities be problem entities ({100*(len(rel_df) - len(rel_df_cleaned_just_both))/len(rel_df):.2f}% of initial relations)')"
   ]
  },
  {
   "cell_type": "code",
   "execution_count": 20,
   "metadata": {
    "scrolled": false
   },
   "outputs": [
    {
     "name": "stdout",
     "output_type": "stream",
     "text": [
      "292 relations were dropped for having one entity be problem entities (3.66% of initial relations)\n"
     ]
    }
   ],
   "source": [
    "rel_df_cleaned_problems = rel_df_cleaned_just_both[~((rel_df_cleaned_just_both['subject'].isin(problem_ents)) | (rel_df_cleaned_just_both['object'].isin(problem_ents)))]\n",
    "print(f'{len(rel_df_cleaned_just_both) - len(rel_df_cleaned_problems)} relations were dropped for having one entity be problem entities ({100*(len(rel_df_cleaned_just_both) - len(rel_df_cleaned_problems))/len(rel_df):.2f}% of initial relations)')"
   ]
  },
  {
   "cell_type": "markdown",
   "metadata": {},
   "source": [
    "We've also noticed that some of the relations are trivial because they relate an entity to itself; we also want to drop and quantify those."
   ]
  },
  {
   "cell_type": "code",
   "execution_count": 21,
   "metadata": {},
   "outputs": [
    {
     "name": "stdout",
     "output_type": "stream",
     "text": [
      "426 relations were dropped for having one entity be problem entities (5.34% of initial relations)\n"
     ]
    }
   ],
   "source": [
    "rel_df_cleaned = rel_df_cleaned_problems[rel_df_cleaned_problems['subject'] != rel_df_cleaned_problems['object']]\n",
    "print(f'{len(rel_df_cleaned_problems) - len(rel_df_cleaned)} relations were dropped for having one entity be problem entities ({100*(len(rel_df_cleaned_problems) - len(rel_df_cleaned))/len(rel_df):.2f}% of initial relations)')"
   ]
  },
  {
   "cell_type": "code",
   "execution_count": 22,
   "metadata": {},
   "outputs": [
    {
     "data": {
      "text/html": [
       "<div>\n",
       "<style scoped>\n",
       "    .dataframe tbody tr th:only-of-type {\n",
       "        vertical-align: middle;\n",
       "    }\n",
       "\n",
       "    .dataframe tbody tr th {\n",
       "        vertical-align: top;\n",
       "    }\n",
       "\n",
       "    .dataframe thead th {\n",
       "        text-align: right;\n",
       "    }\n",
       "</style>\n",
       "<table border=\"1\" class=\"dataframe\">\n",
       "  <thead>\n",
       "    <tr style=\"text-align: right;\">\n",
       "      <th></th>\n",
       "      <th>id</th>\n",
       "      <th>category</th>\n",
       "      <th>provided_by</th>\n",
       "      <th>predicate</th>\n",
       "      <th>subject</th>\n",
       "      <th>object</th>\n",
       "    </tr>\n",
       "  </thead>\n",
       "  <tbody>\n",
       "    <tr>\n",
       "      <th>23</th>\n",
       "      <td>ed9c4fc6-0721-429b-a130-bea4988c41b6</td>\n",
       "      <td>GeneMoleculeInteraction</td>\n",
       "      <td>a1fa005c-4606-4a90-aca3-65f02a03de6e</td>\n",
       "      <td>GeneMoleculeInteraction</td>\n",
       "      <td>AUTO:CsGolS1</td>\n",
       "      <td>CHEBI:17505</td>\n",
       "    </tr>\n",
       "    <tr>\n",
       "      <th>25</th>\n",
       "      <td>d4bf6963-8019-4ec4-b452-5e10e692b758</td>\n",
       "      <td>GeneMoleculeInteraction</td>\n",
       "      <td>effe7e16-b4ae-40b1-931c-d7abca0007bd</td>\n",
       "      <td>GeneMoleculeInteraction</td>\n",
       "      <td>AUTO:PAO</td>\n",
       "      <td>CHEBI:32875</td>\n",
       "    </tr>\n",
       "    <tr>\n",
       "      <th>26</th>\n",
       "      <td>74517f99-53ca-4e6d-82a8-f92017929a34</td>\n",
       "      <td>ProteinOrganismRelationship</td>\n",
       "      <td>009bf68f-6bb1-49bb-8e16-932db901c55b</td>\n",
       "      <td>ProteinOrganismRelationship</td>\n",
       "      <td>AUTO:phytoferritin</td>\n",
       "      <td>NCBITaxon:81913</td>\n",
       "    </tr>\n",
       "    <tr>\n",
       "      <th>33</th>\n",
       "      <td>165766ff-cf5c-432f-a940-d617a8c4b12f</td>\n",
       "      <td>GeneProteinInteraction</td>\n",
       "      <td>419b6f1d-32f7-42cb-86dc-584bba04d1e3</td>\n",
       "      <td>GeneProteinInteraction</td>\n",
       "      <td>AUTO:AtGAMT1</td>\n",
       "      <td>PR:000008052</td>\n",
       "    </tr>\n",
       "    <tr>\n",
       "      <th>34</th>\n",
       "      <td>ab84aa56-0da6-4c0e-b28a-d78b43cd7ec9</td>\n",
       "      <td>GeneOrganismRelationship</td>\n",
       "      <td>419b6f1d-32f7-42cb-86dc-584bba04d1e3</td>\n",
       "      <td>GeneOrganismRelationship</td>\n",
       "      <td>AUTO:AtGAMT1</td>\n",
       "      <td>NCBITaxon:4081</td>\n",
       "    </tr>\n",
       "  </tbody>\n",
       "</table>\n",
       "</div>"
      ],
      "text/plain": [
       "                                      id                     category  \\\n",
       "23  ed9c4fc6-0721-429b-a130-bea4988c41b6      GeneMoleculeInteraction   \n",
       "25  d4bf6963-8019-4ec4-b452-5e10e692b758      GeneMoleculeInteraction   \n",
       "26  74517f99-53ca-4e6d-82a8-f92017929a34  ProteinOrganismRelationship   \n",
       "33  165766ff-cf5c-432f-a940-d617a8c4b12f       GeneProteinInteraction   \n",
       "34  ab84aa56-0da6-4c0e-b28a-d78b43cd7ec9     GeneOrganismRelationship   \n",
       "\n",
       "                             provided_by                    predicate  \\\n",
       "23  a1fa005c-4606-4a90-aca3-65f02a03de6e      GeneMoleculeInteraction   \n",
       "25  effe7e16-b4ae-40b1-931c-d7abca0007bd      GeneMoleculeInteraction   \n",
       "26  009bf68f-6bb1-49bb-8e16-932db901c55b  ProteinOrganismRelationship   \n",
       "33  419b6f1d-32f7-42cb-86dc-584bba04d1e3       GeneProteinInteraction   \n",
       "34  419b6f1d-32f7-42cb-86dc-584bba04d1e3     GeneOrganismRelationship   \n",
       "\n",
       "               subject           object  \n",
       "23        AUTO:CsGolS1      CHEBI:17505  \n",
       "25            AUTO:PAO      CHEBI:32875  \n",
       "26  AUTO:phytoferritin  NCBITaxon:81913  \n",
       "33        AUTO:AtGAMT1     PR:000008052  \n",
       "34        AUTO:AtGAMT1   NCBITaxon:4081  "
      ]
     },
     "execution_count": 22,
     "metadata": {},
     "output_type": "execute_result"
    }
   ],
   "source": [
    "rel_df_cleaned.head()"
   ]
  },
  {
   "cell_type": "markdown",
   "metadata": {},
   "source": [
    "More than 50% of relations were dropped because they were hallucinated around non-existent entities -- not a great look.\n",
    "\n",
    "## Format into a networkx graph\n",
    "For the sake of keeping it computationally simple, since we know we're not going to use this graph downstream, I'm going to ignore attributes like provided_by."
   ]
  },
  {
   "cell_type": "code",
   "execution_count": 23,
   "metadata": {},
   "outputs": [],
   "source": [
    "ents_for_nodes = ent_df_cleaned.drop(columns='provided_by').drop_duplicates().set_index('id').rename(columns={'category': 'ent_type', 'name': 'semantic_name'})"
   ]
  },
  {
   "cell_type": "code",
   "execution_count": 24,
   "metadata": {},
   "outputs": [],
   "source": [
    "nodes = [(k, v) for k, v in ents_for_nodes.to_dict('index').items()]"
   ]
  },
  {
   "cell_type": "code",
   "execution_count": 25,
   "metadata": {},
   "outputs": [],
   "source": [
    "rels_for_edges = rel_df_cleaned.drop(columns=['id', 'provided_by', 'category']).drop_duplicates()"
   ]
  },
  {
   "cell_type": "code",
   "execution_count": 26,
   "metadata": {},
   "outputs": [],
   "source": [
    "edges = []\n",
    "for i, row in rels_for_edges.iterrows():\n",
    "    edge = (row.subject, row.object, {'rel_type': row.predicate})\n",
    "    edges.append(edge)"
   ]
  },
  {
   "cell_type": "code",
   "execution_count": 27,
   "metadata": {},
   "outputs": [],
   "source": [
    "ontogpt_graph = nx.Graph()\n",
    "_ = ontogpt_graph.add_nodes_from(nodes)\n",
    "_ = ontogpt_graph.add_edges_from(edges)"
   ]
  },
  {
   "cell_type": "code",
   "execution_count": 28,
   "metadata": {},
   "outputs": [],
   "source": [
    "nx.write_graphml(ontogpt_graph, '../../data/kg/ontogpt_cleaned_graph_22May2024.graphml')"
   ]
  },
  {
   "cell_type": "markdown",
   "metadata": {},
   "source": [
    "Also save the cleaned entity and relation dataframes:"
   ]
  },
  {
   "cell_type": "code",
   "execution_count": 29,
   "metadata": {},
   "outputs": [],
   "source": [
    "ent_df_cleaned.to_csv('../../data/kg/ontogpt_slim_ent_df_CLEANED_20May2024.csv', index=False)\n",
    "rel_df_cleaned.to_csv('../../data/kg/ontogpt_slim_rel_df_CLEANED_20May2024.csv', index=False)"
   ]
  }
 ],
 "metadata": {
  "kernelspec": {
   "display_name": "ontogpt",
   "language": "python",
   "name": "ontogpt"
  },
  "language_info": {
   "codemirror_mode": {
    "name": "ipython",
    "version": 3
   },
   "file_extension": ".py",
   "mimetype": "text/x-python",
   "name": "python",
   "nbconvert_exporter": "python",
   "pygments_lexer": "ipython3",
   "version": "3.9.18"
  }
 },
 "nbformat": 4,
 "nbformat_minor": 2
}
