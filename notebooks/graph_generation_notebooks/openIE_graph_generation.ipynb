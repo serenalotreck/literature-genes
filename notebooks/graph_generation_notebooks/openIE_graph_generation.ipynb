{
 "cells": [
  {
   "cell_type": "markdown",
   "metadata": {},
   "source": [
    "# OpenIE graph generation\n",
    "In this notebook, we'll use OpenIE to generate triples form our dataset, and use the DyGIE++-derived named entities to filter down the overwhelming amount of triples that result from OpenIE procedures."
   ]
  },
  {
   "cell_type": "code",
   "execution_count": 1,
   "metadata": {},
   "outputs": [],
   "source": [
    "import jsonlines\n",
    "import networkx as nx"
   ]
  },
  {
   "cell_type": "markdown",
   "metadata": {},
   "source": [
    "## Reading in triples\n",
    "The stanza servers can be a little finnickey, so we used an interactive job with a script to generate the triples. We also filtered the dataset down to DyGIE++ entities as part of the same job, as there are a large number of triples and this process is time consuming. We'll read in and analyze them here."
   ]
  },
  {
   "cell_type": "code",
   "execution_count": 2,
   "metadata": {},
   "outputs": [],
   "source": [
    "with jsonlines.open('../../data/kg/openie_triples_08May23024.jsonl') as reader:\n",
    "    all_triples = [obj for obj in reader]"
   ]
  },
  {
   "cell_type": "code",
   "execution_count": 3,
   "metadata": {},
   "outputs": [
    {
     "name": "stdout",
     "output_type": "stream",
     "text": [
      "There were 644175 triples initially extracted from the dataset by OpenIE.\n"
     ]
    }
   ],
   "source": [
    "print(f'There were {len(all_triples)} triples initially extracted from the dataset by OpenIE.')"
   ]
  },
  {
   "cell_type": "code",
   "execution_count": 4,
   "metadata": {},
   "outputs": [
    {
     "name": "stdout",
     "output_type": "stream",
     "text": [
      "There were 323233 unique entities in the initial OpenIE extraction.\n"
     ]
    }
   ],
   "source": [
    "ents = []\n",
    "for trip in all_triples:\n",
    "    ents.append(trip['subject'].lower())\n",
    "    ents.append(trip['object'].lower())\n",
    "unique_ents = list(set(ents))\n",
    "print(f'There were {len(unique_ents)} unique entities in the initial OpenIE extraction.')"
   ]
  },
  {
   "cell_type": "markdown",
   "metadata": {},
   "source": [
    "A quick sample of the triples and entities shows us that the quality is extremely low:"
   ]
  },
  {
   "cell_type": "code",
   "execution_count": 5,
   "metadata": {},
   "outputs": [
    {
     "data": {
      "text/plain": [
       "[{'subject': 'Studies', 'relation': 'elucidate', 'object': 'basis'},\n",
       " {'subject': 'Studies',\n",
       "  'relation': 'elucidate',\n",
       "  'object': 'biochemical basis of survival of excised axes of seeds'},\n",
       " {'subject': 'Studies',\n",
       "  'relation': 'elucidate',\n",
       "  'object': 'biochemical basis of survival of embryonic axes of recalcitrant seeds of Trichilia dregeana'},\n",
       " {'subject': 'Studies',\n",
       "  'relation': 'basis of',\n",
       "  'object': 'survival of embryonic axes of recalcitrant seeds'},\n",
       " {'subject': 'Studies',\n",
       "  'relation': 'elucidate',\n",
       "  'object': 'biochemical basis of survival of excised embryonic axes of seeds of Trichilia dregeana'}]"
      ]
     },
     "execution_count": 5,
     "metadata": {},
     "output_type": "execute_result"
    }
   ],
   "source": [
    "all_triples[:5]"
   ]
  },
  {
   "cell_type": "code",
   "execution_count": 6,
   "metadata": {},
   "outputs": [
    {
     "data": {
      "text/plain": [
       "['study on desiccation related protein in plant floral nectar',\n",
       " 'percentage',\n",
       " 'extended to march beyond normal growing seasons',\n",
       " 'while yeasts depend',\n",
       " 'maa structure',\n",
       " 'regulatory interactions at level for expression of network',\n",
       " 'nodaensis',\n",
       " 'clearly important driver of bryophyte assemblages in coniferous forests',\n",
       " 'detach',\n",
       " 'by associating with different symbionts recognised as mediators with acquisition of traits possible by uptake of novel symbionts']"
      ]
     },
     "execution_count": 6,
     "metadata": {},
     "output_type": "execute_result"
    }
   ],
   "source": [
    "unique_ents[:10]"
   ]
  },
  {
   "cell_type": "code",
   "execution_count": 7,
   "metadata": {},
   "outputs": [],
   "source": [
    "openie_filtered_graph = nx.read_graphml('../../data/kg/openIE_filtered_graph_08May2024.graphml')"
   ]
  },
  {
   "cell_type": "code",
   "execution_count": 8,
   "metadata": {},
   "outputs": [
    {
     "name": "stdout",
     "output_type": "stream",
     "text": [
      "After exact-match filtering based on DyGIE++ entities, there are 8156 triples in the OpenIE graph.\n",
      "There are 6195 nodes in the filtered graph.\n"
     ]
    }
   ],
   "source": [
    "print(f'After exact-match filtering based on DyGIE++ entities, there are {len(list(openie_filtered_graph.edges))} triples in the OpenIE graph.')\n",
    "print(f'There are {len(list(openie_filtered_graph.nodes))} nodes in the filtered graph.')"
   ]
  }
 ],
 "metadata": {
  "kernelspec": {
   "display_name": "graphs",
   "language": "python",
   "name": "graphs"
  },
  "language_info": {
   "codemirror_mode": {
    "name": "ipython",
    "version": 3
   },
   "file_extension": ".py",
   "mimetype": "text/x-python",
   "name": "python",
   "nbconvert_exporter": "python",
   "pygments_lexer": "ipython3",
   "version": "3.10.13"
  }
 },
 "nbformat": 4,
 "nbformat_minor": 2
}
