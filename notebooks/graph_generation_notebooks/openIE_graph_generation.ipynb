{
 "cells": [
  {
   "cell_type": "markdown",
   "metadata": {},
   "source": [
    "# OpenIE graph generation\n",
    "In this notebook, we'll use OpenIE to generate triples form our dataset, and use the DyGIE++-derived named entities to filter down the overwhelming amount of triples that result from OpenIE procedures."
   ]
  },
  {
   "cell_type": "code",
   "execution_count": 7,
   "metadata": {},
   "outputs": [],
   "source": [
    "import jsonlines\n",
    "import networkx as nx\n",
    "from tqdm import tqdm"
   ]
  },
  {
   "cell_type": "markdown",
   "metadata": {},
   "source": [
    "## Reading in triples\n",
    "The stanza servers can be a little finnickey, so we used an interactive job with a script to generate the triples."
   ]
  },
  {
   "cell_type": "code",
   "execution_count": 2,
   "metadata": {},
   "outputs": [],
   "source": [
    "with jsonlines.open('../../data/kg/openie_triples_08May23024.jsonl') as reader:\n",
    "    triples = [obj for obj in reader]"
   ]
  },
  {
   "cell_type": "code",
   "execution_count": 3,
   "metadata": {},
   "outputs": [
    {
     "name": "stdout",
     "output_type": "stream",
     "text": [
      "There are 644175 triples extracted from the dataset by OpenIE.\n"
     ]
    }
   ],
   "source": [
    "print(f'There are {len(triples)} triples extracted from the dataset by OpenIE.')"
   ]
  },
  {
   "cell_type": "markdown",
   "metadata": {},
   "source": [
    "A quick sample of the triples shows us that the quality is extremely low:"
   ]
  },
  {
   "cell_type": "code",
   "execution_count": 4,
   "metadata": {},
   "outputs": [
    {
     "data": {
      "text/plain": [
       "[{'subject': 'Studies', 'relation': 'elucidate', 'object': 'basis'},\n",
       " {'subject': 'Studies',\n",
       "  'relation': 'elucidate',\n",
       "  'object': 'biochemical basis of survival of excised axes of seeds'},\n",
       " {'subject': 'Studies',\n",
       "  'relation': 'elucidate',\n",
       "  'object': 'biochemical basis of survival of embryonic axes of recalcitrant seeds of Trichilia dregeana'},\n",
       " {'subject': 'Studies',\n",
       "  'relation': 'basis of',\n",
       "  'object': 'survival of embryonic axes of recalcitrant seeds'},\n",
       " {'subject': 'Studies',\n",
       "  'relation': 'elucidate',\n",
       "  'object': 'biochemical basis of survival of excised embryonic axes of seeds of Trichilia dregeana'}]"
      ]
     },
     "execution_count": 4,
     "metadata": {},
     "output_type": "execute_result"
    }
   ],
   "source": [
    "triples[:5]"
   ]
  },
  {
   "cell_type": "markdown",
   "metadata": {},
   "source": [
    "## Filter triples by DyGIE++ entities\n",
    "In order to improve the quality of the OpenIE extraction, we'll only keep triples that have a DyGIE++ entity as both a subject and a predicate. We'll start by requiring an exact match; if this proves too stringent, we can use fuzzy matching instead."
   ]
  },
  {
   "cell_type": "code",
   "execution_count": 5,
   "metadata": {},
   "outputs": [],
   "source": [
    "dygie_co_graph = nx.read_graphml('../../data/kg/all_drought_dt_co_occurrence_graph_02May2024.graphml')\n",
    "dygiepp_ents = list(dygie_co_graph.nodes())"
   ]
  },
  {
   "cell_type": "code",
   "execution_count": null,
   "metadata": {},
   "outputs": [
    {
     "name": "stderr",
     "output_type": "stream",
     "text": [
      " 16%|█▌        | 102721/644175 [28:49<2:18:16, 65.26it/s]"
     ]
    }
   ],
   "source": [
    "openie_nodes = []\n",
    "openie_edges = []\n",
    "for trip in tqdm(triples):\n",
    "    if (trip['subject'].lower() in dygiepp_ents) and (trip['object'].lower() in dygiepp_ents):\n",
    "        openie_nodes.append(trip['subject'].lower())\n",
    "        openie_nodes.append(trip['object'].lower())\n",
    "        openie_edges.append((trip['subject'].lower(), trip['object'].lower()))\n",
    "openie_nodes = list(set(openie_nodes))\n",
    "openie_edges = list(set(openie_edges))"
   ]
  },
  {
   "cell_type": "code",
   "execution_count": null,
   "metadata": {},
   "outputs": [],
   "source": [
    "print(f'There are {len(openie_nodes)} nodes and {len(openie_edges)} edges after filtering by entity.')"
   ]
  },
  {
   "cell_type": "code",
   "execution_count": null,
   "metadata": {},
   "outputs": [],
   "source": [
    "openie_graph = nx.Graph()\n",
    "_ = openie_graph.add_nodes_from(openie_nodes)\n",
    "_ = openie_graph.add_edges_from(openie_edges)"
   ]
  },
  {
   "cell_type": "code",
   "execution_count": null,
   "metadata": {},
   "outputs": [],
   "source": []
  }
 ],
 "metadata": {
  "kernelspec": {
   "display_name": "graphs",
   "language": "python",
   "name": "graphs"
  },
  "language_info": {
   "codemirror_mode": {
    "name": "ipython",
    "version": 3
   },
   "file_extension": ".py",
   "mimetype": "text/x-python",
   "name": "python",
   "nbconvert_exporter": "python",
   "pygments_lexer": "ipython3",
   "version": "3.10.13"
  }
 },
 "nbformat": 4,
 "nbformat_minor": 2
}
