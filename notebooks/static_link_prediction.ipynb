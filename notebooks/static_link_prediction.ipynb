{
 "cells": [
  {
   "cell_type": "markdown",
   "metadata": {},
   "source": [
    "# Static link prediction\n",
    "In this notebook, we will apply models from the PyKEEN package to generate link predictions on the entire graph as a static object."
   ]
  },
  {
   "cell_type": "code",
   "execution_count": 1,
   "metadata": {},
   "outputs": [
    {
     "name": "stderr",
     "output_type": "stream",
     "text": [
      "2024-07-14 11:10:54.798300: I tensorflow/core/platform/cpu_feature_guard.cc:193] This TensorFlow binary is optimized with oneAPI Deep Neural Network Library (oneDNN) to use the following CPU instructions in performance-critical operations:  SSE4.1 SSE4.2 AVX\n",
      "To enable them in other operations, rebuild TensorFlow with the appropriate compiler flags.\n"
     ]
    }
   ],
   "source": [
    "import networkx as nx\n",
    "from pykeen.triples import TriplesFactory\n",
    "from pykeen.pipeline import pipeline\n",
    "from pykeen.losses import BCEWithLogitsLoss\n",
    "from pykeen.constants import PYKEEN_CHECKPOINTS\n",
    "import torch\n",
    "from pykeen.models import RESCAL\n",
    "from itertools import combinations\n",
    "from tqdm import tqdm\n",
    "import json\n",
    "import pandas as pd\n",
    "from collections import Counter, defaultdict\n",
    "from scipy.stats import randint\n",
    "from sklearn.preprocessing import LabelBinarizer\n",
    "from sklearn.ensemble import RandomForestClassifier\n",
    "from sklearn.model_selection import RandomizedSearchCV\n",
    "from sklearn.metrics import confusion_matrix, ConfusionMatrixDisplay, f1_score, roc_auc_score, precision_recall_curve, PrecisionRecallDisplay, average_precision_score, RocCurveDisplay, auc, roc_curve\n",
    "from sklearn.decomposition import PCA\n",
    "import pickle\n",
    "from pykeen import predict\n",
    "from random import choice, sample\n",
    "import matplotlib\n",
    "import matplotlib.pyplot as plt\n",
    "plt.rcParams['pdf.fonttype'] = 42\n",
    "import numpy as np\n",
    "from itertools import cycle\n",
    "from ast import literal_eval\n",
    "from scipy.stats import ttest_ind, kstest\n",
    "from scipy.spatial.distance import cdist, squareform\n",
    "from scipy.special import softmax\n",
    "import functools"
   ]
  },
  {
   "cell_type": "markdown",
   "metadata": {},
   "source": [
    "## Read in the PyKEEN tensors\n",
    "Training a PyKEEN model on a graph this size takes a while, so we submitted it as a job. Here, we'll read in the final checkopint to re-instantiate the trained model, and use it to build our prediction mechanism."
   ]
  },
  {
   "cell_type": "markdown",
   "metadata": {},
   "source": [
    "### Drought + DT"
   ]
  },
  {
   "cell_type": "code",
   "execution_count": 2,
   "metadata": {},
   "outputs": [],
   "source": [
    "model_save_suffix = 'BCE_Loss_normal_init'\n",
    "split_random_seed = 1341794145 # From the training output file\n",
    "model_random_seed = 3032470760 # From the training output file\n",
    "date = '12Jul2024'"
   ]
  },
  {
   "cell_type": "code",
   "execution_count": 3,
   "metadata": {},
   "outputs": [],
   "source": [
    "checkpoint = torch.load(PYKEEN_CHECKPOINTS.joinpath(f'dt_rescal_{model_save_suffix}.pt'), map_location=torch.device('cpu'))"
   ]
  },
  {
   "cell_type": "code",
   "execution_count": 4,
   "metadata": {},
   "outputs": [],
   "source": [
    "def get_predicate(row):\n",
    "    if row.is_drought:\n",
    "        if row.is_desiccation:\n",
    "            return 'both'\n",
    "        else:\n",
    "            return 'drought'\n",
    "    else:\n",
    "        if row.is_desiccation:\n",
    "            return 'desiccation'"
   ]
  },
  {
   "cell_type": "code",
   "execution_count": 5,
   "metadata": {},
   "outputs": [
    {
     "name": "stdout",
     "output_type": "stream",
     "text": [
      "Snapshot of triples: [['peg-induced drought tolerance' 'drought' 'sesame']\n",
      " ['peg-induced drought tolerance' 'drought' 'sesame drought tolerance']\n",
      " ['peg-induced drought tolerance' 'drought' 'otsa']\n",
      " ['peg-induced drought tolerance' 'drought' 'p5cr']\n",
      " ['peg-induced drought tolerance' 'drought' 'glgx']]\n"
     ]
    }
   ],
   "source": [
    "graph = nx.read_graphml('../data/kg/all_drought_dt_co_occurrence_graph_No_quotes_12Jun2024.graphml')\n",
    "edgelist = nx.to_pandas_edgelist(graph)\n",
    "edgelist['predicate'] = edgelist.apply(get_predicate, axis=1)\n",
    "triples = edgelist[['source', 'predicate', 'target']].to_numpy()\n",
    "print(f'Snapshot of triples: {triples[:5]}')"
   ]
  },
  {
   "cell_type": "code",
   "execution_count": 6,
   "metadata": {},
   "outputs": [],
   "source": [
    "tf = TriplesFactory.from_labeled_triples(triples,\n",
    "                                         create_inverse_triples=True,\n",
    "                                         entity_to_id=checkpoint['entity_to_id_dict'],\n",
    "                                         relation_to_id=checkpoint['relation_to_id_dict'])\n",
    "training, validation, testing = tf.split([0.8, 0.1, 0.1], random_state=split_random_seed)"
   ]
  },
  {
   "cell_type": "code",
   "execution_count": 7,
   "metadata": {
    "scrolled": true
   },
   "outputs": [
    {
     "data": {
      "text/plain": [
       "<All keys matched successfully>"
      ]
     },
     "execution_count": 7,
     "metadata": {},
     "output_type": "execute_result"
    }
   ],
   "source": [
    "my_model = RESCAL(triples_factory=training, random_seed=model_random_seed)\n",
    "my_model.load_state_dict(checkpoint['model_state_dict'])"
   ]
  },
  {
   "cell_type": "markdown",
   "metadata": {},
   "source": [
    "Common-sense check of the loss curves and validation metrics. To do this, we need to load in a pipeline result object, rather than just the model like we have above. The below code requires GPU, so make sure the Jupyter kernel is initialized with GPU."
   ]
  },
  {
   "cell_type": "code",
   "execution_count": 9,
   "metadata": {},
   "outputs": [],
   "source": [
    "# result = pipeline(training=training,\n",
    "#                   validation=validation,\n",
    "#                   testing=testing,\n",
    "#                   stopper='early',\n",
    "#                   model='RESCAL',\n",
    "#                   model_kwargs=dict(entity_initializer=\"normal\",\n",
    "#                       relation_initializer=\"normal\"),\n",
    "#                   loss=BCEWithLogitsLoss,\n",
    "#                   training_kwargs=dict(\n",
    "#                       num_epochs=25,\n",
    "#                       checkpoint_name=f'dt_rescal_{model_save_suffix}.pt',\n",
    "#                       checkpoint_frequency=0))"
   ]
  },
  {
   "cell_type": "code",
   "execution_count": 10,
   "metadata": {},
   "outputs": [],
   "source": [
    "# result.plot_losses()"
   ]
  },
  {
   "cell_type": "code",
   "execution_count": 11,
   "metadata": {},
   "outputs": [],
   "source": [
    "# result.plot_early_stopping()"
   ]
  },
  {
   "cell_type": "markdown",
   "metadata": {},
   "source": [
    "hits@K is very small, but since the losses plot looks relatively normal, I don't think there's much I can do about it in terms of HPO; so we will move ahead with this model."
   ]
  },
  {
   "cell_type": "markdown",
   "metadata": {},
   "source": [
    "### Genophenoenvo"
   ]
  },
  {
   "cell_type": "code",
   "execution_count": 12,
   "metadata": {},
   "outputs": [],
   "source": [
    "gpe_model_save_suffix = 'BCE_loss_normal_init'\n",
    "gpe_split_random_seed = 3420204272\n",
    "gpe_model_random_seed = 2979701214\n",
    "gpe_date = '12Jul2024'"
   ]
  },
  {
   "cell_type": "code",
   "execution_count": 13,
   "metadata": {},
   "outputs": [
    {
     "name": "stdout",
     "output_type": "stream",
     "text": [
      "Snapshot of triples: [['NCBITaxon:4577' 'biolink:has_phenotype' 'TO:0000207']\n",
      " ['NCBITaxon:4577' 'biolink:has_phenotype' 'TO:0000919']\n",
      " ['NCBITaxon:4577' 'biolink:has_phenotype' 'TO:0000396']\n",
      " ['NCBITaxon:4577' 'biolink:has_phenotype' 'TO:0000352']\n",
      " ['NCBITaxon:4577' 'biolink:has_phenotype' 'TO:0000478']]\n"
     ]
    }
   ],
   "source": [
    "gpe_graph = nx.read_graphml('../data/genophenoenvo/genophenoenvo_from_edge_and_nodelist.graphml')\n",
    "gpe_edgelist = nx.to_pandas_edgelist(gpe_graph)\n",
    "gpe_triples = gpe_edgelist[['source', 'predicate', 'target']].to_numpy()\n",
    "print(f'Snapshot of triples: {gpe_triples[:5]}')"
   ]
  },
  {
   "cell_type": "code",
   "execution_count": 14,
   "metadata": {},
   "outputs": [],
   "source": [
    "gpe_checkpoint = torch.load(PYKEEN_CHECKPOINTS.joinpath(f'gpe_rescal_{gpe_model_save_suffix}.pt'), map_location=torch.device('cpu'))"
   ]
  },
  {
   "cell_type": "code",
   "execution_count": 15,
   "metadata": {},
   "outputs": [],
   "source": [
    "gpe_tf = TriplesFactory.from_labeled_triples(gpe_triples,\n",
    "                                         create_inverse_triples=True,\n",
    "                                         entity_to_id=gpe_checkpoint['entity_to_id_dict'],\n",
    "                                         relation_to_id=gpe_checkpoint['relation_to_id_dict'])\n",
    "gpe_training, gpe_validation, gpe_testing = gpe_tf.split([0.8, 0.1, 0.1], random_state=gpe_split_random_seed)"
   ]
  },
  {
   "cell_type": "code",
   "execution_count": 16,
   "metadata": {},
   "outputs": [
    {
     "data": {
      "text/plain": [
       "<All keys matched successfully>"
      ]
     },
     "execution_count": 16,
     "metadata": {},
     "output_type": "execute_result"
    }
   ],
   "source": [
    "gpe_model = RESCAL(triples_factory=gpe_training, random_seed=gpe_model_random_seed)\n",
    "gpe_model.load_state_dict(gpe_checkpoint['model_state_dict'])"
   ]
  },
  {
   "cell_type": "code",
   "execution_count": 17,
   "metadata": {},
   "outputs": [],
   "source": [
    "## REQUIRES GPU\n",
    "# gpe_result = pipeline(training=gpe_training,\n",
    "#                   validation=gpe_validation,\n",
    "#                   testing=gpe_testing,\n",
    "#                   stopper='early',\n",
    "#                   model='RESCAL',\n",
    "#                   model_kwargs=dict(entity_initializer=\"normal\",\n",
    "#                       relation_initializer=\"normal\"),\n",
    "#                   loss=BCEWithLogitsLoss,\n",
    "#                   training_kwargs=dict(\n",
    "#                       num_epochs=25,\n",
    "#                       checkpoint_name=f'dt_rescal_{gpe_model_save_suffix}.pt',\n",
    "#                       checkpoint_frequency=0))"
   ]
  },
  {
   "cell_type": "code",
   "execution_count": 18,
   "metadata": {},
   "outputs": [],
   "source": [
    "# gpe_result.plot_losses()"
   ]
  },
  {
   "cell_type": "code",
   "execution_count": 19,
   "metadata": {},
   "outputs": [],
   "source": [
    "# gpe_result.plot_early_stopping()"
   ]
  },
  {
   "cell_type": "markdown",
   "metadata": {},
   "source": [
    "## Use embedding representations to make predictions\n",
    "Rather than use the built-in prediction capabilities of the embedding model (which I have previously found to be terrible), I would like to try taking the embeddings and using them in a RF model to start. The idea is to use the node embeddings as features, and try to predict new edges."
   ]
  },
  {
   "cell_type": "markdown",
   "metadata": {},
   "source": [
    "### Format training and testing data\n",
    "Fortunately, we've already got a data split for the positive triples, and we can just artificially construct negative instances to match the number we have for the train and test sets. We'll start out with 5,000 of each class; if the model performs poorly, we can add more training data.\n",
    "\n",
    "#### Get pairs for each class\n",
    "\n",
    "#### Drought + DT"
   ]
  },
  {
   "cell_type": "code",
   "execution_count": 20,
   "metadata": {},
   "outputs": [
    {
     "name": "stderr",
     "output_type": "stream",
     "text": [
      "Reconstructing all label-based triples. This is expensive and rarely needed.\n",
      "Reconstructing all label-based triples. This is expensive and rarely needed.\n"
     ]
    }
   ],
   "source": [
    "train_trips_semantic = training.triples\n",
    "test_trips_semantic = testing.triples"
   ]
  },
  {
   "cell_type": "code",
   "execution_count": 21,
   "metadata": {},
   "outputs": [
    {
     "name": "stdout",
     "output_type": "stream",
     "text": [
      "There are 1030709 training triples and 128839 testing triples.\n"
     ]
    }
   ],
   "source": [
    "print(f'There are {len(train_trips_semantic)} training triples and {len(test_trips_semantic)} testing triples.')"
   ]
  },
  {
   "cell_type": "code",
   "execution_count": 22,
   "metadata": {},
   "outputs": [
    {
     "data": {
      "text/plain": [
       "Counter({'drought': 952576, 'desiccation': 60182, 'both': 17951})"
      ]
     },
     "execution_count": 22,
     "metadata": {},
     "output_type": "execute_result"
    }
   ],
   "source": [
    "train_ent_types = Counter([t[1] for t in train_trips_semantic])\n",
    "train_ent_types"
   ]
  },
  {
   "cell_type": "code",
   "execution_count": 23,
   "metadata": {},
   "outputs": [
    {
     "data": {
      "text/plain": [
       "Counter({'drought': 119914, 'desiccation': 6930, 'both': 1995})"
      ]
     },
     "execution_count": 23,
     "metadata": {},
     "output_type": "execute_result"
    }
   ],
   "source": [
    "test_ent_types = Counter([t[1] for t in test_trips_semantic])\n",
    "test_ent_types"
   ]
  },
  {
   "cell_type": "code",
   "execution_count": 24,
   "metadata": {},
   "outputs": [],
   "source": [
    "def get_class_pairs(semantic_trips, num_inst=2000, types_to_exclude=None, sampling_method='corrupt', node_reps=None, ent_map=None, neg_balance='total'):\n",
    "    \"\"\"\n",
    "    Get triples for each of 'desiccation', 'drought', 'both', 'negative'.\n",
    "\n",
    "    parameters:\n",
    "        semantic_trips, list of list: triples\n",
    "        num_inst, int: number of instances to get for each class.\n",
    "        types_to_exclude, list of str: relation types that should be ignored.\n",
    "        sampling_method, str: 'corrupt', 'random', 'distance'\n",
    "        node_reps, dict: node representations, only required if sampling_method == 'embedding'\n",
    "        ent_map, dict: mapping from entity names to id's, only required if sampling_method == 'embedding'\n",
    "        neg_balance, str: 'total' gives n_classes*num_inst negative samples, 'one' gives num_inst number\n",
    "            of negative samples\n",
    "\n",
    "    returns:\n",
    "        data, dict: keys are class names, values are pairs for the class.\n",
    "    \"\"\"\n",
    "    types_to_exclude = [] if types_to_exclude is None else types_to_exclude\n",
    "    \n",
    "    # If any of the types have less than the required instances, check here\n",
    "    type_counts = Counter([t[1] for t in semantic_trips])\n",
    "    too_few = {k: v for k, v in type_counts.items() if (v < num_inst) and (k not in types_to_exclude)}\n",
    "    if len(too_few) > 0:\n",
    "        print(f'{len(too_few)} entity types have less than the requested number of instances. They will '\n",
    "         'be returned with the number that they have.')\n",
    "    length_check = {}\n",
    "    \n",
    "    # Get positive instances\n",
    "    positives = defaultdict(list)\n",
    "    for trip in semantic_trips:\n",
    "        trip_type = trip[1]\n",
    "        if trip_type not in types_to_exclude:\n",
    "            if len(positives[trip_type]) < num_inst:\n",
    "                positives[trip_type].append((trip[0], trip[2]))\n",
    "            else:\n",
    "                if len(too_few) == 0:\n",
    "                    if sum([len(v) for v in positives.values()]) == num_inst*len(positives.keys()):\n",
    "                        break\n",
    "                else:\n",
    "                    short_finished = [True if len(positives[k]) == too_few[k] else False for k in too_few.keys()]\n",
    "                    long_finished = [True if (k not in too_few.keys()) and (len(positives[k]) == num_inst) else False for k in positives.keys()]\n",
    "                    if all(short_finished) and all(long_finished):\n",
    "                        break\n",
    "    \n",
    "    # Generate negative instances\n",
    "    all_ents = list(set([trip[0] for trip in semantic_trips] + [trip[2] for trip in semantic_trips]))\n",
    "    if sampling_method == 'random':\n",
    "        negs = []\n",
    "        for pair in combinations(all_ents, 2):\n",
    "            not_pos = True\n",
    "            for r_type, pairs in data.items():\n",
    "                if pair in pairs:\n",
    "                    not_pos = False\n",
    "                elif (pair[1], pair[0]) in pairs:\n",
    "                    not_pos = False\n",
    "            if not_pos:\n",
    "                negs.append(pair)\n",
    "            if len(negs) == sum([len(v) for v in positives.values()]):\n",
    "                break\n",
    "\n",
    "    elif sampling_method == 'corrupt': # Currently implemented for tail-only corruption\n",
    "        negs = defaultdict(list)\n",
    "        for trip_type, pos_trips in tqdm(positives.items()):\n",
    "            for pos_t in pos_trips:\n",
    "                head = pos_t[0]\n",
    "                old_tail = pos_t[1]\n",
    "                is_neg = False\n",
    "                while not is_neg:\n",
    "                    new_tail = choice(all_ents)\n",
    "                    if ((head, new_tail) not in pos_trips) and ((head, new_tail) not in negs[trip_type]): \n",
    "                        is_neg = True\n",
    "                neg_trip = (head, new_tail)\n",
    "                negs[trip_type].append(neg_trip)\n",
    "    \n",
    "    elif sampling_method == 'embedding':\n",
    "        rev_ent_map = {v: k for k, v in ent_map.items()}\n",
    "        negs = defaultdict(list)\n",
    "        for trip_type, pos_trips in tqdm(positives.items()):\n",
    "            # For each triple\n",
    "            num_class_negs = 0\n",
    "            for pos_t in pos_trips:\n",
    "                # Randomly sample 50 possible replacement tails\n",
    "                possible_tails = sample(all_ents, 500)\n",
    "                # Remove any that are the same as the current tail\n",
    "                possible_tails = [t for t in possible_tails if t != pos_t[1]]\n",
    "                # Get embedding subset for these tails\n",
    "                orig_idxs = [ent_map[t] for t in possible_tails]\n",
    "                tail_reps = node_reps[orig_idxs]\n",
    "                orig_tail_rep = node_reps[ent_map[pos_t[1]]].detach().numpy()\n",
    "                # Calculate euclidean distance between original and possible new tails\n",
    "                euc_dist = cdist([orig_tail_rep], tail_reps.detach().numpy())\n",
    "                # Calculate the softmax probabilities on these distances\n",
    "                prob_mat = softmax(1/euc_dist)\n",
    "                # Get the top five and choose one at random\n",
    "                top_5_flat_ind = np.argpartition(prob_mat.flatten(), -5)[-5:]\n",
    "                chosen_checked = False\n",
    "                while not chosen_checked:\n",
    "                    chosen_flat_ind = choice(top_5_flat_ind)\n",
    "                    # Convert back to the entities that generated this score\n",
    "                    chosen_tail_actual_ind = orig_idxs[chosen_flat_ind]\n",
    "                    chosen_tail_semantic = rev_ent_map[chosen_tail_actual_ind]\n",
    "                    # Check if negative triple already isin negative set, if so choose again\n",
    "                    neg_trip = (pos_t[0], chosen_tail_semantic)\n",
    "                    if neg_trip not in negs[trip_type]:\n",
    "                        chosen_checked = True\n",
    "                negs[trip_type].append(neg_trip)\n",
    "                num_class_negs += 1\n",
    "                if neg_balance == 'one':\n",
    "                    if num_class_negs == len(pos_trips)//len(positives):\n",
    "                        break\n",
    "\n",
    "    data = {'positives': positives, 'negatives': negs}\n",
    "\n",
    "    return data"
   ]
  },
  {
   "cell_type": "code",
   "execution_count": 25,
   "metadata": {},
   "outputs": [
    {
     "name": "stderr",
     "output_type": "stream",
     "text": [
      "100%|██████████| 3/3 [00:06<00:00,  2.10s/it]\n"
     ]
    }
   ],
   "source": [
    "train_pairs = get_class_pairs(train_trips_semantic, num_inst=2000, sampling_method='embedding', node_reps=my_model.entity_representations[0](), ent_map=checkpoint['entity_to_id_dict'], neg_balance='total')"
   ]
  },
  {
   "cell_type": "code",
   "execution_count": 26,
   "metadata": {},
   "outputs": [
    {
     "name": "stderr",
     "output_type": "stream",
     "text": [
      "100%|██████████| 3/3 [00:00<00:00,  3.17it/s]\n"
     ]
    }
   ],
   "source": [
    "test_pairs = get_class_pairs(test_trips_semantic, num_inst=1000, sampling_method='embedding', node_reps=my_model.entity_representations[0](), ent_map=checkpoint['entity_to_id_dict'], neg_balance='one')"
   ]
  },
  {
   "cell_type": "markdown",
   "metadata": {},
   "source": [
    "#### Genophenoenvo"
   ]
  },
  {
   "cell_type": "code",
   "execution_count": 27,
   "metadata": {},
   "outputs": [
    {
     "name": "stderr",
     "output_type": "stream",
     "text": [
      "Reconstructing all label-based triples. This is expensive and rarely needed.\n",
      "Reconstructing all label-based triples. This is expensive and rarely needed.\n"
     ]
    }
   ],
   "source": [
    "gpe_train_trips_semantic = gpe_training.triples\n",
    "gpe_test_trips_semantic = gpe_testing.triples"
   ]
  },
  {
   "cell_type": "code",
   "execution_count": 28,
   "metadata": {},
   "outputs": [
    {
     "name": "stdout",
     "output_type": "stream",
     "text": [
      "There are 4255085 training triples and 531886 testing triples.\n"
     ]
    }
   ],
   "source": [
    "print(f'There are {len(gpe_train_trips_semantic)} training triples and {len(gpe_test_trips_semantic)} testing triples.')"
   ]
  },
  {
   "cell_type": "code",
   "execution_count": 29,
   "metadata": {},
   "outputs": [
    {
     "data": {
      "text/plain": [
       "Counter({'biolink:has_phenotype': 2010224,\n",
       "         'biolink:expressed_in': 1104550,\n",
       "         'biolink:in_taxon': 302807,\n",
       "         'biolink:enables': 278866,\n",
       "         'biolink:regulates': 231172,\n",
       "         'biolink:active_in': 157802,\n",
       "         'biolink:subclass_of': 85033,\n",
       "         'biolink:orthologous_to': 67480,\n",
       "         'biolink:part_of': 7073,\n",
       "         'biolink:negatively_regulates': 2762,\n",
       "         'biolink:positively_regulates': 2346,\n",
       "         'biolink:increases_expression_of': 2110,\n",
       "         'biolink:decreases_expression_of': 1863,\n",
       "         'biolink:has_attribute': 247,\n",
       "         'biolink:related_to': 170,\n",
       "         'biolink:develops_from': 130,\n",
       "         'biolink:subPropertyOf': 129,\n",
       "         'biolink:has_part': 120,\n",
       "         'biolink:interacts_with': 90,\n",
       "         'biolink:inverseOf': 31,\n",
       "         'biolink:participates_in': 22,\n",
       "         'biolink:preceded_by': 18,\n",
       "         'biolink:has_participant': 17,\n",
       "         'biolink:coexists_with': 13,\n",
       "         'biolink:located_in': 3,\n",
       "         'biolink:causes': 2,\n",
       "         'biolink:precedes': 2,\n",
       "         'biolink:occurs_in': 1,\n",
       "         'biolink:produces': 1,\n",
       "         ' Nitrate-Inducible': 1})"
      ]
     },
     "execution_count": 29,
     "metadata": {},
     "output_type": "execute_result"
    }
   ],
   "source": [
    "gpe_train_ent_types = Counter([t[1] for t in gpe_train_trips_semantic])\n",
    "gpe_train_ent_types"
   ]
  },
  {
   "cell_type": "code",
   "execution_count": 30,
   "metadata": {},
   "outputs": [
    {
     "data": {
      "text/plain": [
       "Counter({'biolink:has_phenotype': 275597,\n",
       "         'biolink:expressed_in': 152438,\n",
       "         'biolink:regulates': 29407,\n",
       "         'biolink:enables': 27283,\n",
       "         'biolink:active_in': 19483,\n",
       "         'biolink:in_taxon': 18785,\n",
       "         'biolink:subclass_of': 5928,\n",
       "         'biolink:orthologous_to': 2234,\n",
       "         'biolink:part_of': 443,\n",
       "         'biolink:positively_regulates': 217,\n",
       "         'biolink:increases_expression_of': 16,\n",
       "         'biolink:has_attribute': 14,\n",
       "         'biolink:interacts_with': 7,\n",
       "         'biolink:related_to': 7,\n",
       "         'biolink:subPropertyOf': 7,\n",
       "         'biolink:has_part': 6,\n",
       "         'biolink:participates_in': 4,\n",
       "         'biolink:decreases_expression_of': 3,\n",
       "         'biolink:develops_from': 2,\n",
       "         'biolink:has_participant': 2,\n",
       "         'biolink:located_in': 1,\n",
       "         'biolink:preceded_by': 1,\n",
       "         'biolink:negatively_regulates': 1})"
      ]
     },
     "execution_count": 30,
     "metadata": {},
     "output_type": "execute_result"
    }
   ],
   "source": [
    "gpe_test_ent_types = Counter([t[1] for t in gpe_test_trips_semantic])\n",
    "gpe_test_ent_types"
   ]
  },
  {
   "cell_type": "markdown",
   "metadata": {},
   "source": [
    "We'll remove triples from training for classes with less than 2,000 to make sure the model is more or less directly comparable to the drought + DT model."
   ]
  },
  {
   "cell_type": "code",
   "execution_count": 31,
   "metadata": {},
   "outputs": [],
   "source": [
    "types_to_exclude = [k for k, v in gpe_train_ent_types.items() if v < 2000]"
   ]
  },
  {
   "cell_type": "code",
   "execution_count": 43,
   "metadata": {},
   "outputs": [
    {
     "name": "stderr",
     "output_type": "stream",
     "text": [
      "100%|██████████| 12/12 [00:28<00:00,  2.39s/it]\n"
     ]
    }
   ],
   "source": [
    "gpe_train_pairs = get_class_pairs(gpe_train_trips_semantic, num_inst=2000, types_to_exclude=types_to_exclude, sampling_method='embedding', node_reps=gpe_model.entity_representations[0](), ent_map=gpe_checkpoint['entity_to_id_dict'], neg_balance='total')"
   ]
  },
  {
   "cell_type": "code",
   "execution_count": 44,
   "metadata": {},
   "outputs": [
    {
     "name": "stdout",
     "output_type": "stream",
     "text": [
      "4 entity types have less than the requested number of instances. They will be returned with the number that they have.\n"
     ]
    },
    {
     "name": "stderr",
     "output_type": "stream",
     "text": [
      "100%|██████████| 12/12 [00:00<00:00, 14.57it/s]\n"
     ]
    }
   ],
   "source": [
    "gpe_test_pairs = get_class_pairs(gpe_test_trips_semantic, num_inst=1000, types_to_exclude=types_to_exclude,sampling_method='embedding', node_reps=gpe_model.entity_representations[0](), ent_map=gpe_checkpoint['entity_to_id_dict'], neg_balance='one')"
   ]
  },
  {
   "cell_type": "markdown",
   "metadata": {},
   "source": [
    "#### Get features for each pair\n",
    "Now we need to wrangle the embeddings for each pair. we're going to make 100 features, one for each column of the embedding for each node.\n",
    "#### Drought + DT"
   ]
  },
  {
   "cell_type": "code",
   "execution_count": 45,
   "metadata": {},
   "outputs": [],
   "source": [
    "node_reps = my_model.entity_representations[0]()"
   ]
  },
  {
   "cell_type": "code",
   "execution_count": 46,
   "metadata": {},
   "outputs": [],
   "source": [
    "ent_map = checkpoint['entity_to_id_dict']"
   ]
  },
  {
   "cell_type": "code",
   "execution_count": 47,
   "metadata": {},
   "outputs": [],
   "source": [
    "label_map = {\n",
    "    'desiccation': 1,\n",
    "    'drought': 2,\n",
    "    'both': 3,\n",
    "    'negative': 0\n",
    "}"
   ]
  },
  {
   "cell_type": "code",
   "execution_count": 48,
   "metadata": {},
   "outputs": [],
   "source": [
    "# Flatten the training pairs dict\n",
    "train_pairs_flattened = {k: v for k, v in train_pairs['positives'].items()}\n",
    "train_pairs_flattened['negative'] = [t for t_list in train_pairs['negatives'].values() for t in t_list]"
   ]
  },
  {
   "cell_type": "code",
   "execution_count": 49,
   "metadata": {},
   "outputs": [
    {
     "data": {
      "text/html": [
       "<div>\n",
       "<style scoped>\n",
       "    .dataframe tbody tr th:only-of-type {\n",
       "        vertical-align: middle;\n",
       "    }\n",
       "\n",
       "    .dataframe tbody tr th {\n",
       "        vertical-align: top;\n",
       "    }\n",
       "\n",
       "    .dataframe thead th {\n",
       "        text-align: right;\n",
       "    }\n",
       "</style>\n",
       "<table border=\"1\" class=\"dataframe\">\n",
       "  <thead>\n",
       "    <tr style=\"text-align: right;\">\n",
       "      <th></th>\n",
       "      <th>0</th>\n",
       "      <th>1</th>\n",
       "      <th>2</th>\n",
       "      <th>3</th>\n",
       "      <th>4</th>\n",
       "      <th>5</th>\n",
       "      <th>6</th>\n",
       "      <th>7</th>\n",
       "      <th>8</th>\n",
       "      <th>9</th>\n",
       "      <th>...</th>\n",
       "      <th>91</th>\n",
       "      <th>92</th>\n",
       "      <th>93</th>\n",
       "      <th>94</th>\n",
       "      <th>95</th>\n",
       "      <th>96</th>\n",
       "      <th>97</th>\n",
       "      <th>98</th>\n",
       "      <th>99</th>\n",
       "      <th>label</th>\n",
       "    </tr>\n",
       "  </thead>\n",
       "  <tbody>\n",
       "    <tr>\n",
       "      <th>(' chardonnay ' cultivar, chardonnay ' cultivar)</th>\n",
       "      <td>1.740883e-03</td>\n",
       "      <td>2.770426e-02</td>\n",
       "      <td>2.539003e-02</td>\n",
       "      <td>-6.882164e-03</td>\n",
       "      <td>2.838965e-02</td>\n",
       "      <td>-0.012256</td>\n",
       "      <td>1.433492e-02</td>\n",
       "      <td>2.851198e-02</td>\n",
       "      <td>-2.810435e-02</td>\n",
       "      <td>-2.715552e-02</td>\n",
       "      <td>...</td>\n",
       "      <td>0.007162</td>\n",
       "      <td>-0.020816</td>\n",
       "      <td>0.009660</td>\n",
       "      <td>0.009441</td>\n",
       "      <td>0.010995</td>\n",
       "      <td>0.019298</td>\n",
       "      <td>-0.018030</td>\n",
       "      <td>0.019362</td>\n",
       "      <td>0.008924</td>\n",
       "      <td>2</td>\n",
       "    </tr>\n",
       "    <tr>\n",
       "      <th>(' flecha ' tall fescue, flecha ' tall fescue)</th>\n",
       "      <td>-1.093184e-02</td>\n",
       "      <td>9.014312e-03</td>\n",
       "      <td>-1.225719e-02</td>\n",
       "      <td>-1.209735e-02</td>\n",
       "      <td>1.090216e-02</td>\n",
       "      <td>-0.008206</td>\n",
       "      <td>1.247892e-02</td>\n",
       "      <td>-1.255463e-02</td>\n",
       "      <td>-7.989907e-03</td>\n",
       "      <td>1.249873e-02</td>\n",
       "      <td>...</td>\n",
       "      <td>-0.010436</td>\n",
       "      <td>0.001353</td>\n",
       "      <td>-0.019573</td>\n",
       "      <td>0.002547</td>\n",
       "      <td>-0.003511</td>\n",
       "      <td>-0.000799</td>\n",
       "      <td>-0.014790</td>\n",
       "      <td>0.015650</td>\n",
       "      <td>-0.009178</td>\n",
       "      <td>2</td>\n",
       "    </tr>\n",
       "    <tr>\n",
       "      <th>(aba, alfalfa se)</th>\n",
       "      <td>-2.133346e-08</td>\n",
       "      <td>-3.812286e-09</td>\n",
       "      <td>-1.457356e-08</td>\n",
       "      <td>2.154322e-08</td>\n",
       "      <td>3.420884e-07</td>\n",
       "      <td>-0.000045</td>\n",
       "      <td>-4.845617e-10</td>\n",
       "      <td>5.579172e-07</td>\n",
       "      <td>7.418104e-09</td>\n",
       "      <td>-5.647617e-09</td>\n",
       "      <td>...</td>\n",
       "      <td>-0.013111</td>\n",
       "      <td>-0.013112</td>\n",
       "      <td>-0.013112</td>\n",
       "      <td>0.013111</td>\n",
       "      <td>0.013111</td>\n",
       "      <td>-0.013111</td>\n",
       "      <td>0.013112</td>\n",
       "      <td>-0.013111</td>\n",
       "      <td>-0.013112</td>\n",
       "      <td>1</td>\n",
       "    </tr>\n",
       "    <tr>\n",
       "      <th>(1167092, rice glycine-rich protein 3)</th>\n",
       "      <td>6.881293e-03</td>\n",
       "      <td>4.302144e-03</td>\n",
       "      <td>-3.104980e-04</td>\n",
       "      <td>8.499772e-03</td>\n",
       "      <td>6.029476e-03</td>\n",
       "      <td>-0.004141</td>\n",
       "      <td>5.071444e-03</td>\n",
       "      <td>5.610129e-03</td>\n",
       "      <td>4.985393e-03</td>\n",
       "      <td>-4.923116e-03</td>\n",
       "      <td>...</td>\n",
       "      <td>0.003199</td>\n",
       "      <td>0.003283</td>\n",
       "      <td>-0.002241</td>\n",
       "      <td>-0.003146</td>\n",
       "      <td>-0.003158</td>\n",
       "      <td>0.003182</td>\n",
       "      <td>-0.003076</td>\n",
       "      <td>-0.003031</td>\n",
       "      <td>-0.002596</td>\n",
       "      <td>0</td>\n",
       "    </tr>\n",
       "    <tr>\n",
       "      <th>(aba, scdreb9)</th>\n",
       "      <td>-2.133346e-08</td>\n",
       "      <td>-3.812286e-09</td>\n",
       "      <td>-1.457356e-08</td>\n",
       "      <td>2.154322e-08</td>\n",
       "      <td>3.420884e-07</td>\n",
       "      <td>-0.000045</td>\n",
       "      <td>-4.845617e-10</td>\n",
       "      <td>5.579172e-07</td>\n",
       "      <td>7.418104e-09</td>\n",
       "      <td>-5.647617e-09</td>\n",
       "      <td>...</td>\n",
       "      <td>-0.000426</td>\n",
       "      <td>-0.003880</td>\n",
       "      <td>0.009359</td>\n",
       "      <td>0.020956</td>\n",
       "      <td>0.005574</td>\n",
       "      <td>0.000151</td>\n",
       "      <td>-0.003280</td>\n",
       "      <td>0.022138</td>\n",
       "      <td>-0.009671</td>\n",
       "      <td>3</td>\n",
       "    </tr>\n",
       "  </tbody>\n",
       "</table>\n",
       "<p>5 rows × 101 columns</p>\n",
       "</div>"
      ],
      "text/plain": [
       "                                                             0             1  \\\n",
       "(' chardonnay ' cultivar, chardonnay ' cultivar)  1.740883e-03  2.770426e-02   \n",
       "(' flecha ' tall fescue, flecha ' tall fescue)   -1.093184e-02  9.014312e-03   \n",
       "(aba, alfalfa se)                                -2.133346e-08 -3.812286e-09   \n",
       "(1167092, rice glycine-rich protein 3)            6.881293e-03  4.302144e-03   \n",
       "(aba, scdreb9)                                   -2.133346e-08 -3.812286e-09   \n",
       "\n",
       "                                                             2             3  \\\n",
       "(' chardonnay ' cultivar, chardonnay ' cultivar)  2.539003e-02 -6.882164e-03   \n",
       "(' flecha ' tall fescue, flecha ' tall fescue)   -1.225719e-02 -1.209735e-02   \n",
       "(aba, alfalfa se)                                -1.457356e-08  2.154322e-08   \n",
       "(1167092, rice glycine-rich protein 3)           -3.104980e-04  8.499772e-03   \n",
       "(aba, scdreb9)                                   -1.457356e-08  2.154322e-08   \n",
       "\n",
       "                                                             4         5  \\\n",
       "(' chardonnay ' cultivar, chardonnay ' cultivar)  2.838965e-02 -0.012256   \n",
       "(' flecha ' tall fescue, flecha ' tall fescue)    1.090216e-02 -0.008206   \n",
       "(aba, alfalfa se)                                 3.420884e-07 -0.000045   \n",
       "(1167092, rice glycine-rich protein 3)            6.029476e-03 -0.004141   \n",
       "(aba, scdreb9)                                    3.420884e-07 -0.000045   \n",
       "\n",
       "                                                             6             7  \\\n",
       "(' chardonnay ' cultivar, chardonnay ' cultivar)  1.433492e-02  2.851198e-02   \n",
       "(' flecha ' tall fescue, flecha ' tall fescue)    1.247892e-02 -1.255463e-02   \n",
       "(aba, alfalfa se)                                -4.845617e-10  5.579172e-07   \n",
       "(1167092, rice glycine-rich protein 3)            5.071444e-03  5.610129e-03   \n",
       "(aba, scdreb9)                                   -4.845617e-10  5.579172e-07   \n",
       "\n",
       "                                                             8             9  \\\n",
       "(' chardonnay ' cultivar, chardonnay ' cultivar) -2.810435e-02 -2.715552e-02   \n",
       "(' flecha ' tall fescue, flecha ' tall fescue)   -7.989907e-03  1.249873e-02   \n",
       "(aba, alfalfa se)                                 7.418104e-09 -5.647617e-09   \n",
       "(1167092, rice glycine-rich protein 3)            4.985393e-03 -4.923116e-03   \n",
       "(aba, scdreb9)                                    7.418104e-09 -5.647617e-09   \n",
       "\n",
       "                                                  ...        91        92  \\\n",
       "(' chardonnay ' cultivar, chardonnay ' cultivar)  ...  0.007162 -0.020816   \n",
       "(' flecha ' tall fescue, flecha ' tall fescue)    ... -0.010436  0.001353   \n",
       "(aba, alfalfa se)                                 ... -0.013111 -0.013112   \n",
       "(1167092, rice glycine-rich protein 3)            ...  0.003199  0.003283   \n",
       "(aba, scdreb9)                                    ... -0.000426 -0.003880   \n",
       "\n",
       "                                                        93        94  \\\n",
       "(' chardonnay ' cultivar, chardonnay ' cultivar)  0.009660  0.009441   \n",
       "(' flecha ' tall fescue, flecha ' tall fescue)   -0.019573  0.002547   \n",
       "(aba, alfalfa se)                                -0.013112  0.013111   \n",
       "(1167092, rice glycine-rich protein 3)           -0.002241 -0.003146   \n",
       "(aba, scdreb9)                                    0.009359  0.020956   \n",
       "\n",
       "                                                        95        96  \\\n",
       "(' chardonnay ' cultivar, chardonnay ' cultivar)  0.010995  0.019298   \n",
       "(' flecha ' tall fescue, flecha ' tall fescue)   -0.003511 -0.000799   \n",
       "(aba, alfalfa se)                                 0.013111 -0.013111   \n",
       "(1167092, rice glycine-rich protein 3)           -0.003158  0.003182   \n",
       "(aba, scdreb9)                                    0.005574  0.000151   \n",
       "\n",
       "                                                        97        98  \\\n",
       "(' chardonnay ' cultivar, chardonnay ' cultivar) -0.018030  0.019362   \n",
       "(' flecha ' tall fescue, flecha ' tall fescue)   -0.014790  0.015650   \n",
       "(aba, alfalfa se)                                 0.013112 -0.013111   \n",
       "(1167092, rice glycine-rich protein 3)           -0.003076 -0.003031   \n",
       "(aba, scdreb9)                                   -0.003280  0.022138   \n",
       "\n",
       "                                                        99  label  \n",
       "(' chardonnay ' cultivar, chardonnay ' cultivar)  0.008924      2  \n",
       "(' flecha ' tall fescue, flecha ' tall fescue)   -0.009178      2  \n",
       "(aba, alfalfa se)                                -0.013112      1  \n",
       "(1167092, rice glycine-rich protein 3)           -0.002596      0  \n",
       "(aba, scdreb9)                                   -0.009671      3  \n",
       "\n",
       "[5 rows x 101 columns]"
      ]
     },
     "execution_count": 49,
     "metadata": {},
     "output_type": "execute_result"
    }
   ],
   "source": [
    "all_train_feat_dfs = []\n",
    "for lab, pair_list in train_pairs_flattened.items():\n",
    "    class_feats = {}\n",
    "    for pair in pair_list:\n",
    "        feats = node_reps[ent_map[pair[0]]].tolist()\n",
    "        feats.extend(node_reps[ent_map[pair[1]]].tolist())\n",
    "        class_feats[pair] = feats\n",
    "    class_df = pd.DataFrame.from_dict(class_feats, orient='index')\n",
    "    class_df['label'] = label_map[lab]\n",
    "    all_train_feat_dfs.append(class_df)\n",
    "train_df = pd.concat(all_train_feat_dfs).sample(frac=1) # Shuffle the data\n",
    "train_df.head()"
   ]
  },
  {
   "cell_type": "code",
   "execution_count": 50,
   "metadata": {},
   "outputs": [],
   "source": [
    "# Flatten the testing pairs dict\n",
    "test_pairs_flattened = {k: v for k, v in test_pairs['positives'].items()}\n",
    "test_pairs_flattened['negative'] = [t for t_list in test_pairs['negatives'].values() for t in t_list]"
   ]
  },
  {
   "cell_type": "code",
   "execution_count": 51,
   "metadata": {},
   "outputs": [
    {
     "data": {
      "text/html": [
       "<div>\n",
       "<style scoped>\n",
       "    .dataframe tbody tr th:only-of-type {\n",
       "        vertical-align: middle;\n",
       "    }\n",
       "\n",
       "    .dataframe tbody tr th {\n",
       "        vertical-align: top;\n",
       "    }\n",
       "\n",
       "    .dataframe thead th {\n",
       "        text-align: right;\n",
       "    }\n",
       "</style>\n",
       "<table border=\"1\" class=\"dataframe\">\n",
       "  <thead>\n",
       "    <tr style=\"text-align: right;\">\n",
       "      <th></th>\n",
       "      <th>0</th>\n",
       "      <th>1</th>\n",
       "      <th>2</th>\n",
       "      <th>3</th>\n",
       "      <th>4</th>\n",
       "      <th>5</th>\n",
       "      <th>6</th>\n",
       "      <th>7</th>\n",
       "      <th>8</th>\n",
       "      <th>9</th>\n",
       "      <th>...</th>\n",
       "      <th>91</th>\n",
       "      <th>92</th>\n",
       "      <th>93</th>\n",
       "      <th>94</th>\n",
       "      <th>95</th>\n",
       "      <th>96</th>\n",
       "      <th>97</th>\n",
       "      <th>98</th>\n",
       "      <th>99</th>\n",
       "      <th>label</th>\n",
       "    </tr>\n",
       "  </thead>\n",
       "  <tbody>\n",
       "    <tr>\n",
       "      <th>(rice plants, aba-dependent drought-stress responses)</th>\n",
       "      <td>4.749376e-06</td>\n",
       "      <td>1.113901e-03</td>\n",
       "      <td>-9.559430e-08</td>\n",
       "      <td>1.905497e-05</td>\n",
       "      <td>3.285814e-08</td>\n",
       "      <td>-2.203165e-07</td>\n",
       "      <td>-7.611700e-08</td>\n",
       "      <td>1.248439e-06</td>\n",
       "      <td>-7.821193e-07</td>\n",
       "      <td>-3.282532e-03</td>\n",
       "      <td>...</td>\n",
       "      <td>-0.003151</td>\n",
       "      <td>-0.000205</td>\n",
       "      <td>0.004479</td>\n",
       "      <td>4.462483e-03</td>\n",
       "      <td>1.844647e-03</td>\n",
       "      <td>-4.577338e-03</td>\n",
       "      <td>-0.002425</td>\n",
       "      <td>-0.003269</td>\n",
       "      <td>2.293582e-03</td>\n",
       "      <td>2</td>\n",
       "    </tr>\n",
       "    <tr>\n",
       "      <th>(sa, ethylene)</th>\n",
       "      <td>-8.379001e-05</td>\n",
       "      <td>1.952894e-04</td>\n",
       "      <td>3.178681e-08</td>\n",
       "      <td>9.366983e-05</td>\n",
       "      <td>2.781926e-07</td>\n",
       "      <td>2.654018e-04</td>\n",
       "      <td>3.071964e-08</td>\n",
       "      <td>6.462994e-07</td>\n",
       "      <td>-4.163196e-09</td>\n",
       "      <td>4.517856e-07</td>\n",
       "      <td>...</td>\n",
       "      <td>0.000498</td>\n",
       "      <td>-0.000062</td>\n",
       "      <td>0.000005</td>\n",
       "      <td>1.486382e-07</td>\n",
       "      <td>2.715398e-07</td>\n",
       "      <td>-5.535634e-08</td>\n",
       "      <td>0.000006</td>\n",
       "      <td>0.000017</td>\n",
       "      <td>5.611780e-07</td>\n",
       "      <td>3</td>\n",
       "    </tr>\n",
       "    <tr>\n",
       "      <th>(abscisic acid, fusarium graminearum infection)</th>\n",
       "      <td>1.067913e-08</td>\n",
       "      <td>2.853972e-08</td>\n",
       "      <td>7.365415e-06</td>\n",
       "      <td>-2.040299e-09</td>\n",
       "      <td>1.701810e-08</td>\n",
       "      <td>1.203398e-06</td>\n",
       "      <td>-5.315956e-04</td>\n",
       "      <td>2.358211e-05</td>\n",
       "      <td>-1.293223e-05</td>\n",
       "      <td>-2.509674e-09</td>\n",
       "      <td>...</td>\n",
       "      <td>0.000131</td>\n",
       "      <td>-0.000219</td>\n",
       "      <td>-0.010186</td>\n",
       "      <td>3.700431e-04</td>\n",
       "      <td>-8.709993e-03</td>\n",
       "      <td>3.743415e-03</td>\n",
       "      <td>-0.002239</td>\n",
       "      <td>-0.004199</td>\n",
       "      <td>1.473144e-03</td>\n",
       "      <td>3</td>\n",
       "    </tr>\n",
       "    <tr>\n",
       "      <th>(transgenic arabidopsis, rice c2h2-type zinc finger protein)</th>\n",
       "      <td>3.256147e-05</td>\n",
       "      <td>-1.217094e-05</td>\n",
       "      <td>-2.025986e-03</td>\n",
       "      <td>5.381643e-05</td>\n",
       "      <td>-1.142618e-07</td>\n",
       "      <td>8.406031e-04</td>\n",
       "      <td>-5.786394e-04</td>\n",
       "      <td>-2.335612e-05</td>\n",
       "      <td>8.507107e-06</td>\n",
       "      <td>-8.003868e-03</td>\n",
       "      <td>...</td>\n",
       "      <td>0.014517</td>\n",
       "      <td>0.015290</td>\n",
       "      <td>0.014177</td>\n",
       "      <td>1.550642e-02</td>\n",
       "      <td>1.871429e-02</td>\n",
       "      <td>-1.595969e-02</td>\n",
       "      <td>-0.013048</td>\n",
       "      <td>-0.017297</td>\n",
       "      <td>-1.714918e-02</td>\n",
       "      <td>2</td>\n",
       "    </tr>\n",
       "    <tr>\n",
       "      <th>(grasses, wboxhviso1 motif)</th>\n",
       "      <td>-5.942216e-09</td>\n",
       "      <td>3.843910e-07</td>\n",
       "      <td>-8.483461e-04</td>\n",
       "      <td>5.601859e-04</td>\n",
       "      <td>-3.635243e-03</td>\n",
       "      <td>-7.875950e-07</td>\n",
       "      <td>2.635369e-05</td>\n",
       "      <td>5.150494e-05</td>\n",
       "      <td>1.926418e-06</td>\n",
       "      <td>-1.629311e-05</td>\n",
       "      <td>...</td>\n",
       "      <td>-0.001749</td>\n",
       "      <td>0.001617</td>\n",
       "      <td>-0.001510</td>\n",
       "      <td>1.493595e-03</td>\n",
       "      <td>1.733180e-03</td>\n",
       "      <td>-1.804292e-03</td>\n",
       "      <td>0.001864</td>\n",
       "      <td>0.001811</td>\n",
       "      <td>1.868727e-03</td>\n",
       "      <td>0</td>\n",
       "    </tr>\n",
       "  </tbody>\n",
       "</table>\n",
       "<p>5 rows × 101 columns</p>\n",
       "</div>"
      ],
      "text/plain": [
       "                                                               0  \\\n",
       "(rice plants, aba-dependent drought-stress resp...  4.749376e-06   \n",
       "(sa, ethylene)                                     -8.379001e-05   \n",
       "(abscisic acid, fusarium graminearum infection)     1.067913e-08   \n",
       "(transgenic arabidopsis, rice c2h2-type zinc fi...  3.256147e-05   \n",
       "(grasses, wboxhviso1 motif)                        -5.942216e-09   \n",
       "\n",
       "                                                               1  \\\n",
       "(rice plants, aba-dependent drought-stress resp...  1.113901e-03   \n",
       "(sa, ethylene)                                      1.952894e-04   \n",
       "(abscisic acid, fusarium graminearum infection)     2.853972e-08   \n",
       "(transgenic arabidopsis, rice c2h2-type zinc fi... -1.217094e-05   \n",
       "(grasses, wboxhviso1 motif)                         3.843910e-07   \n",
       "\n",
       "                                                               2  \\\n",
       "(rice plants, aba-dependent drought-stress resp... -9.559430e-08   \n",
       "(sa, ethylene)                                      3.178681e-08   \n",
       "(abscisic acid, fusarium graminearum infection)     7.365415e-06   \n",
       "(transgenic arabidopsis, rice c2h2-type zinc fi... -2.025986e-03   \n",
       "(grasses, wboxhviso1 motif)                        -8.483461e-04   \n",
       "\n",
       "                                                               3  \\\n",
       "(rice plants, aba-dependent drought-stress resp...  1.905497e-05   \n",
       "(sa, ethylene)                                      9.366983e-05   \n",
       "(abscisic acid, fusarium graminearum infection)    -2.040299e-09   \n",
       "(transgenic arabidopsis, rice c2h2-type zinc fi...  5.381643e-05   \n",
       "(grasses, wboxhviso1 motif)                         5.601859e-04   \n",
       "\n",
       "                                                               4  \\\n",
       "(rice plants, aba-dependent drought-stress resp...  3.285814e-08   \n",
       "(sa, ethylene)                                      2.781926e-07   \n",
       "(abscisic acid, fusarium graminearum infection)     1.701810e-08   \n",
       "(transgenic arabidopsis, rice c2h2-type zinc fi... -1.142618e-07   \n",
       "(grasses, wboxhviso1 motif)                        -3.635243e-03   \n",
       "\n",
       "                                                               5  \\\n",
       "(rice plants, aba-dependent drought-stress resp... -2.203165e-07   \n",
       "(sa, ethylene)                                      2.654018e-04   \n",
       "(abscisic acid, fusarium graminearum infection)     1.203398e-06   \n",
       "(transgenic arabidopsis, rice c2h2-type zinc fi...  8.406031e-04   \n",
       "(grasses, wboxhviso1 motif)                        -7.875950e-07   \n",
       "\n",
       "                                                               6  \\\n",
       "(rice plants, aba-dependent drought-stress resp... -7.611700e-08   \n",
       "(sa, ethylene)                                      3.071964e-08   \n",
       "(abscisic acid, fusarium graminearum infection)    -5.315956e-04   \n",
       "(transgenic arabidopsis, rice c2h2-type zinc fi... -5.786394e-04   \n",
       "(grasses, wboxhviso1 motif)                         2.635369e-05   \n",
       "\n",
       "                                                               7  \\\n",
       "(rice plants, aba-dependent drought-stress resp...  1.248439e-06   \n",
       "(sa, ethylene)                                      6.462994e-07   \n",
       "(abscisic acid, fusarium graminearum infection)     2.358211e-05   \n",
       "(transgenic arabidopsis, rice c2h2-type zinc fi... -2.335612e-05   \n",
       "(grasses, wboxhviso1 motif)                         5.150494e-05   \n",
       "\n",
       "                                                               8  \\\n",
       "(rice plants, aba-dependent drought-stress resp... -7.821193e-07   \n",
       "(sa, ethylene)                                     -4.163196e-09   \n",
       "(abscisic acid, fusarium graminearum infection)    -1.293223e-05   \n",
       "(transgenic arabidopsis, rice c2h2-type zinc fi...  8.507107e-06   \n",
       "(grasses, wboxhviso1 motif)                         1.926418e-06   \n",
       "\n",
       "                                                               9  ...  \\\n",
       "(rice plants, aba-dependent drought-stress resp... -3.282532e-03  ...   \n",
       "(sa, ethylene)                                      4.517856e-07  ...   \n",
       "(abscisic acid, fusarium graminearum infection)    -2.509674e-09  ...   \n",
       "(transgenic arabidopsis, rice c2h2-type zinc fi... -8.003868e-03  ...   \n",
       "(grasses, wboxhviso1 motif)                        -1.629311e-05  ...   \n",
       "\n",
       "                                                          91        92  \\\n",
       "(rice plants, aba-dependent drought-stress resp... -0.003151 -0.000205   \n",
       "(sa, ethylene)                                      0.000498 -0.000062   \n",
       "(abscisic acid, fusarium graminearum infection)     0.000131 -0.000219   \n",
       "(transgenic arabidopsis, rice c2h2-type zinc fi...  0.014517  0.015290   \n",
       "(grasses, wboxhviso1 motif)                        -0.001749  0.001617   \n",
       "\n",
       "                                                          93            94  \\\n",
       "(rice plants, aba-dependent drought-stress resp...  0.004479  4.462483e-03   \n",
       "(sa, ethylene)                                      0.000005  1.486382e-07   \n",
       "(abscisic acid, fusarium graminearum infection)    -0.010186  3.700431e-04   \n",
       "(transgenic arabidopsis, rice c2h2-type zinc fi...  0.014177  1.550642e-02   \n",
       "(grasses, wboxhviso1 motif)                        -0.001510  1.493595e-03   \n",
       "\n",
       "                                                              95  \\\n",
       "(rice plants, aba-dependent drought-stress resp...  1.844647e-03   \n",
       "(sa, ethylene)                                      2.715398e-07   \n",
       "(abscisic acid, fusarium graminearum infection)    -8.709993e-03   \n",
       "(transgenic arabidopsis, rice c2h2-type zinc fi...  1.871429e-02   \n",
       "(grasses, wboxhviso1 motif)                         1.733180e-03   \n",
       "\n",
       "                                                              96        97  \\\n",
       "(rice plants, aba-dependent drought-stress resp... -4.577338e-03 -0.002425   \n",
       "(sa, ethylene)                                     -5.535634e-08  0.000006   \n",
       "(abscisic acid, fusarium graminearum infection)     3.743415e-03 -0.002239   \n",
       "(transgenic arabidopsis, rice c2h2-type zinc fi... -1.595969e-02 -0.013048   \n",
       "(grasses, wboxhviso1 motif)                        -1.804292e-03  0.001864   \n",
       "\n",
       "                                                          98            99  \\\n",
       "(rice plants, aba-dependent drought-stress resp... -0.003269  2.293582e-03   \n",
       "(sa, ethylene)                                      0.000017  5.611780e-07   \n",
       "(abscisic acid, fusarium graminearum infection)    -0.004199  1.473144e-03   \n",
       "(transgenic arabidopsis, rice c2h2-type zinc fi... -0.017297 -1.714918e-02   \n",
       "(grasses, wboxhviso1 motif)                         0.001811  1.868727e-03   \n",
       "\n",
       "                                                    label  \n",
       "(rice plants, aba-dependent drought-stress resp...      2  \n",
       "(sa, ethylene)                                          3  \n",
       "(abscisic acid, fusarium graminearum infection)         3  \n",
       "(transgenic arabidopsis, rice c2h2-type zinc fi...      2  \n",
       "(grasses, wboxhviso1 motif)                             0  \n",
       "\n",
       "[5 rows x 101 columns]"
      ]
     },
     "execution_count": 51,
     "metadata": {},
     "output_type": "execute_result"
    }
   ],
   "source": [
    "all_test_feat_dfs = []\n",
    "for lab, pair_list in test_pairs_flattened.items():\n",
    "    class_feats = {}\n",
    "    for pair in pair_list:\n",
    "        feats = node_reps[ent_map[pair[0]]].tolist()\n",
    "        feats.extend(node_reps[ent_map[pair[1]]].tolist())\n",
    "        class_feats[pair] = feats\n",
    "    class_df = pd.DataFrame.from_dict(class_feats, orient='index')\n",
    "    class_df['label'] = label_map[lab]\n",
    "    all_test_feat_dfs.append(class_df)\n",
    "test_df = pd.concat(all_test_feat_dfs).sample(frac=1) # Shuffle the data\n",
    "test_df.head()"
   ]
  },
  {
   "cell_type": "code",
   "execution_count": 52,
   "metadata": {},
   "outputs": [
    {
     "name": "stdout",
     "output_type": "stream",
     "text": [
      "There are 12000 training instances, and 3999 test instances.\n"
     ]
    }
   ],
   "source": [
    "print(f'There are {len(train_df)} training instances, and {len(test_df)} test instances.')"
   ]
  },
  {
   "cell_type": "markdown",
   "metadata": {},
   "source": [
    "Save these so our results are reproducible:"
   ]
  },
  {
   "cell_type": "code",
   "execution_count": 53,
   "metadata": {},
   "outputs": [],
   "source": [
    "train_df.to_csv(f'../data/ml_inputs/dt_co_occurrence_{model_save_suffix}_training_pairs_EMBEDDING_sampling_2000_small_negative_class_balance_total_{date}.csv')\n",
    "test_df.to_csv(f'../data/ml_inputs/dt_co_occurrence_{model_save_suffix}_testing_pairs_EMBEDDING_sampling_1000_small_negative_class_balance_one_{date}.csv')"
   ]
  },
  {
   "cell_type": "markdown",
   "metadata": {},
   "source": [
    "#### Genophenoenvo"
   ]
  },
  {
   "cell_type": "code",
   "execution_count": 54,
   "metadata": {},
   "outputs": [],
   "source": [
    "gpe_node_reps = gpe_model.entity_representations[0]()"
   ]
  },
  {
   "cell_type": "code",
   "execution_count": 55,
   "metadata": {},
   "outputs": [],
   "source": [
    "gpe_ent_map = gpe_checkpoint['entity_to_id_dict']"
   ]
  },
  {
   "cell_type": "code",
   "execution_count": 56,
   "metadata": {},
   "outputs": [],
   "source": [
    "gpe_labels = [k for k, v in gpe_train_ent_types.items() if v > 2000] + ['negative']\n",
    "gpe_label_map = {k: i for i, k in enumerate(gpe_labels)}"
   ]
  },
  {
   "cell_type": "code",
   "execution_count": 57,
   "metadata": {},
   "outputs": [
    {
     "data": {
      "text/plain": [
       "{'biolink:active_in': 0,\n",
       " 'biolink:expressed_in': 1,\n",
       " 'biolink:enables': 2,\n",
       " 'biolink:regulates': 3,\n",
       " 'biolink:orthologous_to': 4,\n",
       " 'biolink:increases_expression_of': 5,\n",
       " 'biolink:in_taxon': 6,\n",
       " 'biolink:part_of': 7,\n",
       " 'biolink:subclass_of': 8,\n",
       " 'biolink:has_phenotype': 9,\n",
       " 'biolink:negatively_regulates': 10,\n",
       " 'biolink:positively_regulates': 11,\n",
       " 'negative': 12}"
      ]
     },
     "execution_count": 57,
     "metadata": {},
     "output_type": "execute_result"
    }
   ],
   "source": [
    "gpe_label_map"
   ]
  },
  {
   "cell_type": "code",
   "execution_count": 58,
   "metadata": {},
   "outputs": [],
   "source": [
    "# Flatten the training pairs dict\n",
    "gpe_train_pairs_flattened = {k: v for k, v in gpe_train_pairs['positives'].items()}\n",
    "gpe_train_pairs_flattened['negative'] = [t for t_list in gpe_train_pairs['negatives'].values() for t in t_list]"
   ]
  },
  {
   "cell_type": "code",
   "execution_count": 59,
   "metadata": {},
   "outputs": [
    {
     "data": {
      "text/html": [
       "<div>\n",
       "<style scoped>\n",
       "    .dataframe tbody tr th:only-of-type {\n",
       "        vertical-align: middle;\n",
       "    }\n",
       "\n",
       "    .dataframe tbody tr th {\n",
       "        vertical-align: top;\n",
       "    }\n",
       "\n",
       "    .dataframe thead th {\n",
       "        text-align: right;\n",
       "    }\n",
       "</style>\n",
       "<table border=\"1\" class=\"dataframe\">\n",
       "  <thead>\n",
       "    <tr style=\"text-align: right;\">\n",
       "      <th></th>\n",
       "      <th>0</th>\n",
       "      <th>1</th>\n",
       "      <th>2</th>\n",
       "      <th>3</th>\n",
       "      <th>4</th>\n",
       "      <th>5</th>\n",
       "      <th>6</th>\n",
       "      <th>7</th>\n",
       "      <th>8</th>\n",
       "      <th>9</th>\n",
       "      <th>...</th>\n",
       "      <th>91</th>\n",
       "      <th>92</th>\n",
       "      <th>93</th>\n",
       "      <th>94</th>\n",
       "      <th>95</th>\n",
       "      <th>96</th>\n",
       "      <th>97</th>\n",
       "      <th>98</th>\n",
       "      <th>99</th>\n",
       "      <th>label</th>\n",
       "    </tr>\n",
       "  </thead>\n",
       "  <tbody>\n",
       "    <tr>\n",
       "      <th>(GO:0005856, GO:0097568)</th>\n",
       "      <td>6.999923e-04</td>\n",
       "      <td>1.847941e-03</td>\n",
       "      <td>0.004752</td>\n",
       "      <td>-5.039351e-05</td>\n",
       "      <td>-4.533838e-08</td>\n",
       "      <td>0.000011</td>\n",
       "      <td>5.004126e-04</td>\n",
       "      <td>-1.543439e-03</td>\n",
       "      <td>-0.000297</td>\n",
       "      <td>0.001429</td>\n",
       "      <td>...</td>\n",
       "      <td>0.013112</td>\n",
       "      <td>-0.013085</td>\n",
       "      <td>0.013077</td>\n",
       "      <td>0.016437</td>\n",
       "      <td>0.016927</td>\n",
       "      <td>-0.013106</td>\n",
       "      <td>-0.013063</td>\n",
       "      <td>-0.016176</td>\n",
       "      <td>0.013150</td>\n",
       "      <td>7</td>\n",
       "    </tr>\n",
       "    <tr>\n",
       "      <th>(AT3G04120, GO:0004365)</th>\n",
       "      <td>5.507586e-03</td>\n",
       "      <td>-6.255100e-03</td>\n",
       "      <td>0.006346</td>\n",
       "      <td>-5.244447e-03</td>\n",
       "      <td>-3.424013e-03</td>\n",
       "      <td>0.005038</td>\n",
       "      <td>5.718458e-03</td>\n",
       "      <td>5.644863e-03</td>\n",
       "      <td>0.006393</td>\n",
       "      <td>-0.005390</td>\n",
       "      <td>...</td>\n",
       "      <td>0.018374</td>\n",
       "      <td>0.020505</td>\n",
       "      <td>0.020524</td>\n",
       "      <td>0.019586</td>\n",
       "      <td>0.019810</td>\n",
       "      <td>0.020124</td>\n",
       "      <td>-0.017781</td>\n",
       "      <td>-0.018927</td>\n",
       "      <td>-0.016981</td>\n",
       "      <td>2</td>\n",
       "    </tr>\n",
       "    <tr>\n",
       "      <th>(GO:2001130, AQDI005)</th>\n",
       "      <td>2.034793e-02</td>\n",
       "      <td>-2.011352e-02</td>\n",
       "      <td>-0.020139</td>\n",
       "      <td>2.026929e-02</td>\n",
       "      <td>1.475386e-02</td>\n",
       "      <td>0.020151</td>\n",
       "      <td>2.037171e-02</td>\n",
       "      <td>2.016456e-02</td>\n",
       "      <td>-0.020181</td>\n",
       "      <td>-0.020224</td>\n",
       "      <td>...</td>\n",
       "      <td>-0.003174</td>\n",
       "      <td>-0.003174</td>\n",
       "      <td>-0.003174</td>\n",
       "      <td>-0.003173</td>\n",
       "      <td>0.003174</td>\n",
       "      <td>-0.003173</td>\n",
       "      <td>-0.003174</td>\n",
       "      <td>-0.003174</td>\n",
       "      <td>-0.003174</td>\n",
       "      <td>12</td>\n",
       "    </tr>\n",
       "    <tr>\n",
       "      <th>(GO:0019878, GO:1902987)</th>\n",
       "      <td>-1.270708e-02</td>\n",
       "      <td>1.312188e-02</td>\n",
       "      <td>-0.013015</td>\n",
       "      <td>1.271119e-02</td>\n",
       "      <td>1.270711e-02</td>\n",
       "      <td>-0.013015</td>\n",
       "      <td>1.270423e-02</td>\n",
       "      <td>1.312401e-02</td>\n",
       "      <td>0.013592</td>\n",
       "      <td>-0.012704</td>\n",
       "      <td>...</td>\n",
       "      <td>-0.011647</td>\n",
       "      <td>-0.011224</td>\n",
       "      <td>-0.007750</td>\n",
       "      <td>-0.009215</td>\n",
       "      <td>0.013648</td>\n",
       "      <td>0.010810</td>\n",
       "      <td>-0.008544</td>\n",
       "      <td>-0.009290</td>\n",
       "      <td>0.010792</td>\n",
       "      <td>10</td>\n",
       "    </tr>\n",
       "    <tr>\n",
       "      <th>(EOL:1145140, EOL:1144950)</th>\n",
       "      <td>-5.135226e-08</td>\n",
       "      <td>1.609906e-07</td>\n",
       "      <td>0.000007</td>\n",
       "      <td>-6.149633e-08</td>\n",
       "      <td>1.070677e-03</td>\n",
       "      <td>-0.001050</td>\n",
       "      <td>2.322021e-08</td>\n",
       "      <td>3.825000e-08</td>\n",
       "      <td>0.000837</td>\n",
       "      <td>0.000022</td>\n",
       "      <td>...</td>\n",
       "      <td>-0.020196</td>\n",
       "      <td>0.019673</td>\n",
       "      <td>0.019841</td>\n",
       "      <td>-0.019827</td>\n",
       "      <td>0.019665</td>\n",
       "      <td>-0.020241</td>\n",
       "      <td>0.019896</td>\n",
       "      <td>-0.019889</td>\n",
       "      <td>0.019898</td>\n",
       "      <td>8</td>\n",
       "    </tr>\n",
       "  </tbody>\n",
       "</table>\n",
       "<p>5 rows × 101 columns</p>\n",
       "</div>"
      ],
      "text/plain": [
       "                                       0             1         2  \\\n",
       "(GO:0005856, GO:0097568)    6.999923e-04  1.847941e-03  0.004752   \n",
       "(AT3G04120, GO:0004365)     5.507586e-03 -6.255100e-03  0.006346   \n",
       "(GO:2001130, AQDI005)       2.034793e-02 -2.011352e-02 -0.020139   \n",
       "(GO:0019878, GO:1902987)   -1.270708e-02  1.312188e-02 -0.013015   \n",
       "(EOL:1145140, EOL:1144950) -5.135226e-08  1.609906e-07  0.000007   \n",
       "\n",
       "                                       3             4         5  \\\n",
       "(GO:0005856, GO:0097568)   -5.039351e-05 -4.533838e-08  0.000011   \n",
       "(AT3G04120, GO:0004365)    -5.244447e-03 -3.424013e-03  0.005038   \n",
       "(GO:2001130, AQDI005)       2.026929e-02  1.475386e-02  0.020151   \n",
       "(GO:0019878, GO:1902987)    1.271119e-02  1.270711e-02 -0.013015   \n",
       "(EOL:1145140, EOL:1144950) -6.149633e-08  1.070677e-03 -0.001050   \n",
       "\n",
       "                                       6             7         8         9  \\\n",
       "(GO:0005856, GO:0097568)    5.004126e-04 -1.543439e-03 -0.000297  0.001429   \n",
       "(AT3G04120, GO:0004365)     5.718458e-03  5.644863e-03  0.006393 -0.005390   \n",
       "(GO:2001130, AQDI005)       2.037171e-02  2.016456e-02 -0.020181 -0.020224   \n",
       "(GO:0019878, GO:1902987)    1.270423e-02  1.312401e-02  0.013592 -0.012704   \n",
       "(EOL:1145140, EOL:1144950)  2.322021e-08  3.825000e-08  0.000837  0.000022   \n",
       "\n",
       "                            ...        91        92        93        94  \\\n",
       "(GO:0005856, GO:0097568)    ...  0.013112 -0.013085  0.013077  0.016437   \n",
       "(AT3G04120, GO:0004365)     ...  0.018374  0.020505  0.020524  0.019586   \n",
       "(GO:2001130, AQDI005)       ... -0.003174 -0.003174 -0.003174 -0.003173   \n",
       "(GO:0019878, GO:1902987)    ... -0.011647 -0.011224 -0.007750 -0.009215   \n",
       "(EOL:1145140, EOL:1144950)  ... -0.020196  0.019673  0.019841 -0.019827   \n",
       "\n",
       "                                  95        96        97        98        99  \\\n",
       "(GO:0005856, GO:0097568)    0.016927 -0.013106 -0.013063 -0.016176  0.013150   \n",
       "(AT3G04120, GO:0004365)     0.019810  0.020124 -0.017781 -0.018927 -0.016981   \n",
       "(GO:2001130, AQDI005)       0.003174 -0.003173 -0.003174 -0.003174 -0.003174   \n",
       "(GO:0019878, GO:1902987)    0.013648  0.010810 -0.008544 -0.009290  0.010792   \n",
       "(EOL:1145140, EOL:1144950)  0.019665 -0.020241  0.019896 -0.019889  0.019898   \n",
       "\n",
       "                            label  \n",
       "(GO:0005856, GO:0097568)        7  \n",
       "(AT3G04120, GO:0004365)         2  \n",
       "(GO:2001130, AQDI005)          12  \n",
       "(GO:0019878, GO:1902987)       10  \n",
       "(EOL:1145140, EOL:1144950)      8  \n",
       "\n",
       "[5 rows x 101 columns]"
      ]
     },
     "execution_count": 59,
     "metadata": {},
     "output_type": "execute_result"
    }
   ],
   "source": [
    "gpe_all_train_feat_dfs = []\n",
    "for lab, pair_list in gpe_train_pairs_flattened.items():\n",
    "    class_feats = {}\n",
    "    for pair in pair_list:\n",
    "        feats = gpe_node_reps[gpe_ent_map[pair[0]]].tolist()\n",
    "        feats.extend(gpe_node_reps[gpe_ent_map[pair[1]]].tolist())\n",
    "        class_feats[pair] = feats\n",
    "    class_df = pd.DataFrame.from_dict(class_feats, orient='index')\n",
    "    class_df['label'] = gpe_label_map[lab]\n",
    "    gpe_all_train_feat_dfs.append(class_df)\n",
    "gpe_train_df = pd.concat(gpe_all_train_feat_dfs).sample(frac=1) # Shuffle the data\n",
    "gpe_train_df.head()"
   ]
  },
  {
   "cell_type": "code",
   "execution_count": 60,
   "metadata": {},
   "outputs": [],
   "source": [
    "# Flatten the training pairs dict\n",
    "gpe_test_pairs_flattened = {k: v for k, v in gpe_test_pairs['positives'].items()}\n",
    "gpe_test_pairs_flattened['negative'] = [t for t_list in gpe_test_pairs['negatives'].values() for t in t_list]"
   ]
  },
  {
   "cell_type": "code",
   "execution_count": 61,
   "metadata": {},
   "outputs": [
    {
     "data": {
      "text/html": [
       "<div>\n",
       "<style scoped>\n",
       "    .dataframe tbody tr th:only-of-type {\n",
       "        vertical-align: middle;\n",
       "    }\n",
       "\n",
       "    .dataframe tbody tr th {\n",
       "        vertical-align: top;\n",
       "    }\n",
       "\n",
       "    .dataframe thead th {\n",
       "        text-align: right;\n",
       "    }\n",
       "</style>\n",
       "<table border=\"1\" class=\"dataframe\">\n",
       "  <thead>\n",
       "    <tr style=\"text-align: right;\">\n",
       "      <th></th>\n",
       "      <th>0</th>\n",
       "      <th>1</th>\n",
       "      <th>2</th>\n",
       "      <th>3</th>\n",
       "      <th>4</th>\n",
       "      <th>5</th>\n",
       "      <th>6</th>\n",
       "      <th>7</th>\n",
       "      <th>8</th>\n",
       "      <th>9</th>\n",
       "      <th>...</th>\n",
       "      <th>91</th>\n",
       "      <th>92</th>\n",
       "      <th>93</th>\n",
       "      <th>94</th>\n",
       "      <th>95</th>\n",
       "      <th>96</th>\n",
       "      <th>97</th>\n",
       "      <th>98</th>\n",
       "      <th>99</th>\n",
       "      <th>label</th>\n",
       "    </tr>\n",
       "  </thead>\n",
       "  <tbody>\n",
       "    <tr>\n",
       "      <th>(TO:0000299, GERMPLASM:27245)</th>\n",
       "      <td>-1.707098e-06</td>\n",
       "      <td>1.589192e-09</td>\n",
       "      <td>1.031141e-08</td>\n",
       "      <td>5.153627e-10</td>\n",
       "      <td>5.098671e-08</td>\n",
       "      <td>-2.214341e-06</td>\n",
       "      <td>8.513170e-08</td>\n",
       "      <td>-2.299320e-03</td>\n",
       "      <td>-2.684986e-05</td>\n",
       "      <td>-4.332291e-09</td>\n",
       "      <td>...</td>\n",
       "      <td>-0.009669</td>\n",
       "      <td>-0.013451</td>\n",
       "      <td>0.015082</td>\n",
       "      <td>0.007732</td>\n",
       "      <td>-0.012457</td>\n",
       "      <td>0.013668</td>\n",
       "      <td>-0.012219</td>\n",
       "      <td>-0.013882</td>\n",
       "      <td>-0.012925</td>\n",
       "      <td>9</td>\n",
       "    </tr>\n",
       "    <tr>\n",
       "      <th>(GO:0010928, AT2G43010)</th>\n",
       "      <td>-1.080417e-02</td>\n",
       "      <td>-1.205418e-02</td>\n",
       "      <td>-1.005558e-02</td>\n",
       "      <td>9.332648e-03</td>\n",
       "      <td>-2.347646e-05</td>\n",
       "      <td>-1.000892e-02</td>\n",
       "      <td>-7.865976e-03</td>\n",
       "      <td>-9.591293e-03</td>\n",
       "      <td>-5.815246e-03</td>\n",
       "      <td>9.612656e-03</td>\n",
       "      <td>...</td>\n",
       "      <td>-0.005468</td>\n",
       "      <td>0.009720</td>\n",
       "      <td>-0.001123</td>\n",
       "      <td>0.007474</td>\n",
       "      <td>-0.003376</td>\n",
       "      <td>0.005296</td>\n",
       "      <td>0.008640</td>\n",
       "      <td>-0.010111</td>\n",
       "      <td>-0.010144</td>\n",
       "      <td>3</td>\n",
       "    </tr>\n",
       "    <tr>\n",
       "      <th>(GO:0061614, GO:1902895)</th>\n",
       "      <td>-2.722903e-03</td>\n",
       "      <td>2.681589e-03</td>\n",
       "      <td>2.802735e-03</td>\n",
       "      <td>-2.691884e-03</td>\n",
       "      <td>-2.664848e-03</td>\n",
       "      <td>2.939439e-03</td>\n",
       "      <td>2.926680e-03</td>\n",
       "      <td>2.703653e-03</td>\n",
       "      <td>2.711684e-03</td>\n",
       "      <td>2.675333e-03</td>\n",
       "      <td>...</td>\n",
       "      <td>-0.022126</td>\n",
       "      <td>0.021884</td>\n",
       "      <td>0.022007</td>\n",
       "      <td>-0.021955</td>\n",
       "      <td>0.022288</td>\n",
       "      <td>0.022411</td>\n",
       "      <td>-0.021997</td>\n",
       "      <td>0.010419</td>\n",
       "      <td>0.022219</td>\n",
       "      <td>11</td>\n",
       "    </tr>\n",
       "    <tr>\n",
       "      <th>(PO:0007022, Zm00001eb228610)</th>\n",
       "      <td>-5.016215e-06</td>\n",
       "      <td>-3.744793e-08</td>\n",
       "      <td>3.810055e-09</td>\n",
       "      <td>5.908604e-06</td>\n",
       "      <td>-2.378786e-06</td>\n",
       "      <td>3.600282e-06</td>\n",
       "      <td>6.888435e-08</td>\n",
       "      <td>-1.666966e-05</td>\n",
       "      <td>6.170168e-09</td>\n",
       "      <td>1.165359e-09</td>\n",
       "      <td>...</td>\n",
       "      <td>-0.000492</td>\n",
       "      <td>0.003283</td>\n",
       "      <td>-0.000207</td>\n",
       "      <td>0.000013</td>\n",
       "      <td>-0.000637</td>\n",
       "      <td>0.009840</td>\n",
       "      <td>-0.001372</td>\n",
       "      <td>-0.004951</td>\n",
       "      <td>-0.000204</td>\n",
       "      <td>1</td>\n",
       "    </tr>\n",
       "    <tr>\n",
       "      <th>(PO:0001180, Zm00001eb292120)</th>\n",
       "      <td>-6.547489e-07</td>\n",
       "      <td>-2.869764e-08</td>\n",
       "      <td>-2.895062e-07</td>\n",
       "      <td>1.337807e-03</td>\n",
       "      <td>-1.149432e-07</td>\n",
       "      <td>-1.120246e-07</td>\n",
       "      <td>2.452293e-07</td>\n",
       "      <td>2.925659e-09</td>\n",
       "      <td>2.269769e-07</td>\n",
       "      <td>-1.196650e-08</td>\n",
       "      <td>...</td>\n",
       "      <td>0.002861</td>\n",
       "      <td>0.010137</td>\n",
       "      <td>0.006991</td>\n",
       "      <td>0.006824</td>\n",
       "      <td>-0.010575</td>\n",
       "      <td>-0.003909</td>\n",
       "      <td>-0.005706</td>\n",
       "      <td>0.008744</td>\n",
       "      <td>0.001838</td>\n",
       "      <td>1</td>\n",
       "    </tr>\n",
       "  </tbody>\n",
       "</table>\n",
       "<p>5 rows × 101 columns</p>\n",
       "</div>"
      ],
      "text/plain": [
       "                                          0             1             2  \\\n",
       "(TO:0000299, GERMPLASM:27245) -1.707098e-06  1.589192e-09  1.031141e-08   \n",
       "(GO:0010928, AT2G43010)       -1.080417e-02 -1.205418e-02 -1.005558e-02   \n",
       "(GO:0061614, GO:1902895)      -2.722903e-03  2.681589e-03  2.802735e-03   \n",
       "(PO:0007022, Zm00001eb228610) -5.016215e-06 -3.744793e-08  3.810055e-09   \n",
       "(PO:0001180, Zm00001eb292120) -6.547489e-07 -2.869764e-08 -2.895062e-07   \n",
       "\n",
       "                                          3             4             5  \\\n",
       "(TO:0000299, GERMPLASM:27245)  5.153627e-10  5.098671e-08 -2.214341e-06   \n",
       "(GO:0010928, AT2G43010)        9.332648e-03 -2.347646e-05 -1.000892e-02   \n",
       "(GO:0061614, GO:1902895)      -2.691884e-03 -2.664848e-03  2.939439e-03   \n",
       "(PO:0007022, Zm00001eb228610)  5.908604e-06 -2.378786e-06  3.600282e-06   \n",
       "(PO:0001180, Zm00001eb292120)  1.337807e-03 -1.149432e-07 -1.120246e-07   \n",
       "\n",
       "                                          6             7             8  \\\n",
       "(TO:0000299, GERMPLASM:27245)  8.513170e-08 -2.299320e-03 -2.684986e-05   \n",
       "(GO:0010928, AT2G43010)       -7.865976e-03 -9.591293e-03 -5.815246e-03   \n",
       "(GO:0061614, GO:1902895)       2.926680e-03  2.703653e-03  2.711684e-03   \n",
       "(PO:0007022, Zm00001eb228610)  6.888435e-08 -1.666966e-05  6.170168e-09   \n",
       "(PO:0001180, Zm00001eb292120)  2.452293e-07  2.925659e-09  2.269769e-07   \n",
       "\n",
       "                                          9  ...        91        92  \\\n",
       "(TO:0000299, GERMPLASM:27245) -4.332291e-09  ... -0.009669 -0.013451   \n",
       "(GO:0010928, AT2G43010)        9.612656e-03  ... -0.005468  0.009720   \n",
       "(GO:0061614, GO:1902895)       2.675333e-03  ... -0.022126  0.021884   \n",
       "(PO:0007022, Zm00001eb228610)  1.165359e-09  ... -0.000492  0.003283   \n",
       "(PO:0001180, Zm00001eb292120) -1.196650e-08  ...  0.002861  0.010137   \n",
       "\n",
       "                                     93        94        95        96  \\\n",
       "(TO:0000299, GERMPLASM:27245)  0.015082  0.007732 -0.012457  0.013668   \n",
       "(GO:0010928, AT2G43010)       -0.001123  0.007474 -0.003376  0.005296   \n",
       "(GO:0061614, GO:1902895)       0.022007 -0.021955  0.022288  0.022411   \n",
       "(PO:0007022, Zm00001eb228610) -0.000207  0.000013 -0.000637  0.009840   \n",
       "(PO:0001180, Zm00001eb292120)  0.006991  0.006824 -0.010575 -0.003909   \n",
       "\n",
       "                                     97        98        99  label  \n",
       "(TO:0000299, GERMPLASM:27245) -0.012219 -0.013882 -0.012925      9  \n",
       "(GO:0010928, AT2G43010)        0.008640 -0.010111 -0.010144      3  \n",
       "(GO:0061614, GO:1902895)      -0.021997  0.010419  0.022219     11  \n",
       "(PO:0007022, Zm00001eb228610) -0.001372 -0.004951 -0.000204      1  \n",
       "(PO:0001180, Zm00001eb292120) -0.005706  0.008744  0.001838      1  \n",
       "\n",
       "[5 rows x 101 columns]"
      ]
     },
     "execution_count": 61,
     "metadata": {},
     "output_type": "execute_result"
    }
   ],
   "source": [
    "gpe_all_test_feat_dfs = []\n",
    "for lab, pair_list in gpe_test_pairs_flattened.items():\n",
    "    class_feats = {}\n",
    "    for pair in pair_list:\n",
    "        feats = gpe_node_reps[gpe_ent_map[pair[0]]].tolist()\n",
    "        feats.extend(gpe_node_reps[gpe_ent_map[pair[1]]].tolist())\n",
    "        class_feats[pair] = feats\n",
    "    class_df = pd.DataFrame.from_dict(class_feats, orient='index')\n",
    "    class_df['label'] = gpe_label_map[lab]\n",
    "    gpe_all_test_feat_dfs.append(class_df)\n",
    "gpe_test_df = pd.concat(gpe_all_test_feat_dfs).sample(frac=1) # Shuffle the data\n",
    "gpe_test_df.head()"
   ]
  },
  {
   "cell_type": "code",
   "execution_count": 62,
   "metadata": {},
   "outputs": [
    {
     "name": "stdout",
     "output_type": "stream",
     "text": [
      "There are 48000 training instances, and 9397 test instances.\n"
     ]
    }
   ],
   "source": [
    "print(f'There are {len(gpe_train_df)} training instances, and {len(gpe_test_df)} test instances.')"
   ]
  },
  {
   "cell_type": "code",
   "execution_count": 63,
   "metadata": {},
   "outputs": [],
   "source": [
    "gpe_train_df.to_csv(f'../data/ml_inputs/genophenoenvo_{gpe_model_save_suffix}_2000_EMBEDDING_sampling_total_{gpe_date}.csv')\n",
    "gpe_test_df.to_csv(f'../data/ml_inputs/genophenoenvo_{gpe_model_save_suffix}_1000_EMBEDDING_sampling_one_{gpe_date}.csv')"
   ]
  },
  {
   "cell_type": "markdown",
   "metadata": {},
   "source": [
    "### Define and train the model\n",
    "#### Drought + DT"
   ]
  },
  {
   "cell_type": "code",
   "execution_count": 64,
   "metadata": {},
   "outputs": [],
   "source": [
    "train_df = pd.read_csv(f'../data/ml_inputs/dt_co_occurrence_{model_save_suffix}_training_pairs_EMBEDDING_sampling_2000_small_negative_class_balance_total_{date}.csv', index_col=0)\n",
    "test_df = pd.read_csv(f'../data/ml_inputs/dt_co_occurrence_{model_save_suffix}_testing_pairs_EMBEDDING_sampling_1000_small_negative_class_balance_one_{date}.csv', index_col=0)"
   ]
  },
  {
   "cell_type": "code",
   "execution_count": 65,
   "metadata": {},
   "outputs": [],
   "source": [
    "X_train = train_df.drop(columns='label').to_numpy()\n",
    "y_train = train_df['label'].to_numpy()"
   ]
  },
  {
   "cell_type": "code",
   "execution_count": 66,
   "metadata": {},
   "outputs": [],
   "source": [
    "params_to_test = {\n",
    "    'n_estimators': randint(100, 500),\n",
    "    'max_depth': randint(1,50),\n",
    "    'criterion': ['gini', 'entropy', 'log_loss']\n",
    "}\n",
    "\n",
    "rf = RandomForestClassifier(verbose=1)\n",
    "rand_search = RandomizedSearchCV(rf,\n",
    "                                param_distributions=params_to_test,\n",
    "                                cv=5,\n",
    "                                verbose=1)"
   ]
  },
  {
   "cell_type": "code",
   "execution_count": 67,
   "metadata": {},
   "outputs": [
    {
     "name": "stdout",
     "output_type": "stream",
     "text": [
      "Fitting 5 folds for each of 10 candidates, totalling 50 fits\n"
     ]
    },
    {
     "name": "stderr",
     "output_type": "stream",
     "text": [
      "[Parallel(n_jobs=1)]: Using backend SequentialBackend with 1 concurrent workers.\n",
      "[Parallel(n_jobs=1)]: Done 399 out of 399 | elapsed:   29.7s finished\n",
      "[Parallel(n_jobs=1)]: Using backend SequentialBackend with 1 concurrent workers.\n",
      "[Parallel(n_jobs=1)]: Done 399 out of 399 | elapsed:    0.1s finished\n",
      "[Parallel(n_jobs=1)]: Using backend SequentialBackend with 1 concurrent workers.\n",
      "[Parallel(n_jobs=1)]: Done 399 out of 399 | elapsed:   29.5s finished\n",
      "[Parallel(n_jobs=1)]: Using backend SequentialBackend with 1 concurrent workers.\n",
      "[Parallel(n_jobs=1)]: Done 399 out of 399 | elapsed:    0.1s finished\n",
      "[Parallel(n_jobs=1)]: Using backend SequentialBackend with 1 concurrent workers.\n",
      "[Parallel(n_jobs=1)]: Done 399 out of 399 | elapsed:   29.5s finished\n",
      "[Parallel(n_jobs=1)]: Using backend SequentialBackend with 1 concurrent workers.\n",
      "[Parallel(n_jobs=1)]: Done 399 out of 399 | elapsed:    0.1s finished\n",
      "[Parallel(n_jobs=1)]: Using backend SequentialBackend with 1 concurrent workers.\n",
      "[Parallel(n_jobs=1)]: Done 399 out of 399 | elapsed:   29.4s finished\n",
      "[Parallel(n_jobs=1)]: Using backend SequentialBackend with 1 concurrent workers.\n",
      "[Parallel(n_jobs=1)]: Done 399 out of 399 | elapsed:    0.1s finished\n",
      "[Parallel(n_jobs=1)]: Using backend SequentialBackend with 1 concurrent workers.\n",
      "[Parallel(n_jobs=1)]: Done 399 out of 399 | elapsed:   29.5s finished\n",
      "[Parallel(n_jobs=1)]: Using backend SequentialBackend with 1 concurrent workers.\n",
      "[Parallel(n_jobs=1)]: Done 399 out of 399 | elapsed:    0.1s finished\n",
      "[Parallel(n_jobs=1)]: Using backend SequentialBackend with 1 concurrent workers.\n",
      "[Parallel(n_jobs=1)]: Done 267 out of 267 | elapsed:   44.6s finished\n",
      "[Parallel(n_jobs=1)]: Using backend SequentialBackend with 1 concurrent workers.\n",
      "[Parallel(n_jobs=1)]: Done 267 out of 267 | elapsed:    0.2s finished\n",
      "[Parallel(n_jobs=1)]: Using backend SequentialBackend with 1 concurrent workers.\n",
      "[Parallel(n_jobs=1)]: Done 267 out of 267 | elapsed:   44.7s finished\n",
      "[Parallel(n_jobs=1)]: Using backend SequentialBackend with 1 concurrent workers.\n",
      "[Parallel(n_jobs=1)]: Done 267 out of 267 | elapsed:    0.2s finished\n",
      "[Parallel(n_jobs=1)]: Using backend SequentialBackend with 1 concurrent workers.\n",
      "[Parallel(n_jobs=1)]: Done 267 out of 267 | elapsed:   45.3s finished\n",
      "[Parallel(n_jobs=1)]: Using backend SequentialBackend with 1 concurrent workers.\n",
      "[Parallel(n_jobs=1)]: Done 267 out of 267 | elapsed:    0.2s finished\n",
      "[Parallel(n_jobs=1)]: Using backend SequentialBackend with 1 concurrent workers.\n",
      "[Parallel(n_jobs=1)]: Done 267 out of 267 | elapsed:   46.7s finished\n",
      "[Parallel(n_jobs=1)]: Using backend SequentialBackend with 1 concurrent workers.\n",
      "[Parallel(n_jobs=1)]: Done 267 out of 267 | elapsed:    0.2s finished\n",
      "[Parallel(n_jobs=1)]: Using backend SequentialBackend with 1 concurrent workers.\n",
      "[Parallel(n_jobs=1)]: Done 267 out of 267 | elapsed:   44.5s finished\n",
      "[Parallel(n_jobs=1)]: Using backend SequentialBackend with 1 concurrent workers.\n",
      "[Parallel(n_jobs=1)]: Done 267 out of 267 | elapsed:    0.2s finished\n",
      "[Parallel(n_jobs=1)]: Using backend SequentialBackend with 1 concurrent workers.\n",
      "[Parallel(n_jobs=1)]: Done 123 out of 123 | elapsed:   48.1s finished\n",
      "[Parallel(n_jobs=1)]: Using backend SequentialBackend with 1 concurrent workers.\n",
      "[Parallel(n_jobs=1)]: Done 123 out of 123 | elapsed:    0.1s finished\n",
      "[Parallel(n_jobs=1)]: Using backend SequentialBackend with 1 concurrent workers.\n",
      "[Parallel(n_jobs=1)]: Done 123 out of 123 | elapsed:   48.1s finished\n",
      "[Parallel(n_jobs=1)]: Using backend SequentialBackend with 1 concurrent workers.\n",
      "[Parallel(n_jobs=1)]: Done 123 out of 123 | elapsed:    0.1s finished\n",
      "[Parallel(n_jobs=1)]: Using backend SequentialBackend with 1 concurrent workers.\n",
      "[Parallel(n_jobs=1)]: Done 123 out of 123 | elapsed:   48.6s finished\n",
      "[Parallel(n_jobs=1)]: Using backend SequentialBackend with 1 concurrent workers.\n",
      "[Parallel(n_jobs=1)]: Done 123 out of 123 | elapsed:    0.1s finished\n",
      "[Parallel(n_jobs=1)]: Using backend SequentialBackend with 1 concurrent workers.\n",
      "[Parallel(n_jobs=1)]: Done 123 out of 123 | elapsed:   48.3s finished\n",
      "[Parallel(n_jobs=1)]: Using backend SequentialBackend with 1 concurrent workers.\n",
      "[Parallel(n_jobs=1)]: Done 123 out of 123 | elapsed:    0.1s finished\n",
      "[Parallel(n_jobs=1)]: Using backend SequentialBackend with 1 concurrent workers.\n",
      "[Parallel(n_jobs=1)]: Done 123 out of 123 | elapsed:   47.7s finished\n",
      "[Parallel(n_jobs=1)]: Using backend SequentialBackend with 1 concurrent workers.\n",
      "[Parallel(n_jobs=1)]: Done 123 out of 123 | elapsed:    0.1s finished\n",
      "[Parallel(n_jobs=1)]: Using backend SequentialBackend with 1 concurrent workers.\n",
      "[Parallel(n_jobs=1)]: Done 138 out of 138 | elapsed:   43.6s finished\n",
      "[Parallel(n_jobs=1)]: Using backend SequentialBackend with 1 concurrent workers.\n",
      "[Parallel(n_jobs=1)]: Done 138 out of 138 | elapsed:    0.1s finished\n",
      "[Parallel(n_jobs=1)]: Using backend SequentialBackend with 1 concurrent workers.\n",
      "[Parallel(n_jobs=1)]: Done 138 out of 138 | elapsed:   43.5s finished\n",
      "[Parallel(n_jobs=1)]: Using backend SequentialBackend with 1 concurrent workers.\n",
      "[Parallel(n_jobs=1)]: Done 138 out of 138 | elapsed:    0.1s finished\n",
      "[Parallel(n_jobs=1)]: Using backend SequentialBackend with 1 concurrent workers.\n",
      "[Parallel(n_jobs=1)]: Done 138 out of 138 | elapsed:   43.7s finished\n",
      "[Parallel(n_jobs=1)]: Using backend SequentialBackend with 1 concurrent workers.\n",
      "[Parallel(n_jobs=1)]: Done 138 out of 138 | elapsed:    0.1s finished\n",
      "[Parallel(n_jobs=1)]: Using backend SequentialBackend with 1 concurrent workers.\n",
      "[Parallel(n_jobs=1)]: Done 138 out of 138 | elapsed:   43.3s finished\n",
      "[Parallel(n_jobs=1)]: Using backend SequentialBackend with 1 concurrent workers.\n",
      "[Parallel(n_jobs=1)]: Done 138 out of 138 | elapsed:    0.1s finished\n",
      "[Parallel(n_jobs=1)]: Using backend SequentialBackend with 1 concurrent workers.\n",
      "[Parallel(n_jobs=1)]: Done 138 out of 138 | elapsed:   43.7s finished\n",
      "[Parallel(n_jobs=1)]: Using backend SequentialBackend with 1 concurrent workers.\n",
      "[Parallel(n_jobs=1)]: Done 138 out of 138 | elapsed:    0.1s finished\n",
      "[Parallel(n_jobs=1)]: Using backend SequentialBackend with 1 concurrent workers.\n",
      "[Parallel(n_jobs=1)]: Done 187 out of 187 | elapsed:  1.2min finished\n",
      "[Parallel(n_jobs=1)]: Using backend SequentialBackend with 1 concurrent workers.\n",
      "[Parallel(n_jobs=1)]: Done 187 out of 187 | elapsed:    0.1s finished\n",
      "[Parallel(n_jobs=1)]: Using backend SequentialBackend with 1 concurrent workers.\n",
      "[Parallel(n_jobs=1)]: Done 187 out of 187 | elapsed:  1.2min finished\n",
      "[Parallel(n_jobs=1)]: Using backend SequentialBackend with 1 concurrent workers.\n",
      "[Parallel(n_jobs=1)]: Done 187 out of 187 | elapsed:    0.1s finished\n",
      "[Parallel(n_jobs=1)]: Using backend SequentialBackend with 1 concurrent workers.\n",
      "[Parallel(n_jobs=1)]: Done 187 out of 187 | elapsed:  1.2min finished\n",
      "[Parallel(n_jobs=1)]: Using backend SequentialBackend with 1 concurrent workers.\n",
      "[Parallel(n_jobs=1)]: Done 187 out of 187 | elapsed:    0.1s finished\n",
      "[Parallel(n_jobs=1)]: Using backend SequentialBackend with 1 concurrent workers.\n",
      "[Parallel(n_jobs=1)]: Done 187 out of 187 | elapsed:  1.2min finished\n",
      "[Parallel(n_jobs=1)]: Using backend SequentialBackend with 1 concurrent workers.\n",
      "[Parallel(n_jobs=1)]: Done 187 out of 187 | elapsed:    0.1s finished\n",
      "[Parallel(n_jobs=1)]: Using backend SequentialBackend with 1 concurrent workers.\n",
      "[Parallel(n_jobs=1)]: Done 187 out of 187 | elapsed:  1.2min finished\n",
      "[Parallel(n_jobs=1)]: Using backend SequentialBackend with 1 concurrent workers.\n",
      "[Parallel(n_jobs=1)]: Done 187 out of 187 | elapsed:    0.1s finished\n",
      "[Parallel(n_jobs=1)]: Using backend SequentialBackend with 1 concurrent workers.\n",
      "[Parallel(n_jobs=1)]: Done 115 out of 115 | elapsed:   44.2s finished\n",
      "[Parallel(n_jobs=1)]: Using backend SequentialBackend with 1 concurrent workers.\n",
      "[Parallel(n_jobs=1)]: Done 115 out of 115 | elapsed:    0.1s finished\n",
      "[Parallel(n_jobs=1)]: Using backend SequentialBackend with 1 concurrent workers.\n",
      "[Parallel(n_jobs=1)]: Done 115 out of 115 | elapsed:   44.7s finished\n",
      "[Parallel(n_jobs=1)]: Using backend SequentialBackend with 1 concurrent workers.\n",
      "[Parallel(n_jobs=1)]: Done 115 out of 115 | elapsed:    0.1s finished\n",
      "[Parallel(n_jobs=1)]: Using backend SequentialBackend with 1 concurrent workers.\n"
     ]
    },
    {
     "name": "stderr",
     "output_type": "stream",
     "text": [
      "[Parallel(n_jobs=1)]: Done 115 out of 115 | elapsed:   44.7s finished\n",
      "[Parallel(n_jobs=1)]: Using backend SequentialBackend with 1 concurrent workers.\n",
      "[Parallel(n_jobs=1)]: Done 115 out of 115 | elapsed:    0.1s finished\n",
      "[Parallel(n_jobs=1)]: Using backend SequentialBackend with 1 concurrent workers.\n",
      "[Parallel(n_jobs=1)]: Done 115 out of 115 | elapsed:   44.5s finished\n",
      "[Parallel(n_jobs=1)]: Using backend SequentialBackend with 1 concurrent workers.\n",
      "[Parallel(n_jobs=1)]: Done 115 out of 115 | elapsed:    0.1s finished\n",
      "[Parallel(n_jobs=1)]: Using backend SequentialBackend with 1 concurrent workers.\n",
      "[Parallel(n_jobs=1)]: Done 115 out of 115 | elapsed:   44.9s finished\n",
      "[Parallel(n_jobs=1)]: Using backend SequentialBackend with 1 concurrent workers.\n",
      "[Parallel(n_jobs=1)]: Done 115 out of 115 | elapsed:    0.1s finished\n",
      "[Parallel(n_jobs=1)]: Using backend SequentialBackend with 1 concurrent workers.\n",
      "[Parallel(n_jobs=1)]: Done 127 out of 127 | elapsed:   44.5s finished\n",
      "[Parallel(n_jobs=1)]: Using backend SequentialBackend with 1 concurrent workers.\n",
      "[Parallel(n_jobs=1)]: Done 127 out of 127 | elapsed:    0.1s finished\n",
      "[Parallel(n_jobs=1)]: Using backend SequentialBackend with 1 concurrent workers.\n",
      "[Parallel(n_jobs=1)]: Done 127 out of 127 | elapsed:   44.7s finished\n",
      "[Parallel(n_jobs=1)]: Using backend SequentialBackend with 1 concurrent workers.\n",
      "[Parallel(n_jobs=1)]: Done 127 out of 127 | elapsed:    0.1s finished\n",
      "[Parallel(n_jobs=1)]: Using backend SequentialBackend with 1 concurrent workers.\n",
      "[Parallel(n_jobs=1)]: Done 127 out of 127 | elapsed:   44.6s finished\n",
      "[Parallel(n_jobs=1)]: Using backend SequentialBackend with 1 concurrent workers.\n",
      "[Parallel(n_jobs=1)]: Done 127 out of 127 | elapsed:    0.1s finished\n",
      "[Parallel(n_jobs=1)]: Using backend SequentialBackend with 1 concurrent workers.\n",
      "[Parallel(n_jobs=1)]: Done 127 out of 127 | elapsed:   44.2s finished\n",
      "[Parallel(n_jobs=1)]: Using backend SequentialBackend with 1 concurrent workers.\n",
      "[Parallel(n_jobs=1)]: Done 127 out of 127 | elapsed:    0.1s finished\n",
      "[Parallel(n_jobs=1)]: Using backend SequentialBackend with 1 concurrent workers.\n",
      "[Parallel(n_jobs=1)]: Done 127 out of 127 | elapsed:   44.6s finished\n",
      "[Parallel(n_jobs=1)]: Using backend SequentialBackend with 1 concurrent workers.\n",
      "[Parallel(n_jobs=1)]: Done 127 out of 127 | elapsed:    0.1s finished\n",
      "[Parallel(n_jobs=1)]: Using backend SequentialBackend with 1 concurrent workers.\n",
      "[Parallel(n_jobs=1)]: Done 379 out of 379 | elapsed:  2.4min finished\n",
      "[Parallel(n_jobs=1)]: Using backend SequentialBackend with 1 concurrent workers.\n",
      "[Parallel(n_jobs=1)]: Done 379 out of 379 | elapsed:    0.3s finished\n",
      "[Parallel(n_jobs=1)]: Using backend SequentialBackend with 1 concurrent workers.\n",
      "[Parallel(n_jobs=1)]: Done 379 out of 379 | elapsed:  2.5min finished\n",
      "[Parallel(n_jobs=1)]: Using backend SequentialBackend with 1 concurrent workers.\n",
      "[Parallel(n_jobs=1)]: Done 379 out of 379 | elapsed:    0.3s finished\n",
      "[Parallel(n_jobs=1)]: Using backend SequentialBackend with 1 concurrent workers.\n",
      "[Parallel(n_jobs=1)]: Done 379 out of 379 | elapsed:  2.5min finished\n",
      "[Parallel(n_jobs=1)]: Using backend SequentialBackend with 1 concurrent workers.\n",
      "[Parallel(n_jobs=1)]: Done 379 out of 379 | elapsed:    0.2s finished\n",
      "[Parallel(n_jobs=1)]: Using backend SequentialBackend with 1 concurrent workers.\n",
      "[Parallel(n_jobs=1)]: Done 379 out of 379 | elapsed:  2.5min finished\n",
      "[Parallel(n_jobs=1)]: Using backend SequentialBackend with 1 concurrent workers.\n",
      "[Parallel(n_jobs=1)]: Done 379 out of 379 | elapsed:    0.3s finished\n",
      "[Parallel(n_jobs=1)]: Using backend SequentialBackend with 1 concurrent workers.\n",
      "[Parallel(n_jobs=1)]: Done 379 out of 379 | elapsed:  2.4min finished\n",
      "[Parallel(n_jobs=1)]: Using backend SequentialBackend with 1 concurrent workers.\n",
      "[Parallel(n_jobs=1)]: Done 379 out of 379 | elapsed:    0.3s finished\n",
      "[Parallel(n_jobs=1)]: Using backend SequentialBackend with 1 concurrent workers.\n",
      "[Parallel(n_jobs=1)]: Done 157 out of 157 | elapsed:   58.3s finished\n",
      "[Parallel(n_jobs=1)]: Using backend SequentialBackend with 1 concurrent workers.\n",
      "[Parallel(n_jobs=1)]: Done 157 out of 157 | elapsed:    0.1s finished\n",
      "[Parallel(n_jobs=1)]: Using backend SequentialBackend with 1 concurrent workers.\n",
      "[Parallel(n_jobs=1)]: Done 157 out of 157 | elapsed:   58.7s finished\n",
      "[Parallel(n_jobs=1)]: Using backend SequentialBackend with 1 concurrent workers.\n",
      "[Parallel(n_jobs=1)]: Done 157 out of 157 | elapsed:    0.1s finished\n",
      "[Parallel(n_jobs=1)]: Using backend SequentialBackend with 1 concurrent workers.\n",
      "[Parallel(n_jobs=1)]: Done 157 out of 157 | elapsed:   58.7s finished\n",
      "[Parallel(n_jobs=1)]: Using backend SequentialBackend with 1 concurrent workers.\n",
      "[Parallel(n_jobs=1)]: Done 157 out of 157 | elapsed:    0.1s finished\n",
      "[Parallel(n_jobs=1)]: Using backend SequentialBackend with 1 concurrent workers.\n",
      "[Parallel(n_jobs=1)]: Done 157 out of 157 | elapsed:   58.7s finished\n",
      "[Parallel(n_jobs=1)]: Using backend SequentialBackend with 1 concurrent workers.\n",
      "[Parallel(n_jobs=1)]: Done 157 out of 157 | elapsed:    0.1s finished\n",
      "[Parallel(n_jobs=1)]: Using backend SequentialBackend with 1 concurrent workers.\n",
      "[Parallel(n_jobs=1)]: Done 157 out of 157 | elapsed:   58.2s finished\n",
      "[Parallel(n_jobs=1)]: Using backend SequentialBackend with 1 concurrent workers.\n",
      "[Parallel(n_jobs=1)]: Done 157 out of 157 | elapsed:    0.1s finished\n",
      "[Parallel(n_jobs=1)]: Using backend SequentialBackend with 1 concurrent workers.\n",
      "[Parallel(n_jobs=1)]: Done 155 out of 155 | elapsed:   20.8s finished\n",
      "[Parallel(n_jobs=1)]: Using backend SequentialBackend with 1 concurrent workers.\n",
      "[Parallel(n_jobs=1)]: Done 155 out of 155 | elapsed:    0.1s finished\n",
      "[Parallel(n_jobs=1)]: Using backend SequentialBackend with 1 concurrent workers.\n",
      "[Parallel(n_jobs=1)]: Done 155 out of 155 | elapsed:   21.1s finished\n",
      "[Parallel(n_jobs=1)]: Using backend SequentialBackend with 1 concurrent workers.\n",
      "[Parallel(n_jobs=1)]: Done 155 out of 155 | elapsed:    0.1s finished\n",
      "[Parallel(n_jobs=1)]: Using backend SequentialBackend with 1 concurrent workers.\n",
      "[Parallel(n_jobs=1)]: Done 155 out of 155 | elapsed:   20.7s finished\n",
      "[Parallel(n_jobs=1)]: Using backend SequentialBackend with 1 concurrent workers.\n",
      "[Parallel(n_jobs=1)]: Done 155 out of 155 | elapsed:    0.1s finished\n",
      "[Parallel(n_jobs=1)]: Using backend SequentialBackend with 1 concurrent workers.\n",
      "[Parallel(n_jobs=1)]: Done 155 out of 155 | elapsed:   20.8s finished\n",
      "[Parallel(n_jobs=1)]: Using backend SequentialBackend with 1 concurrent workers.\n",
      "[Parallel(n_jobs=1)]: Done 155 out of 155 | elapsed:    0.1s finished\n",
      "[Parallel(n_jobs=1)]: Using backend SequentialBackend with 1 concurrent workers.\n",
      "[Parallel(n_jobs=1)]: Done 155 out of 155 | elapsed:   21.1s finished\n",
      "[Parallel(n_jobs=1)]: Using backend SequentialBackend with 1 concurrent workers.\n",
      "[Parallel(n_jobs=1)]: Done 155 out of 155 | elapsed:    0.1s finished\n",
      "[Parallel(n_jobs=1)]: Using backend SequentialBackend with 1 concurrent workers.\n",
      "[Parallel(n_jobs=1)]: Done 267 out of 267 | elapsed:   56.5s finished\n"
     ]
    },
    {
     "data": {
      "text/html": [
       "<style>#sk-container-id-1 {color: black;}#sk-container-id-1 pre{padding: 0;}#sk-container-id-1 div.sk-toggleable {background-color: white;}#sk-container-id-1 label.sk-toggleable__label {cursor: pointer;display: block;width: 100%;margin-bottom: 0;padding: 0.3em;box-sizing: border-box;text-align: center;}#sk-container-id-1 label.sk-toggleable__label-arrow:before {content: \"▸\";float: left;margin-right: 0.25em;color: #696969;}#sk-container-id-1 label.sk-toggleable__label-arrow:hover:before {color: black;}#sk-container-id-1 div.sk-estimator:hover label.sk-toggleable__label-arrow:before {color: black;}#sk-container-id-1 div.sk-toggleable__content {max-height: 0;max-width: 0;overflow: hidden;text-align: left;background-color: #f0f8ff;}#sk-container-id-1 div.sk-toggleable__content pre {margin: 0.2em;color: black;border-radius: 0.25em;background-color: #f0f8ff;}#sk-container-id-1 input.sk-toggleable__control:checked~div.sk-toggleable__content {max-height: 200px;max-width: 100%;overflow: auto;}#sk-container-id-1 input.sk-toggleable__control:checked~label.sk-toggleable__label-arrow:before {content: \"▾\";}#sk-container-id-1 div.sk-estimator input.sk-toggleable__control:checked~label.sk-toggleable__label {background-color: #d4ebff;}#sk-container-id-1 div.sk-label input.sk-toggleable__control:checked~label.sk-toggleable__label {background-color: #d4ebff;}#sk-container-id-1 input.sk-hidden--visually {border: 0;clip: rect(1px 1px 1px 1px);clip: rect(1px, 1px, 1px, 1px);height: 1px;margin: -1px;overflow: hidden;padding: 0;position: absolute;width: 1px;}#sk-container-id-1 div.sk-estimator {font-family: monospace;background-color: #f0f8ff;border: 1px dotted black;border-radius: 0.25em;box-sizing: border-box;margin-bottom: 0.5em;}#sk-container-id-1 div.sk-estimator:hover {background-color: #d4ebff;}#sk-container-id-1 div.sk-parallel-item::after {content: \"\";width: 100%;border-bottom: 1px solid gray;flex-grow: 1;}#sk-container-id-1 div.sk-label:hover label.sk-toggleable__label {background-color: #d4ebff;}#sk-container-id-1 div.sk-serial::before {content: \"\";position: absolute;border-left: 1px solid gray;box-sizing: border-box;top: 0;bottom: 0;left: 50%;z-index: 0;}#sk-container-id-1 div.sk-serial {display: flex;flex-direction: column;align-items: center;background-color: white;padding-right: 0.2em;padding-left: 0.2em;position: relative;}#sk-container-id-1 div.sk-item {position: relative;z-index: 1;}#sk-container-id-1 div.sk-parallel {display: flex;align-items: stretch;justify-content: center;background-color: white;position: relative;}#sk-container-id-1 div.sk-item::before, #sk-container-id-1 div.sk-parallel-item::before {content: \"\";position: absolute;border-left: 1px solid gray;box-sizing: border-box;top: 0;bottom: 0;left: 50%;z-index: -1;}#sk-container-id-1 div.sk-parallel-item {display: flex;flex-direction: column;z-index: 1;position: relative;background-color: white;}#sk-container-id-1 div.sk-parallel-item:first-child::after {align-self: flex-end;width: 50%;}#sk-container-id-1 div.sk-parallel-item:last-child::after {align-self: flex-start;width: 50%;}#sk-container-id-1 div.sk-parallel-item:only-child::after {width: 0;}#sk-container-id-1 div.sk-dashed-wrapped {border: 1px dashed gray;margin: 0 0.4em 0.5em 0.4em;box-sizing: border-box;padding-bottom: 0.4em;background-color: white;}#sk-container-id-1 div.sk-label label {font-family: monospace;font-weight: bold;display: inline-block;line-height: 1.2em;}#sk-container-id-1 div.sk-label-container {text-align: center;}#sk-container-id-1 div.sk-container {/* jupyter's `normalize.less` sets `[hidden] { display: none; }` but bootstrap.min.css set `[hidden] { display: none !important; }` so we also need the `!important` here to be able to override the default hidden behavior on the sphinx rendered scikit-learn.org. See: https://github.com/scikit-learn/scikit-learn/issues/21755 */display: inline-block !important;position: relative;}#sk-container-id-1 div.sk-text-repr-fallback {display: none;}</style><div id=\"sk-container-id-1\" class=\"sk-top-container\"><div class=\"sk-text-repr-fallback\"><pre>RandomizedSearchCV(cv=5, estimator=RandomForestClassifier(verbose=1),\n",
       "                   param_distributions={&#x27;criterion&#x27;: [&#x27;gini&#x27;, &#x27;entropy&#x27;,\n",
       "                                                      &#x27;log_loss&#x27;],\n",
       "                                        &#x27;max_depth&#x27;: &lt;scipy.stats._distn_infrastructure.rv_discrete_frozen object at 0x2ab0bb245ed0&gt;,\n",
       "                                        &#x27;n_estimators&#x27;: &lt;scipy.stats._distn_infrastructure.rv_discrete_frozen object at 0x2ab09058aaa0&gt;},\n",
       "                   verbose=1)</pre><b>In a Jupyter environment, please rerun this cell to show the HTML representation or trust the notebook. <br />On GitHub, the HTML representation is unable to render, please try loading this page with nbviewer.org.</b></div><div class=\"sk-container\" hidden><div class=\"sk-item sk-dashed-wrapped\"><div class=\"sk-label-container\"><div class=\"sk-label sk-toggleable\"><input class=\"sk-toggleable__control sk-hidden--visually\" id=\"sk-estimator-id-1\" type=\"checkbox\" ><label for=\"sk-estimator-id-1\" class=\"sk-toggleable__label sk-toggleable__label-arrow\">RandomizedSearchCV</label><div class=\"sk-toggleable__content\"><pre>RandomizedSearchCV(cv=5, estimator=RandomForestClassifier(verbose=1),\n",
       "                   param_distributions={&#x27;criterion&#x27;: [&#x27;gini&#x27;, &#x27;entropy&#x27;,\n",
       "                                                      &#x27;log_loss&#x27;],\n",
       "                                        &#x27;max_depth&#x27;: &lt;scipy.stats._distn_infrastructure.rv_discrete_frozen object at 0x2ab0bb245ed0&gt;,\n",
       "                                        &#x27;n_estimators&#x27;: &lt;scipy.stats._distn_infrastructure.rv_discrete_frozen object at 0x2ab09058aaa0&gt;},\n",
       "                   verbose=1)</pre></div></div></div><div class=\"sk-parallel\"><div class=\"sk-parallel-item\"><div class=\"sk-item\"><div class=\"sk-label-container\"><div class=\"sk-label sk-toggleable\"><input class=\"sk-toggleable__control sk-hidden--visually\" id=\"sk-estimator-id-2\" type=\"checkbox\" ><label for=\"sk-estimator-id-2\" class=\"sk-toggleable__label sk-toggleable__label-arrow\">estimator: RandomForestClassifier</label><div class=\"sk-toggleable__content\"><pre>RandomForestClassifier(verbose=1)</pre></div></div></div><div class=\"sk-serial\"><div class=\"sk-item\"><div class=\"sk-estimator sk-toggleable\"><input class=\"sk-toggleable__control sk-hidden--visually\" id=\"sk-estimator-id-3\" type=\"checkbox\" ><label for=\"sk-estimator-id-3\" class=\"sk-toggleable__label sk-toggleable__label-arrow\">RandomForestClassifier</label><div class=\"sk-toggleable__content\"><pre>RandomForestClassifier(verbose=1)</pre></div></div></div></div></div></div></div></div></div></div>"
      ],
      "text/plain": [
       "RandomizedSearchCV(cv=5, estimator=RandomForestClassifier(verbose=1),\n",
       "                   param_distributions={'criterion': ['gini', 'entropy',\n",
       "                                                      'log_loss'],\n",
       "                                        'max_depth': <scipy.stats._distn_infrastructure.rv_discrete_frozen object at 0x2ab0bb245ed0>,\n",
       "                                        'n_estimators': <scipy.stats._distn_infrastructure.rv_discrete_frozen object at 0x2ab09058aaa0>},\n",
       "                   verbose=1)"
      ]
     },
     "execution_count": 67,
     "metadata": {},
     "output_type": "execute_result"
    }
   ],
   "source": [
    "rand_search.fit(X_train, y_train)"
   ]
  },
  {
   "cell_type": "code",
   "execution_count": 68,
   "metadata": {},
   "outputs": [
    {
     "name": "stdout",
     "output_type": "stream",
     "text": [
      "Best hyperparameters: {'criterion': 'gini', 'max_depth': 40, 'n_estimators': 267}\n"
     ]
    }
   ],
   "source": [
    "best_rf = rand_search.best_estimator_\n",
    "print('Best hyperparameters:',  rand_search.best_params_)"
   ]
  },
  {
   "cell_type": "code",
   "execution_count": 69,
   "metadata": {},
   "outputs": [],
   "source": [
    "# Save the model as a pickle\n",
    "with open(f'../data/ml_outputs/co_occurrence_RF_model_{model_save_suffix}_EMBEDDING_sampling_{date}_2000_small_negative_class.pk', 'wb') as f:\n",
    "    pickle.dump(best_rf, f)"
   ]
  },
  {
   "cell_type": "markdown",
   "metadata": {},
   "source": [
    "#### Genophenoenvo"
   ]
  },
  {
   "cell_type": "code",
   "execution_count": 70,
   "metadata": {},
   "outputs": [],
   "source": [
    "gpe_train_df = pd.read_csv(f'../data/ml_inputs/genophenoenvo_{gpe_model_save_suffix}_2000_EMBEDDING_sampling_total_{gpe_date}.csv', index_col=0)\n",
    "gpe_test_df = pd.read_csv(f'../data/ml_inputs/genophenoenvo_{gpe_model_save_suffix}_1000_EMBEDDING_sampling_one_{gpe_date}.csv', index_col=0)"
   ]
  },
  {
   "cell_type": "code",
   "execution_count": 71,
   "metadata": {},
   "outputs": [],
   "source": [
    "gpe_X_train = gpe_train_df.drop(columns='label').to_numpy()\n",
    "gpe_y_train = gpe_train_df['label'].to_numpy()"
   ]
  },
  {
   "cell_type": "code",
   "execution_count": 72,
   "metadata": {},
   "outputs": [],
   "source": [
    "gpe_X_test = gpe_test_df.drop(columns='label').to_numpy()\n",
    "gpe_y_test = gpe_test_df['label'].to_numpy()"
   ]
  },
  {
   "cell_type": "code",
   "execution_count": 73,
   "metadata": {},
   "outputs": [],
   "source": [
    "gpe_params_to_test = {\n",
    "    'n_estimators': randint(100, 500),\n",
    "    'max_depth': randint(1,50),\n",
    "    'criterion': ['gini', 'entropy', 'log_loss']\n",
    "}\n",
    "\n",
    "gpe_rf = RandomForestClassifier(verbose=1)\n",
    "gpe_rand_search = RandomizedSearchCV(gpe_rf,\n",
    "                                param_distributions=gpe_params_to_test,\n",
    "                                cv=5,\n",
    "                                verbose=1)"
   ]
  },
  {
   "cell_type": "code",
   "execution_count": null,
   "metadata": {
    "scrolled": true
   },
   "outputs": [
    {
     "name": "stdout",
     "output_type": "stream",
     "text": [
      "Fitting 5 folds for each of 10 candidates, totalling 50 fits\n"
     ]
    },
    {
     "name": "stderr",
     "output_type": "stream",
     "text": [
      "[Parallel(n_jobs=1)]: Using backend SequentialBackend with 1 concurrent workers.\n",
      "[Parallel(n_jobs=1)]: Done 409 out of 409 | elapsed:  7.9min finished\n",
      "[Parallel(n_jobs=1)]: Using backend SequentialBackend with 1 concurrent workers.\n",
      "[Parallel(n_jobs=1)]: Done 409 out of 409 | elapsed:    0.5s finished\n",
      "[Parallel(n_jobs=1)]: Using backend SequentialBackend with 1 concurrent workers.\n",
      "[Parallel(n_jobs=1)]: Done 409 out of 409 | elapsed:  7.9min finished\n",
      "[Parallel(n_jobs=1)]: Using backend SequentialBackend with 1 concurrent workers.\n",
      "[Parallel(n_jobs=1)]: Done 409 out of 409 | elapsed:    0.5s finished\n",
      "[Parallel(n_jobs=1)]: Using backend SequentialBackend with 1 concurrent workers.\n",
      "[Parallel(n_jobs=1)]: Done 409 out of 409 | elapsed:  8.0min finished\n",
      "[Parallel(n_jobs=1)]: Using backend SequentialBackend with 1 concurrent workers.\n",
      "[Parallel(n_jobs=1)]: Done 409 out of 409 | elapsed:    0.5s finished\n",
      "[Parallel(n_jobs=1)]: Using backend SequentialBackend with 1 concurrent workers.\n",
      "[Parallel(n_jobs=1)]: Done 409 out of 409 | elapsed:  7.9min finished\n",
      "[Parallel(n_jobs=1)]: Using backend SequentialBackend with 1 concurrent workers.\n",
      "[Parallel(n_jobs=1)]: Done 409 out of 409 | elapsed:    0.5s finished\n",
      "[Parallel(n_jobs=1)]: Using backend SequentialBackend with 1 concurrent workers.\n",
      "[Parallel(n_jobs=1)]: Done 409 out of 409 | elapsed:  8.0min finished\n",
      "[Parallel(n_jobs=1)]: Using backend SequentialBackend with 1 concurrent workers.\n",
      "[Parallel(n_jobs=1)]: Done 409 out of 409 | elapsed:    0.5s finished\n",
      "[Parallel(n_jobs=1)]: Using backend SequentialBackend with 1 concurrent workers.\n",
      "[Parallel(n_jobs=1)]: Done 149 out of 149 | elapsed:  6.1min finished\n",
      "[Parallel(n_jobs=1)]: Using backend SequentialBackend with 1 concurrent workers.\n",
      "[Parallel(n_jobs=1)]: Done 149 out of 149 | elapsed:    0.5s finished\n",
      "[Parallel(n_jobs=1)]: Using backend SequentialBackend with 1 concurrent workers.\n",
      "[Parallel(n_jobs=1)]: Done 149 out of 149 | elapsed:  6.1min finished\n",
      "[Parallel(n_jobs=1)]: Using backend SequentialBackend with 1 concurrent workers.\n",
      "[Parallel(n_jobs=1)]: Done 149 out of 149 | elapsed:    0.5s finished\n",
      "[Parallel(n_jobs=1)]: Using backend SequentialBackend with 1 concurrent workers.\n",
      "[Parallel(n_jobs=1)]: Done 149 out of 149 | elapsed:  6.2min finished\n",
      "[Parallel(n_jobs=1)]: Using backend SequentialBackend with 1 concurrent workers.\n",
      "[Parallel(n_jobs=1)]: Done 149 out of 149 | elapsed:    0.5s finished\n",
      "[Parallel(n_jobs=1)]: Using backend SequentialBackend with 1 concurrent workers.\n",
      "[Parallel(n_jobs=1)]: Done 149 out of 149 | elapsed:  6.3min finished\n",
      "[Parallel(n_jobs=1)]: Using backend SequentialBackend with 1 concurrent workers.\n",
      "[Parallel(n_jobs=1)]: Done 149 out of 149 | elapsed:    0.5s finished\n",
      "[Parallel(n_jobs=1)]: Using backend SequentialBackend with 1 concurrent workers.\n",
      "[Parallel(n_jobs=1)]: Done 149 out of 149 | elapsed:  6.2min finished\n",
      "[Parallel(n_jobs=1)]: Using backend SequentialBackend with 1 concurrent workers.\n",
      "[Parallel(n_jobs=1)]: Done 149 out of 149 | elapsed:    0.5s finished\n",
      "[Parallel(n_jobs=1)]: Using backend SequentialBackend with 1 concurrent workers.\n",
      "[Parallel(n_jobs=1)]: Done 411 out of 411 | elapsed: 12.3min finished\n",
      "[Parallel(n_jobs=1)]: Using backend SequentialBackend with 1 concurrent workers.\n",
      "[Parallel(n_jobs=1)]: Done 411 out of 411 | elapsed:    0.6s finished\n",
      "[Parallel(n_jobs=1)]: Using backend SequentialBackend with 1 concurrent workers.\n",
      "[Parallel(n_jobs=1)]: Done 411 out of 411 | elapsed: 11.6min finished\n",
      "[Parallel(n_jobs=1)]: Using backend SequentialBackend with 1 concurrent workers.\n",
      "[Parallel(n_jobs=1)]: Done 411 out of 411 | elapsed:    0.6s finished\n",
      "[Parallel(n_jobs=1)]: Using backend SequentialBackend with 1 concurrent workers.\n",
      "[Parallel(n_jobs=1)]: Done 411 out of 411 | elapsed: 11.7min finished\n",
      "[Parallel(n_jobs=1)]: Using backend SequentialBackend with 1 concurrent workers.\n",
      "[Parallel(n_jobs=1)]: Done 411 out of 411 | elapsed:    0.6s finished\n",
      "[Parallel(n_jobs=1)]: Using backend SequentialBackend with 1 concurrent workers.\n",
      "[Parallel(n_jobs=1)]: Done 411 out of 411 | elapsed: 11.8min finished\n",
      "[Parallel(n_jobs=1)]: Using backend SequentialBackend with 1 concurrent workers.\n",
      "[Parallel(n_jobs=1)]: Done 411 out of 411 | elapsed:    0.6s finished\n",
      "[Parallel(n_jobs=1)]: Using backend SequentialBackend with 1 concurrent workers.\n",
      "[Parallel(n_jobs=1)]: Done 411 out of 411 | elapsed: 11.8min finished\n",
      "[Parallel(n_jobs=1)]: Using backend SequentialBackend with 1 concurrent workers.\n",
      "[Parallel(n_jobs=1)]: Done 411 out of 411 | elapsed:    0.6s finished\n",
      "[Parallel(n_jobs=1)]: Using backend SequentialBackend with 1 concurrent workers.\n",
      "[Parallel(n_jobs=1)]: Done 306 out of 306 | elapsed: 12.6min finished\n",
      "[Parallel(n_jobs=1)]: Using backend SequentialBackend with 1 concurrent workers.\n",
      "[Parallel(n_jobs=1)]: Done 306 out of 306 | elapsed:    1.0s finished\n",
      "[Parallel(n_jobs=1)]: Using backend SequentialBackend with 1 concurrent workers.\n",
      "[Parallel(n_jobs=1)]: Done 306 out of 306 | elapsed: 12.5min finished\n",
      "[Parallel(n_jobs=1)]: Using backend SequentialBackend with 1 concurrent workers.\n",
      "[Parallel(n_jobs=1)]: Done 306 out of 306 | elapsed:    1.0s finished\n",
      "[Parallel(n_jobs=1)]: Using backend SequentialBackend with 1 concurrent workers.\n",
      "[Parallel(n_jobs=1)]: Done 306 out of 306 | elapsed: 12.6min finished\n",
      "[Parallel(n_jobs=1)]: Using backend SequentialBackend with 1 concurrent workers.\n",
      "[Parallel(n_jobs=1)]: Done 306 out of 306 | elapsed:    1.0s finished\n",
      "[Parallel(n_jobs=1)]: Using backend SequentialBackend with 1 concurrent workers.\n",
      "[Parallel(n_jobs=1)]: Done 306 out of 306 | elapsed: 12.7min finished\n",
      "[Parallel(n_jobs=1)]: Using backend SequentialBackend with 1 concurrent workers.\n",
      "[Parallel(n_jobs=1)]: Done 306 out of 306 | elapsed:    1.0s finished\n",
      "[Parallel(n_jobs=1)]: Using backend SequentialBackend with 1 concurrent workers.\n",
      "[Parallel(n_jobs=1)]: Done 306 out of 306 | elapsed: 12.6min finished\n",
      "[Parallel(n_jobs=1)]: Using backend SequentialBackend with 1 concurrent workers.\n",
      "[Parallel(n_jobs=1)]: Done 306 out of 306 | elapsed:    1.0s finished\n",
      "[Parallel(n_jobs=1)]: Using backend SequentialBackend with 1 concurrent workers.\n",
      "[Parallel(n_jobs=1)]: Done 384 out of 384 | elapsed:  2.6min finished\n",
      "[Parallel(n_jobs=1)]: Using backend SequentialBackend with 1 concurrent workers.\n",
      "[Parallel(n_jobs=1)]: Done 384 out of 384 | elapsed:    0.7s finished\n",
      "[Parallel(n_jobs=1)]: Using backend SequentialBackend with 1 concurrent workers.\n",
      "[Parallel(n_jobs=1)]: Done 384 out of 384 | elapsed:  2.6min finished\n",
      "[Parallel(n_jobs=1)]: Using backend SequentialBackend with 1 concurrent workers.\n",
      "[Parallel(n_jobs=1)]: Done 384 out of 384 | elapsed:    0.7s finished\n",
      "[Parallel(n_jobs=1)]: Using backend SequentialBackend with 1 concurrent workers.\n"
     ]
    }
   ],
   "source": [
    "gpe_rand_search.fit(gpe_X_train, gpe_y_train)"
   ]
  },
  {
   "cell_type": "code",
   "execution_count": null,
   "metadata": {},
   "outputs": [],
   "source": [
    "gpe_best_rf = gpe_rand_search.best_estimator_\n",
    "print('Best hyperparameters:',  gpe_rand_search.best_params_)"
   ]
  },
  {
   "cell_type": "code",
   "execution_count": null,
   "metadata": {},
   "outputs": [],
   "source": [
    "# Save the model as a pickle\n",
    "with open(f'../data/ml_outputs/genophenoenvo_RF_model_{gpe_model_save_suffix}_{gpe_date}_2000_per_class_EMBEDDING_sampling.pk', 'wb') as f:\n",
    "    pickle.dump(gpe_best_rf, f)"
   ]
  },
  {
   "cell_type": "markdown",
   "metadata": {},
   "source": [
    "### Evaluate the model\n",
    "#### Drought + DT"
   ]
  },
  {
   "cell_type": "code",
   "execution_count": 101,
   "metadata": {},
   "outputs": [],
   "source": [
    "# Load the model back in \n",
    "with open(f'../data/ml_outputs/co_occurrence_RF_model_{model_save_suffix}_EMBEDDING_sampling_{date}_2000_small_negative_class.pk', 'rb') as f:\n",
    "    best_rf = pickle.load(f)"
   ]
  },
  {
   "cell_type": "code",
   "execution_count": 102,
   "metadata": {},
   "outputs": [],
   "source": [
    "X_train = train_df.drop(columns='label').to_numpy()\n",
    "y_train = train_df['label'].to_numpy()"
   ]
  },
  {
   "cell_type": "code",
   "execution_count": 103,
   "metadata": {},
   "outputs": [],
   "source": [
    "X_test = test_df.drop(columns='label').to_numpy()\n",
    "y_test = test_df['label'].to_numpy()"
   ]
  },
  {
   "cell_type": "code",
   "execution_count": 104,
   "metadata": {},
   "outputs": [
    {
     "name": "stderr",
     "output_type": "stream",
     "text": [
      "[Parallel(n_jobs=1)]: Using backend SequentialBackend with 1 concurrent workers.\n",
      "[Parallel(n_jobs=1)]: Done 445 out of 445 | elapsed:    0.5s finished\n"
     ]
    }
   ],
   "source": [
    "y_pred = best_rf.predict(X_test)"
   ]
  },
  {
   "cell_type": "code",
   "execution_count": 105,
   "metadata": {},
   "outputs": [],
   "source": [
    "cm = confusion_matrix(y_test, y_pred)"
   ]
  },
  {
   "cell_type": "code",
   "execution_count": 106,
   "metadata": {},
   "outputs": [
    {
     "data": {
      "image/png": "[encoded data removed]",
      "text/plain": [
       "<Figure size 640x480 with 2 Axes>"
      ]
     },
     "metadata": {},
     "output_type": "display_data"
    }
   ],
   "source": [
    "ConfusionMatrixDisplay(confusion_matrix=cm, display_labels=['negative', 'desiccation', 'drought', 'both']).plot();\n",
    "plt.savefig(f'../data/figures/dt_drought_confusion_matrix_EMBEDDING_{model_save_suffix}_{date}_small_negative_class.pdf', transparent='True', format='pdf', dpi=600, bbox_inches='tight')"
   ]
  },
  {
   "cell_type": "code",
   "execution_count": 107,
   "metadata": {},
   "outputs": [
    {
     "name": "stdout",
     "output_type": "stream",
     "text": [
      "The 2,000 sample model achieved an F1 of 0.32.\n"
     ]
    }
   ],
   "source": [
    "f1 = f1_score(y_pred, y_test, average='macro')\n",
    "print(f'The 2,000 sample model achieved an F1 of {f1:.2f}.')"
   ]
  },
  {
   "cell_type": "code",
   "execution_count": 108,
   "metadata": {},
   "outputs": [
    {
     "name": "stderr",
     "output_type": "stream",
     "text": [
      "[Parallel(n_jobs=1)]: Using backend SequentialBackend with 1 concurrent workers.\n"
     ]
    },
    {
     "name": "stdout",
     "output_type": "stream",
     "text": [
      "The 2,000 sample model achieved an AUROC of 0.69.\n"
     ]
    },
    {
     "name": "stderr",
     "output_type": "stream",
     "text": [
      "[Parallel(n_jobs=1)]: Done 445 out of 445 | elapsed:    0.5s finished\n"
     ]
    }
   ],
   "source": [
    "aucroc_score = roc_auc_score(y_test, best_rf.predict_proba(X_test), average='macro', multi_class='ovr')\n",
    "print(f'The 2,000 sample model achieved an AUROC of {aucroc_score:.2f}.')"
   ]
  },
  {
   "cell_type": "markdown",
   "metadata": {},
   "source": [
    "We also want to visualize the curve that was used to calculate the AUROC. In a multi-class scenario it's a little more complicated, as the overall score is a composite of either One-vs-Rest, where each class is compared against all others, or One-vs-One, which each pair of classes is compared. We'll follow the tutorial from sklearn [here](https://scikit-learn.org/stable/auto_examples/model_selection/plot_roc.html#roc-curve-using-the-ovr-macro-average) to plot the macro averaged curves for One-vs-Rest, which is what was used to calculate the score above."
   ]
  },
  {
   "cell_type": "code",
   "execution_count": 109,
   "metadata": {},
   "outputs": [
    {
     "name": "stderr",
     "output_type": "stream",
     "text": [
      "[Parallel(n_jobs=1)]: Using backend SequentialBackend with 1 concurrent workers.\n",
      "[Parallel(n_jobs=1)]: Done 445 out of 445 | elapsed:    0.5s finished\n"
     ]
    }
   ],
   "source": [
    "y_score = best_rf.predict_proba(X_test)"
   ]
  },
  {
   "cell_type": "code",
   "execution_count": 110,
   "metadata": {},
   "outputs": [
    {
     "data": {
      "text/plain": [
       "(3999, 4)"
      ]
     },
     "execution_count": 110,
     "metadata": {},
     "output_type": "execute_result"
    }
   ],
   "source": [
    "label_binarizer = LabelBinarizer().fit(y_train)\n",
    "y_onehot_test = label_binarizer.transform(y_test)\n",
    "y_onehot_test.shape  # (n_samples, n_classes)"
   ]
  },
  {
   "cell_type": "code",
   "execution_count": 111,
   "metadata": {},
   "outputs": [],
   "source": [
    "def auc_scores(y_onehot_test, y_score, label_map):\n",
    "    \"\"\"\n",
    "    Get the ROC and PR curves, plus the AUROC and AP metrics for each class, and\n",
    "    averaged for multiclass.\n",
    "    \"\"\"\n",
    "    fpr = dict()\n",
    "    tpr = dict()\n",
    "    roc_auc = dict()\n",
    "    prec = dict()\n",
    "    rec = dict()\n",
    "    prc_auc = dict()\n",
    "    n_classes = len(label_map)\n",
    "    for i in range(n_classes):\n",
    "        fpr[i], tpr[i], _ = roc_curve(y_onehot_test[:, i], y_score[:, i])\n",
    "        roc_auc[i] = auc(fpr[i], tpr[i])\n",
    "        prec[i], rec[i], _ = precision_recall_curve(y_onehot_test[:, i], y_score[:, i])\n",
    "        prc_auc[i] = average_precision_score(y_onehot_test[:, i], y_score[:, i])\n",
    "\n",
    "    # ROC\n",
    "    fpr_grid = np.linspace(0.0, 1.0, 1000)\n",
    "    mean_tpr = np.zeros_like(fpr_grid)\n",
    "    for i in range(n_classes):\n",
    "        mean_tpr += np.interp(fpr_grid, fpr[i], tpr[i])  # linear interpolation\n",
    "    # Average it and compute AUC\n",
    "    mean_tpr /= n_classes\n",
    "    fpr[\"macro\"] = fpr_grid\n",
    "    tpr[\"macro\"] = mean_tpr\n",
    "    roc_auc[\"macro\"] = auc(fpr[\"macro\"], tpr[\"macro\"])\n",
    "    \n",
    "    # PRC\n",
    "    prec[\"micro\"], rec[\"micro\"], _ = precision_recall_curve(\n",
    "    y_onehot_test.ravel(), y_score.ravel()\n",
    "    )\n",
    "    prc_auc[\"micro\"] = average_precision_score(y_onehot_test, y_score, average=\"micro\")\n",
    "    prc_auc[\"macro\"] = average_precision_score(y_onehot_test, y_score, average=\"macro\")\n",
    "\n",
    "    return fpr, tpr, roc_auc, rec, prec, prc_auc, n_classes"
   ]
  },
  {
   "cell_type": "code",
   "execution_count": 112,
   "metadata": {},
   "outputs": [],
   "source": [
    "fpr, tpr, roc_auc, rec, prec, prc_auc, n_classes = auc_scores(y_onehot_test, y_score, label_map)"
   ]
  },
  {
   "cell_type": "code",
   "execution_count": 113,
   "metadata": {},
   "outputs": [
    {
     "data": {
      "image/png": "[encoded data removed]",
      "text/plain": [
       "<Figure size 600x600 with 1 Axes>"
      ]
     },
     "metadata": {},
     "output_type": "display_data"
    }
   ],
   "source": [
    "reverse_label_map = {v: k for k, v in label_map.items()}\n",
    "fig, ax = plt.subplots(figsize=(6, 6))\n",
    "\n",
    "plt.plot(\n",
    "    fpr[\"macro\"],\n",
    "    tpr[\"macro\"],\n",
    "    label=f\"macro-average ROC curve (AUC = {roc_auc['macro']:.2f})\",\n",
    "    color=\"deeppink\",\n",
    "    linestyle=\"dashdot\",\n",
    ")\n",
    "\n",
    "colors = cycle([\"aqua\", \"darkorange\", \"cornflowerblue\", \"springgreen\"])\n",
    "for class_id, color in zip(range(n_classes), colors):\n",
    "    RocCurveDisplay.from_predictions(\n",
    "        y_onehot_test[:, class_id],\n",
    "        y_score[:, class_id],\n",
    "        name=f\"ROC curve for {reverse_label_map[class_id]}\",\n",
    "        color=color,\n",
    "        ax=ax,\n",
    "        plot_chance_level=(class_id == 3),\n",
    "    )\n",
    "_ = ax.set_xlabel(\"False Positive Rate\")\n",
    "_ = ax.set_ylabel(\"True Positive Rate\")\n",
    "# _ = ax.set_xlabel(\"False Positive Rate\", color='white')\n",
    "# _ = ax.set_ylabel(\"True Positive Rate\", color='white')\n",
    "ax.legend(loc=(1.1,0))\n",
    "# ax.spines[['bottom', 'top', 'left', 'right']].set_color('white')\n",
    "# ax.tick_params(axis='x', colors='white')\n",
    "# ax.tick_params(axis='y', colors='white')\n",
    "plt.savefig(f'../data/figures/dt_drought_AUROC_EMBEDDING_{model_save_suffix}_{date}_small_negative_class.pdf', transparent='True', format='pdf', dpi=600, bbox_inches='tight')"
   ]
  },
  {
   "cell_type": "code",
   "execution_count": 114,
   "metadata": {},
   "outputs": [
    {
     "data": {
      "text/plain": [
       "<matplotlib.legend.Legend at 0x2aef2ff36da0>"
      ]
     },
     "execution_count": 114,
     "metadata": {},
     "output_type": "execute_result"
    },
    {
     "data": {
      "image/png": "[encoded data removed]",
      "text/plain": [
       "<Figure size 600x600 with 1 Axes>"
      ]
     },
     "metadata": {},
     "output_type": "display_data"
    }
   ],
   "source": [
    "reverse_label_map = {v: k for k, v in label_map.items()}\n",
    "fig, ax = plt.subplots(figsize=(6, 6))\n",
    "\n",
    "plt.plot(\n",
    "    rec[\"micro\"],\n",
    "    prec[\"micro\"],\n",
    "    label=f\"micro-average PR curve (AP = {prc_auc['micro']:.2f})\",\n",
    "    color=\"deeppink\",\n",
    "    linestyle=\"dashdot\",\n",
    ")\n",
    "\n",
    "plt.rcParams[\"axes.prop_cycle\"] = plt.cycler(\"color\", plt.cm.tab20c.colors)\n",
    "for class_id in range(n_classes):\n",
    "    PrecisionRecallDisplay.from_predictions(\n",
    "        y_onehot_test[:, class_id],\n",
    "        y_score[:, class_id],\n",
    "        name=reverse_label_map[class_id],\n",
    "#         color=color,\n",
    "        ax=ax,\n",
    "        ## Can only plot a random chance line for each class individually\n",
    "#         plot_chance_level=(class_id == gpe_n_classes - 1),\n",
    "#         prevalence_pos_label=len(gpe_y_onehot_test[:, class_id])/len(gpe_y_onehot_test[:])\n",
    "    )\n",
    "\n",
    "_ = ax.set_xlabel(\"Recall\")\n",
    "_ = ax.set_ylabel(\"Precision\")\n",
    "# _ = ax.set_xlabel(\"Recall\", color='white')\n",
    "# _ = ax.set_ylabel(\"Precision\", color='white')\n",
    "ax.legend(loc=(1.1,0))\n",
    "# ax.spines[['bottom', 'top', 'left', 'right']].set_color('white')\n",
    "# ax.tick_params(axis='x', colors='white')\n",
    "# ax.tick_params(axis='y', colors='white')\n",
    "plt.savefig(f'../data/figures/drought_dt_AUPRC_EMBEDDING_{model_save_suffix}_{date}.pdf', transparent='True', format='pdf', dpi=600, bbox_inches='tight')\n",
    "ax.legend(loc=(1.1,0))"
   ]
  },
  {
   "cell_type": "markdown",
   "metadata": {},
   "source": [
    "#### Genophenoenvo"
   ]
  },
  {
   "cell_type": "code",
   "execution_count": null,
   "metadata": {},
   "outputs": [],
   "source": [
    "# Load the model back in \n",
    "with open(f'../data/ml_outputs/genophenoenvo_RF_model_{gpe_model_save_suffix}_{gpe_date}_2000_per_class_EMBEDDING_sampling.pk', 'rb') as f:\n",
    "    gpe_best_rf = pickle.load(f)"
   ]
  },
  {
   "cell_type": "code",
   "execution_count": null,
   "metadata": {},
   "outputs": [],
   "source": [
    "gpe_y_pred = gpe_best_rf.predict(gpe_X_test)"
   ]
  },
  {
   "cell_type": "code",
   "execution_count": null,
   "metadata": {},
   "outputs": [],
   "source": [
    "gpe_cm = confusion_matrix(gpe_y_test, gpe_y_pred)"
   ]
  },
  {
   "cell_type": "code",
   "execution_count": null,
   "metadata": {},
   "outputs": [],
   "source": [
    "ConfusionMatrixDisplay(confusion_matrix=gpe_cm).plot();\n",
    "plt.savefig(f'../data/figures/gpe_confusion_matrix_EMBEDDING_{gpe_model_save_prefix}_{gpe_date}.pdf', transparent='True', format='pdf', dpi=600, bbox_inches='tight')"
   ]
  },
  {
   "cell_type": "code",
   "execution_count": null,
   "metadata": {},
   "outputs": [],
   "source": [
    "gpe_label_binarizer = LabelBinarizer().fit(gpe_y_train)\n",
    "gpe_y_onehot_test = gpe_label_binarizer.transform(gpe_y_test)\n",
    "gpe_y_onehot_test.shape  # (n_samples, n_classes)"
   ]
  },
  {
   "cell_type": "code",
   "execution_count": null,
   "metadata": {},
   "outputs": [],
   "source": [
    "gpe_y_score = gpe_best_rf.predict_proba(gpe_X_test)"
   ]
  },
  {
   "cell_type": "code",
   "execution_count": null,
   "metadata": {},
   "outputs": [],
   "source": [
    "gpe_fpr, gpe_tpr, gpe_roc_auc, gpe_rec, gpe_prec, gpe_prc_auc, gpe_n_classes = auc_scores(gpe_y_onehot_test, gpe_y_score, gpe_label_map)"
   ]
  },
  {
   "cell_type": "code",
   "execution_count": null,
   "metadata": {},
   "outputs": [],
   "source": [
    "gpe_reverse_label_map = {v: k for k, v in gpe_label_map.items()}\n",
    "fig, ax = plt.subplots(figsize=(6, 6))\n",
    "\n",
    "plt.plot(\n",
    "    gpe_fpr[\"macro\"],\n",
    "    gpe_tpr[\"macro\"],\n",
    "    label=f\"macro-average ROC curve (AUC = {gpe_roc_auc['macro']:.2f})\",\n",
    "    color=\"deeppink\",\n",
    "    linestyle=\"dashdot\",\n",
    ")\n",
    "\n",
    "plt.rcParams[\"axes.prop_cycle\"] = plt.cycler(\"color\", plt.cm.tab20c.colors)\n",
    "for class_id in range(gpe_n_classes):\n",
    "    RocCurveDisplay.from_predictions(\n",
    "        gpe_y_onehot_test[:, class_id],\n",
    "        gpe_y_score[:, class_id],\n",
    "        name=gpe_reverse_label_map[class_id],\n",
    "#         color=color,\n",
    "        ax=ax,\n",
    "        plot_chance_level=(class_id == gpe_n_classes - 1),\n",
    "    )\n",
    "\n",
    "_ = ax.set_xlabel(\"False Positive Rate\")\n",
    "_ = ax.set_ylabel(\"True Positive Rate\")\n",
    "# _ = ax.set_xlabel(\"False Positive Rate\", color='white')\n",
    "# _ = ax.set_ylabel(\"True Positive Rate\", color='white')\n",
    "ax.legend(loc=(1.1,0))\n",
    "# ax.spines[['bottom', 'top', 'left', 'right']].set_color('white')\n",
    "# ax.tick_params(axis='x', colors='white')\n",
    "# ax.tick_params(axis='y', colors='white')\n",
    "plt.savefig(f'../data/figures/gpe_AUROC_EMBEDDING_{gpe_model_save_suffix}_{gpe_date}.pdf', transparent='True', format='pdf', dpi=600, bbox_inches='tight')\n",
    "ax.legend(loc=(1.1,0))"
   ]
  },
  {
   "cell_type": "code",
   "execution_count": null,
   "metadata": {},
   "outputs": [],
   "source": [
    "gpe_reverse_label_map = {v: k for k, v in gpe_label_map.items()}\n",
    "fig, ax = plt.subplots(figsize=(6, 6))\n",
    "\n",
    "plt.plot(\n",
    "    gpe_rec[\"micro\"],\n",
    "    gpe_prec[\"micro\"],\n",
    "    label=f\"micro-average PR curve (AUC = {gpe_prc_auc['micro']:.2f})\",\n",
    "    color=\"deeppink\",\n",
    "    linestyle=\"dashdot\",\n",
    ")\n",
    "\n",
    "plt.rcParams[\"axes.prop_cycle\"] = plt.cycler(\"color\", plt.cm.tab20c.colors)\n",
    "for class_id in range(gpe_n_classes):\n",
    "    PrecisionRecallDisplay.from_predictions(\n",
    "        gpe_y_onehot_test[:, class_id],\n",
    "        gpe_y_score[:, class_id],\n",
    "        name=gpe_reverse_label_map[class_id],\n",
    "#         color=color,\n",
    "        ax=ax,\n",
    "        ## Can only plot a random chance line for each class individually\n",
    "#         plot_chance_level=(class_id == gpe_n_classes - 1),\n",
    "#         prevalence_pos_label=len(gpe_y_onehot_test[:, class_id])/len(gpe_y_onehot_test[:])\n",
    "    )\n",
    "\n",
    "_ = ax.set_xlabel(\"Recall\")\n",
    "_ = ax.set_ylabel(\"Precision\")\n",
    "# _ = ax.set_xlabel(\"Recall\", color='white')\n",
    "# _ = ax.set_ylabel(\"Precision\", color='white')\n",
    "ax.legend(loc=(1.1,0))\n",
    "# ax.spines[['bottom', 'top', 'left', 'right']].set_color('white')\n",
    "# ax.tick_params(axis='x', colors='white')\n",
    "# ax.tick_params(axis='y', colors='white')\n",
    "plt.savefig(f'../data/figures/gpe_AUPRC_EMBEDDING_{gpe_model_save_suffix}_{gpe_date}.png', transparent='True', format='png', dpi=600, bbox_inches='tight')\n",
    "ax.legend(loc=(1.1,0))"
   ]
  },
  {
   "cell_type": "markdown",
   "metadata": {},
   "source": [
    "We want to see the correlation between the number of relations of each type in the full GenoPhenoEnvo graph and the AUROC for that class:"
   ]
  },
  {
   "cell_type": "code",
   "execution_count": null,
   "metadata": {},
   "outputs": [],
   "source": [
    "gpe_rel_type_counts = defaultdict(int)\n",
    "for e1, e2, attrs in gpe_graph.edges(data=True):\n",
    "    if attrs['predicate'] in gpe_label_map.keys():\n",
    "        gpe_rel_type_counts[attrs['predicate']] += 1"
   ]
  },
  {
   "cell_type": "code",
   "execution_count": null,
   "metadata": {},
   "outputs": [],
   "source": [
    "x = []\n",
    "y = []\n",
    "for rtype, typint in gpe_label_map.items():\n",
    "    x.append(gpe_rel_type_counts[rtype])\n",
    "    y.append(gpe_roc_auc[typint])"
   ]
  },
  {
   "cell_type": "code",
   "execution_count": null,
   "metadata": {},
   "outputs": [],
   "source": [
    "plt.scatter(x, y, color='gold')\n",
    "plt.xlabel('Number of edges with label in graph')\n",
    "plt.ylabel('AUROC for label')"
   ]
  },
  {
   "cell_type": "markdown",
   "metadata": {},
   "source": [
    "There is no relationship between number of edges in the graph and AUROC, which is excellent, because the training set was balanced so it shouldn't matter."
   ]
  },
  {
   "cell_type": "markdown",
   "metadata": {},
   "source": [
    "Do a PCA on the embeddings to see if the perfectly predicted class groups by itself in the training set:"
   ]
  },
  {
   "cell_type": "code",
   "execution_count": null,
   "metadata": {},
   "outputs": [],
   "source": [
    "pca = PCA(n_components=2)\n",
    "gpe_X_pca = pca.fit_transform(gpe_X_train)\n",
    "print(pca.explained_variance_ratio_)"
   ]
  },
  {
   "cell_type": "code",
   "execution_count": null,
   "metadata": {},
   "outputs": [],
   "source": [
    "plt.scatter(x=gpe_X_pca[:,0], y=gpe_X_pca[:,1], c=gpe_y_train, cmap='viridis')"
   ]
  },
  {
   "cell_type": "markdown",
   "metadata": {},
   "source": [
    "It certainly doesn't look like any classes separate, but the first two PC's barely explain any variance, so it's not likely that we would really see it here anyway."
   ]
  },
  {
   "cell_type": "markdown",
   "metadata": {},
   "source": [
    "## Using PyKEEN built-in prediction\n",
    "It looks like a simple RF model with just the node embeddings isn't going to cut it for prediction. Let's try the built-in PyKEEN prediction methods and see if we can do any better.\n",
    "\n",
    "The tricky thing about link prediction is choosing *what to predict*. In the above RF case, we asked about a (relatively) random set of 8,000 triples in the test set. In PyKEEN, while there is an option to `predict_all` triples, it's very computationally expensive because it involves calculating the score for every single possible triple. Therefore, we can do a few different things, like, given a head entity, predict the likelihood of anything being a tail entity, or get scores for a list of triples. For the sake of being able to compare these results with the RF model above, let's ask it to predict the types of the triples in the same test set. Since it wants a predicate for a given triple, we will choose predicates randomly from the three options for the negative samples."
   ]
  },
  {
   "cell_type": "markdown",
   "metadata": {},
   "source": [
    "### Drought + DT"
   ]
  },
  {
   "cell_type": "markdown",
   "metadata": {},
   "source": [
    "I didn't save the original predicates for the negative triples when I ran RF, which is an issue here. For now, I am going to regenerate the negative triples here and save them out. I can regenerate train and test dataframes to redo the RF models if necessary.\n",
    "\n",
    "Using `neg_balance='one'` because this is essentially a test set that I'm generating, and it should be balanced."
   ]
  },
  {
   "cell_type": "code",
   "execution_count": 33,
   "metadata": {},
   "outputs": [
    {
     "name": "stderr",
     "output_type": "stream",
     "text": [
      "100%|██████████| 3/3 [00:02<00:00,  1.48it/s]\n",
      "100%|██████████| 3/3 [00:00<00:00,  3.16it/s]\n"
     ]
    }
   ],
   "source": [
    "train_pairs = get_class_pairs(train_trips_semantic, num_inst=2000, sampling_method='embedding', node_reps=my_model.entity_representations[0](), ent_map=checkpoint['entity_to_id_dict'], neg_balance='one')\n",
    "test_pairs = get_class_pairs(test_trips_semantic, num_inst=1000, sampling_method='embedding', node_reps=my_model.entity_representations[0](), ent_map=checkpoint['entity_to_id_dict'], neg_balance='one')"
   ]
  },
  {
   "cell_type": "code",
   "execution_count": 34,
   "metadata": {},
   "outputs": [],
   "source": [
    "with open('../data/ml_inputs/dt_drought_training_triples_with_neg_predicates_test_balanced_10Jul2024.json', 'w') as f:\n",
    "    json.dump(train_pairs, f)\n",
    "with open('../data/ml_inputs/dt_drought_testing_triples_with_neg_predicates_test_balanced_10Jul2024.json', 'w') as f:\n",
    "    json.dump(test_pairs, f)"
   ]
  },
  {
   "cell_type": "code",
   "execution_count": 35,
   "metadata": {},
   "outputs": [],
   "source": [
    "positive_test_triples = [\n",
    "    (t[0], p, t[1])\n",
    "    for p, trips in test_pairs['positives'].items()\n",
    "    for t in trips\n",
    "]\n",
    "negative_test_triples = [\n",
    "    (t[0], p, t[1])\n",
    "    for p, trips in test_pairs['negatives'].items()\n",
    "    for t in trips\n",
    "]"
   ]
  },
  {
   "cell_type": "code",
   "execution_count": 90,
   "metadata": {},
   "outputs": [],
   "source": [
    "## RANDOM SAMPLING METHOD\n",
    "# # Restore the ones from the saved training data\n",
    "# train_pairs = {lab: [literal_eval(tup) for tup in train_df[train_df['label'] == label_map[lab]].index.tolist()] for lab in label_map.keys()}\n",
    "# test_pairs = {lab: [literal_eval(tup) for tup in test_df[test_df['label'] == label_map[lab]].index.tolist()] for lab in label_map.keys()}\n",
    "\n",
    "# test_trips = []\n",
    "# negative_trips = []\n",
    "# for lab, pairs in test_pairs.items():\n",
    "#     if lab == 'negative':\n",
    "#         predicate = choice(['desiccation', 'drought', 'both'])\n",
    "#         negative_trips.extend([(pair[0], predicate, pair[1]) for pair in pairs])\n",
    "#     else:\n",
    "#         predicate = lab\n",
    "#     test_trips.extend([(pair[0], predicate, pair[1]) for pair in pairs])"
   ]
  },
  {
   "cell_type": "code",
   "execution_count": 58,
   "metadata": {},
   "outputs": [
    {
     "name": "stderr",
     "output_type": "stream",
     "text": [
      "Using maximize_memory_utilization on non-CUDA tensors. This may lead to undocumented crashes due to CPU OOM killer.\n"
     ]
    }
   ],
   "source": [
    "scores = predict.predict_triples(\n",
    "    model=my_model,\n",
    "    triples=positive_test_triples + negative_test_triples,\n",
    "    triples_factory=testing,\n",
    ")"
   ]
  },
  {
   "cell_type": "code",
   "execution_count": 59,
   "metadata": {},
   "outputs": [],
   "source": [
    "score_df = scores.process(testing).df"
   ]
  },
  {
   "cell_type": "code",
   "execution_count": 60,
   "metadata": {},
   "outputs": [
    {
     "data": {
      "text/html": [
       "<div>\n",
       "<style scoped>\n",
       "    .dataframe tbody tr th:only-of-type {\n",
       "        vertical-align: middle;\n",
       "    }\n",
       "\n",
       "    .dataframe tbody tr th {\n",
       "        vertical-align: top;\n",
       "    }\n",
       "\n",
       "    .dataframe thead th {\n",
       "        text-align: right;\n",
       "    }\n",
       "</style>\n",
       "<table border=\"1\" class=\"dataframe\">\n",
       "  <thead>\n",
       "    <tr style=\"text-align: right;\">\n",
       "      <th></th>\n",
       "      <th>head_id</th>\n",
       "      <th>head_label</th>\n",
       "      <th>relation_id</th>\n",
       "      <th>relation_label</th>\n",
       "      <th>tail_id</th>\n",
       "      <th>tail_label</th>\n",
       "      <th>score</th>\n",
       "    </tr>\n",
       "  </thead>\n",
       "  <tbody>\n",
       "    <tr>\n",
       "      <th>0</th>\n",
       "      <td>71540</td>\n",
       "      <td>corticolous bryophytes</td>\n",
       "      <td>0</td>\n",
       "      <td>both</td>\n",
       "      <td>21893</td>\n",
       "      <td>antarctic beech ( nothofagus moorei</td>\n",
       "      <td>0.000010</td>\n",
       "    </tr>\n",
       "    <tr>\n",
       "      <th>1</th>\n",
       "      <td>61377</td>\n",
       "      <td>chi a fluorescence emission</td>\n",
       "      <td>0</td>\n",
       "      <td>both</td>\n",
       "      <td>196397</td>\n",
       "      <td>parmelia quercina ( willd</td>\n",
       "      <td>0.000007</td>\n",
       "    </tr>\n",
       "    <tr>\n",
       "      <th>2</th>\n",
       "      <td>168998</td>\n",
       "      <td>mormon crickets</td>\n",
       "      <td>0</td>\n",
       "      <td>both</td>\n",
       "      <td>290264</td>\n",
       "      <td>wheatme</td>\n",
       "      <td>0.000007</td>\n",
       "    </tr>\n",
       "    <tr>\n",
       "      <th>3</th>\n",
       "      <td>15110</td>\n",
       "      <td>agapanthus praecox</td>\n",
       "      <td>0</td>\n",
       "      <td>both</td>\n",
       "      <td>198621</td>\n",
       "      <td>pec3h74</td>\n",
       "      <td>0.000007</td>\n",
       "    </tr>\n",
       "    <tr>\n",
       "      <th>4</th>\n",
       "      <td>67295</td>\n",
       "      <td>cml444</td>\n",
       "      <td>0</td>\n",
       "      <td>both</td>\n",
       "      <td>11586</td>\n",
       "      <td>ac7729tzsrw</td>\n",
       "      <td>0.000005</td>\n",
       "    </tr>\n",
       "  </tbody>\n",
       "</table>\n",
       "</div>"
      ],
      "text/plain": [
       "   head_id                   head_label  relation_id relation_label  tail_id  \\\n",
       "0    71540       corticolous bryophytes            0           both    21893   \n",
       "1    61377  chi a fluorescence emission            0           both   196397   \n",
       "2   168998              mormon crickets            0           both   290264   \n",
       "3    15110           agapanthus praecox            0           both   198621   \n",
       "4    67295                       cml444            0           both    11586   \n",
       "\n",
       "                            tail_label     score  \n",
       "0  antarctic beech ( nothofagus moorei  0.000010  \n",
       "1            parmelia quercina ( willd  0.000007  \n",
       "2                              wheatme  0.000007  \n",
       "3                              pec3h74  0.000007  \n",
       "4                          ac7729tzsrw  0.000005  "
      ]
     },
     "execution_count": 60,
     "metadata": {},
     "output_type": "execute_result"
    }
   ],
   "source": [
    "score_df = score_df.sort_values(by='score', ascending=False).reset_index(drop=True)\n",
    "score_df.head()"
   ]
  },
  {
   "cell_type": "markdown",
   "metadata": {},
   "source": [
    "Add back a column to check which triples were supposed to be negative:"
   ]
  },
  {
   "cell_type": "code",
   "execution_count": 61,
   "metadata": {},
   "outputs": [],
   "source": [
    "def is_negative(row):\n",
    "    if (row.head_label, row.relation_label, row.tail_label) in negative_test_triples:\n",
    "        return True\n",
    "    else:\n",
    "        return False"
   ]
  },
  {
   "cell_type": "code",
   "execution_count": 62,
   "metadata": {},
   "outputs": [],
   "source": [
    "score_df['is_negative'] = score_df.apply(is_negative, axis=1)"
   ]
  },
  {
   "cell_type": "code",
   "execution_count": 63,
   "metadata": {},
   "outputs": [
    {
     "data": {
      "text/html": [
       "<div>\n",
       "<style scoped>\n",
       "    .dataframe tbody tr th:only-of-type {\n",
       "        vertical-align: middle;\n",
       "    }\n",
       "\n",
       "    .dataframe tbody tr th {\n",
       "        vertical-align: top;\n",
       "    }\n",
       "\n",
       "    .dataframe thead th {\n",
       "        text-align: right;\n",
       "    }\n",
       "</style>\n",
       "<table border=\"1\" class=\"dataframe\">\n",
       "  <thead>\n",
       "    <tr style=\"text-align: right;\">\n",
       "      <th></th>\n",
       "      <th>head_id</th>\n",
       "      <th>head_label</th>\n",
       "      <th>relation_id</th>\n",
       "      <th>relation_label</th>\n",
       "      <th>tail_id</th>\n",
       "      <th>tail_label</th>\n",
       "      <th>score</th>\n",
       "      <th>is_negative</th>\n",
       "    </tr>\n",
       "  </thead>\n",
       "  <tbody>\n",
       "    <tr>\n",
       "      <th>0</th>\n",
       "      <td>71540</td>\n",
       "      <td>corticolous bryophytes</td>\n",
       "      <td>0</td>\n",
       "      <td>both</td>\n",
       "      <td>21893</td>\n",
       "      <td>antarctic beech ( nothofagus moorei</td>\n",
       "      <td>0.000010</td>\n",
       "      <td>False</td>\n",
       "    </tr>\n",
       "    <tr>\n",
       "      <th>1</th>\n",
       "      <td>61377</td>\n",
       "      <td>chi a fluorescence emission</td>\n",
       "      <td>0</td>\n",
       "      <td>both</td>\n",
       "      <td>196397</td>\n",
       "      <td>parmelia quercina ( willd</td>\n",
       "      <td>0.000007</td>\n",
       "      <td>False</td>\n",
       "    </tr>\n",
       "    <tr>\n",
       "      <th>2</th>\n",
       "      <td>168998</td>\n",
       "      <td>mormon crickets</td>\n",
       "      <td>0</td>\n",
       "      <td>both</td>\n",
       "      <td>290264</td>\n",
       "      <td>wheatme</td>\n",
       "      <td>0.000007</td>\n",
       "      <td>True</td>\n",
       "    </tr>\n",
       "    <tr>\n",
       "      <th>3</th>\n",
       "      <td>15110</td>\n",
       "      <td>agapanthus praecox</td>\n",
       "      <td>0</td>\n",
       "      <td>both</td>\n",
       "      <td>198621</td>\n",
       "      <td>pec3h74</td>\n",
       "      <td>0.000007</td>\n",
       "      <td>True</td>\n",
       "    </tr>\n",
       "    <tr>\n",
       "      <th>4</th>\n",
       "      <td>67295</td>\n",
       "      <td>cml444</td>\n",
       "      <td>0</td>\n",
       "      <td>both</td>\n",
       "      <td>11586</td>\n",
       "      <td>ac7729tzsrw</td>\n",
       "      <td>0.000005</td>\n",
       "      <td>False</td>\n",
       "    </tr>\n",
       "  </tbody>\n",
       "</table>\n",
       "</div>"
      ],
      "text/plain": [
       "   head_id                   head_label  relation_id relation_label  tail_id  \\\n",
       "0    71540       corticolous bryophytes            0           both    21893   \n",
       "1    61377  chi a fluorescence emission            0           both   196397   \n",
       "2   168998              mormon crickets            0           both   290264   \n",
       "3    15110           agapanthus praecox            0           both   198621   \n",
       "4    67295                       cml444            0           both    11586   \n",
       "\n",
       "                            tail_label     score  is_negative  \n",
       "0  antarctic beech ( nothofagus moorei  0.000010        False  \n",
       "1            parmelia quercina ( willd  0.000007        False  \n",
       "2                              wheatme  0.000007         True  \n",
       "3                              pec3h74  0.000007         True  \n",
       "4                          ac7729tzsrw  0.000005        False  "
      ]
     },
     "execution_count": 63,
     "metadata": {},
     "output_type": "execute_result"
    }
   ],
   "source": [
    "score_df.head()"
   ]
  },
  {
   "cell_type": "markdown",
   "metadata": {},
   "source": [
    "Since we used `BCEWithLogitsLoss`, the scores were optimized around a global threshold of 0 to separate positive and negative triples. Any triple with a positive score should be a true triple, and a negative score means they should be negative. Let's take a look at the score distributions to see if this is the case:"
   ]
  },
  {
   "cell_type": "markdown",
   "metadata": {},
   "source": [
    "We want to see where the negative triples rank in the scoring. We would like them to be at the bottom if the model is performing well:"
   ]
  },
  {
   "cell_type": "code",
   "execution_count": 64,
   "metadata": {},
   "outputs": [],
   "source": [
    "neg_scores = score_df[score_df['is_negative']].score.tolist()\n",
    "pos_scores = score_df[~score_df['is_negative']].score.tolist()"
   ]
  },
  {
   "cell_type": "code",
   "execution_count": 65,
   "metadata": {},
   "outputs": [
    {
     "data": {
      "text/plain": [
       "Text(0.5, 0.01, 'Score')"
      ]
     },
     "execution_count": 65,
     "metadata": {},
     "output_type": "execute_result"
    },
    {
     "data": {
      "image/png": "[encoded data removed]",
      "text/plain": [
       "<Figure size 640x480 with 2 Axes>"
      ]
     },
     "metadata": {},
     "output_type": "display_data"
    }
   ],
   "source": [
    "# Code from https://matplotlib.org/2.0.2/examples/pylab_examples/broken_axis.html\n",
    "fig, (ax1, ax2) = plt.subplots(2, 1, sharex=True)\n",
    "\n",
    "bins = np.histogram(np.hstack((pos_scores, neg_scores)), bins=50)[1]\n",
    "\n",
    "_ = ax1.hist(pos_scores, bins, color='deeppink', alpha=0.5, label='True positive triples')\n",
    "_ = ax1.hist(neg_scores, bins, color='indigo', alpha=0.5, label='True negative triples')\n",
    "_ = ax2.hist(pos_scores, bins, color='deeppink', alpha=0.5, label='True positive triples')\n",
    "_ = ax2.hist(neg_scores, bins, color='indigo', alpha=0.5, label='True negative triples')\n",
    "\n",
    "# Get max y-value\n",
    "maxy = ax1.get_ylim()[1]\n",
    "basemax = plt.yticks()[0][-3]\n",
    "\n",
    "# Set the y limits\n",
    "ax1.set_ylim(basemax, maxy)\n",
    "ax2.set_ylim(0, 600) # Got by trial end error\n",
    "\n",
    "# Finish formatting\n",
    "ax1.spines['bottom'].set_visible(False)\n",
    "ax2.spines['top'].set_visible(False)\n",
    "ax1.xaxis.tick_top()\n",
    "ax1.tick_params(labeltop=False, top=False)  # don't put tick labels at the top\n",
    "ax2.xaxis.tick_bottom()\n",
    "\n",
    "# Add the cut diagonals\n",
    "d = .015  # how big to make the diagonal lines in axes coordinates\n",
    "# arguments to pass to plot, just so we don't keep repeating them\n",
    "kwargs = dict(transform=ax1.transAxes, color='k', clip_on=False)\n",
    "ax1.plot((-d, +d), (-d, +d), **kwargs)        # top-left diagonal\n",
    "ax1.plot((1 - d, 1 + d), (-d, +d), **kwargs)  # top-right diagonal\n",
    "\n",
    "kwargs.update(transform=ax2.transAxes)  # switch to the bottom axes\n",
    "ax2.plot((-d, +d), (1 - d, 1 + d), **kwargs)  # bottom-left diagonal\n",
    "ax2.plot((1 - d, 1 + d), (1 - d, 1 + d), **kwargs)  # bottom-right diagonal\n",
    "\n",
    "_ = ax1.legend(loc='upper left')\n",
    "fig.supylabel('Number of triples')\n",
    "fig.supxlabel('Score')\n",
    "plt.savefig(f'../data/figures/dt_triple_score_distributions_{model_save_suffix}.pdf', format='pdf', dpi=600, bbox_inches='tight')"
   ]
  },
  {
   "cell_type": "code",
   "execution_count": 66,
   "metadata": {},
   "outputs": [],
   "source": [
    "neg_ranks = score_df[score_df['is_negative']].index.tolist()"
   ]
  },
  {
   "cell_type": "code",
   "execution_count": 67,
   "metadata": {},
   "outputs": [],
   "source": [
    "pos_ranks = score_df[~score_df['is_negative']].index.tolist()"
   ]
  },
  {
   "cell_type": "code",
   "execution_count": 68,
   "metadata": {},
   "outputs": [
    {
     "data": {
      "text/plain": [
       "<matplotlib.legend.Legend at 0x2af16907fb20>"
      ]
     },
     "execution_count": 68,
     "metadata": {},
     "output_type": "execute_result"
    },
    {
     "data": {
      "image/png": "[encoded data removed]",
      "text/plain": [
       "<Figure size 640x480 with 1 Axes>"
      ]
     },
     "metadata": {},
     "output_type": "display_data"
    }
   ],
   "source": [
    "fig, ax = plt.subplots()\n",
    "\n",
    "ax.hist(pos_ranks, color='deeppink', alpha=0.5, label='True positive triples')\n",
    "ax.hist(neg_ranks, color='indigo', alpha=0.5, label='True negative triples')\n",
    "ax.set_xlabel('Plausibility Rank')\n",
    "ax.set_ylabel('Number of triples')\n",
    "ax.legend()\n",
    "plt.savefig(f'../data/figures/dt_triple_rankings_{model_save_suffix}.pdf', format='pdf', dpi=600, bbox_inches='tight')"
   ]
  },
  {
   "cell_type": "markdown",
   "metadata": {},
   "source": [
    "Unfortunately, both kinds of triples are at both ends of the ranking spectrum. However, we see that negative and positive triples display somewhat different patterns of rank distribution. Whereas negative triples are most often scoring in the middle of the pack, positive triples either score on the high-ranked end or the low-ranked end, but not so much in the middle. This is likely an artefact of there being many more negative triples with scores near 0 than positive triples; they tend to \"crowd out\" the positive triples in the center of the ranking."
   ]
  },
  {
   "cell_type": "markdown",
   "metadata": {},
   "source": [
    "t-test to see if the means of the distributions are the same:"
   ]
  },
  {
   "cell_type": "code",
   "execution_count": 69,
   "metadata": {},
   "outputs": [
    {
     "data": {
      "text/plain": [
       "TtestResult(statistic=-0.5639574504794637, pvalue=0.5728147304192227, df=3997.0)"
      ]
     },
     "execution_count": 69,
     "metadata": {},
     "output_type": "execute_result"
    }
   ],
   "source": [
    "ttest_ind(pos_scores, neg_scores)"
   ]
  },
  {
   "cell_type": "markdown",
   "metadata": {},
   "source": [
    "KS test to see if the distributions are the same:"
   ]
  },
  {
   "cell_type": "code",
   "execution_count": 70,
   "metadata": {},
   "outputs": [
    {
     "data": {
      "text/plain": [
       "KstestResult(statistic=0.029767767767767767, pvalue=0.508498362231263, statistic_location=-4.265595432428881e-09, statistic_sign=-1)"
      ]
     },
     "execution_count": 70,
     "metadata": {},
     "output_type": "execute_result"
    }
   ],
   "source": [
    "kstest(pos_scores, neg_scores)"
   ]
  },
  {
   "cell_type": "markdown",
   "metadata": {},
   "source": [
    "We have one pre-defined threshold at 0, which is what the loss function optimized around during training. Let's calculate the F1 score if we use this threshold:"
   ]
  },
  {
   "cell_type": "code",
   "execution_count": null,
   "metadata": {},
   "outputs": [],
   "source": [
    "## TODO"
   ]
  },
  {
   "cell_type": "markdown",
   "metadata": {},
   "source": [
    "### Genophenoenvo"
   ]
  },
  {
   "cell_type": "code",
   "execution_count": 53,
   "metadata": {},
   "outputs": [],
   "source": [
    "types_to_exclude = [k for k, v in gpe_train_ent_types.items() if v < 2000]"
   ]
  },
  {
   "cell_type": "code",
   "execution_count": 54,
   "metadata": {},
   "outputs": [
    {
     "name": "stderr",
     "output_type": "stream",
     "text": [
      "100%|██████████| 12/12 [00:25<00:00,  2.10s/it]\n"
     ]
    },
    {
     "name": "stdout",
     "output_type": "stream",
     "text": [
      "4 entity types have less than the requested number of instances. They will be returned with the number that they have.\n"
     ]
    },
    {
     "name": "stderr",
     "output_type": "stream",
     "text": [
      "100%|██████████| 12/12 [00:08<00:00,  1.37it/s]\n"
     ]
    }
   ],
   "source": [
    "gpe_train_pairs = get_class_pairs(gpe_train_trips_semantic, num_inst=2000, types_to_exclude=types_to_exclude, sampling_method='embedding', node_reps=gpe_model.entity_representations[0](), ent_map=gpe_checkpoint['entity_to_id_dict'])\n",
    "gpe_test_pairs = get_class_pairs(gpe_test_trips_semantic, num_inst=1000, types_to_exclude=types_to_exclude, sampling_method='embedding', node_reps=gpe_model.entity_representations[0](), ent_map=gpe_checkpoint['entity_to_id_dict'])"
   ]
  },
  {
   "cell_type": "code",
   "execution_count": 55,
   "metadata": {},
   "outputs": [],
   "source": [
    "with open('../data/ml_inputs/gpe_training_triples_with_neg_predicates.json', 'w') as f:\n",
    "    json.dump(gpe_train_pairs, f)\n",
    "with open('../data/ml_inputs/gpe_testing_triples_with_neg_predicates.json', 'w') as f:\n",
    "    json.dump(gpe_test_pairs, f)"
   ]
  },
  {
   "cell_type": "code",
   "execution_count": 56,
   "metadata": {},
   "outputs": [],
   "source": [
    "gpe_positive_test_triples = [\n",
    "    (t[0], p, t[1])\n",
    "    for p, trips in gpe_test_pairs['positives'].items()\n",
    "    for t in trips\n",
    "]\n",
    "gpe_negative_test_triples = [\n",
    "    (t[0], p, t[1])\n",
    "    for p, trips in gpe_test_pairs['negatives'].items()\n",
    "    for t in trips\n",
    "]"
   ]
  },
  {
   "cell_type": "code",
   "execution_count": 153,
   "metadata": {},
   "outputs": [],
   "source": [
    "# gpe_all_labels = list(gpe_label_map.keys())\n",
    "# gpe_all_labels.remove('negative')"
   ]
  },
  {
   "cell_type": "code",
   "execution_count": 154,
   "metadata": {},
   "outputs": [],
   "source": [
    "## RANDOM sampling method\n",
    "# # Restore the ones from the saved training data\n",
    "# gpe_train_pairs = {lab: [literal_eval(tup) for tup in gpe_train_df[gpe_train_df['label'] == gpe_label_map[lab]].index.tolist()] for lab in gpe_label_map.keys()}\n",
    "# gpe_test_pairs = {lab: [literal_eval(tup) for tup in gpe_test_df[gpe_test_df['label'] == gpe_label_map[lab]].index.tolist()] for lab in gpe_label_map.keys()}\n",
    "\n",
    "# # Assign arbitrary predicate to the negative triples\n",
    "# gpe_test_trips = []\n",
    "# gpe_negative_trips = []\n",
    "# for lab, pairs in gpe_test_pairs.items():\n",
    "#     if lab == 'negative':\n",
    "#         predicate = choice(gpe_all_labels)\n",
    "#         gpe_negative_trips.extend([(pair[0], predicate, pair[1]) for pair in pairs])\n",
    "#     else:\n",
    "#         predicate = lab\n",
    "#     gpe_test_trips.extend([(pair[0], predicate, pair[1]) for pair in pairs])"
   ]
  },
  {
   "cell_type": "code",
   "execution_count": 57,
   "metadata": {},
   "outputs": [
    {
     "name": "stderr",
     "output_type": "stream",
     "text": [
      "Using maximize_memory_utilization on non-CUDA tensors. This may lead to undocumented crashes due to CPU OOM killer.\n"
     ]
    }
   ],
   "source": [
    "gpe_scores = predict.predict_triples(\n",
    "    model=gpe_model,\n",
    "    triples=gpe_positive_test_triples + gpe_negative_test_triples,\n",
    "    triples_factory=gpe_testing,\n",
    ")"
   ]
  },
  {
   "cell_type": "code",
   "execution_count": 58,
   "metadata": {},
   "outputs": [],
   "source": [
    "gpe_score_df = gpe_scores.process(gpe_testing).df"
   ]
  },
  {
   "cell_type": "code",
   "execution_count": 59,
   "metadata": {},
   "outputs": [
    {
     "data": {
      "text/html": [
       "<div>\n",
       "<style scoped>\n",
       "    .dataframe tbody tr th:only-of-type {\n",
       "        vertical-align: middle;\n",
       "    }\n",
       "\n",
       "    .dataframe tbody tr th {\n",
       "        vertical-align: top;\n",
       "    }\n",
       "\n",
       "    .dataframe thead th {\n",
       "        text-align: right;\n",
       "    }\n",
       "</style>\n",
       "<table border=\"1\" class=\"dataframe\">\n",
       "  <thead>\n",
       "    <tr style=\"text-align: right;\">\n",
       "      <th></th>\n",
       "      <th>head_id</th>\n",
       "      <th>head_label</th>\n",
       "      <th>relation_id</th>\n",
       "      <th>relation_label</th>\n",
       "      <th>tail_id</th>\n",
       "      <th>tail_label</th>\n",
       "      <th>score</th>\n",
       "    </tr>\n",
       "  </thead>\n",
       "  <tbody>\n",
       "    <tr>\n",
       "      <th>0</th>\n",
       "      <td>225772</td>\n",
       "      <td>GO:1904210</td>\n",
       "      <td>22</td>\n",
       "      <td>biolink:positively_regulates</td>\n",
       "      <td>225803</td>\n",
       "      <td>GO:1904241</td>\n",
       "      <td>0.000082</td>\n",
       "    </tr>\n",
       "    <tr>\n",
       "      <th>1</th>\n",
       "      <td>193292</td>\n",
       "      <td>GO:0014011</td>\n",
       "      <td>22</td>\n",
       "      <td>biolink:positively_regulates</td>\n",
       "      <td>226567</td>\n",
       "      <td>GO:1905046</td>\n",
       "      <td>0.000048</td>\n",
       "    </tr>\n",
       "    <tr>\n",
       "      <th>2</th>\n",
       "      <td>217048</td>\n",
       "      <td>GO:0080117</td>\n",
       "      <td>22</td>\n",
       "      <td>biolink:positively_regulates</td>\n",
       "      <td>228810</td>\n",
       "      <td>GO:2000605</td>\n",
       "      <td>0.000029</td>\n",
       "    </tr>\n",
       "    <tr>\n",
       "      <th>3</th>\n",
       "      <td>186456</td>\n",
       "      <td>GO:0001885</td>\n",
       "      <td>22</td>\n",
       "      <td>biolink:positively_regulates</td>\n",
       "      <td>223357</td>\n",
       "      <td>GO:1901552</td>\n",
       "      <td>0.000027</td>\n",
       "    </tr>\n",
       "    <tr>\n",
       "      <th>4</th>\n",
       "      <td>186901</td>\n",
       "      <td>GO:0002353</td>\n",
       "      <td>22</td>\n",
       "      <td>biolink:positively_regulates</td>\n",
       "      <td>187087</td>\n",
       "      <td>GO:0002550</td>\n",
       "      <td>0.000025</td>\n",
       "    </tr>\n",
       "  </tbody>\n",
       "</table>\n",
       "</div>"
      ],
      "text/plain": [
       "   head_id  head_label  relation_id                relation_label  tail_id  \\\n",
       "0   225772  GO:1904210           22  biolink:positively_regulates   225803   \n",
       "1   193292  GO:0014011           22  biolink:positively_regulates   226567   \n",
       "2   217048  GO:0080117           22  biolink:positively_regulates   228810   \n",
       "3   186456  GO:0001885           22  biolink:positively_regulates   223357   \n",
       "4   186901  GO:0002353           22  biolink:positively_regulates   187087   \n",
       "\n",
       "   tail_label     score  \n",
       "0  GO:1904241  0.000082  \n",
       "1  GO:1905046  0.000048  \n",
       "2  GO:2000605  0.000029  \n",
       "3  GO:1901552  0.000027  \n",
       "4  GO:0002550  0.000025  "
      ]
     },
     "execution_count": 59,
     "metadata": {},
     "output_type": "execute_result"
    }
   ],
   "source": [
    "gpe_score_df = gpe_score_df.sort_values(by='score', ascending=False).reset_index(drop=True)\n",
    "gpe_score_df.head()"
   ]
  },
  {
   "cell_type": "code",
   "execution_count": 63,
   "metadata": {},
   "outputs": [],
   "source": [
    "def is_negative(row):\n",
    "    if (row.head_label, row.relation_label, row.tail_label) in gpe_negative_test_triples:\n",
    "        return True\n",
    "    else:\n",
    "        return False"
   ]
  },
  {
   "cell_type": "code",
   "execution_count": 64,
   "metadata": {},
   "outputs": [],
   "source": [
    "gpe_score_df['is_negative'] = gpe_score_df.apply(is_negative, axis=1)"
   ]
  },
  {
   "cell_type": "code",
   "execution_count": 65,
   "metadata": {},
   "outputs": [],
   "source": [
    "gpe_neg_ranks = gpe_score_df[gpe_score_df['is_negative']].index.tolist()"
   ]
  },
  {
   "cell_type": "code",
   "execution_count": 66,
   "metadata": {},
   "outputs": [],
   "source": [
    "gpe_pos_ranks = gpe_score_df[~gpe_score_df['is_negative']].index.tolist()"
   ]
  },
  {
   "cell_type": "code",
   "execution_count": 67,
   "metadata": {},
   "outputs": [
    {
     "data": {
      "text/plain": [
       "<matplotlib.legend.Legend at 0x2aadfc5075e0>"
      ]
     },
     "execution_count": 67,
     "metadata": {},
     "output_type": "execute_result"
    },
    {
     "data": {
      "image/png": "[encoded data removed]",
      "text/plain": [
       "<Figure size 640x480 with 1 Axes>"
      ]
     },
     "metadata": {},
     "output_type": "display_data"
    }
   ],
   "source": [
    "fig, ax = plt.subplots()\n",
    "\n",
    "ax.hist(gpe_pos_ranks, color='deeppink', alpha=0.5, label='True positive triples')\n",
    "ax.hist(gpe_neg_ranks, color='indigo', alpha=0.5, label='True negative triples')\n",
    "ax.set_xlabel('Plausibility Rank')\n",
    "ax.set_ylabel('Number of triples')\n",
    "ax.legend()"
   ]
  },
  {
   "cell_type": "code",
   "execution_count": 71,
   "metadata": {},
   "outputs": [],
   "source": [
    "gpe_neg_scores = gpe_score_df[gpe_score_df['is_negative']].score.tolist()\n",
    "gpe_pos_scores = gpe_score_df[~gpe_score_df['is_negative']].score.tolist()"
   ]
  },
  {
   "cell_type": "code",
   "execution_count": 72,
   "metadata": {},
   "outputs": [
    {
     "data": {
      "text/plain": [
       "Text(0.5, 0.01, 'Score')"
      ]
     },
     "execution_count": 72,
     "metadata": {},
     "output_type": "execute_result"
    },
    {
     "data": {
      "image/png": "[encoded data removed]",
      "text/plain": [
       "<Figure size 640x480 with 2 Axes>"
      ]
     },
     "metadata": {},
     "output_type": "display_data"
    }
   ],
   "source": [
    "# Code from https://matplotlib.org/2.0.2/examples/pylab_examples/broken_axis.html\n",
    "fig, (ax1, ax2) = plt.subplots(2, 1, sharex=True)\n",
    "\n",
    "bins = np.histogram(np.hstack((gpe_pos_scores, gpe_neg_scores)), bins=100)[1]\n",
    "\n",
    "_ = ax1.hist(gpe_pos_scores, bins, color='deeppink', alpha=0.5, label='True positive triples')\n",
    "_ = ax1.hist(gpe_neg_scores,bins,  color='indigo', alpha=0.5, label='True negative triples')\n",
    "_ = ax2.hist(gpe_pos_scores, bins, color='deeppink', alpha=0.5, label='True positive triples')\n",
    "_ = ax2.hist(gpe_neg_scores,bins,  color='indigo', alpha=0.5, label='True negative triples')\n",
    "\n",
    "# Get max y-value\n",
    "maxy = ax1.get_ylim()[1]\n",
    "basemax = plt.yticks()[0][-3]\n",
    "\n",
    "# Set the y limits\n",
    "ax1.set_ylim(basemax, maxy)\n",
    "ax2.set_ylim(0, 1000) # Got by trial end error\n",
    "\n",
    "# Finish formatting\n",
    "ax1.spines['bottom'].set_visible(False)\n",
    "ax2.spines['top'].set_visible(False)\n",
    "ax1.xaxis.tick_top()\n",
    "ax1.tick_params(labeltop=False, top=False)  # don't put tick labels at the top\n",
    "ax2.xaxis.tick_bottom()\n",
    "\n",
    "# Add the cut diagonals\n",
    "d = .015  # how big to make the diagonal lines in axes coordinates\n",
    "# arguments to pass to plot, just so we don't keep repeating them\n",
    "kwargs = dict(transform=ax1.transAxes, color='k', clip_on=False)\n",
    "ax1.plot((-d, +d), (-d, +d), **kwargs)        # top-left diagonal\n",
    "ax1.plot((1 - d, 1 + d), (-d, +d), **kwargs)  # top-right diagonal\n",
    "\n",
    "kwargs.update(transform=ax2.transAxes)  # switch to the bottom axes\n",
    "ax2.plot((-d, +d), (1 - d, 1 + d), **kwargs)  # bottom-left diagonal\n",
    "ax2.plot((1 - d, 1 + d), (1 - d, 1 + d), **kwargs)  # bottom-right diagonal\n",
    "\n",
    "_ = ax1.legend(loc='upper right')\n",
    "fig.supylabel('Number of triples')\n",
    "fig.supxlabel('Score')"
   ]
  },
  {
   "cell_type": "markdown",
   "metadata": {},
   "source": [
    "t-test to see if the means of the distributions are the same:"
   ]
  },
  {
   "cell_type": "code",
   "execution_count": 73,
   "metadata": {},
   "outputs": [
    {
     "data": {
      "text/plain": [
       "TtestResult(statistic=0.08048205206054726, pvalue=0.9358548048771755, df=17233.0)"
      ]
     },
     "execution_count": 73,
     "metadata": {},
     "output_type": "execute_result"
    }
   ],
   "source": [
    "ttest_ind(gpe_pos_scores, gpe_neg_scores)"
   ]
  },
  {
   "cell_type": "markdown",
   "metadata": {},
   "source": [
    "KS test to see if the distributions are the same:"
   ]
  },
  {
   "cell_type": "code",
   "execution_count": 74,
   "metadata": {},
   "outputs": [
    {
     "data": {
      "text/plain": [
       "KstestResult(statistic=0.0993761138539632, pvalue=1.867912265724055e-37, statistic_location=-2.2726642789905327e-09, statistic_sign=1)"
      ]
     },
     "execution_count": 74,
     "metadata": {},
     "output_type": "execute_result"
    }
   ],
   "source": [
    "kstest(gpe_pos_scores, gpe_neg_scores)"
   ]
  },
  {
   "cell_type": "markdown",
   "metadata": {},
   "source": [
    "### Generating comparable performance metrics for PyKEEN model\n",
    "We would like to generate an AUROC/PRC curve so that we can compare the rank-based prediction to that of the RF model and the STHN TLP model. The RESCAL authors state that \"link prediction can be done by comparing \\[the plausibility score\\] to some given threshold θ\". Therefore, we will generate a set of thresholds and build an AUROC curve, from which we can choose the best threshold and then calculate an F1 score.\n",
    "\n",
    "Note that this is somewhat different from the RF model in that it's not a multiclass problem: we provided the relation label, and the model is tasked with deciding if the relation is true or not, which makes this a binary problem. We therefore might expect better performance from this model, as it should be easier to decide true vs. false than to have to choose both true vs. false as well as which label it is. This means that we can't directly compare the AUROC's for the two models -- however, it will be helpful to see how this model performs."
   ]
  },
  {
   "cell_type": "markdown",
   "metadata": {},
   "source": [
    "#### Drought + DT"
   ]
  },
  {
   "cell_type": "code",
   "execution_count": 45,
   "metadata": {},
   "outputs": [],
   "source": [
    "pykeen_test = [0 if n else 1 for n in score_df.is_negative]"
   ]
  },
  {
   "cell_type": "code",
   "execution_count": 46,
   "metadata": {},
   "outputs": [
    {
     "name": "stdout",
     "output_type": "stream",
     "text": [
      "The PyKEEN RESCAL model has an AUROC of 0.51\n"
     ]
    }
   ],
   "source": [
    "fpr, tpr, thresholds = roc_curve(pykeen_test, score_df.score)\n",
    "pykeen_auc = auc(fpr, tpr)\n",
    "print(f'The PyKEEN RESCAL model has an AUROC of {pykeen_auc:.2f}')"
   ]
  },
  {
   "cell_type": "code",
   "execution_count": 48,
   "metadata": {},
   "outputs": [
    {
     "data": {
      "text/plain": [
       "array([           inf,  2.8926038e-06,  1.1281755e-06, ...,\n",
       "       -1.4147917e-06, -1.4304140e-06, -4.7876929e-06], dtype=float32)"
      ]
     },
     "execution_count": 48,
     "metadata": {},
     "output_type": "execute_result"
    }
   ],
   "source": [
    "thresholds"
   ]
  },
  {
   "cell_type": "code",
   "execution_count": 47,
   "metadata": {},
   "outputs": [
    {
     "data": {
      "image/png": "[encoded data removed]",
      "text/plain": [
       "<Figure size 600x600 with 1 Axes>"
      ]
     },
     "metadata": {},
     "output_type": "display_data"
    }
   ],
   "source": [
    "fig, ax = plt.subplots(figsize=(6, 6))\n",
    "\n",
    "RocCurveDisplay.from_predictions(\n",
    "    pykeen_test,\n",
    "    score_df.score,\n",
    "    color='deeppink',\n",
    "    ax=ax,\n",
    "    plot_chance_level=True,\n",
    ")\n",
    "_ = ax.set(\n",
    "    xlabel=\"False Positive Rate\",\n",
    "    ylabel=\"True Positive Rate\",\n",
    ")"
   ]
  },
  {
   "cell_type": "markdown",
   "metadata": {},
   "source": [
    "#### Genophenoenvo"
   ]
  },
  {
   "cell_type": "code",
   "execution_count": 75,
   "metadata": {},
   "outputs": [],
   "source": [
    "gpe_pykeen_test = [0 if n else 1 for n in gpe_score_df.is_negative]"
   ]
  },
  {
   "cell_type": "code",
   "execution_count": 76,
   "metadata": {},
   "outputs": [
    {
     "name": "stdout",
     "output_type": "stream",
     "text": [
      "The PyKEEN RESCAL model has an AUROC of 0.49\n"
     ]
    }
   ],
   "source": [
    "gpe_fpr, gpe_tpr, gpe_thresholds = roc_curve(gpe_pykeen_test, gpe_score_df.score)\n",
    "gpe_pykeen_auc = auc(gpe_fpr, gpe_tpr)\n",
    "print(f'The PyKEEN RESCAL model has an AUROC of {gpe_pykeen_auc:.2f}')"
   ]
  },
  {
   "cell_type": "code",
   "execution_count": 77,
   "metadata": {},
   "outputs": [
    {
     "data": {
      "image/png": "[encoded data removed]",
      "text/plain": [
       "<Figure size 600x600 with 1 Axes>"
      ]
     },
     "metadata": {},
     "output_type": "display_data"
    }
   ],
   "source": [
    "fig, ax = plt.subplots(figsize=(6, 6))\n",
    "\n",
    "RocCurveDisplay.from_predictions(\n",
    "    gpe_pykeen_test,\n",
    "    gpe_score_df.score,\n",
    "    color='deeppink',\n",
    "    ax=ax,\n",
    "    plot_chance_level=True,\n",
    ")\n",
    "_ = ax.set(\n",
    "    xlabel=\"False Positive Rate\",\n",
    "    ylabel=\"True Positive Rate\",\n",
    ")"
   ]
  },
  {
   "cell_type": "markdown",
   "metadata": {},
   "source": [
    "### Predicting top 100 triples\n",
    "If we were to use this method to look for the most probable new connections in the graph without having a previous hypothesis about what kinds of triples we think are most likely to be interesting, we would use `predict_all`. We can just store the top 100 to save on memory, but it doesn't change how many scores have to be calculated. This may prove too computationally challenging, but I would like to try it:"
   ]
  },
  {
   "cell_type": "markdown",
   "metadata": {},
   "source": [
    "#### Drought + DT"
   ]
  },
  {
   "cell_type": "code",
   "execution_count": null,
   "metadata": {},
   "outputs": [],
   "source": [
    "all_scores = predict.predict_all(\n",
    "    model=my_model,\n",
    "    k=100\n",
    ")"
   ]
  },
  {
   "cell_type": "code",
   "execution_count": 11,
   "metadata": {},
   "outputs": [
    {
     "data": {
      "text/html": [
       "<div>\n",
       "<style scoped>\n",
       "    .dataframe tbody tr th:only-of-type {\n",
       "        vertical-align: middle;\n",
       "    }\n",
       "\n",
       "    .dataframe tbody tr th {\n",
       "        vertical-align: top;\n",
       "    }\n",
       "\n",
       "    .dataframe thead th {\n",
       "        text-align: right;\n",
       "    }\n",
       "</style>\n",
       "<table border=\"1\" class=\"dataframe\">\n",
       "  <thead>\n",
       "    <tr style=\"text-align: right;\">\n",
       "      <th></th>\n",
       "      <th>head_id</th>\n",
       "      <th>head_label</th>\n",
       "      <th>relation_id</th>\n",
       "      <th>relation_label</th>\n",
       "      <th>tail_id</th>\n",
       "      <th>tail_label</th>\n",
       "      <th>score</th>\n",
       "    </tr>\n",
       "  </thead>\n",
       "  <tbody>\n",
       "    <tr>\n",
       "      <th>0</th>\n",
       "      <td>69982</td>\n",
       "      <td>common scab disease</td>\n",
       "      <td>0</td>\n",
       "      <td>both</td>\n",
       "      <td>34292</td>\n",
       "      <td>b. lactucae</td>\n",
       "      <td>0.000037</td>\n",
       "    </tr>\n",
       "    <tr>\n",
       "      <th>1</th>\n",
       "      <td>106967</td>\n",
       "      <td>frankliniella occidentalis pergande</td>\n",
       "      <td>0</td>\n",
       "      <td>both</td>\n",
       "      <td>176129</td>\n",
       "      <td>nbs-lrr disease resistance genes</td>\n",
       "      <td>0.000036</td>\n",
       "    </tr>\n",
       "    <tr>\n",
       "      <th>2</th>\n",
       "      <td>258095</td>\n",
       "      <td>sub-saharan african</td>\n",
       "      <td>0</td>\n",
       "      <td>both</td>\n",
       "      <td>252545</td>\n",
       "      <td>soybean cyp707a gene family</td>\n",
       "      <td>0.000035</td>\n",
       "    </tr>\n",
       "    <tr>\n",
       "      <th>3</th>\n",
       "      <td>79880</td>\n",
       "      <td>dabz-f1</td>\n",
       "      <td>0</td>\n",
       "      <td>both</td>\n",
       "      <td>252545</td>\n",
       "      <td>soybean cyp707a gene family</td>\n",
       "      <td>0.000034</td>\n",
       "    </tr>\n",
       "    <tr>\n",
       "      <th>4</th>\n",
       "      <td>28583</td>\n",
       "      <td>ascophyllum nodosum extracts</td>\n",
       "      <td>0</td>\n",
       "      <td>both</td>\n",
       "      <td>253661</td>\n",
       "      <td>sphagnum peat mesocosms</td>\n",
       "      <td>0.000034</td>\n",
       "    </tr>\n",
       "  </tbody>\n",
       "</table>\n",
       "</div>"
      ],
      "text/plain": [
       "   head_id                           head_label  relation_id relation_label  \\\n",
       "0    69982                  common scab disease            0           both   \n",
       "1   106967  frankliniella occidentalis pergande            0           both   \n",
       "2   258095                  sub-saharan african            0           both   \n",
       "3    79880                              dabz-f1            0           both   \n",
       "4    28583         ascophyllum nodosum extracts            0           both   \n",
       "\n",
       "   tail_id                        tail_label     score  \n",
       "0    34292                       b. lactucae  0.000037  \n",
       "1   176129  nbs-lrr disease resistance genes  0.000036  \n",
       "2   252545       soybean cyp707a gene family  0.000035  \n",
       "3   252545       soybean cyp707a gene family  0.000034  \n",
       "4   253661           sphagnum peat mesocosms  0.000034  "
      ]
     },
     "execution_count": 11,
     "metadata": {},
     "output_type": "execute_result"
    }
   ],
   "source": [
    "top_100_dt = all_scores.process(tf).df\n",
    "top_100_dt.head()"
   ]
  },
  {
   "cell_type": "code",
   "execution_count": 12,
   "metadata": {},
   "outputs": [],
   "source": [
    "# Save out\n",
    "top_100_dt.to_csv('../data/ml_outputs/RESCAL_rank_based_top_100_triples_from_predict_all.csv', index=False)"
   ]
  },
  {
   "cell_type": "code",
   "execution_count": 37,
   "metadata": {},
   "outputs": [],
   "source": [
    "top_100_dt = pd.read_csv('../data/ml_outputs/RESCAL_rank_based_top_100_triples_from_predict_all.csv')"
   ]
  },
  {
   "cell_type": "code",
   "execution_count": 38,
   "metadata": {},
   "outputs": [
    {
     "data": {
      "text/plain": [
       "Text(0.5, 0.01, 'Score')"
      ]
     },
     "execution_count": 38,
     "metadata": {},
     "output_type": "execute_result"
    },
    {
     "data": {
      "image/png": "[encoded data removed]",
      "text/plain": [
       "<Figure size 640x480 with 2 Axes>"
      ]
     },
     "metadata": {},
     "output_type": "display_data"
    }
   ],
   "source": [
    "# Code from https://matplotlib.org/2.0.2/examples/pylab_examples/broken_axis.html\n",
    "fig, (ax1, ax2) = plt.subplots(2, 1, sharex=True)\n",
    "\n",
    "_ = ax1.hist(score_df.score, color='mediumslateblue', label='Predict triples, test set')\n",
    "_ = ax1.hist(top_100_dt.score, color='darkorange', label='Predict all, top 100')\n",
    "_ = ax2.hist(score_df.score, color='mediumslateblue', label='Predict triples, test set')\n",
    "_ = ax2.hist(top_100_dt.score, color='darkorange', label='Predict all, top 100')\n",
    "\n",
    "# Get max y-value\n",
    "maxy = ax1.get_ylim()[1]\n",
    "basemax = plt.yticks()[0][-3]\n",
    "\n",
    "# Set the y limits\n",
    "ax1.set_ylim(basemax, maxy)\n",
    "ax2.set_ylim(0, 400) # Got by trial end error\n",
    "\n",
    "# Finish formatting\n",
    "ax1.spines['bottom'].set_visible(False)\n",
    "ax2.spines['top'].set_visible(False)\n",
    "ax1.xaxis.tick_top()\n",
    "ax1.tick_params(labeltop=False, top=False)  # don't put tick labels at the top\n",
    "ax2.xaxis.tick_bottom()\n",
    "\n",
    "# Add the cut diagonals\n",
    "d = .015  # how big to make the diagonal lines in axes coordinates\n",
    "# arguments to pass to plot, just so we don't keep repeating them\n",
    "kwargs = dict(transform=ax1.transAxes, color='k', clip_on=False)\n",
    "ax1.plot((-d, +d), (-d, +d), **kwargs)        # top-left diagonal\n",
    "ax1.plot((1 - d, 1 + d), (-d, +d), **kwargs)  # top-right diagonal\n",
    "\n",
    "kwargs.update(transform=ax2.transAxes)  # switch to the bottom axes\n",
    "ax2.plot((-d, +d), (1 - d, 1 + d), **kwargs)  # bottom-left diagonal\n",
    "ax2.plot((1 - d, 1 + d), (1 - d, 1 + d), **kwargs)  # bottom-right diagonal\n",
    "\n",
    "_ = ax1.legend(loc='upper right')\n",
    "fig.supylabel('Number of triples')\n",
    "fig.supxlabel('Score')"
   ]
  },
  {
   "cell_type": "markdown",
   "metadata": {},
   "source": [
    "If we were to perform this on the graph to try and find new hypotheses, these are the best predictions we could expect. We can already see that most of these are either trivial or unrelated to desiccation. We'll do some literature searching to characterize the top 10 most likely triples."
   ]
  },
  {
   "cell_type": "code",
   "execution_count": 43,
   "metadata": {},
   "outputs": [
    {
     "data": {
      "text/html": [
       "<div>\n",
       "<style scoped>\n",
       "    .dataframe tbody tr th:only-of-type {\n",
       "        vertical-align: middle;\n",
       "    }\n",
       "\n",
       "    .dataframe tbody tr th {\n",
       "        vertical-align: top;\n",
       "    }\n",
       "\n",
       "    .dataframe thead th {\n",
       "        text-align: right;\n",
       "    }\n",
       "</style>\n",
       "<table border=\"1\" class=\"dataframe\">\n",
       "  <thead>\n",
       "    <tr style=\"text-align: right;\">\n",
       "      <th></th>\n",
       "      <th>head_label</th>\n",
       "      <th>relation_label</th>\n",
       "      <th>tail_label</th>\n",
       "    </tr>\n",
       "  </thead>\n",
       "  <tbody>\n",
       "    <tr>\n",
       "      <th>0</th>\n",
       "      <td>common scab disease</td>\n",
       "      <td>both</td>\n",
       "      <td>b. lactucae</td>\n",
       "    </tr>\n",
       "    <tr>\n",
       "      <th>1</th>\n",
       "      <td>frankliniella occidentalis pergande</td>\n",
       "      <td>both</td>\n",
       "      <td>nbs-lrr disease resistance genes</td>\n",
       "    </tr>\n",
       "    <tr>\n",
       "      <th>2</th>\n",
       "      <td>sub-saharan african</td>\n",
       "      <td>both</td>\n",
       "      <td>soybean cyp707a gene family</td>\n",
       "    </tr>\n",
       "    <tr>\n",
       "      <th>3</th>\n",
       "      <td>dabz-f1</td>\n",
       "      <td>both</td>\n",
       "      <td>soybean cyp707a gene family</td>\n",
       "    </tr>\n",
       "    <tr>\n",
       "      <th>4</th>\n",
       "      <td>ascophyllum nodosum extracts</td>\n",
       "      <td>both</td>\n",
       "      <td>sphagnum peat mesocosms</td>\n",
       "    </tr>\n",
       "    <tr>\n",
       "      <th>5</th>\n",
       "      <td>q. maxima</td>\n",
       "      <td>both</td>\n",
       "      <td>catalase and gr activities</td>\n",
       "    </tr>\n",
       "    <tr>\n",
       "      <th>6</th>\n",
       "      <td>medium salt</td>\n",
       "      <td>both</td>\n",
       "      <td>peanut leaves or roots</td>\n",
       "    </tr>\n",
       "    <tr>\n",
       "      <th>7</th>\n",
       "      <td>timber revenue</td>\n",
       "      <td>both</td>\n",
       "      <td>brazilian eucalypt plantations</td>\n",
       "    </tr>\n",
       "    <tr>\n",
       "      <th>8</th>\n",
       "      <td>hex aquifolium</td>\n",
       "      <td>both</td>\n",
       "      <td>embolism recovery</td>\n",
       "    </tr>\n",
       "    <tr>\n",
       "      <th>9</th>\n",
       "      <td>ggcms</td>\n",
       "      <td>both</td>\n",
       "      <td>methyltransferase-2 domains</td>\n",
       "    </tr>\n",
       "  </tbody>\n",
       "</table>\n",
       "</div>"
      ],
      "text/plain": [
       "                            head_label relation_label  \\\n",
       "0                  common scab disease           both   \n",
       "1  frankliniella occidentalis pergande           both   \n",
       "2                  sub-saharan african           both   \n",
       "3                              dabz-f1           both   \n",
       "4         ascophyllum nodosum extracts           both   \n",
       "5                            q. maxima           both   \n",
       "6                          medium salt           both   \n",
       "7                       timber revenue           both   \n",
       "8                       hex aquifolium           both   \n",
       "9                                ggcms           both   \n",
       "\n",
       "                         tail_label  \n",
       "0                       b. lactucae  \n",
       "1  nbs-lrr disease resistance genes  \n",
       "2       soybean cyp707a gene family  \n",
       "3       soybean cyp707a gene family  \n",
       "4           sphagnum peat mesocosms  \n",
       "5        catalase and gr activities  \n",
       "6            peanut leaves or roots  \n",
       "7    brazilian eucalypt plantations  \n",
       "8                 embolism recovery  \n",
       "9       methyltransferase-2 domains  "
      ]
     },
     "execution_count": 43,
     "metadata": {},
     "output_type": "execute_result"
    }
   ],
   "source": [
    "top_10 = top_100_dt[['head_label', 'relation_label', 'tail_label']].copy()\n",
    "top_10.head(10)"
   ]
  },
  {
   "cell_type": "markdown",
   "metadata": {},
   "source": [
    "Since these are labeled as both, let's check whether they originally had a drought label or not:"
   ]
  },
  {
   "cell_type": "code",
   "execution_count": 44,
   "metadata": {},
   "outputs": [],
   "source": [
    "pair_triples = {(t[0], t[2]): t[1] for t in triples}"
   ]
  },
  {
   "cell_type": "code",
   "execution_count": 45,
   "metadata": {},
   "outputs": [],
   "source": [
    "def get_original_connection(row, all_trips):\n",
    "    pair = (row.head_label, row.tail_label)\n",
    "    try:\n",
    "        lab = all_trips[pair]\n",
    "    except KeyError:\n",
    "        lab = 'negative'\n",
    "    return lab"
   ]
  },
  {
   "cell_type": "code",
   "execution_count": 46,
   "metadata": {},
   "outputs": [],
   "source": [
    "top_100_dt['original_connection'] = top_100_dt.apply(get_original_connection, axis=1, all_trips=pair_triples)"
   ]
  },
  {
   "cell_type": "markdown",
   "metadata": {},
   "source": [
    "Check the number of each original connection type we have in the top 10:"
   ]
  },
  {
   "cell_type": "code",
   "execution_count": 49,
   "metadata": {},
   "outputs": [
    {
     "data": {
      "text/html": [
       "<div>\n",
       "<style scoped>\n",
       "    .dataframe tbody tr th:only-of-type {\n",
       "        vertical-align: middle;\n",
       "    }\n",
       "\n",
       "    .dataframe tbody tr th {\n",
       "        vertical-align: top;\n",
       "    }\n",
       "\n",
       "    .dataframe thead th {\n",
       "        text-align: right;\n",
       "    }\n",
       "</style>\n",
       "<table border=\"1\" class=\"dataframe\">\n",
       "  <thead>\n",
       "    <tr style=\"text-align: right;\">\n",
       "      <th></th>\n",
       "      <th>head_id</th>\n",
       "      <th>head_label</th>\n",
       "      <th>relation_id</th>\n",
       "      <th>relation_label</th>\n",
       "      <th>tail_id</th>\n",
       "      <th>tail_label</th>\n",
       "      <th>score</th>\n",
       "    </tr>\n",
       "    <tr>\n",
       "      <th>original_connection</th>\n",
       "      <th></th>\n",
       "      <th></th>\n",
       "      <th></th>\n",
       "      <th></th>\n",
       "      <th></th>\n",
       "      <th></th>\n",
       "      <th></th>\n",
       "    </tr>\n",
       "  </thead>\n",
       "  <tbody>\n",
       "    <tr>\n",
       "      <th>negative</th>\n",
       "      <td>100</td>\n",
       "      <td>100</td>\n",
       "      <td>100</td>\n",
       "      <td>100</td>\n",
       "      <td>100</td>\n",
       "      <td>100</td>\n",
       "      <td>100</td>\n",
       "    </tr>\n",
       "  </tbody>\n",
       "</table>\n",
       "</div>"
      ],
      "text/plain": [
       "                     head_id  head_label  relation_id  relation_label  \\\n",
       "original_connection                                                     \n",
       "negative                 100         100          100             100   \n",
       "\n",
       "                     tail_id  tail_label  score  \n",
       "original_connection                              \n",
       "negative                 100         100    100  "
      ]
     },
     "execution_count": 49,
     "metadata": {},
     "output_type": "execute_result"
    }
   ],
   "source": [
    "top_100_dt.groupby(by='original_connection').count()"
   ]
  },
  {
   "cell_type": "markdown",
   "metadata": {},
   "source": [
    "Now check what types they were predicted as:"
   ]
  },
  {
   "cell_type": "code",
   "execution_count": 50,
   "metadata": {},
   "outputs": [
    {
     "data": {
      "text/html": [
       "<div>\n",
       "<style scoped>\n",
       "    .dataframe tbody tr th:only-of-type {\n",
       "        vertical-align: middle;\n",
       "    }\n",
       "\n",
       "    .dataframe tbody tr th {\n",
       "        vertical-align: top;\n",
       "    }\n",
       "\n",
       "    .dataframe thead th {\n",
       "        text-align: right;\n",
       "    }\n",
       "</style>\n",
       "<table border=\"1\" class=\"dataframe\">\n",
       "  <thead>\n",
       "    <tr style=\"text-align: right;\">\n",
       "      <th></th>\n",
       "      <th>head_id</th>\n",
       "      <th>head_label</th>\n",
       "      <th>relation_id</th>\n",
       "      <th>tail_id</th>\n",
       "      <th>tail_label</th>\n",
       "      <th>score</th>\n",
       "      <th>original_connection</th>\n",
       "    </tr>\n",
       "    <tr>\n",
       "      <th>relation_label</th>\n",
       "      <th></th>\n",
       "      <th></th>\n",
       "      <th></th>\n",
       "      <th></th>\n",
       "      <th></th>\n",
       "      <th></th>\n",
       "      <th></th>\n",
       "    </tr>\n",
       "  </thead>\n",
       "  <tbody>\n",
       "    <tr>\n",
       "      <th>both</th>\n",
       "      <td>100</td>\n",
       "      <td>100</td>\n",
       "      <td>100</td>\n",
       "      <td>100</td>\n",
       "      <td>100</td>\n",
       "      <td>100</td>\n",
       "      <td>100</td>\n",
       "    </tr>\n",
       "  </tbody>\n",
       "</table>\n",
       "</div>"
      ],
      "text/plain": [
       "                head_id  head_label  relation_id  tail_id  tail_label  score  \\\n",
       "relation_label                                                                 \n",
       "both                100         100          100      100         100    100   \n",
       "\n",
       "                original_connection  \n",
       "relation_label                       \n",
       "both                            100  "
      ]
     },
     "execution_count": 50,
     "metadata": {},
     "output_type": "execute_result"
    }
   ],
   "source": [
    "top_100_dt.groupby(by='relation_label').count()"
   ]
  },
  {
   "cell_type": "code",
   "execution_count": 47,
   "metadata": {},
   "outputs": [],
   "source": [
    "top_10['original_connection'] = top_10.apply(get_original_connection, axis=1, all_trips=pair_triples)"
   ]
  },
  {
   "cell_type": "code",
   "execution_count": 48,
   "metadata": {},
   "outputs": [
    {
     "data": {
      "text/html": [
       "<div>\n",
       "<style scoped>\n",
       "    .dataframe tbody tr th:only-of-type {\n",
       "        vertical-align: middle;\n",
       "    }\n",
       "\n",
       "    .dataframe tbody tr th {\n",
       "        vertical-align: top;\n",
       "    }\n",
       "\n",
       "    .dataframe thead th {\n",
       "        text-align: right;\n",
       "    }\n",
       "</style>\n",
       "<table border=\"1\" class=\"dataframe\">\n",
       "  <thead>\n",
       "    <tr style=\"text-align: right;\">\n",
       "      <th></th>\n",
       "      <th>head_label</th>\n",
       "      <th>relation_label</th>\n",
       "      <th>tail_label</th>\n",
       "      <th>original_connection</th>\n",
       "    </tr>\n",
       "  </thead>\n",
       "  <tbody>\n",
       "    <tr>\n",
       "      <th>0</th>\n",
       "      <td>common scab disease</td>\n",
       "      <td>both</td>\n",
       "      <td>b. lactucae</td>\n",
       "      <td>negative</td>\n",
       "    </tr>\n",
       "    <tr>\n",
       "      <th>1</th>\n",
       "      <td>frankliniella occidentalis pergande</td>\n",
       "      <td>both</td>\n",
       "      <td>nbs-lrr disease resistance genes</td>\n",
       "      <td>negative</td>\n",
       "    </tr>\n",
       "    <tr>\n",
       "      <th>2</th>\n",
       "      <td>sub-saharan african</td>\n",
       "      <td>both</td>\n",
       "      <td>soybean cyp707a gene family</td>\n",
       "      <td>negative</td>\n",
       "    </tr>\n",
       "    <tr>\n",
       "      <th>3</th>\n",
       "      <td>dabz-f1</td>\n",
       "      <td>both</td>\n",
       "      <td>soybean cyp707a gene family</td>\n",
       "      <td>negative</td>\n",
       "    </tr>\n",
       "    <tr>\n",
       "      <th>4</th>\n",
       "      <td>ascophyllum nodosum extracts</td>\n",
       "      <td>both</td>\n",
       "      <td>sphagnum peat mesocosms</td>\n",
       "      <td>negative</td>\n",
       "    </tr>\n",
       "    <tr>\n",
       "      <th>5</th>\n",
       "      <td>q. maxima</td>\n",
       "      <td>both</td>\n",
       "      <td>catalase and gr activities</td>\n",
       "      <td>negative</td>\n",
       "    </tr>\n",
       "    <tr>\n",
       "      <th>6</th>\n",
       "      <td>medium salt</td>\n",
       "      <td>both</td>\n",
       "      <td>peanut leaves or roots</td>\n",
       "      <td>negative</td>\n",
       "    </tr>\n",
       "    <tr>\n",
       "      <th>7</th>\n",
       "      <td>timber revenue</td>\n",
       "      <td>both</td>\n",
       "      <td>brazilian eucalypt plantations</td>\n",
       "      <td>negative</td>\n",
       "    </tr>\n",
       "    <tr>\n",
       "      <th>8</th>\n",
       "      <td>hex aquifolium</td>\n",
       "      <td>both</td>\n",
       "      <td>embolism recovery</td>\n",
       "      <td>negative</td>\n",
       "    </tr>\n",
       "    <tr>\n",
       "      <th>9</th>\n",
       "      <td>ggcms</td>\n",
       "      <td>both</td>\n",
       "      <td>methyltransferase-2 domains</td>\n",
       "      <td>negative</td>\n",
       "    </tr>\n",
       "  </tbody>\n",
       "</table>\n",
       "</div>"
      ],
      "text/plain": [
       "                            head_label relation_label  \\\n",
       "0                  common scab disease           both   \n",
       "1  frankliniella occidentalis pergande           both   \n",
       "2                  sub-saharan african           both   \n",
       "3                              dabz-f1           both   \n",
       "4         ascophyllum nodosum extracts           both   \n",
       "5                            q. maxima           both   \n",
       "6                          medium salt           both   \n",
       "7                       timber revenue           both   \n",
       "8                       hex aquifolium           both   \n",
       "9                                ggcms           both   \n",
       "\n",
       "                         tail_label original_connection  \n",
       "0                       b. lactucae            negative  \n",
       "1  nbs-lrr disease resistance genes            negative  \n",
       "2       soybean cyp707a gene family            negative  \n",
       "3       soybean cyp707a gene family            negative  \n",
       "4           sphagnum peat mesocosms            negative  \n",
       "5        catalase and gr activities            negative  \n",
       "6            peanut leaves or roots            negative  \n",
       "7    brazilian eucalypt plantations            negative  \n",
       "8                 embolism recovery            negative  \n",
       "9       methyltransferase-2 domains            negative  "
      ]
     },
     "execution_count": 48,
     "metadata": {},
     "output_type": "execute_result"
    }
   ],
   "source": [
    "top_10.head(10)"
   ]
  },
  {
   "cell_type": "markdown",
   "metadata": {},
   "source": [
    "Investigate origin of weird entities:"
   ]
  },
  {
   "cell_type": "code",
   "execution_count": 51,
   "metadata": {},
   "outputs": [
    {
     "data": {
      "text/plain": [
       "'WOS:000527202100030'"
      ]
     },
     "execution_count": 51,
     "metadata": {},
     "output_type": "execute_result"
    }
   ],
   "source": [
    "nx.get_node_attributes(graph, 'uids_of_origin')['q. maxima']"
   ]
  },
  {
   "cell_type": "code",
   "execution_count": 52,
   "metadata": {},
   "outputs": [
    {
     "data": {
      "text/plain": [
       "'WOS:000302592900009'"
      ]
     },
     "execution_count": 52,
     "metadata": {},
     "output_type": "execute_result"
    }
   ],
   "source": [
    "nx.get_node_attributes(graph, 'uids_of_origin')['hex aquifolium']"
   ]
  },
  {
   "cell_type": "code",
   "execution_count": 53,
   "metadata": {},
   "outputs": [
    {
     "data": {
      "text/plain": [
       "'WOS:000770435100001'"
      ]
     },
     "execution_count": 53,
     "metadata": {},
     "output_type": "execute_result"
    }
   ],
   "source": [
    "nx.get_node_attributes(graph, 'uids_of_origin')['ggcms']"
   ]
  }
 ],
 "metadata": {
  "kernelspec": {
   "display_name": "graphs",
   "language": "python",
   "name": "graphs"
  },
  "language_info": {
   "codemirror_mode": {
    "name": "ipython",
    "version": 3
   },
   "file_extension": ".py",
   "mimetype": "text/x-python",
   "name": "python",
   "nbconvert_exporter": "python",
   "pygments_lexer": "ipython3",
   "version": "3.10.13"
  }
 },
 "nbformat": 4,
 "nbformat_minor": 4
}
