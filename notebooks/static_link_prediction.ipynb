{
 "cells": [
  {
   "cell_type": "markdown",
   "metadata": {},
   "source": [
    "# Static link prediction\n",
    "In this notebook, we will apply models from the PyKEEN package to generate link predictions on the entire graph as a static object."
   ]
  },
  {
   "cell_type": "code",
   "execution_count": 1,
   "metadata": {},
   "outputs": [
    {
     "name": "stderr",
     "output_type": "stream",
     "text": [
      "2024-07-22 13:56:45.405701: I tensorflow/core/platform/cpu_feature_guard.cc:193] This TensorFlow binary is optimized with oneAPI Deep Neural Network Library (oneDNN) to use the following CPU instructions in performance-critical operations:  SSE4.1 SSE4.2 AVX\n",
      "To enable them in other operations, rebuild TensorFlow with the appropriate compiler flags.\n"
     ]
    }
   ],
   "source": [
    "import networkx as nx\n",
    "from pykeen.triples import TriplesFactory\n",
    "from pykeen.pipeline import pipeline\n",
    "from pykeen.losses import BCEWithLogitsLoss\n",
    "from pykeen.constants import PYKEEN_CHECKPOINTS\n",
    "import torch\n",
    "from pykeen.models import RESCAL\n",
    "from itertools import combinations\n",
    "from tqdm import tqdm\n",
    "import json\n",
    "import pandas as pd\n",
    "from collections import Counter, defaultdict\n",
    "from scipy.stats import randint\n",
    "from sklearn.preprocessing import LabelBinarizer\n",
    "from sklearn.ensemble import RandomForestClassifier\n",
    "from sklearn.model_selection import RandomizedSearchCV\n",
    "from sklearn.metrics import confusion_matrix, ConfusionMatrixDisplay, f1_score, roc_auc_score, precision_recall_curve, PrecisionRecallDisplay, average_precision_score, RocCurveDisplay, auc, roc_curve\n",
    "from sklearn.decomposition import PCA\n",
    "import pickle\n",
    "from pykeen import predict\n",
    "from random import choice, sample\n",
    "import matplotlib\n",
    "import matplotlib.pyplot as plt\n",
    "plt.rcParams['pdf.fonttype'] = 42\n",
    "import numpy as np\n",
    "from itertools import cycle\n",
    "from ast import literal_eval\n",
    "from scipy.stats import ttest_ind, kstest\n",
    "from scipy.spatial.distance import cdist, squareform\n",
    "from scipy.special import softmax\n",
    "import functools"
   ]
  },
  {
   "cell_type": "markdown",
   "metadata": {},
   "source": [
    "## Read in the PyKEEN tensors\n",
    "Training a PyKEEN model on a graph this size takes a while, so we submitted it as a job. Here, we'll read in the final checkopint to re-instantiate the trained model, and use it to build our prediction mechanism."
   ]
  },
  {
   "cell_type": "code",
   "execution_count": 2,
   "metadata": {},
   "outputs": [],
   "source": [
    "model_save_suffix = 'BCE_loss'\n",
    "split_random_seed = 1234 # From the training output file\n",
    "model_random_seed = 5678 # From the training output file\n",
    "date = '14Jul2024'"
   ]
  },
  {
   "cell_type": "code",
   "execution_count": 3,
   "metadata": {},
   "outputs": [],
   "source": [
    "checkpoint = torch.load(PYKEEN_CHECKPOINTS.joinpath(f'dt_rescal_{model_save_suffix}_{date}.pt'), map_location=torch.device('cpu'))"
   ]
  },
  {
   "cell_type": "code",
   "execution_count": 4,
   "metadata": {},
   "outputs": [],
   "source": [
    "def get_predicate(row):\n",
    "    if row.is_drought:\n",
    "        if row.is_desiccation:\n",
    "            return 'both'\n",
    "        else:\n",
    "            return 'drought'\n",
    "    else:\n",
    "        if row.is_desiccation:\n",
    "            return 'desiccation'"
   ]
  },
  {
   "cell_type": "code",
   "execution_count": 5,
   "metadata": {},
   "outputs": [
    {
     "name": "stdout",
     "output_type": "stream",
     "text": [
      "Snapshot of triples: [['peg-induced drought tolerance' 'drought' 'sesame']\n",
      " ['peg-induced drought tolerance' 'drought' 'sesame drought tolerance']\n",
      " ['peg-induced drought tolerance' 'drought' 'otsa']\n",
      " ['peg-induced drought tolerance' 'drought' 'p5cr']\n",
      " ['peg-induced drought tolerance' 'drought' 'glgx']]\n"
     ]
    }
   ],
   "source": [
    "graph = nx.read_graphml('../data/kg/all_drought_dt_co_occurrence_graph_No_quotes_12Jun2024.graphml')\n",
    "edgelist = nx.to_pandas_edgelist(graph)\n",
    "edgelist['predicate'] = edgelist.apply(get_predicate, axis=1)\n",
    "triples = edgelist[['source', 'predicate', 'target']].to_numpy()\n",
    "print(f'Snapshot of triples: {triples[:5]}')"
   ]
  },
  {
   "cell_type": "code",
   "execution_count": 6,
   "metadata": {},
   "outputs": [],
   "source": [
    "tf = TriplesFactory.from_labeled_triples(triples,\n",
    "                                         create_inverse_triples=True,\n",
    "                                         entity_to_id=checkpoint['entity_to_id_dict'],\n",
    "                                         relation_to_id=checkpoint['relation_to_id_dict'])\n",
    "training, validation, testing = tf.split([0.8, 0.1, 0.1], random_state=split_random_seed)"
   ]
  },
  {
   "cell_type": "code",
   "execution_count": 7,
   "metadata": {
    "scrolled": true
   },
   "outputs": [
    {
     "data": {
      "text/plain": [
       "<All keys matched successfully>"
      ]
     },
     "execution_count": 7,
     "metadata": {},
     "output_type": "execute_result"
    }
   ],
   "source": [
    "my_model = RESCAL(triples_factory=training, random_seed=model_random_seed)\n",
    "my_model.load_state_dict(checkpoint['model_state_dict'])"
   ]
  },
  {
   "cell_type": "markdown",
   "metadata": {},
   "source": [
    "Common-sense check of the loss curves and validation metrics. To do this, we need to load in a pipeline result object, rather than just the model like we have above. The below code requires GPU, so make sure the Jupyter kernel is initialized with GPU."
   ]
  },
  {
   "cell_type": "code",
   "execution_count": 10,
   "metadata": {},
   "outputs": [],
   "source": [
    "# result = pipeline(training=training,\n",
    "#                   validation=validation,\n",
    "#                   testing=testing,\n",
    "#                   stopper='early',\n",
    "#                   model='RESCAL',\n",
    "#                   model_kwargs=dict(entity_initializer=\"normal\",\n",
    "#                       relation_initializer=\"normal\"),\n",
    "#                   loss=BCEWithLogitsLoss,\n",
    "#                   training_kwargs=dict(\n",
    "#                       num_epochs=25,\n",
    "#                       checkpoint_name=f'dt_rescal_{model_save_suffix}_{date}.pt',\n",
    "#                       checkpoint_frequency=0))"
   ]
  },
  {
   "cell_type": "code",
   "execution_count": 11,
   "metadata": {},
   "outputs": [],
   "source": [
    "# result.plot_losses()"
   ]
  },
  {
   "cell_type": "code",
   "execution_count": 12,
   "metadata": {},
   "outputs": [],
   "source": [
    "# result.plot_early_stopping()"
   ]
  },
  {
   "cell_type": "markdown",
   "metadata": {},
   "source": [
    "## Using PyKEEN built-in prediction\n",
    "It looks like a simple RF model with just the node embeddings isn't going to cut it for prediction. Let's try the built-in PyKEEN prediction methods and see if we can do any better.\n",
    "\n",
    "The tricky thing about link prediction is choosing *what to predict*. In the above RF case, we asked about a (relatively) random set of 8,000 triples in the test set. In PyKEEN, while there is an option to `predict_all` triples, it's very computationally expensive because it involves calculating the score for every single possible triple. Therefore, we can do a few different things, like, given a head entity, predict the likelihood of anything being a tail entity, or get scores for a list of triples. For the sake of being able to compare these results with the RF model above, let's ask it to predict the types of the triples in the same test set. Since it wants a predicate for a given triple, we will choose predicates randomly from the three options for the negative samples."
   ]
  },
  {
   "cell_type": "markdown",
   "metadata": {},
   "source": [
    "We will use the same test set here as we did for the RF models that we ran outside of this notebook, so that all models are comparable. PyKEEN requires that the negative instances still have a predicate. Because we used the random sampling strategy to generate the negative set for the test set, we will also randomly sample predicates to place in each negative triple."
   ]
  },
  {
   "cell_type": "code",
   "execution_count": 13,
   "metadata": {},
   "outputs": [],
   "source": [
    "test_df = pd.read_csv('../data/ml_outputs/17Jul2024_RF_outputs_DT/17Jul2024_dt_vb_dt_rescal_BCE_loss_14Jul2024_random_testing_set.csv', index_col=0)"
   ]
  },
  {
   "cell_type": "code",
   "execution_count": 14,
   "metadata": {},
   "outputs": [],
   "source": [
    "label_map = {'desiccation': 1, 'drought': 2, 'both': 3, 'negative': 0}"
   ]
  },
  {
   "cell_type": "code",
   "execution_count": 15,
   "metadata": {},
   "outputs": [],
   "source": [
    "# RANDOM SAMPLING METHOD\n",
    "# Restore the ones from the saved training data\n",
    "test_pairs = {lab: [literal_eval(tup) for tup in test_df[test_df['label'] == label_map[lab]].index.tolist()] for lab in label_map.keys()}\n",
    "\n",
    "test_trips = []\n",
    "negative_trips = []\n",
    "for lab, pairs in test_pairs.items():\n",
    "    if lab == 'negative':\n",
    "        predicate = choice(['desiccation', 'drought', 'both'])\n",
    "        negative_trips.extend([(pair[0], predicate, pair[1]) for pair in pairs])\n",
    "    else:\n",
    "        predicate = lab\n",
    "    test_trips.extend([(pair[0], predicate, pair[1]) for pair in pairs])"
   ]
  },
  {
   "cell_type": "code",
   "execution_count": 16,
   "metadata": {},
   "outputs": [
    {
     "name": "stderr",
     "output_type": "stream",
     "text": [
      "Using maximize_memory_utilization on non-CUDA tensors. This may lead to undocumented crashes due to CPU OOM killer.\n"
     ]
    }
   ],
   "source": [
    "scores = predict.predict_triples(\n",
    "    model=my_model,\n",
    "    triples=test_trips,\n",
    "    triples_factory=testing,\n",
    ")"
   ]
  },
  {
   "cell_type": "code",
   "execution_count": 17,
   "metadata": {},
   "outputs": [],
   "source": [
    "score_df = scores.process(testing).df"
   ]
  },
  {
   "cell_type": "code",
   "execution_count": 18,
   "metadata": {},
   "outputs": [
    {
     "data": {
      "text/html": [
       "<div>\n",
       "<style scoped>\n",
       "    .dataframe tbody tr th:only-of-type {\n",
       "        vertical-align: middle;\n",
       "    }\n",
       "\n",
       "    .dataframe tbody tr th {\n",
       "        vertical-align: top;\n",
       "    }\n",
       "\n",
       "    .dataframe thead th {\n",
       "        text-align: right;\n",
       "    }\n",
       "</style>\n",
       "<table border=\"1\" class=\"dataframe\">\n",
       "  <thead>\n",
       "    <tr style=\"text-align: right;\">\n",
       "      <th></th>\n",
       "      <th>head_id</th>\n",
       "      <th>head_label</th>\n",
       "      <th>relation_id</th>\n",
       "      <th>relation_label</th>\n",
       "      <th>tail_id</th>\n",
       "      <th>tail_label</th>\n",
       "      <th>score</th>\n",
       "    </tr>\n",
       "  </thead>\n",
       "  <tbody>\n",
       "    <tr>\n",
       "      <th>0</th>\n",
       "      <td>166585</td>\n",
       "      <td>mirna-mediated genes network</td>\n",
       "      <td>0</td>\n",
       "      <td>both</td>\n",
       "      <td>154291</td>\n",
       "      <td>lupin species</td>\n",
       "      <td>0.000004</td>\n",
       "    </tr>\n",
       "    <tr>\n",
       "      <th>1</th>\n",
       "      <td>103305</td>\n",
       "      <td>festuca abyssinica</td>\n",
       "      <td>0</td>\n",
       "      <td>both</td>\n",
       "      <td>170851</td>\n",
       "      <td>mtzep</td>\n",
       "      <td>0.000004</td>\n",
       "    </tr>\n",
       "    <tr>\n",
       "      <th>2</th>\n",
       "      <td>10065</td>\n",
       "      <td>abaco island</td>\n",
       "      <td>0</td>\n",
       "      <td>both</td>\n",
       "      <td>64839</td>\n",
       "      <td>circinaria gyrosa</td>\n",
       "      <td>0.000003</td>\n",
       "    </tr>\n",
       "    <tr>\n",
       "      <th>3</th>\n",
       "      <td>51875</td>\n",
       "      <td>caesalpinaceae</td>\n",
       "      <td>0</td>\n",
       "      <td>both</td>\n",
       "      <td>211928</td>\n",
       "      <td>populus nigra jean pourtet</td>\n",
       "      <td>0.000003</td>\n",
       "    </tr>\n",
       "    <tr>\n",
       "      <th>4</th>\n",
       "      <td>241072</td>\n",
       "      <td>sd rats</td>\n",
       "      <td>0</td>\n",
       "      <td>both</td>\n",
       "      <td>280336</td>\n",
       "      <td>upland japonica accession</td>\n",
       "      <td>0.000003</td>\n",
       "    </tr>\n",
       "  </tbody>\n",
       "</table>\n",
       "</div>"
      ],
      "text/plain": [
       "   head_id                    head_label  relation_id relation_label  tail_id  \\\n",
       "0   166585  mirna-mediated genes network            0           both   154291   \n",
       "1   103305            festuca abyssinica            0           both   170851   \n",
       "2    10065                  abaco island            0           both    64839   \n",
       "3    51875                caesalpinaceae            0           both   211928   \n",
       "4   241072                       sd rats            0           both   280336   \n",
       "\n",
       "                   tail_label     score  \n",
       "0               lupin species  0.000004  \n",
       "1                       mtzep  0.000004  \n",
       "2           circinaria gyrosa  0.000003  \n",
       "3  populus nigra jean pourtet  0.000003  \n",
       "4   upland japonica accession  0.000003  "
      ]
     },
     "execution_count": 18,
     "metadata": {},
     "output_type": "execute_result"
    }
   ],
   "source": [
    "score_df = score_df.sort_values(by='score', ascending=False).reset_index(drop=True)\n",
    "score_df.head()"
   ]
  },
  {
   "cell_type": "markdown",
   "metadata": {},
   "source": [
    "Add back a column to check which triples were supposed to be negative:"
   ]
  },
  {
   "cell_type": "code",
   "execution_count": 19,
   "metadata": {},
   "outputs": [],
   "source": [
    "def is_negative(row):\n",
    "    if (row.head_label, row.relation_label, row.tail_label) in negative_trips:\n",
    "        return True\n",
    "    else:\n",
    "        return False"
   ]
  },
  {
   "cell_type": "code",
   "execution_count": 20,
   "metadata": {},
   "outputs": [],
   "source": [
    "score_df['is_negative'] = score_df.apply(is_negative, axis=1)"
   ]
  },
  {
   "cell_type": "code",
   "execution_count": 21,
   "metadata": {},
   "outputs": [
    {
     "data": {
      "text/html": [
       "<div>\n",
       "<style scoped>\n",
       "    .dataframe tbody tr th:only-of-type {\n",
       "        vertical-align: middle;\n",
       "    }\n",
       "\n",
       "    .dataframe tbody tr th {\n",
       "        vertical-align: top;\n",
       "    }\n",
       "\n",
       "    .dataframe thead th {\n",
       "        text-align: right;\n",
       "    }\n",
       "</style>\n",
       "<table border=\"1\" class=\"dataframe\">\n",
       "  <thead>\n",
       "    <tr style=\"text-align: right;\">\n",
       "      <th></th>\n",
       "      <th>head_id</th>\n",
       "      <th>head_label</th>\n",
       "      <th>relation_id</th>\n",
       "      <th>relation_label</th>\n",
       "      <th>tail_id</th>\n",
       "      <th>tail_label</th>\n",
       "      <th>score</th>\n",
       "      <th>is_negative</th>\n",
       "    </tr>\n",
       "  </thead>\n",
       "  <tbody>\n",
       "    <tr>\n",
       "      <th>0</th>\n",
       "      <td>166585</td>\n",
       "      <td>mirna-mediated genes network</td>\n",
       "      <td>0</td>\n",
       "      <td>both</td>\n",
       "      <td>154291</td>\n",
       "      <td>lupin species</td>\n",
       "      <td>0.000004</td>\n",
       "      <td>True</td>\n",
       "    </tr>\n",
       "    <tr>\n",
       "      <th>1</th>\n",
       "      <td>103305</td>\n",
       "      <td>festuca abyssinica</td>\n",
       "      <td>0</td>\n",
       "      <td>both</td>\n",
       "      <td>170851</td>\n",
       "      <td>mtzep</td>\n",
       "      <td>0.000004</td>\n",
       "      <td>True</td>\n",
       "    </tr>\n",
       "    <tr>\n",
       "      <th>2</th>\n",
       "      <td>10065</td>\n",
       "      <td>abaco island</td>\n",
       "      <td>0</td>\n",
       "      <td>both</td>\n",
       "      <td>64839</td>\n",
       "      <td>circinaria gyrosa</td>\n",
       "      <td>0.000003</td>\n",
       "      <td>True</td>\n",
       "    </tr>\n",
       "    <tr>\n",
       "      <th>3</th>\n",
       "      <td>51875</td>\n",
       "      <td>caesalpinaceae</td>\n",
       "      <td>0</td>\n",
       "      <td>both</td>\n",
       "      <td>211928</td>\n",
       "      <td>populus nigra jean pourtet</td>\n",
       "      <td>0.000003</td>\n",
       "      <td>True</td>\n",
       "    </tr>\n",
       "    <tr>\n",
       "      <th>4</th>\n",
       "      <td>241072</td>\n",
       "      <td>sd rats</td>\n",
       "      <td>0</td>\n",
       "      <td>both</td>\n",
       "      <td>280336</td>\n",
       "      <td>upland japonica accession</td>\n",
       "      <td>0.000003</td>\n",
       "      <td>True</td>\n",
       "    </tr>\n",
       "  </tbody>\n",
       "</table>\n",
       "</div>"
      ],
      "text/plain": [
       "   head_id                    head_label  relation_id relation_label  tail_id  \\\n",
       "0   166585  mirna-mediated genes network            0           both   154291   \n",
       "1   103305            festuca abyssinica            0           both   170851   \n",
       "2    10065                  abaco island            0           both    64839   \n",
       "3    51875                caesalpinaceae            0           both   211928   \n",
       "4   241072                       sd rats            0           both   280336   \n",
       "\n",
       "                   tail_label     score  is_negative  \n",
       "0               lupin species  0.000004         True  \n",
       "1                       mtzep  0.000004         True  \n",
       "2           circinaria gyrosa  0.000003         True  \n",
       "3  populus nigra jean pourtet  0.000003         True  \n",
       "4   upland japonica accession  0.000003         True  "
      ]
     },
     "execution_count": 21,
     "metadata": {},
     "output_type": "execute_result"
    }
   ],
   "source": [
    "score_df.head()"
   ]
  },
  {
   "cell_type": "markdown",
   "metadata": {},
   "source": [
    "Since we used `BCEWithLogitsLoss`, the scores were optimized around a global threshold of 0 to separate positive and negative triples. Any triple with a positive score should be a true triple, and a negative score means they should be negative. Let's take a look at the score distributions to see if this is the case:"
   ]
  },
  {
   "cell_type": "markdown",
   "metadata": {},
   "source": [
    "We want to see where the negative triples rank in the scoring. We would like them to be at the bottom if the model is performing well:"
   ]
  },
  {
   "cell_type": "code",
   "execution_count": 22,
   "metadata": {},
   "outputs": [],
   "source": [
    "neg_scores = score_df[score_df['is_negative']].score.tolist()\n",
    "pos_scores = score_df[~score_df['is_negative']].score.tolist()"
   ]
  },
  {
   "cell_type": "code",
   "execution_count": 23,
   "metadata": {},
   "outputs": [
    {
     "data": {
      "image/png": "[encoded data removed]",
      "text/plain": [
       "<Figure size 640x480 with 2 Axes>"
      ]
     },
     "metadata": {},
     "output_type": "display_data"
    }
   ],
   "source": [
    "# Code from https://matplotlib.org/2.0.2/examples/pylab_examples/broken_axis.html\n",
    "fig, (ax1, ax2) = plt.subplots(2, 1, sharex=True)\n",
    "\n",
    "bins = np.histogram(np.hstack((pos_scores, neg_scores)), bins=50)[1]\n",
    "\n",
    "_ = ax1.hist(pos_scores, bins, color='deeppink', alpha=0.5, label='True positive triples')\n",
    "_ = ax1.hist(neg_scores, bins, color='indigo', alpha=0.5, label='True negative triples')\n",
    "_ = ax2.hist(pos_scores, bins, color='deeppink', alpha=0.5, label='True positive triples')\n",
    "_ = ax2.hist(neg_scores, bins, color='indigo', alpha=0.5, label='True negative triples')\n",
    "\n",
    "# Get max y-value\n",
    "maxy = ax1.get_ylim()[1]\n",
    "basemax = plt.yticks()[0][-3]\n",
    "\n",
    "# Set the y limits\n",
    "ax1.set_ylim(basemax, maxy)\n",
    "ax2.set_ylim(0, 300) # Got by trial end error\n",
    "\n",
    "# Finish formatting\n",
    "ax1.spines['bottom'].set_visible(False)\n",
    "ax2.spines['top'].set_visible(False)\n",
    "ax1.xaxis.tick_top()\n",
    "ax1.tick_params(labeltop=False, top=False)  # don't put tick labels at the top\n",
    "ax2.xaxis.tick_bottom()\n",
    "\n",
    "# Add the cut diagonals\n",
    "d = .015  # how big to make the diagonal lines in axes coordinates\n",
    "# arguments to pass to plot, just so we don't keep repeating them\n",
    "kwargs = dict(transform=ax1.transAxes, color='k', clip_on=False)\n",
    "ax1.plot((-d, +d), (-d, +d), **kwargs)        # top-left diagonal\n",
    "ax1.plot((1 - d, 1 + d), (-d, +d), **kwargs)  # top-right diagonal\n",
    "\n",
    "kwargs.update(transform=ax2.transAxes)  # switch to the bottom axes\n",
    "ax2.plot((-d, +d), (1 - d, 1 + d), **kwargs)  # bottom-left diagonal\n",
    "ax2.plot((1 - d, 1 + d), (1 - d, 1 + d), **kwargs)  # bottom-right diagonal\n",
    "\n",
    "_ = ax1.legend(loc='upper left')\n",
    "fig.supylabel('Number of triples')\n",
    "fig.supxlabel('Score')\n",
    "plt.savefig(f'../data/figures/dt_triple_score_distributions_{model_save_suffix}.pdf', format='pdf', dpi=600, bbox_inches='tight')"
   ]
  },
  {
   "cell_type": "code",
   "execution_count": 24,
   "metadata": {},
   "outputs": [],
   "source": [
    "neg_ranks = score_df[score_df['is_negative']].index.tolist()"
   ]
  },
  {
   "cell_type": "code",
   "execution_count": 25,
   "metadata": {},
   "outputs": [],
   "source": [
    "pos_ranks = score_df[~score_df['is_negative']].index.tolist()"
   ]
  },
  {
   "cell_type": "code",
   "execution_count": 55,
   "metadata": {},
   "outputs": [
    {
     "data": {
      "text/html": [
       "<div>\n",
       "<style scoped>\n",
       "    .dataframe tbody tr th:only-of-type {\n",
       "        vertical-align: middle;\n",
       "    }\n",
       "\n",
       "    .dataframe tbody tr th {\n",
       "        vertical-align: top;\n",
       "    }\n",
       "\n",
       "    .dataframe thead th {\n",
       "        text-align: right;\n",
       "    }\n",
       "</style>\n",
       "<table border=\"1\" class=\"dataframe\">\n",
       "  <thead>\n",
       "    <tr style=\"text-align: right;\">\n",
       "      <th></th>\n",
       "      <th>head_id</th>\n",
       "      <th>head_label</th>\n",
       "      <th>relation_id</th>\n",
       "      <th>relation_label</th>\n",
       "      <th>tail_id</th>\n",
       "      <th>tail_label</th>\n",
       "      <th>score</th>\n",
       "      <th>is_negative</th>\n",
       "    </tr>\n",
       "  </thead>\n",
       "  <tbody>\n",
       "    <tr>\n",
       "      <th>0</th>\n",
       "      <td>166585</td>\n",
       "      <td>mirna-mediated genes network</td>\n",
       "      <td>0</td>\n",
       "      <td>both</td>\n",
       "      <td>154291</td>\n",
       "      <td>lupin species</td>\n",
       "      <td>0.000004</td>\n",
       "      <td>True</td>\n",
       "    </tr>\n",
       "    <tr>\n",
       "      <th>1</th>\n",
       "      <td>103305</td>\n",
       "      <td>festuca abyssinica</td>\n",
       "      <td>0</td>\n",
       "      <td>both</td>\n",
       "      <td>170851</td>\n",
       "      <td>mtzep</td>\n",
       "      <td>0.000004</td>\n",
       "      <td>True</td>\n",
       "    </tr>\n",
       "    <tr>\n",
       "      <th>2</th>\n",
       "      <td>10065</td>\n",
       "      <td>abaco island</td>\n",
       "      <td>0</td>\n",
       "      <td>both</td>\n",
       "      <td>64839</td>\n",
       "      <td>circinaria gyrosa</td>\n",
       "      <td>0.000003</td>\n",
       "      <td>True</td>\n",
       "    </tr>\n",
       "    <tr>\n",
       "      <th>3</th>\n",
       "      <td>51875</td>\n",
       "      <td>caesalpinaceae</td>\n",
       "      <td>0</td>\n",
       "      <td>both</td>\n",
       "      <td>211928</td>\n",
       "      <td>populus nigra jean pourtet</td>\n",
       "      <td>0.000003</td>\n",
       "      <td>True</td>\n",
       "    </tr>\n",
       "    <tr>\n",
       "      <th>4</th>\n",
       "      <td>241072</td>\n",
       "      <td>sd rats</td>\n",
       "      <td>0</td>\n",
       "      <td>both</td>\n",
       "      <td>280336</td>\n",
       "      <td>upland japonica accession</td>\n",
       "      <td>0.000003</td>\n",
       "      <td>True</td>\n",
       "    </tr>\n",
       "    <tr>\n",
       "      <th>...</th>\n",
       "      <td>...</td>\n",
       "      <td>...</td>\n",
       "      <td>...</td>\n",
       "      <td>...</td>\n",
       "      <td>...</td>\n",
       "      <td>...</td>\n",
       "      <td>...</td>\n",
       "      <td>...</td>\n",
       "    </tr>\n",
       "    <tr>\n",
       "      <th>3995</th>\n",
       "      <td>180246</td>\n",
       "      <td>non-rhizobia</td>\n",
       "      <td>0</td>\n",
       "      <td>both</td>\n",
       "      <td>4247</td>\n",
       "      <td>3-nonanone</td>\n",
       "      <td>-0.000003</td>\n",
       "      <td>True</td>\n",
       "    </tr>\n",
       "    <tr>\n",
       "      <th>3996</th>\n",
       "      <td>83667</td>\n",
       "      <td>dhn-5</td>\n",
       "      <td>0</td>\n",
       "      <td>both</td>\n",
       "      <td>157537</td>\n",
       "      <td>maize rab17</td>\n",
       "      <td>-0.000003</td>\n",
       "      <td>False</td>\n",
       "    </tr>\n",
       "    <tr>\n",
       "      <th>3997</th>\n",
       "      <td>17448</td>\n",
       "      <td>alginate-based hydrogels</td>\n",
       "      <td>0</td>\n",
       "      <td>both</td>\n",
       "      <td>64399</td>\n",
       "      <td>cicer bijugum</td>\n",
       "      <td>-0.000003</td>\n",
       "      <td>True</td>\n",
       "    </tr>\n",
       "    <tr>\n",
       "      <th>3998</th>\n",
       "      <td>165312</td>\n",
       "      <td>microphyll fern forests</td>\n",
       "      <td>0</td>\n",
       "      <td>both</td>\n",
       "      <td>71539</td>\n",
       "      <td>corticolous bryophyte</td>\n",
       "      <td>-0.000003</td>\n",
       "      <td>False</td>\n",
       "    </tr>\n",
       "    <tr>\n",
       "      <th>3999</th>\n",
       "      <td>75207</td>\n",
       "      <td>ctt1 strain</td>\n",
       "      <td>0</td>\n",
       "      <td>both</td>\n",
       "      <td>181209</td>\n",
       "      <td>northern kenya</td>\n",
       "      <td>-0.000004</td>\n",
       "      <td>True</td>\n",
       "    </tr>\n",
       "  </tbody>\n",
       "</table>\n",
       "<p>4000 rows × 8 columns</p>\n",
       "</div>"
      ],
      "text/plain": [
       "      head_id                    head_label  relation_id relation_label  \\\n",
       "0      166585  mirna-mediated genes network            0           both   \n",
       "1      103305            festuca abyssinica            0           both   \n",
       "2       10065                  abaco island            0           both   \n",
       "3       51875                caesalpinaceae            0           both   \n",
       "4      241072                       sd rats            0           both   \n",
       "...       ...                           ...          ...            ...   \n",
       "3995   180246                  non-rhizobia            0           both   \n",
       "3996    83667                         dhn-5            0           both   \n",
       "3997    17448      alginate-based hydrogels            0           both   \n",
       "3998   165312       microphyll fern forests            0           both   \n",
       "3999    75207                   ctt1 strain            0           both   \n",
       "\n",
       "      tail_id                  tail_label     score  is_negative  \n",
       "0      154291               lupin species  0.000004         True  \n",
       "1      170851                       mtzep  0.000004         True  \n",
       "2       64839           circinaria gyrosa  0.000003         True  \n",
       "3      211928  populus nigra jean pourtet  0.000003         True  \n",
       "4      280336   upland japonica accession  0.000003         True  \n",
       "...       ...                         ...       ...          ...  \n",
       "3995     4247                  3-nonanone -0.000003         True  \n",
       "3996   157537                 maize rab17 -0.000003        False  \n",
       "3997    64399               cicer bijugum -0.000003         True  \n",
       "3998    71539       corticolous bryophyte -0.000003        False  \n",
       "3999   181209              northern kenya -0.000004         True  \n",
       "\n",
       "[4000 rows x 8 columns]"
      ]
     },
     "execution_count": 55,
     "metadata": {},
     "output_type": "execute_result"
    }
   ],
   "source": [
    "score_df"
   ]
  },
  {
   "cell_type": "code",
   "execution_count": 26,
   "metadata": {},
   "outputs": [
    {
     "data": {
      "image/png": "[encoded data removed]",
      "text/plain": [
       "<Figure size 640x480 with 1 Axes>"
      ]
     },
     "metadata": {},
     "output_type": "display_data"
    }
   ],
   "source": [
    "fig, ax = plt.subplots()\n",
    "\n",
    "ax.hist(pos_ranks, color='deeppink', alpha=0.5, label='True positive triples')\n",
    "ax.hist(neg_ranks, color='indigo', alpha=0.5, label='True negative triples')\n",
    "ax.set_xlabel('Plausibility Rank')\n",
    "ax.set_ylabel('Number of triples')\n",
    "ax.legend()\n",
    "plt.savefig(f'../data/figures/dt_triple_rankings_{model_save_suffix}.pdf', format='pdf', dpi=600, bbox_inches='tight')"
   ]
  },
  {
   "cell_type": "markdown",
   "metadata": {},
   "source": [
    "Unfortunately, both kinds of triples are at both ends of the ranking spectrum. However, we see that negative and positive triples display somewhat different patterns of rank distribution. Whereas positive triples are most often scoring in the middle of the pack, negative triples either score on the high-ranked end or the low-ranked end, but not so much in the middle. This is likely an artefact of there being many more positive triples with scores near 0 than negative triples; they tend to \"crowd out\" the negative triples in the center of the ranking."
   ]
  },
  {
   "cell_type": "markdown",
   "metadata": {},
   "source": [
    "t-test to see if the means of the distributions are the same:"
   ]
  },
  {
   "cell_type": "code",
   "execution_count": 27,
   "metadata": {},
   "outputs": [
    {
     "data": {
      "text/plain": [
       "TtestResult(statistic=-2.9183772481472494, pvalue=0.0035382113508675454, df=3998.0)"
      ]
     },
     "execution_count": 27,
     "metadata": {},
     "output_type": "execute_result"
    }
   ],
   "source": [
    "ttest_ind(pos_scores, neg_scores)"
   ]
  },
  {
   "cell_type": "markdown",
   "metadata": {},
   "source": [
    "KS test to see if the distributions are the same:"
   ]
  },
  {
   "cell_type": "code",
   "execution_count": 28,
   "metadata": {},
   "outputs": [
    {
     "data": {
      "text/plain": [
       "KstestResult(statistic=0.256, pvalue=1.160855956346622e-43, statistic_location=7.337023788522856e-08, statistic_sign=1)"
      ]
     },
     "execution_count": 28,
     "metadata": {},
     "output_type": "execute_result"
    }
   ],
   "source": [
    "kstest(pos_scores, neg_scores)"
   ]
  },
  {
   "cell_type": "markdown",
   "metadata": {},
   "source": [
    "We have one pre-defined threshold at 0, which is what the loss function optimized around during training. Let's calculate the F1 score if we use this threshold:"
   ]
  },
  {
   "cell_type": "code",
   "execution_count": 29,
   "metadata": {},
   "outputs": [],
   "source": [
    "y_true = [0 if i else 1 for i in score_df['is_negative']]"
   ]
  },
  {
   "cell_type": "code",
   "execution_count": 30,
   "metadata": {},
   "outputs": [],
   "source": [
    "y_pred = [1 if i >= 0 else 0 for i in score_df['score']]"
   ]
  },
  {
   "cell_type": "code",
   "execution_count": 31,
   "metadata": {},
   "outputs": [
    {
     "name": "stdout",
     "output_type": "stream",
     "text": [
      "Using 0 as a threshold, the F1 score for the BCE RESCAL model is 0.60\n"
     ]
    }
   ],
   "source": [
    "bce_f1 = f1_score(y_true, y_pred)\n",
    "print(f'Using 0 as a threshold, the F1 score for the BCE RESCAL model is {bce_f1:.2f}')"
   ]
  },
  {
   "cell_type": "markdown",
   "metadata": {},
   "source": [
    "### Generating comparable performance metrics for PyKEEN model\n",
    "We would like to generate an AUROC/PRC curve so that we can compare the rank-based prediction to that of the RF model and the STHN TLP model. The RESCAL authors state that \"link prediction can be done by comparing \\[the plausibility score\\] to some given threshold θ\". Therefore, we will generate a set of thresholds and build an AUROC curve, from which we can choose the best threshold and then calculate an F1 score.\n",
    "\n",
    "Note that this is somewhat different from the RF model in that it's not a multiclass problem: we provided the relation label, and the model is tasked with deciding if the relation is true or not, which makes this a binary problem. We therefore might expect better performance from this model, as it should be easier to decide true vs. false than to have to choose both true vs. false as well as which label it is. This means that we can't directly compare the AUROC's for the two models -- however, it will be helpful to see how this model performs."
   ]
  },
  {
   "cell_type": "code",
   "execution_count": 32,
   "metadata": {},
   "outputs": [],
   "source": [
    "pykeen_test = [0 if n else 1 for n in score_df.is_negative]"
   ]
  },
  {
   "cell_type": "code",
   "execution_count": 33,
   "metadata": {},
   "outputs": [
    {
     "name": "stdout",
     "output_type": "stream",
     "text": [
      "The PyKEEN RESCAL model has an AUROC of 0.48\n"
     ]
    }
   ],
   "source": [
    "fpr, tpr, thresholds = roc_curve(pykeen_test, score_df.score)\n",
    "pykeen_auc = auc(fpr, tpr)\n",
    "print(f'The PyKEEN RESCAL model has an AUROC of {pykeen_auc:.2f}')"
   ]
  },
  {
   "cell_type": "code",
   "execution_count": 34,
   "metadata": {},
   "outputs": [
    {
     "data": {
      "text/plain": [
       "array([           inf,  4.2906076e-06,  2.7597921e-06, ...,\n",
       "       -3.1754325e-06, -3.4861766e-06, -3.5192054e-06], dtype=float32)"
      ]
     },
     "execution_count": 34,
     "metadata": {},
     "output_type": "execute_result"
    }
   ],
   "source": [
    "thresholds"
   ]
  },
  {
   "cell_type": "code",
   "execution_count": 35,
   "metadata": {},
   "outputs": [
    {
     "data": {
      "image/png": "[encoded data removed]",
      "text/plain": [
       "<Figure size 600x600 with 1 Axes>"
      ]
     },
     "metadata": {},
     "output_type": "display_data"
    }
   ],
   "source": [
    "fig, ax = plt.subplots(figsize=(6, 6))\n",
    "\n",
    "RocCurveDisplay.from_predictions(\n",
    "    pykeen_test,\n",
    "    score_df.score,\n",
    "    color='deeppink',\n",
    "    ax=ax,\n",
    "    plot_chance_level=True,\n",
    ")\n",
    "_ = ax.set(\n",
    "    xlabel=\"False Positive Rate\",\n",
    "    ylabel=\"True Positive Rate\",\n",
    ")"
   ]
  },
  {
   "cell_type": "markdown",
   "metadata": {},
   "source": [
    "### Predicting top 100 triples\n",
    "If we were to use this method to look for the most probable new connections in the graph without having a previous hypothesis about what kinds of triples we think are most likely to be interesting, we would use `predict_all`. We can just store the top 100 to save on memory, but it doesn't change how many scores have to be calculated. This may prove too computationally challenging, but I would like to try it:"
   ]
  },
  {
   "cell_type": "code",
   "execution_count": 36,
   "metadata": {},
   "outputs": [
    {
     "name": "stderr",
     "output_type": "stream",
     "text": [
      "predict is an expensive operation, involving 268,691,189,952 score evaluations.\n"
     ]
    },
    {
     "data": {
      "application/vnd.jupyter.widget-view+json": {
       "model_id": "",
       "version_major": 2,
       "version_minor": 0
      },
      "text/plain": [
       "scoring:   0%|          | 0.00/898k [00:00<?, ?batch/s]"
      ]
     },
     "metadata": {},
     "output_type": "display_data"
    }
   ],
   "source": [
    "all_scores = predict.predict_all(\n",
    "    model=my_model,\n",
    "    k=100\n",
    ")"
   ]
  },
  {
   "cell_type": "code",
   "execution_count": 37,
   "metadata": {},
   "outputs": [
    {
     "data": {
      "text/html": [
       "<div>\n",
       "<style scoped>\n",
       "    .dataframe tbody tr th:only-of-type {\n",
       "        vertical-align: middle;\n",
       "    }\n",
       "\n",
       "    .dataframe tbody tr th {\n",
       "        vertical-align: top;\n",
       "    }\n",
       "\n",
       "    .dataframe thead th {\n",
       "        text-align: right;\n",
       "    }\n",
       "</style>\n",
       "<table border=\"1\" class=\"dataframe\">\n",
       "  <thead>\n",
       "    <tr style=\"text-align: right;\">\n",
       "      <th></th>\n",
       "      <th>head_id</th>\n",
       "      <th>head_label</th>\n",
       "      <th>relation_id</th>\n",
       "      <th>relation_label</th>\n",
       "      <th>tail_id</th>\n",
       "      <th>tail_label</th>\n",
       "      <th>score</th>\n",
       "    </tr>\n",
       "  </thead>\n",
       "  <tbody>\n",
       "    <tr>\n",
       "      <th>0</th>\n",
       "      <td>289590</td>\n",
       "      <td>wheat germ system</td>\n",
       "      <td>0</td>\n",
       "      <td>both</td>\n",
       "      <td>80984</td>\n",
       "      <td>deciduous seasonal forests</td>\n",
       "      <td>0.000043</td>\n",
       "    </tr>\n",
       "    <tr>\n",
       "      <th>1</th>\n",
       "      <td>186973</td>\n",
       "      <td>opuntia fragilis</td>\n",
       "      <td>0</td>\n",
       "      <td>both</td>\n",
       "      <td>80984</td>\n",
       "      <td>deciduous seasonal forests</td>\n",
       "      <td>0.000043</td>\n",
       "    </tr>\n",
       "    <tr>\n",
       "      <th>2</th>\n",
       "      <td>217066</td>\n",
       "      <td>pshsfa7a1_2595</td>\n",
       "      <td>0</td>\n",
       "      <td>both</td>\n",
       "      <td>171775</td>\n",
       "      <td>mwsp</td>\n",
       "      <td>0.000042</td>\n",
       "    </tr>\n",
       "    <tr>\n",
       "      <th>3</th>\n",
       "      <td>237420</td>\n",
       "      <td>salt stress-induced calcium signal</td>\n",
       "      <td>0</td>\n",
       "      <td>both</td>\n",
       "      <td>50008</td>\n",
       "      <td>c. stelligera</td>\n",
       "      <td>0.000041</td>\n",
       "    </tr>\n",
       "    <tr>\n",
       "      <th>4</th>\n",
       "      <td>47477</td>\n",
       "      <td>bzip23 transcription factor activity</td>\n",
       "      <td>0</td>\n",
       "      <td>both</td>\n",
       "      <td>80984</td>\n",
       "      <td>deciduous seasonal forests</td>\n",
       "      <td>0.000040</td>\n",
       "    </tr>\n",
       "  </tbody>\n",
       "</table>\n",
       "</div>"
      ],
      "text/plain": [
       "   head_id                            head_label  relation_id relation_label  \\\n",
       "0   289590                     wheat germ system            0           both   \n",
       "1   186973                      opuntia fragilis            0           both   \n",
       "2   217066                        pshsfa7a1_2595            0           both   \n",
       "3   237420    salt stress-induced calcium signal            0           both   \n",
       "4    47477  bzip23 transcription factor activity            0           both   \n",
       "\n",
       "   tail_id                  tail_label     score  \n",
       "0    80984  deciduous seasonal forests  0.000043  \n",
       "1    80984  deciduous seasonal forests  0.000043  \n",
       "2   171775                        mwsp  0.000042  \n",
       "3    50008               c. stelligera  0.000041  \n",
       "4    80984  deciduous seasonal forests  0.000040  "
      ]
     },
     "execution_count": 37,
     "metadata": {},
     "output_type": "execute_result"
    }
   ],
   "source": [
    "top_100_dt = all_scores.process(tf).df\n",
    "top_100_dt.head()"
   ]
  },
  {
   "cell_type": "code",
   "execution_count": 38,
   "metadata": {},
   "outputs": [],
   "source": [
    "# Save out\n",
    "top_100_dt.to_csv('../data/ml_outputs/RESCAL_rank_based_top_100_triples_from_predict_all_22Jul2024.csv', index=False)"
   ]
  },
  {
   "cell_type": "code",
   "execution_count": 39,
   "metadata": {},
   "outputs": [],
   "source": [
    "top_100_dt = pd.read_csv('../data/ml_outputs/RESCAL_rank_based_top_100_triples_from_predict_all_22Jul2024.csv')"
   ]
  },
  {
   "cell_type": "code",
   "execution_count": 40,
   "metadata": {},
   "outputs": [
    {
     "data": {
      "text/plain": [
       "Text(0.5, 0.01, 'Score')"
      ]
     },
     "execution_count": 40,
     "metadata": {},
     "output_type": "execute_result"
    },
    {
     "data": {
      "image/png": "[encoded data removed]",
      "text/plain": [
       "<Figure size 640x480 with 2 Axes>"
      ]
     },
     "metadata": {},
     "output_type": "display_data"
    }
   ],
   "source": [
    "# Code from https://matplotlib.org/2.0.2/examples/pylab_examples/broken_axis.html\n",
    "fig, (ax1, ax2) = plt.subplots(2, 1, sharex=True)\n",
    "\n",
    "_ = ax1.hist(score_df.score, color='mediumslateblue', label='Predict triples, test set')\n",
    "_ = ax1.hist(top_100_dt.score, color='darkorange', label='Predict all, top 100')\n",
    "_ = ax2.hist(score_df.score, color='mediumslateblue', label='Predict triples, test set')\n",
    "_ = ax2.hist(top_100_dt.score, color='darkorange', label='Predict all, top 100')\n",
    "\n",
    "# Get max y-value\n",
    "maxy = ax1.get_ylim()[1]\n",
    "basemax = plt.yticks()[0][-3]\n",
    "\n",
    "# Set the y limits\n",
    "ax1.set_ylim(basemax, maxy)\n",
    "ax2.set_ylim(0, 400) # Got by trial end error\n",
    "\n",
    "# Finish formatting\n",
    "ax1.spines['bottom'].set_visible(False)\n",
    "ax2.spines['top'].set_visible(False)\n",
    "ax1.xaxis.tick_top()\n",
    "ax1.tick_params(labeltop=False, top=False)  # don't put tick labels at the top\n",
    "ax2.xaxis.tick_bottom()\n",
    "\n",
    "# Add the cut diagonals\n",
    "d = .015  # how big to make the diagonal lines in axes coordinates\n",
    "# arguments to pass to plot, just so we don't keep repeating them\n",
    "kwargs = dict(transform=ax1.transAxes, color='k', clip_on=False)\n",
    "ax1.plot((-d, +d), (-d, +d), **kwargs)        # top-left diagonal\n",
    "ax1.plot((1 - d, 1 + d), (-d, +d), **kwargs)  # top-right diagonal\n",
    "\n",
    "kwargs.update(transform=ax2.transAxes)  # switch to the bottom axes\n",
    "ax2.plot((-d, +d), (1 - d, 1 + d), **kwargs)  # bottom-left diagonal\n",
    "ax2.plot((1 - d, 1 + d), (1 - d, 1 + d), **kwargs)  # bottom-right diagonal\n",
    "\n",
    "_ = ax1.legend(loc='upper right')\n",
    "fig.supylabel('Number of triples')\n",
    "fig.supxlabel('Score')"
   ]
  },
  {
   "cell_type": "markdown",
   "metadata": {},
   "source": [
    "If we were to perform this on the graph to try and find new hypotheses, these are the best predictions we could expect. We can already see that most of these are either trivial or unrelated to desiccation. We'll do some literature searching to characterize the top 10 most likely triples."
   ]
  },
  {
   "cell_type": "code",
   "execution_count": 41,
   "metadata": {},
   "outputs": [
    {
     "data": {
      "text/html": [
       "<div>\n",
       "<style scoped>\n",
       "    .dataframe tbody tr th:only-of-type {\n",
       "        vertical-align: middle;\n",
       "    }\n",
       "\n",
       "    .dataframe tbody tr th {\n",
       "        vertical-align: top;\n",
       "    }\n",
       "\n",
       "    .dataframe thead th {\n",
       "        text-align: right;\n",
       "    }\n",
       "</style>\n",
       "<table border=\"1\" class=\"dataframe\">\n",
       "  <thead>\n",
       "    <tr style=\"text-align: right;\">\n",
       "      <th></th>\n",
       "      <th>head_label</th>\n",
       "      <th>relation_label</th>\n",
       "      <th>tail_label</th>\n",
       "    </tr>\n",
       "  </thead>\n",
       "  <tbody>\n",
       "    <tr>\n",
       "      <th>0</th>\n",
       "      <td>wheat germ system</td>\n",
       "      <td>both</td>\n",
       "      <td>deciduous seasonal forests</td>\n",
       "    </tr>\n",
       "    <tr>\n",
       "      <th>1</th>\n",
       "      <td>opuntia fragilis</td>\n",
       "      <td>both</td>\n",
       "      <td>deciduous seasonal forests</td>\n",
       "    </tr>\n",
       "    <tr>\n",
       "      <th>2</th>\n",
       "      <td>pshsfa7a1_2595</td>\n",
       "      <td>both</td>\n",
       "      <td>mwsp</td>\n",
       "    </tr>\n",
       "    <tr>\n",
       "      <th>3</th>\n",
       "      <td>salt stress-induced calcium signal</td>\n",
       "      <td>both</td>\n",
       "      <td>c. stelligera</td>\n",
       "    </tr>\n",
       "    <tr>\n",
       "      <th>4</th>\n",
       "      <td>bzip23 transcription factor activity</td>\n",
       "      <td>both</td>\n",
       "      <td>deciduous seasonal forests</td>\n",
       "    </tr>\n",
       "    <tr>\n",
       "      <th>5</th>\n",
       "      <td>beech-fir stand</td>\n",
       "      <td>both</td>\n",
       "      <td>deciduous seasonal forests</td>\n",
       "    </tr>\n",
       "    <tr>\n",
       "      <th>6</th>\n",
       "      <td>t. fluminensis</td>\n",
       "      <td>both</td>\n",
       "      <td>deciduous seasonal forests</td>\n",
       "    </tr>\n",
       "    <tr>\n",
       "      <th>7</th>\n",
       "      <td>crocus sativus l</td>\n",
       "      <td>both</td>\n",
       "      <td>reds/breaker tomatoes</td>\n",
       "    </tr>\n",
       "    <tr>\n",
       "      <th>8</th>\n",
       "      <td>drought-responsive and jasmonic acid biosynthe...</td>\n",
       "      <td>both</td>\n",
       "      <td>b. amphitrite</td>\n",
       "    </tr>\n",
       "    <tr>\n",
       "      <th>9</th>\n",
       "      <td>mandarin water</td>\n",
       "      <td>both</td>\n",
       "      <td>deciduous seasonal forests</td>\n",
       "    </tr>\n",
       "  </tbody>\n",
       "</table>\n",
       "</div>"
      ],
      "text/plain": [
       "                                          head_label relation_label  \\\n",
       "0                                  wheat germ system           both   \n",
       "1                                   opuntia fragilis           both   \n",
       "2                                     pshsfa7a1_2595           both   \n",
       "3                 salt stress-induced calcium signal           both   \n",
       "4               bzip23 transcription factor activity           both   \n",
       "5                                    beech-fir stand           both   \n",
       "6                                     t. fluminensis           both   \n",
       "7                                   crocus sativus l           both   \n",
       "8  drought-responsive and jasmonic acid biosynthe...           both   \n",
       "9                                     mandarin water           both   \n",
       "\n",
       "                   tail_label  \n",
       "0  deciduous seasonal forests  \n",
       "1  deciduous seasonal forests  \n",
       "2                        mwsp  \n",
       "3               c. stelligera  \n",
       "4  deciduous seasonal forests  \n",
       "5  deciduous seasonal forests  \n",
       "6  deciduous seasonal forests  \n",
       "7       reds/breaker tomatoes  \n",
       "8               b. amphitrite  \n",
       "9  deciduous seasonal forests  "
      ]
     },
     "execution_count": 41,
     "metadata": {},
     "output_type": "execute_result"
    }
   ],
   "source": [
    "top_10 = top_100_dt[['head_label', 'relation_label', 'tail_label']].copy()\n",
    "top_10.head(10)"
   ]
  },
  {
   "cell_type": "markdown",
   "metadata": {},
   "source": [
    "Since these are labeled as both, let's check whether they originally had a drought label or not:"
   ]
  },
  {
   "cell_type": "code",
   "execution_count": 42,
   "metadata": {},
   "outputs": [],
   "source": [
    "pair_triples = {(t[0], t[2]): t[1] for t in triples}"
   ]
  },
  {
   "cell_type": "code",
   "execution_count": 43,
   "metadata": {},
   "outputs": [],
   "source": [
    "def get_original_connection(row, all_trips):\n",
    "    pair = (row.head_label, row.tail_label)\n",
    "    try:\n",
    "        lab = all_trips[pair]\n",
    "    except KeyError:\n",
    "        lab = 'negative'\n",
    "    return lab"
   ]
  },
  {
   "cell_type": "code",
   "execution_count": 44,
   "metadata": {},
   "outputs": [],
   "source": [
    "top_100_dt['original_connection'] = top_100_dt.apply(get_original_connection, axis=1, all_trips=pair_triples)"
   ]
  },
  {
   "cell_type": "markdown",
   "metadata": {},
   "source": [
    "Check the number of each original connection type we have in the top 10:"
   ]
  },
  {
   "cell_type": "code",
   "execution_count": 45,
   "metadata": {},
   "outputs": [
    {
     "data": {
      "text/html": [
       "<div>\n",
       "<style scoped>\n",
       "    .dataframe tbody tr th:only-of-type {\n",
       "        vertical-align: middle;\n",
       "    }\n",
       "\n",
       "    .dataframe tbody tr th {\n",
       "        vertical-align: top;\n",
       "    }\n",
       "\n",
       "    .dataframe thead th {\n",
       "        text-align: right;\n",
       "    }\n",
       "</style>\n",
       "<table border=\"1\" class=\"dataframe\">\n",
       "  <thead>\n",
       "    <tr style=\"text-align: right;\">\n",
       "      <th></th>\n",
       "      <th>head_id</th>\n",
       "      <th>head_label</th>\n",
       "      <th>relation_id</th>\n",
       "      <th>relation_label</th>\n",
       "      <th>tail_id</th>\n",
       "      <th>tail_label</th>\n",
       "      <th>score</th>\n",
       "    </tr>\n",
       "    <tr>\n",
       "      <th>original_connection</th>\n",
       "      <th></th>\n",
       "      <th></th>\n",
       "      <th></th>\n",
       "      <th></th>\n",
       "      <th></th>\n",
       "      <th></th>\n",
       "      <th></th>\n",
       "    </tr>\n",
       "  </thead>\n",
       "  <tbody>\n",
       "    <tr>\n",
       "      <th>negative</th>\n",
       "      <td>100</td>\n",
       "      <td>100</td>\n",
       "      <td>100</td>\n",
       "      <td>100</td>\n",
       "      <td>100</td>\n",
       "      <td>100</td>\n",
       "      <td>100</td>\n",
       "    </tr>\n",
       "  </tbody>\n",
       "</table>\n",
       "</div>"
      ],
      "text/plain": [
       "                     head_id  head_label  relation_id  relation_label  \\\n",
       "original_connection                                                     \n",
       "negative                 100         100          100             100   \n",
       "\n",
       "                     tail_id  tail_label  score  \n",
       "original_connection                              \n",
       "negative                 100         100    100  "
      ]
     },
     "execution_count": 45,
     "metadata": {},
     "output_type": "execute_result"
    }
   ],
   "source": [
    "top_100_dt.groupby(by='original_connection').count()"
   ]
  },
  {
   "cell_type": "markdown",
   "metadata": {},
   "source": [
    "Now check what types they were predicted as:"
   ]
  },
  {
   "cell_type": "code",
   "execution_count": 46,
   "metadata": {},
   "outputs": [
    {
     "data": {
      "text/html": [
       "<div>\n",
       "<style scoped>\n",
       "    .dataframe tbody tr th:only-of-type {\n",
       "        vertical-align: middle;\n",
       "    }\n",
       "\n",
       "    .dataframe tbody tr th {\n",
       "        vertical-align: top;\n",
       "    }\n",
       "\n",
       "    .dataframe thead th {\n",
       "        text-align: right;\n",
       "    }\n",
       "</style>\n",
       "<table border=\"1\" class=\"dataframe\">\n",
       "  <thead>\n",
       "    <tr style=\"text-align: right;\">\n",
       "      <th></th>\n",
       "      <th>head_id</th>\n",
       "      <th>head_label</th>\n",
       "      <th>relation_id</th>\n",
       "      <th>tail_id</th>\n",
       "      <th>tail_label</th>\n",
       "      <th>score</th>\n",
       "      <th>original_connection</th>\n",
       "    </tr>\n",
       "    <tr>\n",
       "      <th>relation_label</th>\n",
       "      <th></th>\n",
       "      <th></th>\n",
       "      <th></th>\n",
       "      <th></th>\n",
       "      <th></th>\n",
       "      <th></th>\n",
       "      <th></th>\n",
       "    </tr>\n",
       "  </thead>\n",
       "  <tbody>\n",
       "    <tr>\n",
       "      <th>both</th>\n",
       "      <td>100</td>\n",
       "      <td>100</td>\n",
       "      <td>100</td>\n",
       "      <td>100</td>\n",
       "      <td>100</td>\n",
       "      <td>100</td>\n",
       "      <td>100</td>\n",
       "    </tr>\n",
       "  </tbody>\n",
       "</table>\n",
       "</div>"
      ],
      "text/plain": [
       "                head_id  head_label  relation_id  tail_id  tail_label  score  \\\n",
       "relation_label                                                                 \n",
       "both                100         100          100      100         100    100   \n",
       "\n",
       "                original_connection  \n",
       "relation_label                       \n",
       "both                            100  "
      ]
     },
     "execution_count": 46,
     "metadata": {},
     "output_type": "execute_result"
    }
   ],
   "source": [
    "top_100_dt.groupby(by='relation_label').count()"
   ]
  },
  {
   "cell_type": "code",
   "execution_count": 47,
   "metadata": {},
   "outputs": [],
   "source": [
    "top_10['original_connection'] = top_10.apply(get_original_connection, axis=1, all_trips=pair_triples)"
   ]
  },
  {
   "cell_type": "code",
   "execution_count": 48,
   "metadata": {},
   "outputs": [
    {
     "data": {
      "text/html": [
       "<div>\n",
       "<style scoped>\n",
       "    .dataframe tbody tr th:only-of-type {\n",
       "        vertical-align: middle;\n",
       "    }\n",
       "\n",
       "    .dataframe tbody tr th {\n",
       "        vertical-align: top;\n",
       "    }\n",
       "\n",
       "    .dataframe thead th {\n",
       "        text-align: right;\n",
       "    }\n",
       "</style>\n",
       "<table border=\"1\" class=\"dataframe\">\n",
       "  <thead>\n",
       "    <tr style=\"text-align: right;\">\n",
       "      <th></th>\n",
       "      <th>head_label</th>\n",
       "      <th>relation_label</th>\n",
       "      <th>tail_label</th>\n",
       "      <th>original_connection</th>\n",
       "    </tr>\n",
       "  </thead>\n",
       "  <tbody>\n",
       "    <tr>\n",
       "      <th>0</th>\n",
       "      <td>wheat germ system</td>\n",
       "      <td>both</td>\n",
       "      <td>deciduous seasonal forests</td>\n",
       "      <td>negative</td>\n",
       "    </tr>\n",
       "    <tr>\n",
       "      <th>1</th>\n",
       "      <td>opuntia fragilis</td>\n",
       "      <td>both</td>\n",
       "      <td>deciduous seasonal forests</td>\n",
       "      <td>negative</td>\n",
       "    </tr>\n",
       "    <tr>\n",
       "      <th>2</th>\n",
       "      <td>pshsfa7a1_2595</td>\n",
       "      <td>both</td>\n",
       "      <td>mwsp</td>\n",
       "      <td>negative</td>\n",
       "    </tr>\n",
       "    <tr>\n",
       "      <th>3</th>\n",
       "      <td>salt stress-induced calcium signal</td>\n",
       "      <td>both</td>\n",
       "      <td>c. stelligera</td>\n",
       "      <td>negative</td>\n",
       "    </tr>\n",
       "    <tr>\n",
       "      <th>4</th>\n",
       "      <td>bzip23 transcription factor activity</td>\n",
       "      <td>both</td>\n",
       "      <td>deciduous seasonal forests</td>\n",
       "      <td>negative</td>\n",
       "    </tr>\n",
       "    <tr>\n",
       "      <th>5</th>\n",
       "      <td>beech-fir stand</td>\n",
       "      <td>both</td>\n",
       "      <td>deciduous seasonal forests</td>\n",
       "      <td>negative</td>\n",
       "    </tr>\n",
       "    <tr>\n",
       "      <th>6</th>\n",
       "      <td>t. fluminensis</td>\n",
       "      <td>both</td>\n",
       "      <td>deciduous seasonal forests</td>\n",
       "      <td>negative</td>\n",
       "    </tr>\n",
       "    <tr>\n",
       "      <th>7</th>\n",
       "      <td>crocus sativus l</td>\n",
       "      <td>both</td>\n",
       "      <td>reds/breaker tomatoes</td>\n",
       "      <td>negative</td>\n",
       "    </tr>\n",
       "    <tr>\n",
       "      <th>8</th>\n",
       "      <td>drought-responsive and jasmonic acid biosynthe...</td>\n",
       "      <td>both</td>\n",
       "      <td>b. amphitrite</td>\n",
       "      <td>negative</td>\n",
       "    </tr>\n",
       "    <tr>\n",
       "      <th>9</th>\n",
       "      <td>mandarin water</td>\n",
       "      <td>both</td>\n",
       "      <td>deciduous seasonal forests</td>\n",
       "      <td>negative</td>\n",
       "    </tr>\n",
       "  </tbody>\n",
       "</table>\n",
       "</div>"
      ],
      "text/plain": [
       "                                          head_label relation_label  \\\n",
       "0                                  wheat germ system           both   \n",
       "1                                   opuntia fragilis           both   \n",
       "2                                     pshsfa7a1_2595           both   \n",
       "3                 salt stress-induced calcium signal           both   \n",
       "4               bzip23 transcription factor activity           both   \n",
       "5                                    beech-fir stand           both   \n",
       "6                                     t. fluminensis           both   \n",
       "7                                   crocus sativus l           both   \n",
       "8  drought-responsive and jasmonic acid biosynthe...           both   \n",
       "9                                     mandarin water           both   \n",
       "\n",
       "                   tail_label original_connection  \n",
       "0  deciduous seasonal forests            negative  \n",
       "1  deciduous seasonal forests            negative  \n",
       "2                        mwsp            negative  \n",
       "3               c. stelligera            negative  \n",
       "4  deciduous seasonal forests            negative  \n",
       "5  deciduous seasonal forests            negative  \n",
       "6  deciduous seasonal forests            negative  \n",
       "7       reds/breaker tomatoes            negative  \n",
       "8               b. amphitrite            negative  \n",
       "9  deciduous seasonal forests            negative  "
      ]
     },
     "execution_count": 48,
     "metadata": {},
     "output_type": "execute_result"
    }
   ],
   "source": [
    "top_10.head(10)"
   ]
  },
  {
   "cell_type": "markdown",
   "metadata": {},
   "source": [
    "Investigate origin of weird entities:"
   ]
  },
  {
   "cell_type": "code",
   "execution_count": null,
   "metadata": {},
   "outputs": [],
   "source": [
    "nx.get_node_attributes(graph, 'uids_of_origin')['q. maxima']"
   ]
  },
  {
   "cell_type": "code",
   "execution_count": null,
   "metadata": {},
   "outputs": [],
   "source": [
    "nx.get_node_attributes(graph, 'uids_of_origin')['hex aquifolium']"
   ]
  },
  {
   "cell_type": "code",
   "execution_count": null,
   "metadata": {},
   "outputs": [],
   "source": [
    "nx.get_node_attributes(graph, 'uids_of_origin')['ggcms']"
   ]
  }
 ],
 "metadata": {
  "kernelspec": {
   "display_name": "graphs",
   "language": "python",
   "name": "graphs"
  },
  "language_info": {
   "codemirror_mode": {
    "name": "ipython",
    "version": 3
   },
   "file_extension": ".py",
   "mimetype": "text/x-python",
   "name": "python",
   "nbconvert_exporter": "python",
   "pygments_lexer": "ipython3",
   "version": "3.10.13"
  }
 },
 "nbformat": 4,
 "nbformat_minor": 4
}
