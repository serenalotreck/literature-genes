{
 "cells": [
  {
   "cell_type": "markdown",
   "metadata": {},
   "source": [
    "# Static link prediction\n",
    "In this notebook, we will apply models from the PyKEEN package to generate link predictions on the entire graph as a static object."
   ]
  },
  {
   "cell_type": "code",
   "execution_count": 3,
   "metadata": {},
   "outputs": [
    {
     "name": "stderr",
     "output_type": "stream",
     "text": [
      "2024-07-17 10:17:41.508820: I tensorflow/core/platform/cpu_feature_guard.cc:193] This TensorFlow binary is optimized with oneAPI Deep Neural Network Library (oneDNN) to use the following CPU instructions in performance-critical operations:  SSE4.1 SSE4.2 AVX\n",
      "To enable them in other operations, rebuild TensorFlow with the appropriate compiler flags.\n"
     ]
    }
   ],
   "source": [
    "import networkx as nx\n",
    "from pykeen.triples import TriplesFactory\n",
    "from pykeen.pipeline import pipeline\n",
    "from pykeen.losses import BCEWithLogitsLoss\n",
    "from pykeen.constants import PYKEEN_CHECKPOINTS\n",
    "import torch\n",
    "from pykeen.models import RESCAL\n",
    "from itertools import combinations\n",
    "from tqdm import tqdm\n",
    "import json\n",
    "import pandas as pd\n",
    "from collections import Counter, defaultdict\n",
    "from scipy.stats import randint\n",
    "from sklearn.preprocessing import LabelBinarizer\n",
    "from sklearn.ensemble import RandomForestClassifier\n",
    "from sklearn.model_selection import RandomizedSearchCV\n",
    "from sklearn.metrics import confusion_matrix, ConfusionMatrixDisplay, f1_score, roc_auc_score, precision_recall_curve, PrecisionRecallDisplay, average_precision_score, RocCurveDisplay, auc, roc_curve\n",
    "from sklearn.decomposition import PCA\n",
    "import pickle\n",
    "from pykeen import predict\n",
    "from random import choice, sample\n",
    "import matplotlib\n",
    "import matplotlib.pyplot as plt\n",
    "plt.rcParams['pdf.fonttype'] = 42\n",
    "import numpy as np\n",
    "from itertools import cycle\n",
    "from ast import literal_eval\n",
    "from scipy.stats import ttest_ind, kstest\n",
    "from scipy.spatial.distance import cdist, squareform\n",
    "from scipy.special import softmax\n",
    "import functools"
   ]
  },
  {
   "cell_type": "markdown",
   "metadata": {},
   "source": [
    "## Read in the PyKEEN tensors\n",
    "Training a PyKEEN model on a graph this size takes a while, so we submitted it as a job. Here, we'll read in the final checkopint to re-instantiate the trained model, and use it to build our prediction mechanism."
   ]
  },
  {
   "cell_type": "markdown",
   "metadata": {},
   "source": [
    "### Drought + DT"
   ]
  },
  {
   "cell_type": "code",
   "execution_count": 4,
   "metadata": {},
   "outputs": [],
   "source": [
    "model_save_suffix = 'BCE_loss'\n",
    "split_random_seed = 1234 # From the training output file\n",
    "model_random_seed = 5678 # From the training output file\n",
    "date = '14Jul2024'"
   ]
  },
  {
   "cell_type": "code",
   "execution_count": 5,
   "metadata": {},
   "outputs": [],
   "source": [
    "checkpoint = torch.load(PYKEEN_CHECKPOINTS.joinpath(f'dt_rescal_{model_save_suffix}_{date}.pt'), map_location=torch.device('cpu'))"
   ]
  },
  {
   "cell_type": "code",
   "execution_count": 6,
   "metadata": {},
   "outputs": [],
   "source": [
    "def get_predicate(row):\n",
    "    if row.is_drought:\n",
    "        if row.is_desiccation:\n",
    "            return 'both'\n",
    "        else:\n",
    "            return 'drought'\n",
    "    else:\n",
    "        if row.is_desiccation:\n",
    "            return 'desiccation'"
   ]
  },
  {
   "cell_type": "code",
   "execution_count": 7,
   "metadata": {},
   "outputs": [
    {
     "name": "stdout",
     "output_type": "stream",
     "text": [
      "Snapshot of triples: [['peg-induced drought tolerance' 'drought' 'sesame']\n",
      " ['peg-induced drought tolerance' 'drought' 'sesame drought tolerance']\n",
      " ['peg-induced drought tolerance' 'drought' 'otsa']\n",
      " ['peg-induced drought tolerance' 'drought' 'p5cr']\n",
      " ['peg-induced drought tolerance' 'drought' 'glgx']]\n"
     ]
    }
   ],
   "source": [
    "graph = nx.read_graphml('../data/kg/all_drought_dt_co_occurrence_graph_No_quotes_12Jun2024.graphml')\n",
    "edgelist = nx.to_pandas_edgelist(graph)\n",
    "edgelist['predicate'] = edgelist.apply(get_predicate, axis=1)\n",
    "triples = edgelist[['source', 'predicate', 'target']].to_numpy()\n",
    "print(f'Snapshot of triples: {triples[:5]}')"
   ]
  },
  {
   "cell_type": "code",
   "execution_count": 8,
   "metadata": {},
   "outputs": [],
   "source": [
    "tf = TriplesFactory.from_labeled_triples(triples,\n",
    "                                         create_inverse_triples=True,\n",
    "                                         entity_to_id=checkpoint['entity_to_id_dict'],\n",
    "                                         relation_to_id=checkpoint['relation_to_id_dict'])\n",
    "training, validation, testing = tf.split([0.8, 0.1, 0.1], random_state=split_random_seed)"
   ]
  },
  {
   "cell_type": "code",
   "execution_count": 9,
   "metadata": {
    "scrolled": true
   },
   "outputs": [
    {
     "data": {
      "text/plain": [
       "<All keys matched successfully>"
      ]
     },
     "execution_count": 9,
     "metadata": {},
     "output_type": "execute_result"
    }
   ],
   "source": [
    "my_model = RESCAL(triples_factory=training, random_seed=model_random_seed)\n",
    "my_model.load_state_dict(checkpoint['model_state_dict'])"
   ]
  },
  {
   "cell_type": "markdown",
   "metadata": {},
   "source": [
    "Common-sense check of the loss curves and validation metrics. To do this, we need to load in a pipeline result object, rather than just the model like we have above. The below code requires GPU, so make sure the Jupyter kernel is initialized with GPU."
   ]
  },
  {
   "cell_type": "code",
   "execution_count": 9,
   "metadata": {},
   "outputs": [],
   "source": [
    "# result = pipeline(training=training,\n",
    "#                   validation=validation,\n",
    "#                   testing=testing,\n",
    "#                   stopper='early',\n",
    "#                   model='RESCAL',\n",
    "#                   model_kwargs=dict(entity_initializer=\"normal\",\n",
    "#                       relation_initializer=\"normal\"),\n",
    "#                   loss=BCEWithLogitsLoss,\n",
    "#                   training_kwargs=dict(\n",
    "#                       num_epochs=25,\n",
    "#                       checkpoint_name=f'dt_rescal_{model_save_suffix}.pt',\n",
    "#                       checkpoint_frequency=0))"
   ]
  },
  {
   "cell_type": "code",
   "execution_count": 10,
   "metadata": {},
   "outputs": [],
   "source": [
    "# result.plot_losses()"
   ]
  },
  {
   "cell_type": "code",
   "execution_count": 11,
   "metadata": {},
   "outputs": [],
   "source": [
    "# result.plot_early_stopping()"
   ]
  },
  {
   "cell_type": "markdown",
   "metadata": {},
   "source": [
    "hits@K is very small, but since the losses plot looks relatively normal, I don't think there's much I can do about it in terms of HPO; so we will move ahead with this model."
   ]
  },
  {
   "cell_type": "markdown",
   "metadata": {},
   "source": [
    "### Genophenoenvo"
   ]
  },
  {
   "cell_type": "code",
   "execution_count": 10,
   "metadata": {},
   "outputs": [],
   "source": [
    "gpe_model_save_suffix = 'BCE_loss'\n",
    "gpe_split_random_seed = 1234\n",
    "gpe_model_random_seed = 5678\n",
    "gpe_date = '14Jul2024'"
   ]
  },
  {
   "cell_type": "code",
   "execution_count": 11,
   "metadata": {},
   "outputs": [
    {
     "name": "stdout",
     "output_type": "stream",
     "text": [
      "Snapshot of triples: [['NCBITaxon:4577' 'biolink:has_phenotype' 'TO:0000207']\n",
      " ['NCBITaxon:4577' 'biolink:has_phenotype' 'TO:0000919']\n",
      " ['NCBITaxon:4577' 'biolink:has_phenotype' 'TO:0000396']\n",
      " ['NCBITaxon:4577' 'biolink:has_phenotype' 'TO:0000352']\n",
      " ['NCBITaxon:4577' 'biolink:has_phenotype' 'TO:0000478']]\n"
     ]
    }
   ],
   "source": [
    "gpe_graph = nx.read_graphml('../data/genophenoenvo/genophenoenvo_from_edge_and_nodelist.graphml')\n",
    "gpe_edgelist = nx.to_pandas_edgelist(gpe_graph)\n",
    "gpe_triples = gpe_edgelist[['source', 'predicate', 'target']].to_numpy()\n",
    "print(f'Snapshot of triples: {gpe_triples[:5]}')"
   ]
  },
  {
   "cell_type": "code",
   "execution_count": 12,
   "metadata": {},
   "outputs": [],
   "source": [
    "gpe_checkpoint = torch.load(PYKEEN_CHECKPOINTS.joinpath(f'gpe_rescal_{gpe_model_save_suffix}_{date}.pt'), map_location=torch.device('cpu'))"
   ]
  },
  {
   "cell_type": "code",
   "execution_count": 13,
   "metadata": {},
   "outputs": [],
   "source": [
    "gpe_tf = TriplesFactory.from_labeled_triples(gpe_triples,\n",
    "                                         create_inverse_triples=True,\n",
    "                                         entity_to_id=gpe_checkpoint['entity_to_id_dict'],\n",
    "                                         relation_to_id=gpe_checkpoint['relation_to_id_dict'])\n",
    "gpe_training, gpe_validation, gpe_testing = gpe_tf.split([0.8, 0.1, 0.1], random_state=gpe_split_random_seed)"
   ]
  },
  {
   "cell_type": "code",
   "execution_count": 14,
   "metadata": {},
   "outputs": [
    {
     "data": {
      "text/plain": [
       "<All keys matched successfully>"
      ]
     },
     "execution_count": 14,
     "metadata": {},
     "output_type": "execute_result"
    }
   ],
   "source": [
    "gpe_model = RESCAL(triples_factory=gpe_training, random_seed=gpe_model_random_seed)\n",
    "gpe_model.load_state_dict(gpe_checkpoint['model_state_dict'])"
   ]
  },
  {
   "cell_type": "code",
   "execution_count": 17,
   "metadata": {},
   "outputs": [],
   "source": [
    "## REQUIRES GPU\n",
    "# gpe_result = pipeline(training=gpe_training,\n",
    "#                   validation=gpe_validation,\n",
    "#                   testing=gpe_testing,\n",
    "#                   stopper='early',\n",
    "#                   model='RESCAL',\n",
    "#                   model_kwargs=dict(entity_initializer=\"normal\",\n",
    "#                       relation_initializer=\"normal\"),\n",
    "#                   loss=BCEWithLogitsLoss,\n",
    "#                   training_kwargs=dict(\n",
    "#                       num_epochs=25,\n",
    "#                       checkpoint_name=f'dt_rescal_{gpe_model_save_suffix}.pt',\n",
    "#                       checkpoint_frequency=0))"
   ]
  },
  {
   "cell_type": "code",
   "execution_count": 18,
   "metadata": {},
   "outputs": [],
   "source": [
    "# gpe_result.plot_losses()"
   ]
  },
  {
   "cell_type": "code",
   "execution_count": 19,
   "metadata": {},
   "outputs": [],
   "source": [
    "# gpe_result.plot_early_stopping()"
   ]
  },
  {
   "cell_type": "markdown",
   "metadata": {},
   "source": [
    "## Using PyKEEN built-in prediction\n",
    "It looks like a simple RF model with just the node embeddings isn't going to cut it for prediction. Let's try the built-in PyKEEN prediction methods and see if we can do any better.\n",
    "\n",
    "The tricky thing about link prediction is choosing *what to predict*. In the above RF case, we asked about a (relatively) random set of 8,000 triples in the test set. In PyKEEN, while there is an option to `predict_all` triples, it's very computationally expensive because it involves calculating the score for every single possible triple. Therefore, we can do a few different things, like, given a head entity, predict the likelihood of anything being a tail entity, or get scores for a list of triples. For the sake of being able to compare these results with the RF model above, let's ask it to predict the types of the triples in the same test set. Since it wants a predicate for a given triple, we will choose predicates randomly from the three options for the negative samples."
   ]
  },
  {
   "cell_type": "markdown",
   "metadata": {},
   "source": [
    "### Drought + DT"
   ]
  },
  {
   "cell_type": "markdown",
   "metadata": {},
   "source": [
    "We will use the same test set here as we did for the RF models that we ran outside of this notebook, so that all models are comparable. PyKEEN requires that the negative instances still have a predicate. Because we used the random sampling strategy to generate the negative set for the test set, we will also randomly sample predicates to place in each negative triple."
   ]
  },
  {
   "cell_type": "code",
   "execution_count": 35,
   "metadata": {},
   "outputs": [],
   "source": [
    "positive_test_triples = [\n",
    "    (t[0], p, t[1])\n",
    "    for p, trips in test_pairs['positives'].items()\n",
    "    for t in trips\n",
    "]\n",
    "negative_test_triples = [\n",
    "    (t[0], p, t[1])\n",
    "    for p, trips in test_pairs['negatives'].items()\n",
    "    for t in trips\n",
    "]"
   ]
  },
  {
   "cell_type": "code",
   "execution_count": 90,
   "metadata": {},
   "outputs": [],
   "source": [
    "## RANDOM SAMPLING METHOD\n",
    "# # Restore the ones from the saved training data\n",
    "# train_pairs = {lab: [literal_eval(tup) for tup in train_df[train_df['label'] == label_map[lab]].index.tolist()] for lab in label_map.keys()}\n",
    "# test_pairs = {lab: [literal_eval(tup) for tup in test_df[test_df['label'] == label_map[lab]].index.tolist()] for lab in label_map.keys()}\n",
    "\n",
    "# test_trips = []\n",
    "# negative_trips = []\n",
    "# for lab, pairs in test_pairs.items():\n",
    "#     if lab == 'negative':\n",
    "#         predicate = choice(['desiccation', 'drought', 'both'])\n",
    "#         negative_trips.extend([(pair[0], predicate, pair[1]) for pair in pairs])\n",
    "#     else:\n",
    "#         predicate = lab\n",
    "#     test_trips.extend([(pair[0], predicate, pair[1]) for pair in pairs])"
   ]
  },
  {
   "cell_type": "code",
   "execution_count": 58,
   "metadata": {},
   "outputs": [
    {
     "name": "stderr",
     "output_type": "stream",
     "text": [
      "Using maximize_memory_utilization on non-CUDA tensors. This may lead to undocumented crashes due to CPU OOM killer.\n"
     ]
    }
   ],
   "source": [
    "scores = predict.predict_triples(\n",
    "    model=my_model,\n",
    "    triples=positive_test_triples + negative_test_triples,\n",
    "    triples_factory=testing,\n",
    ")"
   ]
  },
  {
   "cell_type": "code",
   "execution_count": 59,
   "metadata": {},
   "outputs": [],
   "source": [
    "score_df = scores.process(testing).df"
   ]
  },
  {
   "cell_type": "code",
   "execution_count": 60,
   "metadata": {},
   "outputs": [
    {
     "data": {
      "text/html": [
       "<div>\n",
       "<style scoped>\n",
       "    .dataframe tbody tr th:only-of-type {\n",
       "        vertical-align: middle;\n",
       "    }\n",
       "\n",
       "    .dataframe tbody tr th {\n",
       "        vertical-align: top;\n",
       "    }\n",
       "\n",
       "    .dataframe thead th {\n",
       "        text-align: right;\n",
       "    }\n",
       "</style>\n",
       "<table border=\"1\" class=\"dataframe\">\n",
       "  <thead>\n",
       "    <tr style=\"text-align: right;\">\n",
       "      <th></th>\n",
       "      <th>head_id</th>\n",
       "      <th>head_label</th>\n",
       "      <th>relation_id</th>\n",
       "      <th>relation_label</th>\n",
       "      <th>tail_id</th>\n",
       "      <th>tail_label</th>\n",
       "      <th>score</th>\n",
       "    </tr>\n",
       "  </thead>\n",
       "  <tbody>\n",
       "    <tr>\n",
       "      <th>0</th>\n",
       "      <td>71540</td>\n",
       "      <td>corticolous bryophytes</td>\n",
       "      <td>0</td>\n",
       "      <td>both</td>\n",
       "      <td>21893</td>\n",
       "      <td>antarctic beech ( nothofagus moorei</td>\n",
       "      <td>0.000010</td>\n",
       "    </tr>\n",
       "    <tr>\n",
       "      <th>1</th>\n",
       "      <td>61377</td>\n",
       "      <td>chi a fluorescence emission</td>\n",
       "      <td>0</td>\n",
       "      <td>both</td>\n",
       "      <td>196397</td>\n",
       "      <td>parmelia quercina ( willd</td>\n",
       "      <td>0.000007</td>\n",
       "    </tr>\n",
       "    <tr>\n",
       "      <th>2</th>\n",
       "      <td>168998</td>\n",
       "      <td>mormon crickets</td>\n",
       "      <td>0</td>\n",
       "      <td>both</td>\n",
       "      <td>290264</td>\n",
       "      <td>wheatme</td>\n",
       "      <td>0.000007</td>\n",
       "    </tr>\n",
       "    <tr>\n",
       "      <th>3</th>\n",
       "      <td>15110</td>\n",
       "      <td>agapanthus praecox</td>\n",
       "      <td>0</td>\n",
       "      <td>both</td>\n",
       "      <td>198621</td>\n",
       "      <td>pec3h74</td>\n",
       "      <td>0.000007</td>\n",
       "    </tr>\n",
       "    <tr>\n",
       "      <th>4</th>\n",
       "      <td>67295</td>\n",
       "      <td>cml444</td>\n",
       "      <td>0</td>\n",
       "      <td>both</td>\n",
       "      <td>11586</td>\n",
       "      <td>ac7729tzsrw</td>\n",
       "      <td>0.000005</td>\n",
       "    </tr>\n",
       "  </tbody>\n",
       "</table>\n",
       "</div>"
      ],
      "text/plain": [
       "   head_id                   head_label  relation_id relation_label  tail_id  \\\n",
       "0    71540       corticolous bryophytes            0           both    21893   \n",
       "1    61377  chi a fluorescence emission            0           both   196397   \n",
       "2   168998              mormon crickets            0           both   290264   \n",
       "3    15110           agapanthus praecox            0           both   198621   \n",
       "4    67295                       cml444            0           both    11586   \n",
       "\n",
       "                            tail_label     score  \n",
       "0  antarctic beech ( nothofagus moorei  0.000010  \n",
       "1            parmelia quercina ( willd  0.000007  \n",
       "2                              wheatme  0.000007  \n",
       "3                              pec3h74  0.000007  \n",
       "4                          ac7729tzsrw  0.000005  "
      ]
     },
     "execution_count": 60,
     "metadata": {},
     "output_type": "execute_result"
    }
   ],
   "source": [
    "score_df = score_df.sort_values(by='score', ascending=False).reset_index(drop=True)\n",
    "score_df.head()"
   ]
  },
  {
   "cell_type": "markdown",
   "metadata": {},
   "source": [
    "Add back a column to check which triples were supposed to be negative:"
   ]
  },
  {
   "cell_type": "code",
   "execution_count": 61,
   "metadata": {},
   "outputs": [],
   "source": [
    "def is_negative(row):\n",
    "    if (row.head_label, row.relation_label, row.tail_label) in negative_test_triples:\n",
    "        return True\n",
    "    else:\n",
    "        return False"
   ]
  },
  {
   "cell_type": "code",
   "execution_count": 62,
   "metadata": {},
   "outputs": [],
   "source": [
    "score_df['is_negative'] = score_df.apply(is_negative, axis=1)"
   ]
  },
  {
   "cell_type": "code",
   "execution_count": 63,
   "metadata": {},
   "outputs": [
    {
     "data": {
      "text/html": [
       "<div>\n",
       "<style scoped>\n",
       "    .dataframe tbody tr th:only-of-type {\n",
       "        vertical-align: middle;\n",
       "    }\n",
       "\n",
       "    .dataframe tbody tr th {\n",
       "        vertical-align: top;\n",
       "    }\n",
       "\n",
       "    .dataframe thead th {\n",
       "        text-align: right;\n",
       "    }\n",
       "</style>\n",
       "<table border=\"1\" class=\"dataframe\">\n",
       "  <thead>\n",
       "    <tr style=\"text-align: right;\">\n",
       "      <th></th>\n",
       "      <th>head_id</th>\n",
       "      <th>head_label</th>\n",
       "      <th>relation_id</th>\n",
       "      <th>relation_label</th>\n",
       "      <th>tail_id</th>\n",
       "      <th>tail_label</th>\n",
       "      <th>score</th>\n",
       "      <th>is_negative</th>\n",
       "    </tr>\n",
       "  </thead>\n",
       "  <tbody>\n",
       "    <tr>\n",
       "      <th>0</th>\n",
       "      <td>71540</td>\n",
       "      <td>corticolous bryophytes</td>\n",
       "      <td>0</td>\n",
       "      <td>both</td>\n",
       "      <td>21893</td>\n",
       "      <td>antarctic beech ( nothofagus moorei</td>\n",
       "      <td>0.000010</td>\n",
       "      <td>False</td>\n",
       "    </tr>\n",
       "    <tr>\n",
       "      <th>1</th>\n",
       "      <td>61377</td>\n",
       "      <td>chi a fluorescence emission</td>\n",
       "      <td>0</td>\n",
       "      <td>both</td>\n",
       "      <td>196397</td>\n",
       "      <td>parmelia quercina ( willd</td>\n",
       "      <td>0.000007</td>\n",
       "      <td>False</td>\n",
       "    </tr>\n",
       "    <tr>\n",
       "      <th>2</th>\n",
       "      <td>168998</td>\n",
       "      <td>mormon crickets</td>\n",
       "      <td>0</td>\n",
       "      <td>both</td>\n",
       "      <td>290264</td>\n",
       "      <td>wheatme</td>\n",
       "      <td>0.000007</td>\n",
       "      <td>True</td>\n",
       "    </tr>\n",
       "    <tr>\n",
       "      <th>3</th>\n",
       "      <td>15110</td>\n",
       "      <td>agapanthus praecox</td>\n",
       "      <td>0</td>\n",
       "      <td>both</td>\n",
       "      <td>198621</td>\n",
       "      <td>pec3h74</td>\n",
       "      <td>0.000007</td>\n",
       "      <td>True</td>\n",
       "    </tr>\n",
       "    <tr>\n",
       "      <th>4</th>\n",
       "      <td>67295</td>\n",
       "      <td>cml444</td>\n",
       "      <td>0</td>\n",
       "      <td>both</td>\n",
       "      <td>11586</td>\n",
       "      <td>ac7729tzsrw</td>\n",
       "      <td>0.000005</td>\n",
       "      <td>False</td>\n",
       "    </tr>\n",
       "  </tbody>\n",
       "</table>\n",
       "</div>"
      ],
      "text/plain": [
       "   head_id                   head_label  relation_id relation_label  tail_id  \\\n",
       "0    71540       corticolous bryophytes            0           both    21893   \n",
       "1    61377  chi a fluorescence emission            0           both   196397   \n",
       "2   168998              mormon crickets            0           both   290264   \n",
       "3    15110           agapanthus praecox            0           both   198621   \n",
       "4    67295                       cml444            0           both    11586   \n",
       "\n",
       "                            tail_label     score  is_negative  \n",
       "0  antarctic beech ( nothofagus moorei  0.000010        False  \n",
       "1            parmelia quercina ( willd  0.000007        False  \n",
       "2                              wheatme  0.000007         True  \n",
       "3                              pec3h74  0.000007         True  \n",
       "4                          ac7729tzsrw  0.000005        False  "
      ]
     },
     "execution_count": 63,
     "metadata": {},
     "output_type": "execute_result"
    }
   ],
   "source": [
    "score_df.head()"
   ]
  },
  {
   "cell_type": "markdown",
   "metadata": {},
   "source": [
    "Since we used `BCEWithLogitsLoss`, the scores were optimized around a global threshold of 0 to separate positive and negative triples. Any triple with a positive score should be a true triple, and a negative score means they should be negative. Let's take a look at the score distributions to see if this is the case:"
   ]
  },
  {
   "cell_type": "markdown",
   "metadata": {},
   "source": [
    "We want to see where the negative triples rank in the scoring. We would like them to be at the bottom if the model is performing well:"
   ]
  },
  {
   "cell_type": "code",
   "execution_count": 64,
   "metadata": {},
   "outputs": [],
   "source": [
    "neg_scores = score_df[score_df['is_negative']].score.tolist()\n",
    "pos_scores = score_df[~score_df['is_negative']].score.tolist()"
   ]
  },
  {
   "cell_type": "code",
   "execution_count": 65,
   "metadata": {},
   "outputs": [
    {
     "data": {
      "text/plain": [
       "Text(0.5, 0.01, 'Score')"
      ]
     },
     "execution_count": 65,
     "metadata": {},
     "output_type": "execute_result"
    },
    {
     "data": {
      "image/png": "[encoded data removed]",
      "text/plain": [
       "<Figure size 640x480 with 2 Axes>"
      ]
     },
     "metadata": {},
     "output_type": "display_data"
    }
   ],
   "source": [
    "# Code from https://matplotlib.org/2.0.2/examples/pylab_examples/broken_axis.html\n",
    "fig, (ax1, ax2) = plt.subplots(2, 1, sharex=True)\n",
    "\n",
    "bins = np.histogram(np.hstack((pos_scores, neg_scores)), bins=50)[1]\n",
    "\n",
    "_ = ax1.hist(pos_scores, bins, color='deeppink', alpha=0.5, label='True positive triples')\n",
    "_ = ax1.hist(neg_scores, bins, color='indigo', alpha=0.5, label='True negative triples')\n",
    "_ = ax2.hist(pos_scores, bins, color='deeppink', alpha=0.5, label='True positive triples')\n",
    "_ = ax2.hist(neg_scores, bins, color='indigo', alpha=0.5, label='True negative triples')\n",
    "\n",
    "# Get max y-value\n",
    "maxy = ax1.get_ylim()[1]\n",
    "basemax = plt.yticks()[0][-3]\n",
    "\n",
    "# Set the y limits\n",
    "ax1.set_ylim(basemax, maxy)\n",
    "ax2.set_ylim(0, 600) # Got by trial end error\n",
    "\n",
    "# Finish formatting\n",
    "ax1.spines['bottom'].set_visible(False)\n",
    "ax2.spines['top'].set_visible(False)\n",
    "ax1.xaxis.tick_top()\n",
    "ax1.tick_params(labeltop=False, top=False)  # don't put tick labels at the top\n",
    "ax2.xaxis.tick_bottom()\n",
    "\n",
    "# Add the cut diagonals\n",
    "d = .015  # how big to make the diagonal lines in axes coordinates\n",
    "# arguments to pass to plot, just so we don't keep repeating them\n",
    "kwargs = dict(transform=ax1.transAxes, color='k', clip_on=False)\n",
    "ax1.plot((-d, +d), (-d, +d), **kwargs)        # top-left diagonal\n",
    "ax1.plot((1 - d, 1 + d), (-d, +d), **kwargs)  # top-right diagonal\n",
    "\n",
    "kwargs.update(transform=ax2.transAxes)  # switch to the bottom axes\n",
    "ax2.plot((-d, +d), (1 - d, 1 + d), **kwargs)  # bottom-left diagonal\n",
    "ax2.plot((1 - d, 1 + d), (1 - d, 1 + d), **kwargs)  # bottom-right diagonal\n",
    "\n",
    "_ = ax1.legend(loc='upper left')\n",
    "fig.supylabel('Number of triples')\n",
    "fig.supxlabel('Score')\n",
    "plt.savefig(f'../data/figures/dt_triple_score_distributions_{model_save_suffix}.pdf', format='pdf', dpi=600, bbox_inches='tight')"
   ]
  },
  {
   "cell_type": "code",
   "execution_count": 66,
   "metadata": {},
   "outputs": [],
   "source": [
    "neg_ranks = score_df[score_df['is_negative']].index.tolist()"
   ]
  },
  {
   "cell_type": "code",
   "execution_count": 67,
   "metadata": {},
   "outputs": [],
   "source": [
    "pos_ranks = score_df[~score_df['is_negative']].index.tolist()"
   ]
  },
  {
   "cell_type": "code",
   "execution_count": 68,
   "metadata": {},
   "outputs": [
    {
     "data": {
      "text/plain": [
       "<matplotlib.legend.Legend at 0x2af16907fb20>"
      ]
     },
     "execution_count": 68,
     "metadata": {},
     "output_type": "execute_result"
    },
    {
     "data": {
      "image/png": "[encoded data removed]",
      "text/plain": [
       "<Figure size 640x480 with 1 Axes>"
      ]
     },
     "metadata": {},
     "output_type": "display_data"
    }
   ],
   "source": [
    "fig, ax = plt.subplots()\n",
    "\n",
    "ax.hist(pos_ranks, color='deeppink', alpha=0.5, label='True positive triples')\n",
    "ax.hist(neg_ranks, color='indigo', alpha=0.5, label='True negative triples')\n",
    "ax.set_xlabel('Plausibility Rank')\n",
    "ax.set_ylabel('Number of triples')\n",
    "ax.legend()\n",
    "plt.savefig(f'../data/figures/dt_triple_rankings_{model_save_suffix}.pdf', format='pdf', dpi=600, bbox_inches='tight')"
   ]
  },
  {
   "cell_type": "markdown",
   "metadata": {},
   "source": [
    "Unfortunately, both kinds of triples are at both ends of the ranking spectrum. However, we see that negative and positive triples display somewhat different patterns of rank distribution. Whereas negative triples are most often scoring in the middle of the pack, positive triples either score on the high-ranked end or the low-ranked end, but not so much in the middle. This is likely an artefact of there being many more negative triples with scores near 0 than positive triples; they tend to \"crowd out\" the positive triples in the center of the ranking."
   ]
  },
  {
   "cell_type": "markdown",
   "metadata": {},
   "source": [
    "t-test to see if the means of the distributions are the same:"
   ]
  },
  {
   "cell_type": "code",
   "execution_count": 69,
   "metadata": {},
   "outputs": [
    {
     "data": {
      "text/plain": [
       "TtestResult(statistic=-0.5639574504794637, pvalue=0.5728147304192227, df=3997.0)"
      ]
     },
     "execution_count": 69,
     "metadata": {},
     "output_type": "execute_result"
    }
   ],
   "source": [
    "ttest_ind(pos_scores, neg_scores)"
   ]
  },
  {
   "cell_type": "markdown",
   "metadata": {},
   "source": [
    "KS test to see if the distributions are the same:"
   ]
  },
  {
   "cell_type": "code",
   "execution_count": 70,
   "metadata": {},
   "outputs": [
    {
     "data": {
      "text/plain": [
       "KstestResult(statistic=0.029767767767767767, pvalue=0.508498362231263, statistic_location=-4.265595432428881e-09, statistic_sign=-1)"
      ]
     },
     "execution_count": 70,
     "metadata": {},
     "output_type": "execute_result"
    }
   ],
   "source": [
    "kstest(pos_scores, neg_scores)"
   ]
  },
  {
   "cell_type": "markdown",
   "metadata": {},
   "source": [
    "We have one pre-defined threshold at 0, which is what the loss function optimized around during training. Let's calculate the F1 score if we use this threshold:"
   ]
  },
  {
   "cell_type": "code",
   "execution_count": null,
   "metadata": {},
   "outputs": [],
   "source": [
    "## TODO"
   ]
  },
  {
   "cell_type": "markdown",
   "metadata": {},
   "source": [
    "### Genophenoenvo"
   ]
  },
  {
   "cell_type": "code",
   "execution_count": 53,
   "metadata": {},
   "outputs": [],
   "source": [
    "types_to_exclude = [k for k, v in gpe_train_ent_types.items() if v < 2000]"
   ]
  },
  {
   "cell_type": "code",
   "execution_count": 54,
   "metadata": {},
   "outputs": [
    {
     "name": "stderr",
     "output_type": "stream",
     "text": [
      "100%|██████████| 12/12 [00:25<00:00,  2.10s/it]\n"
     ]
    },
    {
     "name": "stdout",
     "output_type": "stream",
     "text": [
      "4 entity types have less than the requested number of instances. They will be returned with the number that they have.\n"
     ]
    },
    {
     "name": "stderr",
     "output_type": "stream",
     "text": [
      "100%|██████████| 12/12 [00:08<00:00,  1.37it/s]\n"
     ]
    }
   ],
   "source": [
    "gpe_train_pairs = get_class_pairs(gpe_train_trips_semantic, num_inst=2000, types_to_exclude=types_to_exclude, sampling_method='embedding', node_reps=gpe_model.entity_representations[0](), ent_map=gpe_checkpoint['entity_to_id_dict'])\n",
    "gpe_test_pairs = get_class_pairs(gpe_test_trips_semantic, num_inst=1000, types_to_exclude=types_to_exclude, sampling_method='embedding', node_reps=gpe_model.entity_representations[0](), ent_map=gpe_checkpoint['entity_to_id_dict'])"
   ]
  },
  {
   "cell_type": "code",
   "execution_count": 55,
   "metadata": {},
   "outputs": [],
   "source": [
    "with open('../data/ml_inputs/gpe_training_triples_with_neg_predicates.json', 'w') as f:\n",
    "    json.dump(gpe_train_pairs, f)\n",
    "with open('../data/ml_inputs/gpe_testing_triples_with_neg_predicates.json', 'w') as f:\n",
    "    json.dump(gpe_test_pairs, f)"
   ]
  },
  {
   "cell_type": "code",
   "execution_count": 56,
   "metadata": {},
   "outputs": [],
   "source": [
    "gpe_positive_test_triples = [\n",
    "    (t[0], p, t[1])\n",
    "    for p, trips in gpe_test_pairs['positives'].items()\n",
    "    for t in trips\n",
    "]\n",
    "gpe_negative_test_triples = [\n",
    "    (t[0], p, t[1])\n",
    "    for p, trips in gpe_test_pairs['negatives'].items()\n",
    "    for t in trips\n",
    "]"
   ]
  },
  {
   "cell_type": "code",
   "execution_count": 153,
   "metadata": {},
   "outputs": [],
   "source": [
    "# gpe_all_labels = list(gpe_label_map.keys())\n",
    "# gpe_all_labels.remove('negative')"
   ]
  },
  {
   "cell_type": "code",
   "execution_count": 154,
   "metadata": {},
   "outputs": [],
   "source": [
    "## RANDOM sampling method\n",
    "# # Restore the ones from the saved training data\n",
    "# gpe_train_pairs = {lab: [literal_eval(tup) for tup in gpe_train_df[gpe_train_df['label'] == gpe_label_map[lab]].index.tolist()] for lab in gpe_label_map.keys()}\n",
    "# gpe_test_pairs = {lab: [literal_eval(tup) for tup in gpe_test_df[gpe_test_df['label'] == gpe_label_map[lab]].index.tolist()] for lab in gpe_label_map.keys()}\n",
    "\n",
    "# # Assign arbitrary predicate to the negative triples\n",
    "# gpe_test_trips = []\n",
    "# gpe_negative_trips = []\n",
    "# for lab, pairs in gpe_test_pairs.items():\n",
    "#     if lab == 'negative':\n",
    "#         predicate = choice(gpe_all_labels)\n",
    "#         gpe_negative_trips.extend([(pair[0], predicate, pair[1]) for pair in pairs])\n",
    "#     else:\n",
    "#         predicate = lab\n",
    "#     gpe_test_trips.extend([(pair[0], predicate, pair[1]) for pair in pairs])"
   ]
  },
  {
   "cell_type": "code",
   "execution_count": 57,
   "metadata": {},
   "outputs": [
    {
     "name": "stderr",
     "output_type": "stream",
     "text": [
      "Using maximize_memory_utilization on non-CUDA tensors. This may lead to undocumented crashes due to CPU OOM killer.\n"
     ]
    }
   ],
   "source": [
    "gpe_scores = predict.predict_triples(\n",
    "    model=gpe_model,\n",
    "    triples=gpe_positive_test_triples + gpe_negative_test_triples,\n",
    "    triples_factory=gpe_testing,\n",
    ")"
   ]
  },
  {
   "cell_type": "code",
   "execution_count": 58,
   "metadata": {},
   "outputs": [],
   "source": [
    "gpe_score_df = gpe_scores.process(gpe_testing).df"
   ]
  },
  {
   "cell_type": "code",
   "execution_count": 59,
   "metadata": {},
   "outputs": [
    {
     "data": {
      "text/html": [
       "<div>\n",
       "<style scoped>\n",
       "    .dataframe tbody tr th:only-of-type {\n",
       "        vertical-align: middle;\n",
       "    }\n",
       "\n",
       "    .dataframe tbody tr th {\n",
       "        vertical-align: top;\n",
       "    }\n",
       "\n",
       "    .dataframe thead th {\n",
       "        text-align: right;\n",
       "    }\n",
       "</style>\n",
       "<table border=\"1\" class=\"dataframe\">\n",
       "  <thead>\n",
       "    <tr style=\"text-align: right;\">\n",
       "      <th></th>\n",
       "      <th>head_id</th>\n",
       "      <th>head_label</th>\n",
       "      <th>relation_id</th>\n",
       "      <th>relation_label</th>\n",
       "      <th>tail_id</th>\n",
       "      <th>tail_label</th>\n",
       "      <th>score</th>\n",
       "    </tr>\n",
       "  </thead>\n",
       "  <tbody>\n",
       "    <tr>\n",
       "      <th>0</th>\n",
       "      <td>225772</td>\n",
       "      <td>GO:1904210</td>\n",
       "      <td>22</td>\n",
       "      <td>biolink:positively_regulates</td>\n",
       "      <td>225803</td>\n",
       "      <td>GO:1904241</td>\n",
       "      <td>0.000082</td>\n",
       "    </tr>\n",
       "    <tr>\n",
       "      <th>1</th>\n",
       "      <td>193292</td>\n",
       "      <td>GO:0014011</td>\n",
       "      <td>22</td>\n",
       "      <td>biolink:positively_regulates</td>\n",
       "      <td>226567</td>\n",
       "      <td>GO:1905046</td>\n",
       "      <td>0.000048</td>\n",
       "    </tr>\n",
       "    <tr>\n",
       "      <th>2</th>\n",
       "      <td>217048</td>\n",
       "      <td>GO:0080117</td>\n",
       "      <td>22</td>\n",
       "      <td>biolink:positively_regulates</td>\n",
       "      <td>228810</td>\n",
       "      <td>GO:2000605</td>\n",
       "      <td>0.000029</td>\n",
       "    </tr>\n",
       "    <tr>\n",
       "      <th>3</th>\n",
       "      <td>186456</td>\n",
       "      <td>GO:0001885</td>\n",
       "      <td>22</td>\n",
       "      <td>biolink:positively_regulates</td>\n",
       "      <td>223357</td>\n",
       "      <td>GO:1901552</td>\n",
       "      <td>0.000027</td>\n",
       "    </tr>\n",
       "    <tr>\n",
       "      <th>4</th>\n",
       "      <td>186901</td>\n",
       "      <td>GO:0002353</td>\n",
       "      <td>22</td>\n",
       "      <td>biolink:positively_regulates</td>\n",
       "      <td>187087</td>\n",
       "      <td>GO:0002550</td>\n",
       "      <td>0.000025</td>\n",
       "    </tr>\n",
       "  </tbody>\n",
       "</table>\n",
       "</div>"
      ],
      "text/plain": [
       "   head_id  head_label  relation_id                relation_label  tail_id  \\\n",
       "0   225772  GO:1904210           22  biolink:positively_regulates   225803   \n",
       "1   193292  GO:0014011           22  biolink:positively_regulates   226567   \n",
       "2   217048  GO:0080117           22  biolink:positively_regulates   228810   \n",
       "3   186456  GO:0001885           22  biolink:positively_regulates   223357   \n",
       "4   186901  GO:0002353           22  biolink:positively_regulates   187087   \n",
       "\n",
       "   tail_label     score  \n",
       "0  GO:1904241  0.000082  \n",
       "1  GO:1905046  0.000048  \n",
       "2  GO:2000605  0.000029  \n",
       "3  GO:1901552  0.000027  \n",
       "4  GO:0002550  0.000025  "
      ]
     },
     "execution_count": 59,
     "metadata": {},
     "output_type": "execute_result"
    }
   ],
   "source": [
    "gpe_score_df = gpe_score_df.sort_values(by='score', ascending=False).reset_index(drop=True)\n",
    "gpe_score_df.head()"
   ]
  },
  {
   "cell_type": "code",
   "execution_count": 63,
   "metadata": {},
   "outputs": [],
   "source": [
    "def is_negative(row):\n",
    "    if (row.head_label, row.relation_label, row.tail_label) in gpe_negative_test_triples:\n",
    "        return True\n",
    "    else:\n",
    "        return False"
   ]
  },
  {
   "cell_type": "code",
   "execution_count": 64,
   "metadata": {},
   "outputs": [],
   "source": [
    "gpe_score_df['is_negative'] = gpe_score_df.apply(is_negative, axis=1)"
   ]
  },
  {
   "cell_type": "code",
   "execution_count": 65,
   "metadata": {},
   "outputs": [],
   "source": [
    "gpe_neg_ranks = gpe_score_df[gpe_score_df['is_negative']].index.tolist()"
   ]
  },
  {
   "cell_type": "code",
   "execution_count": 66,
   "metadata": {},
   "outputs": [],
   "source": [
    "gpe_pos_ranks = gpe_score_df[~gpe_score_df['is_negative']].index.tolist()"
   ]
  },
  {
   "cell_type": "code",
   "execution_count": 67,
   "metadata": {},
   "outputs": [
    {
     "data": {
      "text/plain": [
       "<matplotlib.legend.Legend at 0x2aadfc5075e0>"
      ]
     },
     "execution_count": 67,
     "metadata": {},
     "output_type": "execute_result"
    },
    {
     "data": {
      "image/png": "[encoded data removed]",
      "text/plain": [
       "<Figure size 640x480 with 1 Axes>"
      ]
     },
     "metadata": {},
     "output_type": "display_data"
    }
   ],
   "source": [
    "fig, ax = plt.subplots()\n",
    "\n",
    "ax.hist(gpe_pos_ranks, color='deeppink', alpha=0.5, label='True positive triples')\n",
    "ax.hist(gpe_neg_ranks, color='indigo', alpha=0.5, label='True negative triples')\n",
    "ax.set_xlabel('Plausibility Rank')\n",
    "ax.set_ylabel('Number of triples')\n",
    "ax.legend()"
   ]
  },
  {
   "cell_type": "code",
   "execution_count": 71,
   "metadata": {},
   "outputs": [],
   "source": [
    "gpe_neg_scores = gpe_score_df[gpe_score_df['is_negative']].score.tolist()\n",
    "gpe_pos_scores = gpe_score_df[~gpe_score_df['is_negative']].score.tolist()"
   ]
  },
  {
   "cell_type": "code",
   "execution_count": 72,
   "metadata": {},
   "outputs": [
    {
     "data": {
      "text/plain": [
       "Text(0.5, 0.01, 'Score')"
      ]
     },
     "execution_count": 72,
     "metadata": {},
     "output_type": "execute_result"
    },
    {
     "data": {
      "image/png": "[encoded data removed]",
      "text/plain": [
       "<Figure size 640x480 with 2 Axes>"
      ]
     },
     "metadata": {},
     "output_type": "display_data"
    }
   ],
   "source": [
    "# Code from https://matplotlib.org/2.0.2/examples/pylab_examples/broken_axis.html\n",
    "fig, (ax1, ax2) = plt.subplots(2, 1, sharex=True)\n",
    "\n",
    "bins = np.histogram(np.hstack((gpe_pos_scores, gpe_neg_scores)), bins=100)[1]\n",
    "\n",
    "_ = ax1.hist(gpe_pos_scores, bins, color='deeppink', alpha=0.5, label='True positive triples')\n",
    "_ = ax1.hist(gpe_neg_scores,bins,  color='indigo', alpha=0.5, label='True negative triples')\n",
    "_ = ax2.hist(gpe_pos_scores, bins, color='deeppink', alpha=0.5, label='True positive triples')\n",
    "_ = ax2.hist(gpe_neg_scores,bins,  color='indigo', alpha=0.5, label='True negative triples')\n",
    "\n",
    "# Get max y-value\n",
    "maxy = ax1.get_ylim()[1]\n",
    "basemax = plt.yticks()[0][-3]\n",
    "\n",
    "# Set the y limits\n",
    "ax1.set_ylim(basemax, maxy)\n",
    "ax2.set_ylim(0, 1000) # Got by trial end error\n",
    "\n",
    "# Finish formatting\n",
    "ax1.spines['bottom'].set_visible(False)\n",
    "ax2.spines['top'].set_visible(False)\n",
    "ax1.xaxis.tick_top()\n",
    "ax1.tick_params(labeltop=False, top=False)  # don't put tick labels at the top\n",
    "ax2.xaxis.tick_bottom()\n",
    "\n",
    "# Add the cut diagonals\n",
    "d = .015  # how big to make the diagonal lines in axes coordinates\n",
    "# arguments to pass to plot, just so we don't keep repeating them\n",
    "kwargs = dict(transform=ax1.transAxes, color='k', clip_on=False)\n",
    "ax1.plot((-d, +d), (-d, +d), **kwargs)        # top-left diagonal\n",
    "ax1.plot((1 - d, 1 + d), (-d, +d), **kwargs)  # top-right diagonal\n",
    "\n",
    "kwargs.update(transform=ax2.transAxes)  # switch to the bottom axes\n",
    "ax2.plot((-d, +d), (1 - d, 1 + d), **kwargs)  # bottom-left diagonal\n",
    "ax2.plot((1 - d, 1 + d), (1 - d, 1 + d), **kwargs)  # bottom-right diagonal\n",
    "\n",
    "_ = ax1.legend(loc='upper right')\n",
    "fig.supylabel('Number of triples')\n",
    "fig.supxlabel('Score')"
   ]
  },
  {
   "cell_type": "markdown",
   "metadata": {},
   "source": [
    "t-test to see if the means of the distributions are the same:"
   ]
  },
  {
   "cell_type": "code",
   "execution_count": 73,
   "metadata": {},
   "outputs": [
    {
     "data": {
      "text/plain": [
       "TtestResult(statistic=0.08048205206054726, pvalue=0.9358548048771755, df=17233.0)"
      ]
     },
     "execution_count": 73,
     "metadata": {},
     "output_type": "execute_result"
    }
   ],
   "source": [
    "ttest_ind(gpe_pos_scores, gpe_neg_scores)"
   ]
  },
  {
   "cell_type": "markdown",
   "metadata": {},
   "source": [
    "KS test to see if the distributions are the same:"
   ]
  },
  {
   "cell_type": "code",
   "execution_count": 74,
   "metadata": {},
   "outputs": [
    {
     "data": {
      "text/plain": [
       "KstestResult(statistic=0.0993761138539632, pvalue=1.867912265724055e-37, statistic_location=-2.2726642789905327e-09, statistic_sign=1)"
      ]
     },
     "execution_count": 74,
     "metadata": {},
     "output_type": "execute_result"
    }
   ],
   "source": [
    "kstest(gpe_pos_scores, gpe_neg_scores)"
   ]
  },
  {
   "cell_type": "markdown",
   "metadata": {},
   "source": [
    "### Generating comparable performance metrics for PyKEEN model\n",
    "We would like to generate an AUROC/PRC curve so that we can compare the rank-based prediction to that of the RF model and the STHN TLP model. The RESCAL authors state that \"link prediction can be done by comparing \\[the plausibility score\\] to some given threshold θ\". Therefore, we will generate a set of thresholds and build an AUROC curve, from which we can choose the best threshold and then calculate an F1 score.\n",
    "\n",
    "Note that this is somewhat different from the RF model in that it's not a multiclass problem: we provided the relation label, and the model is tasked with deciding if the relation is true or not, which makes this a binary problem. We therefore might expect better performance from this model, as it should be easier to decide true vs. false than to have to choose both true vs. false as well as which label it is. This means that we can't directly compare the AUROC's for the two models -- however, it will be helpful to see how this model performs."
   ]
  },
  {
   "cell_type": "markdown",
   "metadata": {},
   "source": [
    "#### Drought + DT"
   ]
  },
  {
   "cell_type": "code",
   "execution_count": 45,
   "metadata": {},
   "outputs": [],
   "source": [
    "pykeen_test = [0 if n else 1 for n in score_df.is_negative]"
   ]
  },
  {
   "cell_type": "code",
   "execution_count": 46,
   "metadata": {},
   "outputs": [
    {
     "name": "stdout",
     "output_type": "stream",
     "text": [
      "The PyKEEN RESCAL model has an AUROC of 0.51\n"
     ]
    }
   ],
   "source": [
    "fpr, tpr, thresholds = roc_curve(pykeen_test, score_df.score)\n",
    "pykeen_auc = auc(fpr, tpr)\n",
    "print(f'The PyKEEN RESCAL model has an AUROC of {pykeen_auc:.2f}')"
   ]
  },
  {
   "cell_type": "code",
   "execution_count": 48,
   "metadata": {},
   "outputs": [
    {
     "data": {
      "text/plain": [
       "array([           inf,  2.8926038e-06,  1.1281755e-06, ...,\n",
       "       -1.4147917e-06, -1.4304140e-06, -4.7876929e-06], dtype=float32)"
      ]
     },
     "execution_count": 48,
     "metadata": {},
     "output_type": "execute_result"
    }
   ],
   "source": [
    "thresholds"
   ]
  },
  {
   "cell_type": "code",
   "execution_count": 47,
   "metadata": {},
   "outputs": [
    {
     "data": {
      "image/png": "[encoded data removed]",
      "text/plain": [
       "<Figure size 600x600 with 1 Axes>"
      ]
     },
     "metadata": {},
     "output_type": "display_data"
    }
   ],
   "source": [
    "fig, ax = plt.subplots(figsize=(6, 6))\n",
    "\n",
    "RocCurveDisplay.from_predictions(\n",
    "    pykeen_test,\n",
    "    score_df.score,\n",
    "    color='deeppink',\n",
    "    ax=ax,\n",
    "    plot_chance_level=True,\n",
    ")\n",
    "_ = ax.set(\n",
    "    xlabel=\"False Positive Rate\",\n",
    "    ylabel=\"True Positive Rate\",\n",
    ")"
   ]
  },
  {
   "cell_type": "markdown",
   "metadata": {},
   "source": [
    "#### Genophenoenvo"
   ]
  },
  {
   "cell_type": "code",
   "execution_count": 75,
   "metadata": {},
   "outputs": [],
   "source": [
    "gpe_pykeen_test = [0 if n else 1 for n in gpe_score_df.is_negative]"
   ]
  },
  {
   "cell_type": "code",
   "execution_count": 76,
   "metadata": {},
   "outputs": [
    {
     "name": "stdout",
     "output_type": "stream",
     "text": [
      "The PyKEEN RESCAL model has an AUROC of 0.49\n"
     ]
    }
   ],
   "source": [
    "gpe_fpr, gpe_tpr, gpe_thresholds = roc_curve(gpe_pykeen_test, gpe_score_df.score)\n",
    "gpe_pykeen_auc = auc(gpe_fpr, gpe_tpr)\n",
    "print(f'The PyKEEN RESCAL model has an AUROC of {gpe_pykeen_auc:.2f}')"
   ]
  },
  {
   "cell_type": "code",
   "execution_count": 77,
   "metadata": {},
   "outputs": [
    {
     "data": {
      "image/png": "[encoded data removed]",
      "text/plain": [
       "<Figure size 600x600 with 1 Axes>"
      ]
     },
     "metadata": {},
     "output_type": "display_data"
    }
   ],
   "source": [
    "fig, ax = plt.subplots(figsize=(6, 6))\n",
    "\n",
    "RocCurveDisplay.from_predictions(\n",
    "    gpe_pykeen_test,\n",
    "    gpe_score_df.score,\n",
    "    color='deeppink',\n",
    "    ax=ax,\n",
    "    plot_chance_level=True,\n",
    ")\n",
    "_ = ax.set(\n",
    "    xlabel=\"False Positive Rate\",\n",
    "    ylabel=\"True Positive Rate\",\n",
    ")"
   ]
  },
  {
   "cell_type": "markdown",
   "metadata": {},
   "source": [
    "### Predicting top 100 triples\n",
    "If we were to use this method to look for the most probable new connections in the graph without having a previous hypothesis about what kinds of triples we think are most likely to be interesting, we would use `predict_all`. We can just store the top 100 to save on memory, but it doesn't change how many scores have to be calculated. This may prove too computationally challenging, but I would like to try it:"
   ]
  },
  {
   "cell_type": "markdown",
   "metadata": {},
   "source": [
    "#### Drought + DT"
   ]
  },
  {
   "cell_type": "code",
   "execution_count": null,
   "metadata": {},
   "outputs": [],
   "source": [
    "all_scores = predict.predict_all(\n",
    "    model=my_model,\n",
    "    k=100\n",
    ")"
   ]
  },
  {
   "cell_type": "code",
   "execution_count": 11,
   "metadata": {},
   "outputs": [
    {
     "data": {
      "text/html": [
       "<div>\n",
       "<style scoped>\n",
       "    .dataframe tbody tr th:only-of-type {\n",
       "        vertical-align: middle;\n",
       "    }\n",
       "\n",
       "    .dataframe tbody tr th {\n",
       "        vertical-align: top;\n",
       "    }\n",
       "\n",
       "    .dataframe thead th {\n",
       "        text-align: right;\n",
       "    }\n",
       "</style>\n",
       "<table border=\"1\" class=\"dataframe\">\n",
       "  <thead>\n",
       "    <tr style=\"text-align: right;\">\n",
       "      <th></th>\n",
       "      <th>head_id</th>\n",
       "      <th>head_label</th>\n",
       "      <th>relation_id</th>\n",
       "      <th>relation_label</th>\n",
       "      <th>tail_id</th>\n",
       "      <th>tail_label</th>\n",
       "      <th>score</th>\n",
       "    </tr>\n",
       "  </thead>\n",
       "  <tbody>\n",
       "    <tr>\n",
       "      <th>0</th>\n",
       "      <td>69982</td>\n",
       "      <td>common scab disease</td>\n",
       "      <td>0</td>\n",
       "      <td>both</td>\n",
       "      <td>34292</td>\n",
       "      <td>b. lactucae</td>\n",
       "      <td>0.000037</td>\n",
       "    </tr>\n",
       "    <tr>\n",
       "      <th>1</th>\n",
       "      <td>106967</td>\n",
       "      <td>frankliniella occidentalis pergande</td>\n",
       "      <td>0</td>\n",
       "      <td>both</td>\n",
       "      <td>176129</td>\n",
       "      <td>nbs-lrr disease resistance genes</td>\n",
       "      <td>0.000036</td>\n",
       "    </tr>\n",
       "    <tr>\n",
       "      <th>2</th>\n",
       "      <td>258095</td>\n",
       "      <td>sub-saharan african</td>\n",
       "      <td>0</td>\n",
       "      <td>both</td>\n",
       "      <td>252545</td>\n",
       "      <td>soybean cyp707a gene family</td>\n",
       "      <td>0.000035</td>\n",
       "    </tr>\n",
       "    <tr>\n",
       "      <th>3</th>\n",
       "      <td>79880</td>\n",
       "      <td>dabz-f1</td>\n",
       "      <td>0</td>\n",
       "      <td>both</td>\n",
       "      <td>252545</td>\n",
       "      <td>soybean cyp707a gene family</td>\n",
       "      <td>0.000034</td>\n",
       "    </tr>\n",
       "    <tr>\n",
       "      <th>4</th>\n",
       "      <td>28583</td>\n",
       "      <td>ascophyllum nodosum extracts</td>\n",
       "      <td>0</td>\n",
       "      <td>both</td>\n",
       "      <td>253661</td>\n",
       "      <td>sphagnum peat mesocosms</td>\n",
       "      <td>0.000034</td>\n",
       "    </tr>\n",
       "  </tbody>\n",
       "</table>\n",
       "</div>"
      ],
      "text/plain": [
       "   head_id                           head_label  relation_id relation_label  \\\n",
       "0    69982                  common scab disease            0           both   \n",
       "1   106967  frankliniella occidentalis pergande            0           both   \n",
       "2   258095                  sub-saharan african            0           both   \n",
       "3    79880                              dabz-f1            0           both   \n",
       "4    28583         ascophyllum nodosum extracts            0           both   \n",
       "\n",
       "   tail_id                        tail_label     score  \n",
       "0    34292                       b. lactucae  0.000037  \n",
       "1   176129  nbs-lrr disease resistance genes  0.000036  \n",
       "2   252545       soybean cyp707a gene family  0.000035  \n",
       "3   252545       soybean cyp707a gene family  0.000034  \n",
       "4   253661           sphagnum peat mesocosms  0.000034  "
      ]
     },
     "execution_count": 11,
     "metadata": {},
     "output_type": "execute_result"
    }
   ],
   "source": [
    "top_100_dt = all_scores.process(tf).df\n",
    "top_100_dt.head()"
   ]
  },
  {
   "cell_type": "code",
   "execution_count": 12,
   "metadata": {},
   "outputs": [],
   "source": [
    "# Save out\n",
    "top_100_dt.to_csv('../data/ml_outputs/RESCAL_rank_based_top_100_triples_from_predict_all.csv', index=False)"
   ]
  },
  {
   "cell_type": "code",
   "execution_count": 37,
   "metadata": {},
   "outputs": [],
   "source": [
    "top_100_dt = pd.read_csv('../data/ml_outputs/RESCAL_rank_based_top_100_triples_from_predict_all.csv')"
   ]
  },
  {
   "cell_type": "code",
   "execution_count": 38,
   "metadata": {},
   "outputs": [
    {
     "data": {
      "text/plain": [
       "Text(0.5, 0.01, 'Score')"
      ]
     },
     "execution_count": 38,
     "metadata": {},
     "output_type": "execute_result"
    },
    {
     "data": {
      "image/png": "[encoded data removed]",
      "text/plain": [
       "<Figure size 640x480 with 2 Axes>"
      ]
     },
     "metadata": {},
     "output_type": "display_data"
    }
   ],
   "source": [
    "# Code from https://matplotlib.org/2.0.2/examples/pylab_examples/broken_axis.html\n",
    "fig, (ax1, ax2) = plt.subplots(2, 1, sharex=True)\n",
    "\n",
    "_ = ax1.hist(score_df.score, color='mediumslateblue', label='Predict triples, test set')\n",
    "_ = ax1.hist(top_100_dt.score, color='darkorange', label='Predict all, top 100')\n",
    "_ = ax2.hist(score_df.score, color='mediumslateblue', label='Predict triples, test set')\n",
    "_ = ax2.hist(top_100_dt.score, color='darkorange', label='Predict all, top 100')\n",
    "\n",
    "# Get max y-value\n",
    "maxy = ax1.get_ylim()[1]\n",
    "basemax = plt.yticks()[0][-3]\n",
    "\n",
    "# Set the y limits\n",
    "ax1.set_ylim(basemax, maxy)\n",
    "ax2.set_ylim(0, 400) # Got by trial end error\n",
    "\n",
    "# Finish formatting\n",
    "ax1.spines['bottom'].set_visible(False)\n",
    "ax2.spines['top'].set_visible(False)\n",
    "ax1.xaxis.tick_top()\n",
    "ax1.tick_params(labeltop=False, top=False)  # don't put tick labels at the top\n",
    "ax2.xaxis.tick_bottom()\n",
    "\n",
    "# Add the cut diagonals\n",
    "d = .015  # how big to make the diagonal lines in axes coordinates\n",
    "# arguments to pass to plot, just so we don't keep repeating them\n",
    "kwargs = dict(transform=ax1.transAxes, color='k', clip_on=False)\n",
    "ax1.plot((-d, +d), (-d, +d), **kwargs)        # top-left diagonal\n",
    "ax1.plot((1 - d, 1 + d), (-d, +d), **kwargs)  # top-right diagonal\n",
    "\n",
    "kwargs.update(transform=ax2.transAxes)  # switch to the bottom axes\n",
    "ax2.plot((-d, +d), (1 - d, 1 + d), **kwargs)  # bottom-left diagonal\n",
    "ax2.plot((1 - d, 1 + d), (1 - d, 1 + d), **kwargs)  # bottom-right diagonal\n",
    "\n",
    "_ = ax1.legend(loc='upper right')\n",
    "fig.supylabel('Number of triples')\n",
    "fig.supxlabel('Score')"
   ]
  },
  {
   "cell_type": "markdown",
   "metadata": {},
   "source": [
    "If we were to perform this on the graph to try and find new hypotheses, these are the best predictions we could expect. We can already see that most of these are either trivial or unrelated to desiccation. We'll do some literature searching to characterize the top 10 most likely triples."
   ]
  },
  {
   "cell_type": "code",
   "execution_count": 43,
   "metadata": {},
   "outputs": [
    {
     "data": {
      "text/html": [
       "<div>\n",
       "<style scoped>\n",
       "    .dataframe tbody tr th:only-of-type {\n",
       "        vertical-align: middle;\n",
       "    }\n",
       "\n",
       "    .dataframe tbody tr th {\n",
       "        vertical-align: top;\n",
       "    }\n",
       "\n",
       "    .dataframe thead th {\n",
       "        text-align: right;\n",
       "    }\n",
       "</style>\n",
       "<table border=\"1\" class=\"dataframe\">\n",
       "  <thead>\n",
       "    <tr style=\"text-align: right;\">\n",
       "      <th></th>\n",
       "      <th>head_label</th>\n",
       "      <th>relation_label</th>\n",
       "      <th>tail_label</th>\n",
       "    </tr>\n",
       "  </thead>\n",
       "  <tbody>\n",
       "    <tr>\n",
       "      <th>0</th>\n",
       "      <td>common scab disease</td>\n",
       "      <td>both</td>\n",
       "      <td>b. lactucae</td>\n",
       "    </tr>\n",
       "    <tr>\n",
       "      <th>1</th>\n",
       "      <td>frankliniella occidentalis pergande</td>\n",
       "      <td>both</td>\n",
       "      <td>nbs-lrr disease resistance genes</td>\n",
       "    </tr>\n",
       "    <tr>\n",
       "      <th>2</th>\n",
       "      <td>sub-saharan african</td>\n",
       "      <td>both</td>\n",
       "      <td>soybean cyp707a gene family</td>\n",
       "    </tr>\n",
       "    <tr>\n",
       "      <th>3</th>\n",
       "      <td>dabz-f1</td>\n",
       "      <td>both</td>\n",
       "      <td>soybean cyp707a gene family</td>\n",
       "    </tr>\n",
       "    <tr>\n",
       "      <th>4</th>\n",
       "      <td>ascophyllum nodosum extracts</td>\n",
       "      <td>both</td>\n",
       "      <td>sphagnum peat mesocosms</td>\n",
       "    </tr>\n",
       "    <tr>\n",
       "      <th>5</th>\n",
       "      <td>q. maxima</td>\n",
       "      <td>both</td>\n",
       "      <td>catalase and gr activities</td>\n",
       "    </tr>\n",
       "    <tr>\n",
       "      <th>6</th>\n",
       "      <td>medium salt</td>\n",
       "      <td>both</td>\n",
       "      <td>peanut leaves or roots</td>\n",
       "    </tr>\n",
       "    <tr>\n",
       "      <th>7</th>\n",
       "      <td>timber revenue</td>\n",
       "      <td>both</td>\n",
       "      <td>brazilian eucalypt plantations</td>\n",
       "    </tr>\n",
       "    <tr>\n",
       "      <th>8</th>\n",
       "      <td>hex aquifolium</td>\n",
       "      <td>both</td>\n",
       "      <td>embolism recovery</td>\n",
       "    </tr>\n",
       "    <tr>\n",
       "      <th>9</th>\n",
       "      <td>ggcms</td>\n",
       "      <td>both</td>\n",
       "      <td>methyltransferase-2 domains</td>\n",
       "    </tr>\n",
       "  </tbody>\n",
       "</table>\n",
       "</div>"
      ],
      "text/plain": [
       "                            head_label relation_label  \\\n",
       "0                  common scab disease           both   \n",
       "1  frankliniella occidentalis pergande           both   \n",
       "2                  sub-saharan african           both   \n",
       "3                              dabz-f1           both   \n",
       "4         ascophyllum nodosum extracts           both   \n",
       "5                            q. maxima           both   \n",
       "6                          medium salt           both   \n",
       "7                       timber revenue           both   \n",
       "8                       hex aquifolium           both   \n",
       "9                                ggcms           both   \n",
       "\n",
       "                         tail_label  \n",
       "0                       b. lactucae  \n",
       "1  nbs-lrr disease resistance genes  \n",
       "2       soybean cyp707a gene family  \n",
       "3       soybean cyp707a gene family  \n",
       "4           sphagnum peat mesocosms  \n",
       "5        catalase and gr activities  \n",
       "6            peanut leaves or roots  \n",
       "7    brazilian eucalypt plantations  \n",
       "8                 embolism recovery  \n",
       "9       methyltransferase-2 domains  "
      ]
     },
     "execution_count": 43,
     "metadata": {},
     "output_type": "execute_result"
    }
   ],
   "source": [
    "top_10 = top_100_dt[['head_label', 'relation_label', 'tail_label']].copy()\n",
    "top_10.head(10)"
   ]
  },
  {
   "cell_type": "markdown",
   "metadata": {},
   "source": [
    "Since these are labeled as both, let's check whether they originally had a drought label or not:"
   ]
  },
  {
   "cell_type": "code",
   "execution_count": 44,
   "metadata": {},
   "outputs": [],
   "source": [
    "pair_triples = {(t[0], t[2]): t[1] for t in triples}"
   ]
  },
  {
   "cell_type": "code",
   "execution_count": 45,
   "metadata": {},
   "outputs": [],
   "source": [
    "def get_original_connection(row, all_trips):\n",
    "    pair = (row.head_label, row.tail_label)\n",
    "    try:\n",
    "        lab = all_trips[pair]\n",
    "    except KeyError:\n",
    "        lab = 'negative'\n",
    "    return lab"
   ]
  },
  {
   "cell_type": "code",
   "execution_count": 46,
   "metadata": {},
   "outputs": [],
   "source": [
    "top_100_dt['original_connection'] = top_100_dt.apply(get_original_connection, axis=1, all_trips=pair_triples)"
   ]
  },
  {
   "cell_type": "markdown",
   "metadata": {},
   "source": [
    "Check the number of each original connection type we have in the top 10:"
   ]
  },
  {
   "cell_type": "code",
   "execution_count": 49,
   "metadata": {},
   "outputs": [
    {
     "data": {
      "text/html": [
       "<div>\n",
       "<style scoped>\n",
       "    .dataframe tbody tr th:only-of-type {\n",
       "        vertical-align: middle;\n",
       "    }\n",
       "\n",
       "    .dataframe tbody tr th {\n",
       "        vertical-align: top;\n",
       "    }\n",
       "\n",
       "    .dataframe thead th {\n",
       "        text-align: right;\n",
       "    }\n",
       "</style>\n",
       "<table border=\"1\" class=\"dataframe\">\n",
       "  <thead>\n",
       "    <tr style=\"text-align: right;\">\n",
       "      <th></th>\n",
       "      <th>head_id</th>\n",
       "      <th>head_label</th>\n",
       "      <th>relation_id</th>\n",
       "      <th>relation_label</th>\n",
       "      <th>tail_id</th>\n",
       "      <th>tail_label</th>\n",
       "      <th>score</th>\n",
       "    </tr>\n",
       "    <tr>\n",
       "      <th>original_connection</th>\n",
       "      <th></th>\n",
       "      <th></th>\n",
       "      <th></th>\n",
       "      <th></th>\n",
       "      <th></th>\n",
       "      <th></th>\n",
       "      <th></th>\n",
       "    </tr>\n",
       "  </thead>\n",
       "  <tbody>\n",
       "    <tr>\n",
       "      <th>negative</th>\n",
       "      <td>100</td>\n",
       "      <td>100</td>\n",
       "      <td>100</td>\n",
       "      <td>100</td>\n",
       "      <td>100</td>\n",
       "      <td>100</td>\n",
       "      <td>100</td>\n",
       "    </tr>\n",
       "  </tbody>\n",
       "</table>\n",
       "</div>"
      ],
      "text/plain": [
       "                     head_id  head_label  relation_id  relation_label  \\\n",
       "original_connection                                                     \n",
       "negative                 100         100          100             100   \n",
       "\n",
       "                     tail_id  tail_label  score  \n",
       "original_connection                              \n",
       "negative                 100         100    100  "
      ]
     },
     "execution_count": 49,
     "metadata": {},
     "output_type": "execute_result"
    }
   ],
   "source": [
    "top_100_dt.groupby(by='original_connection').count()"
   ]
  },
  {
   "cell_type": "markdown",
   "metadata": {},
   "source": [
    "Now check what types they were predicted as:"
   ]
  },
  {
   "cell_type": "code",
   "execution_count": 50,
   "metadata": {},
   "outputs": [
    {
     "data": {
      "text/html": [
       "<div>\n",
       "<style scoped>\n",
       "    .dataframe tbody tr th:only-of-type {\n",
       "        vertical-align: middle;\n",
       "    }\n",
       "\n",
       "    .dataframe tbody tr th {\n",
       "        vertical-align: top;\n",
       "    }\n",
       "\n",
       "    .dataframe thead th {\n",
       "        text-align: right;\n",
       "    }\n",
       "</style>\n",
       "<table border=\"1\" class=\"dataframe\">\n",
       "  <thead>\n",
       "    <tr style=\"text-align: right;\">\n",
       "      <th></th>\n",
       "      <th>head_id</th>\n",
       "      <th>head_label</th>\n",
       "      <th>relation_id</th>\n",
       "      <th>tail_id</th>\n",
       "      <th>tail_label</th>\n",
       "      <th>score</th>\n",
       "      <th>original_connection</th>\n",
       "    </tr>\n",
       "    <tr>\n",
       "      <th>relation_label</th>\n",
       "      <th></th>\n",
       "      <th></th>\n",
       "      <th></th>\n",
       "      <th></th>\n",
       "      <th></th>\n",
       "      <th></th>\n",
       "      <th></th>\n",
       "    </tr>\n",
       "  </thead>\n",
       "  <tbody>\n",
       "    <tr>\n",
       "      <th>both</th>\n",
       "      <td>100</td>\n",
       "      <td>100</td>\n",
       "      <td>100</td>\n",
       "      <td>100</td>\n",
       "      <td>100</td>\n",
       "      <td>100</td>\n",
       "      <td>100</td>\n",
       "    </tr>\n",
       "  </tbody>\n",
       "</table>\n",
       "</div>"
      ],
      "text/plain": [
       "                head_id  head_label  relation_id  tail_id  tail_label  score  \\\n",
       "relation_label                                                                 \n",
       "both                100         100          100      100         100    100   \n",
       "\n",
       "                original_connection  \n",
       "relation_label                       \n",
       "both                            100  "
      ]
     },
     "execution_count": 50,
     "metadata": {},
     "output_type": "execute_result"
    }
   ],
   "source": [
    "top_100_dt.groupby(by='relation_label').count()"
   ]
  },
  {
   "cell_type": "code",
   "execution_count": 47,
   "metadata": {},
   "outputs": [],
   "source": [
    "top_10['original_connection'] = top_10.apply(get_original_connection, axis=1, all_trips=pair_triples)"
   ]
  },
  {
   "cell_type": "code",
   "execution_count": 48,
   "metadata": {},
   "outputs": [
    {
     "data": {
      "text/html": [
       "<div>\n",
       "<style scoped>\n",
       "    .dataframe tbody tr th:only-of-type {\n",
       "        vertical-align: middle;\n",
       "    }\n",
       "\n",
       "    .dataframe tbody tr th {\n",
       "        vertical-align: top;\n",
       "    }\n",
       "\n",
       "    .dataframe thead th {\n",
       "        text-align: right;\n",
       "    }\n",
       "</style>\n",
       "<table border=\"1\" class=\"dataframe\">\n",
       "  <thead>\n",
       "    <tr style=\"text-align: right;\">\n",
       "      <th></th>\n",
       "      <th>head_label</th>\n",
       "      <th>relation_label</th>\n",
       "      <th>tail_label</th>\n",
       "      <th>original_connection</th>\n",
       "    </tr>\n",
       "  </thead>\n",
       "  <tbody>\n",
       "    <tr>\n",
       "      <th>0</th>\n",
       "      <td>common scab disease</td>\n",
       "      <td>both</td>\n",
       "      <td>b. lactucae</td>\n",
       "      <td>negative</td>\n",
       "    </tr>\n",
       "    <tr>\n",
       "      <th>1</th>\n",
       "      <td>frankliniella occidentalis pergande</td>\n",
       "      <td>both</td>\n",
       "      <td>nbs-lrr disease resistance genes</td>\n",
       "      <td>negative</td>\n",
       "    </tr>\n",
       "    <tr>\n",
       "      <th>2</th>\n",
       "      <td>sub-saharan african</td>\n",
       "      <td>both</td>\n",
       "      <td>soybean cyp707a gene family</td>\n",
       "      <td>negative</td>\n",
       "    </tr>\n",
       "    <tr>\n",
       "      <th>3</th>\n",
       "      <td>dabz-f1</td>\n",
       "      <td>both</td>\n",
       "      <td>soybean cyp707a gene family</td>\n",
       "      <td>negative</td>\n",
       "    </tr>\n",
       "    <tr>\n",
       "      <th>4</th>\n",
       "      <td>ascophyllum nodosum extracts</td>\n",
       "      <td>both</td>\n",
       "      <td>sphagnum peat mesocosms</td>\n",
       "      <td>negative</td>\n",
       "    </tr>\n",
       "    <tr>\n",
       "      <th>5</th>\n",
       "      <td>q. maxima</td>\n",
       "      <td>both</td>\n",
       "      <td>catalase and gr activities</td>\n",
       "      <td>negative</td>\n",
       "    </tr>\n",
       "    <tr>\n",
       "      <th>6</th>\n",
       "      <td>medium salt</td>\n",
       "      <td>both</td>\n",
       "      <td>peanut leaves or roots</td>\n",
       "      <td>negative</td>\n",
       "    </tr>\n",
       "    <tr>\n",
       "      <th>7</th>\n",
       "      <td>timber revenue</td>\n",
       "      <td>both</td>\n",
       "      <td>brazilian eucalypt plantations</td>\n",
       "      <td>negative</td>\n",
       "    </tr>\n",
       "    <tr>\n",
       "      <th>8</th>\n",
       "      <td>hex aquifolium</td>\n",
       "      <td>both</td>\n",
       "      <td>embolism recovery</td>\n",
       "      <td>negative</td>\n",
       "    </tr>\n",
       "    <tr>\n",
       "      <th>9</th>\n",
       "      <td>ggcms</td>\n",
       "      <td>both</td>\n",
       "      <td>methyltransferase-2 domains</td>\n",
       "      <td>negative</td>\n",
       "    </tr>\n",
       "  </tbody>\n",
       "</table>\n",
       "</div>"
      ],
      "text/plain": [
       "                            head_label relation_label  \\\n",
       "0                  common scab disease           both   \n",
       "1  frankliniella occidentalis pergande           both   \n",
       "2                  sub-saharan african           both   \n",
       "3                              dabz-f1           both   \n",
       "4         ascophyllum nodosum extracts           both   \n",
       "5                            q. maxima           both   \n",
       "6                          medium salt           both   \n",
       "7                       timber revenue           both   \n",
       "8                       hex aquifolium           both   \n",
       "9                                ggcms           both   \n",
       "\n",
       "                         tail_label original_connection  \n",
       "0                       b. lactucae            negative  \n",
       "1  nbs-lrr disease resistance genes            negative  \n",
       "2       soybean cyp707a gene family            negative  \n",
       "3       soybean cyp707a gene family            negative  \n",
       "4           sphagnum peat mesocosms            negative  \n",
       "5        catalase and gr activities            negative  \n",
       "6            peanut leaves or roots            negative  \n",
       "7    brazilian eucalypt plantations            negative  \n",
       "8                 embolism recovery            negative  \n",
       "9       methyltransferase-2 domains            negative  "
      ]
     },
     "execution_count": 48,
     "metadata": {},
     "output_type": "execute_result"
    }
   ],
   "source": [
    "top_10.head(10)"
   ]
  },
  {
   "cell_type": "markdown",
   "metadata": {},
   "source": [
    "Investigate origin of weird entities:"
   ]
  },
  {
   "cell_type": "code",
   "execution_count": 51,
   "metadata": {},
   "outputs": [
    {
     "data": {
      "text/plain": [
       "'WOS:000527202100030'"
      ]
     },
     "execution_count": 51,
     "metadata": {},
     "output_type": "execute_result"
    }
   ],
   "source": [
    "nx.get_node_attributes(graph, 'uids_of_origin')['q. maxima']"
   ]
  },
  {
   "cell_type": "code",
   "execution_count": 52,
   "metadata": {},
   "outputs": [
    {
     "data": {
      "text/plain": [
       "'WOS:000302592900009'"
      ]
     },
     "execution_count": 52,
     "metadata": {},
     "output_type": "execute_result"
    }
   ],
   "source": [
    "nx.get_node_attributes(graph, 'uids_of_origin')['hex aquifolium']"
   ]
  },
  {
   "cell_type": "code",
   "execution_count": 53,
   "metadata": {},
   "outputs": [
    {
     "data": {
      "text/plain": [
       "'WOS:000770435100001'"
      ]
     },
     "execution_count": 53,
     "metadata": {},
     "output_type": "execute_result"
    }
   ],
   "source": [
    "nx.get_node_attributes(graph, 'uids_of_origin')['ggcms']"
   ]
  }
 ],
 "metadata": {
  "kernelspec": {
   "display_name": "graphs",
   "language": "python",
   "name": "graphs"
  },
  "language_info": {
   "codemirror_mode": {
    "name": "ipython",
    "version": 3
   },
   "file_extension": ".py",
   "mimetype": "text/x-python",
   "name": "python",
   "nbconvert_exporter": "python",
   "pygments_lexer": "ipython3",
   "version": "3.10.13"
  }
 },
 "nbformat": 4,
 "nbformat_minor": 4
}
