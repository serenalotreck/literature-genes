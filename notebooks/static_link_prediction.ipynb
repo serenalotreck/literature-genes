{
 "cells": [
  {
   "cell_type": "markdown",
   "metadata": {},
   "source": [
    "# Static link prediction\n",
    "In this notebook, we will apply models from the PyKEEN package to generate link predictions on the entire graph as a static object."
   ]
  },
  {
   "cell_type": "code",
   "execution_count": 93,
   "metadata": {},
   "outputs": [],
   "source": [
    "import networkx as nx\n",
    "from pykeen.triples import TriplesFactory\n",
    "from pykeen.pipeline import pipeline\n",
    "from pykeen.constants import PYKEEN_CHECKPOINTS\n",
    "import torch\n",
    "from pykeen.models import RESCAL\n",
    "from itertools import combinations\n",
    "from tqdm import tqdm\n",
    "import json\n",
    "import pandas as pd\n",
    "from collections import Counter, defaultdict\n",
    "from scipy.stats import randint\n",
    "from sklearn.ensemble import RandomForestClassifier\n",
    "from sklearn.model_selection import RandomizedSearchCV\n",
    "from sklearn.metrics import confusion_matrix, ConfusionMatrixDisplay, f1_score, roc_auc_score\n",
    "import pickle\n",
    "from pykeen import predict\n",
    "from random import choice\n",
    "import matplotlib.pyplot as plt\n",
    "plt.rcParams['pdf.fonttype'] = 42"
   ]
  },
  {
   "cell_type": "markdown",
   "metadata": {},
   "source": [
    "## Read in the PyKEEN tensors\n",
    "Training a PyKEEN model on a graph this size takes a while, so we submitted it as a job. Here, we'll read in the final checkopint to re-instantiate the trained model, and use it to build our prediction mechanism."
   ]
  },
  {
   "cell_type": "code",
   "execution_count": 11,
   "metadata": {},
   "outputs": [],
   "source": [
    "checkpoint = torch.load(PYKEEN_CHECKPOINTS.joinpath('dt_rescal_cleaned.pt'), map_location=torch.device('cpu'))"
   ]
  },
  {
   "cell_type": "markdown",
   "metadata": {},
   "source": [
    "We need to use the same train/test split when re-instantiating the model. The splitting printed a random seed to our output file which we can use here:\n",
    "\n",
    "```\n",
    "using automatically assigned random_state=3199520993\n",
    "```"
   ]
  },
  {
   "cell_type": "code",
   "execution_count": 14,
   "metadata": {},
   "outputs": [],
   "source": [
    "def get_predicate(row):\n",
    "    if row.is_drought:\n",
    "        if row.is_desiccation:\n",
    "            return 'both'\n",
    "        else:\n",
    "            return 'drought'\n",
    "    else:\n",
    "        if row.is_desiccation:\n",
    "            return 'desiccation'"
   ]
  },
  {
   "cell_type": "code",
   "execution_count": 16,
   "metadata": {},
   "outputs": [
    {
     "name": "stdout",
     "output_type": "stream",
     "text": [
      "Snapshot of triples: [['peg-induced drought tolerance' 'drought' 'sesame']\n",
      " ['peg-induced drought tolerance' 'drought' 'sesame drought tolerance']\n",
      " ['peg-induced drought tolerance' 'drought' 'otsa']\n",
      " ['peg-induced drought tolerance' 'drought' 'p5cr']\n",
      " ['peg-induced drought tolerance' 'drought' 'glgx']]\n"
     ]
    }
   ],
   "source": [
    "graph = nx.read_graphml('../data/kg/all_drought_dt_co_occurrence_graph_03Jun2024.graphml')\n",
    "edgelist = nx.to_pandas_edgelist(graph)\n",
    "edgelist['predicate'] = edgelist.apply(get_predicate, axis=1)\n",
    "triples = edgelist[['source', 'predicate', 'target']].to_numpy()\n",
    "print(f'Snapshot of triples: {triples[:5]}')"
   ]
  },
  {
   "cell_type": "code",
   "execution_count": 17,
   "metadata": {},
   "outputs": [],
   "source": [
    "tf = TriplesFactory.from_labeled_triples(triples,\n",
    "                                         create_inverse_triples=True,\n",
    "                                         entity_to_id=checkpoint['entity_to_id_dict'],\n",
    "                                         relation_to_id=checkpoint['relation_to_id_dict'])\n",
    "training, validation, testing = tf.split([0.8, 0.1, 0.1], random_state=3199520993)"
   ]
  },
  {
   "cell_type": "markdown",
   "metadata": {},
   "source": [
    "There was also a random seed printed when instantiating the model:\n",
    "\n",
    "```\n",
    "No random seed is specified. Setting to 1687969045.\n",
    "```"
   ]
  },
  {
   "cell_type": "code",
   "execution_count": 18,
   "metadata": {
    "scrolled": true
   },
   "outputs": [
    {
     "data": {
      "text/plain": [
       "<All keys matched successfully>"
      ]
     },
     "execution_count": 18,
     "metadata": {},
     "output_type": "execute_result"
    }
   ],
   "source": [
    "my_model = RESCAL(triples_factory=training, random_seed=1687969045)\n",
    "my_model.load_state_dict(checkpoint['model_state_dict'])"
   ]
  },
  {
   "cell_type": "markdown",
   "metadata": {},
   "source": [
    "## Use embedding representations to make predictions\n",
    "Rather than use the built-in prediction capabilities of the embedding model (which I have previously found to be terrible), I would like to try taking the embeddings and using them in a RF model to start. The idea is to use the node embeddings as features, and try to predict new edges."
   ]
  },
  {
   "cell_type": "markdown",
   "metadata": {},
   "source": [
    "### Format training and testing data\n",
    "Fortunately, we've already got a data split for the positive triples, and we can just artificially construct negative instances to match the number we have for the train and test sets. We'll start out with 5,000 of each class; if the model performs poorly, we can add more training data.\n",
    "\n",
    "#### Get pairs for each class"
   ]
  },
  {
   "cell_type": "code",
   "execution_count": 19,
   "metadata": {},
   "outputs": [
    {
     "name": "stderr",
     "output_type": "stream",
     "text": [
      "Reconstructing all label-based triples. This is expensive and rarely needed.\n",
      "Reconstructing all label-based triples. This is expensive and rarely needed.\n"
     ]
    }
   ],
   "source": [
    "train_trips_semantic = training.triples\n",
    "test_trips_semantic = testing.triples"
   ]
  },
  {
   "cell_type": "code",
   "execution_count": 20,
   "metadata": {},
   "outputs": [
    {
     "name": "stdout",
     "output_type": "stream",
     "text": [
      "There are 1031199 training triples and 128900 testing triples.\n"
     ]
    }
   ],
   "source": [
    "print(f'There are {len(train_trips_semantic)} training triples and {len(test_trips_semantic)} testing triples.')"
   ]
  },
  {
   "cell_type": "code",
   "execution_count": 21,
   "metadata": {},
   "outputs": [
    {
     "data": {
      "text/plain": [
       "Counter({'drought': 953272, 'desiccation': 59990, 'both': 17937})"
      ]
     },
     "execution_count": 21,
     "metadata": {},
     "output_type": "execute_result"
    }
   ],
   "source": [
    "train_ent_types = Counter([t[1] for t in train_trips_semantic])\n",
    "train_ent_types"
   ]
  },
  {
   "cell_type": "code",
   "execution_count": 22,
   "metadata": {},
   "outputs": [
    {
     "data": {
      "text/plain": [
       "Counter({'drought': 119862, 'desiccation': 6952, 'both': 2086})"
      ]
     },
     "execution_count": 22,
     "metadata": {},
     "output_type": "execute_result"
    }
   ],
   "source": [
    "test_ent_types = Counter([t[1] for t in test_trips_semantic])\n",
    "test_ent_types"
   ]
  },
  {
   "cell_type": "code",
   "execution_count": 23,
   "metadata": {},
   "outputs": [],
   "source": [
    "def get_class_pairs(semantic_trips, num_inst=2000):\n",
    "    \"\"\"\n",
    "    Get triples for each of 'desiccation', 'drought', 'both', 'negative'.\n",
    "\n",
    "    parameters:\n",
    "        semantic_trips, list of list: triples\n",
    "        num_inst, int: number of instances to get for each class.\n",
    "\n",
    "    returns:\n",
    "        data, dict: keys are class names, values are pairs for the class.\n",
    "    \"\"\"\n",
    "    # Get positive instances\n",
    "    data = defaultdict(list)\n",
    "    for trip in semantic_trips:\n",
    "        trip_type = trip[1]\n",
    "        if len(data[trip_type]) < num_inst:\n",
    "            data[trip_type].append((trip[0], trip[2]))\n",
    "        else:\n",
    "            if sum([len(v) for v in data.values()]) == num_inst*len(data.keys()):\n",
    "                break\n",
    "    \n",
    "    # Generate negative instances\n",
    "    negs = []\n",
    "    all_ents = set([trip[0] for trip in semantic_trips] + [trip[2] for trip in semantic_trips])\n",
    "    for pair in combinations(all_ents, 2):\n",
    "        not_pos = True\n",
    "        for r_type, pairs in data.items():\n",
    "            if pair in pairs:\n",
    "                not_pos = False\n",
    "            elif (pair[1], pair[0]) in pairs:\n",
    "                not_pos = False\n",
    "        if not_pos:\n",
    "            negs.append(pair)\n",
    "        if len(negs) == num_inst:\n",
    "            break\n",
    "    data['negative'] = negs\n",
    "    \n",
    "    return data"
   ]
  },
  {
   "cell_type": "code",
   "execution_count": 24,
   "metadata": {},
   "outputs": [],
   "source": [
    "train_pairs = get_class_pairs(train_trips_semantic, num_inst=2000)"
   ]
  },
  {
   "cell_type": "code",
   "execution_count": 25,
   "metadata": {},
   "outputs": [],
   "source": [
    "test_pairs = get_class_pairs(test_trips_semantic, num_inst=1000)"
   ]
  },
  {
   "cell_type": "markdown",
   "metadata": {},
   "source": [
    "#### Get features for each pair\n",
    "Now we need to wrangle the embeddings for each pair. we're going to make 100 features, one for each column of the embedding for each node."
   ]
  },
  {
   "cell_type": "code",
   "execution_count": 26,
   "metadata": {},
   "outputs": [],
   "source": [
    "node_reps = my_model.entity_representations[0]()"
   ]
  },
  {
   "cell_type": "code",
   "execution_count": 27,
   "metadata": {},
   "outputs": [],
   "source": [
    "ent_map = checkpoint['entity_to_id_dict']"
   ]
  },
  {
   "cell_type": "code",
   "execution_count": 28,
   "metadata": {},
   "outputs": [],
   "source": [
    "label_map = {\n",
    "    'desiccation': 1,\n",
    "    'drought': 2,\n",
    "    'both': 3,\n",
    "    'negative': 0\n",
    "}"
   ]
  },
  {
   "cell_type": "code",
   "execution_count": 29,
   "metadata": {},
   "outputs": [
    {
     "data": {
      "text/html": [
       "<div>\n",
       "<style scoped>\n",
       "    .dataframe tbody tr th:only-of-type {\n",
       "        vertical-align: middle;\n",
       "    }\n",
       "\n",
       "    .dataframe tbody tr th {\n",
       "        vertical-align: top;\n",
       "    }\n",
       "\n",
       "    .dataframe thead th {\n",
       "        text-align: right;\n",
       "    }\n",
       "</style>\n",
       "<table border=\"1\" class=\"dataframe\">\n",
       "  <thead>\n",
       "    <tr style=\"text-align: right;\">\n",
       "      <th></th>\n",
       "      <th>0</th>\n",
       "      <th>1</th>\n",
       "      <th>2</th>\n",
       "      <th>3</th>\n",
       "      <th>4</th>\n",
       "      <th>5</th>\n",
       "      <th>6</th>\n",
       "      <th>7</th>\n",
       "      <th>8</th>\n",
       "      <th>9</th>\n",
       "      <th>...</th>\n",
       "      <th>91</th>\n",
       "      <th>92</th>\n",
       "      <th>93</th>\n",
       "      <th>94</th>\n",
       "      <th>95</th>\n",
       "      <th>96</th>\n",
       "      <th>97</th>\n",
       "      <th>98</th>\n",
       "      <th>99</th>\n",
       "      <th>label</th>\n",
       "    </tr>\n",
       "  </thead>\n",
       "  <tbody>\n",
       "    <tr>\n",
       "      <th>(all4052, all4477)</th>\n",
       "      <td>0.001419</td>\n",
       "      <td>-2.130843e-03</td>\n",
       "      <td>1.024443e-03</td>\n",
       "      <td>-1.559786e-03</td>\n",
       "      <td>-0.003593</td>\n",
       "      <td>-2.568180e-03</td>\n",
       "      <td>2.926126e-03</td>\n",
       "      <td>-6.287001e-03</td>\n",
       "      <td>0.006255</td>\n",
       "      <td>0.001031</td>\n",
       "      <td>...</td>\n",
       "      <td>-0.004623</td>\n",
       "      <td>-0.004326</td>\n",
       "      <td>0.004348</td>\n",
       "      <td>-0.004640</td>\n",
       "      <td>0.005677</td>\n",
       "      <td>-0.005106</td>\n",
       "      <td>-0.004622</td>\n",
       "      <td>-0.004500</td>\n",
       "      <td>-0.004696</td>\n",
       "      <td>1</td>\n",
       "    </tr>\n",
       "    <tr>\n",
       "      <th>(alfalfa, alfalfa pastures)</th>\n",
       "      <td>-0.000251</td>\n",
       "      <td>-2.886081e-04</td>\n",
       "      <td>-4.827163e-04</td>\n",
       "      <td>1.994908e-04</td>\n",
       "      <td>-0.000014</td>\n",
       "      <td>-5.719028e-09</td>\n",
       "      <td>6.537642e-09</td>\n",
       "      <td>2.886407e-09</td>\n",
       "      <td>0.000150</td>\n",
       "      <td>0.001235</td>\n",
       "      <td>...</td>\n",
       "      <td>0.018649</td>\n",
       "      <td>-0.010705</td>\n",
       "      <td>0.008162</td>\n",
       "      <td>0.013279</td>\n",
       "      <td>0.000136</td>\n",
       "      <td>0.012928</td>\n",
       "      <td>0.013255</td>\n",
       "      <td>0.013146</td>\n",
       "      <td>-0.007766</td>\n",
       "      <td>3</td>\n",
       "    </tr>\n",
       "    <tr>\n",
       "      <th>(1 -kestose, -kestose)</th>\n",
       "      <td>0.001130</td>\n",
       "      <td>-2.990063e-03</td>\n",
       "      <td>5.811866e-03</td>\n",
       "      <td>3.060086e-03</td>\n",
       "      <td>0.002420</td>\n",
       "      <td>4.456422e-03</td>\n",
       "      <td>-3.244529e-03</td>\n",
       "      <td>-1.938339e-03</td>\n",
       "      <td>-0.002879</td>\n",
       "      <td>-0.007100</td>\n",
       "      <td>...</td>\n",
       "      <td>-0.006577</td>\n",
       "      <td>0.009521</td>\n",
       "      <td>0.009604</td>\n",
       "      <td>-0.002438</td>\n",
       "      <td>0.009321</td>\n",
       "      <td>0.008316</td>\n",
       "      <td>0.009588</td>\n",
       "      <td>-0.010011</td>\n",
       "      <td>0.007370</td>\n",
       "      <td>2</td>\n",
       "    </tr>\n",
       "    <tr>\n",
       "      <th>(aba, drought-responsive cis-element)</th>\n",
       "      <td>0.000177</td>\n",
       "      <td>-3.255699e-08</td>\n",
       "      <td>2.704524e-07</td>\n",
       "      <td>1.725043e-07</td>\n",
       "      <td>-0.000006</td>\n",
       "      <td>3.342127e-08</td>\n",
       "      <td>-9.461079e-04</td>\n",
       "      <td>-3.869868e-07</td>\n",
       "      <td>0.000027</td>\n",
       "      <td>-0.001527</td>\n",
       "      <td>...</td>\n",
       "      <td>-0.010375</td>\n",
       "      <td>0.010232</td>\n",
       "      <td>0.011978</td>\n",
       "      <td>0.010308</td>\n",
       "      <td>-0.010313</td>\n",
       "      <td>-0.012531</td>\n",
       "      <td>0.012357</td>\n",
       "      <td>0.010144</td>\n",
       "      <td>-0.013073</td>\n",
       "      <td>3</td>\n",
       "    </tr>\n",
       "    <tr>\n",
       "      <th>(australian northern savannah, cyanobacterial crusts)</th>\n",
       "      <td>0.017236</td>\n",
       "      <td>-3.015362e-03</td>\n",
       "      <td>-1.205639e-02</td>\n",
       "      <td>1.719053e-02</td>\n",
       "      <td>0.019353</td>\n",
       "      <td>-1.746927e-02</td>\n",
       "      <td>-1.712730e-02</td>\n",
       "      <td>1.812002e-02</td>\n",
       "      <td>0.017914</td>\n",
       "      <td>-0.020456</td>\n",
       "      <td>...</td>\n",
       "      <td>0.019603</td>\n",
       "      <td>0.016363</td>\n",
       "      <td>0.005355</td>\n",
       "      <td>0.005580</td>\n",
       "      <td>0.014346</td>\n",
       "      <td>-0.000250</td>\n",
       "      <td>0.013808</td>\n",
       "      <td>0.005305</td>\n",
       "      <td>-0.000268</td>\n",
       "      <td>3</td>\n",
       "    </tr>\n",
       "  </tbody>\n",
       "</table>\n",
       "<p>5 rows × 101 columns</p>\n",
       "</div>"
      ],
      "text/plain": [
       "                                                           0             1  \\\n",
       "(all4052, all4477)                                  0.001419 -2.130843e-03   \n",
       "(alfalfa, alfalfa pastures)                        -0.000251 -2.886081e-04   \n",
       "(1 -kestose, -kestose)                              0.001130 -2.990063e-03   \n",
       "(aba, drought-responsive cis-element)               0.000177 -3.255699e-08   \n",
       "(australian northern savannah, cyanobacterial c...  0.017236 -3.015362e-03   \n",
       "\n",
       "                                                               2  \\\n",
       "(all4052, all4477)                                  1.024443e-03   \n",
       "(alfalfa, alfalfa pastures)                        -4.827163e-04   \n",
       "(1 -kestose, -kestose)                              5.811866e-03   \n",
       "(aba, drought-responsive cis-element)               2.704524e-07   \n",
       "(australian northern savannah, cyanobacterial c... -1.205639e-02   \n",
       "\n",
       "                                                               3         4  \\\n",
       "(all4052, all4477)                                 -1.559786e-03 -0.003593   \n",
       "(alfalfa, alfalfa pastures)                         1.994908e-04 -0.000014   \n",
       "(1 -kestose, -kestose)                              3.060086e-03  0.002420   \n",
       "(aba, drought-responsive cis-element)               1.725043e-07 -0.000006   \n",
       "(australian northern savannah, cyanobacterial c...  1.719053e-02  0.019353   \n",
       "\n",
       "                                                               5  \\\n",
       "(all4052, all4477)                                 -2.568180e-03   \n",
       "(alfalfa, alfalfa pastures)                        -5.719028e-09   \n",
       "(1 -kestose, -kestose)                              4.456422e-03   \n",
       "(aba, drought-responsive cis-element)               3.342127e-08   \n",
       "(australian northern savannah, cyanobacterial c... -1.746927e-02   \n",
       "\n",
       "                                                               6  \\\n",
       "(all4052, all4477)                                  2.926126e-03   \n",
       "(alfalfa, alfalfa pastures)                         6.537642e-09   \n",
       "(1 -kestose, -kestose)                             -3.244529e-03   \n",
       "(aba, drought-responsive cis-element)              -9.461079e-04   \n",
       "(australian northern savannah, cyanobacterial c... -1.712730e-02   \n",
       "\n",
       "                                                               7         8  \\\n",
       "(all4052, all4477)                                 -6.287001e-03  0.006255   \n",
       "(alfalfa, alfalfa pastures)                         2.886407e-09  0.000150   \n",
       "(1 -kestose, -kestose)                             -1.938339e-03 -0.002879   \n",
       "(aba, drought-responsive cis-element)              -3.869868e-07  0.000027   \n",
       "(australian northern savannah, cyanobacterial c...  1.812002e-02  0.017914   \n",
       "\n",
       "                                                           9  ...        91  \\\n",
       "(all4052, all4477)                                  0.001031  ... -0.004623   \n",
       "(alfalfa, alfalfa pastures)                         0.001235  ...  0.018649   \n",
       "(1 -kestose, -kestose)                             -0.007100  ... -0.006577   \n",
       "(aba, drought-responsive cis-element)              -0.001527  ... -0.010375   \n",
       "(australian northern savannah, cyanobacterial c... -0.020456  ...  0.019603   \n",
       "\n",
       "                                                          92        93  \\\n",
       "(all4052, all4477)                                 -0.004326  0.004348   \n",
       "(alfalfa, alfalfa pastures)                        -0.010705  0.008162   \n",
       "(1 -kestose, -kestose)                              0.009521  0.009604   \n",
       "(aba, drought-responsive cis-element)               0.010232  0.011978   \n",
       "(australian northern savannah, cyanobacterial c...  0.016363  0.005355   \n",
       "\n",
       "                                                          94        95  \\\n",
       "(all4052, all4477)                                 -0.004640  0.005677   \n",
       "(alfalfa, alfalfa pastures)                         0.013279  0.000136   \n",
       "(1 -kestose, -kestose)                             -0.002438  0.009321   \n",
       "(aba, drought-responsive cis-element)               0.010308 -0.010313   \n",
       "(australian northern savannah, cyanobacterial c...  0.005580  0.014346   \n",
       "\n",
       "                                                          96        97  \\\n",
       "(all4052, all4477)                                 -0.005106 -0.004622   \n",
       "(alfalfa, alfalfa pastures)                         0.012928  0.013255   \n",
       "(1 -kestose, -kestose)                              0.008316  0.009588   \n",
       "(aba, drought-responsive cis-element)              -0.012531  0.012357   \n",
       "(australian northern savannah, cyanobacterial c... -0.000250  0.013808   \n",
       "\n",
       "                                                          98        99  label  \n",
       "(all4052, all4477)                                 -0.004500 -0.004696      1  \n",
       "(alfalfa, alfalfa pastures)                         0.013146 -0.007766      3  \n",
       "(1 -kestose, -kestose)                             -0.010011  0.007370      2  \n",
       "(aba, drought-responsive cis-element)               0.010144 -0.013073      3  \n",
       "(australian northern savannah, cyanobacterial c...  0.005305 -0.000268      3  \n",
       "\n",
       "[5 rows x 101 columns]"
      ]
     },
     "execution_count": 29,
     "metadata": {},
     "output_type": "execute_result"
    }
   ],
   "source": [
    "all_train_feat_dfs = []\n",
    "for lab, pair_list in train_pairs.items():\n",
    "    class_feats = {}\n",
    "    for pair in pair_list:\n",
    "        feats = node_reps[ent_map[pair[0]]].tolist()\n",
    "        feats.extend(node_reps[ent_map[pair[1]]].tolist())\n",
    "        class_feats[pair] = feats\n",
    "    class_df = pd.DataFrame.from_dict(class_feats, orient='index')\n",
    "    class_df['label'] = label_map[lab]\n",
    "    all_train_feat_dfs.append(class_df)\n",
    "train_df = pd.concat(all_train_feat_dfs).sample(frac=1) # Shuffle the data\n",
    "train_df.head()"
   ]
  },
  {
   "cell_type": "code",
   "execution_count": 30,
   "metadata": {},
   "outputs": [
    {
     "data": {
      "text/html": [
       "<div>\n",
       "<style scoped>\n",
       "    .dataframe tbody tr th:only-of-type {\n",
       "        vertical-align: middle;\n",
       "    }\n",
       "\n",
       "    .dataframe tbody tr th {\n",
       "        vertical-align: top;\n",
       "    }\n",
       "\n",
       "    .dataframe thead th {\n",
       "        text-align: right;\n",
       "    }\n",
       "</style>\n",
       "<table border=\"1\" class=\"dataframe\">\n",
       "  <thead>\n",
       "    <tr style=\"text-align: right;\">\n",
       "      <th></th>\n",
       "      <th>0</th>\n",
       "      <th>1</th>\n",
       "      <th>2</th>\n",
       "      <th>3</th>\n",
       "      <th>4</th>\n",
       "      <th>5</th>\n",
       "      <th>6</th>\n",
       "      <th>7</th>\n",
       "      <th>8</th>\n",
       "      <th>9</th>\n",
       "      <th>...</th>\n",
       "      <th>91</th>\n",
       "      <th>92</th>\n",
       "      <th>93</th>\n",
       "      <th>94</th>\n",
       "      <th>95</th>\n",
       "      <th>96</th>\n",
       "      <th>97</th>\n",
       "      <th>98</th>\n",
       "      <th>99</th>\n",
       "      <th>label</th>\n",
       "    </tr>\n",
       "  </thead>\n",
       "  <tbody>\n",
       "    <tr>\n",
       "      <th>(soybean, gmcam1)</th>\n",
       "      <td>2.927227e-08</td>\n",
       "      <td>2.312194e-08</td>\n",
       "      <td>-0.000004</td>\n",
       "      <td>-0.000014</td>\n",
       "      <td>-4.584907e-07</td>\n",
       "      <td>5.141693e-09</td>\n",
       "      <td>-4.669066e-09</td>\n",
       "      <td>-4.659951e-10</td>\n",
       "      <td>-1.336745e-07</td>\n",
       "      <td>1.008057e-05</td>\n",
       "      <td>...</td>\n",
       "      <td>0.020855</td>\n",
       "      <td>0.012851</td>\n",
       "      <td>-0.020776</td>\n",
       "      <td>0.020818</td>\n",
       "      <td>0.020872</td>\n",
       "      <td>0.015361</td>\n",
       "      <td>-0.017933</td>\n",
       "      <td>-0.011432</td>\n",
       "      <td>-0.020847</td>\n",
       "      <td>2</td>\n",
       "    </tr>\n",
       "    <tr>\n",
       "      <th>(a subgenome, lupine seedlings)</th>\n",
       "      <td>2.187721e-03</td>\n",
       "      <td>-1.705986e-03</td>\n",
       "      <td>0.001874</td>\n",
       "      <td>-0.001869</td>\n",
       "      <td>1.122900e-03</td>\n",
       "      <td>1.801459e-03</td>\n",
       "      <td>-2.315101e-03</td>\n",
       "      <td>-4.034842e-03</td>\n",
       "      <td>1.962616e-03</td>\n",
       "      <td>2.264464e-03</td>\n",
       "      <td>...</td>\n",
       "      <td>0.019736</td>\n",
       "      <td>0.015639</td>\n",
       "      <td>-0.019236</td>\n",
       "      <td>-0.015208</td>\n",
       "      <td>-0.005364</td>\n",
       "      <td>-0.000070</td>\n",
       "      <td>-0.017089</td>\n",
       "      <td>0.019151</td>\n",
       "      <td>-0.014304</td>\n",
       "      <td>0</td>\n",
       "    </tr>\n",
       "    <tr>\n",
       "      <th>(calreticulin, arabidopsis calreticulin mutants)</th>\n",
       "      <td>-1.804768e-06</td>\n",
       "      <td>-2.303547e-05</td>\n",
       "      <td>-0.002885</td>\n",
       "      <td>-0.000038</td>\n",
       "      <td>-2.183999e-07</td>\n",
       "      <td>3.467447e-06</td>\n",
       "      <td>-1.749828e-03</td>\n",
       "      <td>3.275455e-05</td>\n",
       "      <td>3.085433e-07</td>\n",
       "      <td>-7.602000e-07</td>\n",
       "      <td>...</td>\n",
       "      <td>0.019404</td>\n",
       "      <td>0.019404</td>\n",
       "      <td>-0.018913</td>\n",
       "      <td>-0.019363</td>\n",
       "      <td>-0.019396</td>\n",
       "      <td>-0.018385</td>\n",
       "      <td>-0.019403</td>\n",
       "      <td>0.001608</td>\n",
       "      <td>0.019408</td>\n",
       "      <td>2</td>\n",
       "    </tr>\n",
       "    <tr>\n",
       "      <th>(emb266, lec2 - 1)</th>\n",
       "      <td>-3.938132e-03</td>\n",
       "      <td>1.228575e-02</td>\n",
       "      <td>0.000812</td>\n",
       "      <td>-0.000013</td>\n",
       "      <td>1.952403e-03</td>\n",
       "      <td>3.110943e-03</td>\n",
       "      <td>-9.503278e-04</td>\n",
       "      <td>-5.607460e-05</td>\n",
       "      <td>-8.878234e-04</td>\n",
       "      <td>2.927759e-03</td>\n",
       "      <td>...</td>\n",
       "      <td>0.012785</td>\n",
       "      <td>-0.015885</td>\n",
       "      <td>0.002436</td>\n",
       "      <td>0.012814</td>\n",
       "      <td>-0.011812</td>\n",
       "      <td>-0.002421</td>\n",
       "      <td>-0.013448</td>\n",
       "      <td>0.014072</td>\n",
       "      <td>-0.014581</td>\n",
       "      <td>1</td>\n",
       "    </tr>\n",
       "    <tr>\n",
       "      <th>(sphagnum denticulatum brid, sphagnum denticulatum brid .)</th>\n",
       "      <td>1.437014e-02</td>\n",
       "      <td>-1.430955e-02</td>\n",
       "      <td>-0.014370</td>\n",
       "      <td>0.014132</td>\n",
       "      <td>1.342223e-02</td>\n",
       "      <td>-3.611036e-03</td>\n",
       "      <td>1.440884e-02</td>\n",
       "      <td>-1.422003e-02</td>\n",
       "      <td>-1.434164e-02</td>\n",
       "      <td>-1.437474e-02</td>\n",
       "      <td>...</td>\n",
       "      <td>0.000504</td>\n",
       "      <td>0.014360</td>\n",
       "      <td>0.016046</td>\n",
       "      <td>0.000042</td>\n",
       "      <td>-0.004539</td>\n",
       "      <td>0.014769</td>\n",
       "      <td>0.000998</td>\n",
       "      <td>-0.005615</td>\n",
       "      <td>-0.000071</td>\n",
       "      <td>3</td>\n",
       "    </tr>\n",
       "  </tbody>\n",
       "</table>\n",
       "<p>5 rows × 101 columns</p>\n",
       "</div>"
      ],
      "text/plain": [
       "                                                               0  \\\n",
       "(soybean, gmcam1)                                   2.927227e-08   \n",
       "(a subgenome, lupine seedlings)                     2.187721e-03   \n",
       "(calreticulin, arabidopsis calreticulin mutants)   -1.804768e-06   \n",
       "(emb266, lec2 - 1)                                 -3.938132e-03   \n",
       "(sphagnum denticulatum brid, sphagnum denticula...  1.437014e-02   \n",
       "\n",
       "                                                               1         2  \\\n",
       "(soybean, gmcam1)                                   2.312194e-08 -0.000004   \n",
       "(a subgenome, lupine seedlings)                    -1.705986e-03  0.001874   \n",
       "(calreticulin, arabidopsis calreticulin mutants)   -2.303547e-05 -0.002885   \n",
       "(emb266, lec2 - 1)                                  1.228575e-02  0.000812   \n",
       "(sphagnum denticulatum brid, sphagnum denticula... -1.430955e-02 -0.014370   \n",
       "\n",
       "                                                           3             4  \\\n",
       "(soybean, gmcam1)                                  -0.000014 -4.584907e-07   \n",
       "(a subgenome, lupine seedlings)                    -0.001869  1.122900e-03   \n",
       "(calreticulin, arabidopsis calreticulin mutants)   -0.000038 -2.183999e-07   \n",
       "(emb266, lec2 - 1)                                 -0.000013  1.952403e-03   \n",
       "(sphagnum denticulatum brid, sphagnum denticula...  0.014132  1.342223e-02   \n",
       "\n",
       "                                                               5  \\\n",
       "(soybean, gmcam1)                                   5.141693e-09   \n",
       "(a subgenome, lupine seedlings)                     1.801459e-03   \n",
       "(calreticulin, arabidopsis calreticulin mutants)    3.467447e-06   \n",
       "(emb266, lec2 - 1)                                  3.110943e-03   \n",
       "(sphagnum denticulatum brid, sphagnum denticula... -3.611036e-03   \n",
       "\n",
       "                                                               6  \\\n",
       "(soybean, gmcam1)                                  -4.669066e-09   \n",
       "(a subgenome, lupine seedlings)                    -2.315101e-03   \n",
       "(calreticulin, arabidopsis calreticulin mutants)   -1.749828e-03   \n",
       "(emb266, lec2 - 1)                                 -9.503278e-04   \n",
       "(sphagnum denticulatum brid, sphagnum denticula...  1.440884e-02   \n",
       "\n",
       "                                                               7  \\\n",
       "(soybean, gmcam1)                                  -4.659951e-10   \n",
       "(a subgenome, lupine seedlings)                    -4.034842e-03   \n",
       "(calreticulin, arabidopsis calreticulin mutants)    3.275455e-05   \n",
       "(emb266, lec2 - 1)                                 -5.607460e-05   \n",
       "(sphagnum denticulatum brid, sphagnum denticula... -1.422003e-02   \n",
       "\n",
       "                                                               8  \\\n",
       "(soybean, gmcam1)                                  -1.336745e-07   \n",
       "(a subgenome, lupine seedlings)                     1.962616e-03   \n",
       "(calreticulin, arabidopsis calreticulin mutants)    3.085433e-07   \n",
       "(emb266, lec2 - 1)                                 -8.878234e-04   \n",
       "(sphagnum denticulatum brid, sphagnum denticula... -1.434164e-02   \n",
       "\n",
       "                                                               9  ...  \\\n",
       "(soybean, gmcam1)                                   1.008057e-05  ...   \n",
       "(a subgenome, lupine seedlings)                     2.264464e-03  ...   \n",
       "(calreticulin, arabidopsis calreticulin mutants)   -7.602000e-07  ...   \n",
       "(emb266, lec2 - 1)                                  2.927759e-03  ...   \n",
       "(sphagnum denticulatum brid, sphagnum denticula... -1.437474e-02  ...   \n",
       "\n",
       "                                                          91        92  \\\n",
       "(soybean, gmcam1)                                   0.020855  0.012851   \n",
       "(a subgenome, lupine seedlings)                     0.019736  0.015639   \n",
       "(calreticulin, arabidopsis calreticulin mutants)    0.019404  0.019404   \n",
       "(emb266, lec2 - 1)                                  0.012785 -0.015885   \n",
       "(sphagnum denticulatum brid, sphagnum denticula...  0.000504  0.014360   \n",
       "\n",
       "                                                          93        94  \\\n",
       "(soybean, gmcam1)                                  -0.020776  0.020818   \n",
       "(a subgenome, lupine seedlings)                    -0.019236 -0.015208   \n",
       "(calreticulin, arabidopsis calreticulin mutants)   -0.018913 -0.019363   \n",
       "(emb266, lec2 - 1)                                  0.002436  0.012814   \n",
       "(sphagnum denticulatum brid, sphagnum denticula...  0.016046  0.000042   \n",
       "\n",
       "                                                          95        96  \\\n",
       "(soybean, gmcam1)                                   0.020872  0.015361   \n",
       "(a subgenome, lupine seedlings)                    -0.005364 -0.000070   \n",
       "(calreticulin, arabidopsis calreticulin mutants)   -0.019396 -0.018385   \n",
       "(emb266, lec2 - 1)                                 -0.011812 -0.002421   \n",
       "(sphagnum denticulatum brid, sphagnum denticula... -0.004539  0.014769   \n",
       "\n",
       "                                                          97        98  \\\n",
       "(soybean, gmcam1)                                  -0.017933 -0.011432   \n",
       "(a subgenome, lupine seedlings)                    -0.017089  0.019151   \n",
       "(calreticulin, arabidopsis calreticulin mutants)   -0.019403  0.001608   \n",
       "(emb266, lec2 - 1)                                 -0.013448  0.014072   \n",
       "(sphagnum denticulatum brid, sphagnum denticula...  0.000998 -0.005615   \n",
       "\n",
       "                                                          99  label  \n",
       "(soybean, gmcam1)                                  -0.020847      2  \n",
       "(a subgenome, lupine seedlings)                    -0.014304      0  \n",
       "(calreticulin, arabidopsis calreticulin mutants)    0.019408      2  \n",
       "(emb266, lec2 - 1)                                 -0.014581      1  \n",
       "(sphagnum denticulatum brid, sphagnum denticula... -0.000071      3  \n",
       "\n",
       "[5 rows x 101 columns]"
      ]
     },
     "execution_count": 30,
     "metadata": {},
     "output_type": "execute_result"
    }
   ],
   "source": [
    "all_test_feat_dfs = []\n",
    "for lab, pair_list in test_pairs.items():\n",
    "    class_feats = {}\n",
    "    for pair in pair_list:\n",
    "        feats = node_reps[ent_map[pair[0]]].tolist()\n",
    "        feats.extend(node_reps[ent_map[pair[1]]].tolist())\n",
    "        class_feats[pair] = feats\n",
    "    class_df = pd.DataFrame.from_dict(class_feats, orient='index')\n",
    "    class_df['label'] = label_map[lab]\n",
    "    all_test_feat_dfs.append(class_df)\n",
    "test_df = pd.concat(all_test_feat_dfs).sample(frac=1) # Shuffle the data\n",
    "test_df.head()"
   ]
  },
  {
   "cell_type": "code",
   "execution_count": 31,
   "metadata": {},
   "outputs": [
    {
     "name": "stdout",
     "output_type": "stream",
     "text": [
      "There are 8000 training instances, and 4000 test instances.\n"
     ]
    }
   ],
   "source": [
    "print(f'There are {len(train_df)} training instances, and {len(test_df)} test instances.')"
   ]
  },
  {
   "cell_type": "markdown",
   "metadata": {},
   "source": [
    "Save these so our results are reproducible:"
   ]
  },
  {
   "cell_type": "code",
   "execution_count": 32,
   "metadata": {},
   "outputs": [],
   "source": [
    "train_df.to_csv('../data/ml_inputs/dt_co_occurrence_cleaned_training_pairs_2000_03Jun2024.csv')\n",
    "test_df.to_csv('../data/ml_inputs/dt_co_occurrence_cleaned_testing_pairs_1000_03Jun2024.csv')"
   ]
  },
  {
   "cell_type": "markdown",
   "metadata": {},
   "source": [
    "### Define and train the model"
   ]
  },
  {
   "cell_type": "code",
   "execution_count": 33,
   "metadata": {},
   "outputs": [],
   "source": [
    "X_train = train_df.drop(columns='label').to_numpy()\n",
    "y_train = train_df['label'].to_numpy()"
   ]
  },
  {
   "cell_type": "code",
   "execution_count": 34,
   "metadata": {},
   "outputs": [],
   "source": [
    "params_to_test = {\n",
    "    'n_estimators': randint(100, 500),\n",
    "    'max_depth': randint(1,50),\n",
    "    'criterion': ['gini', 'entropy', 'log_loss']\n",
    "}\n",
    "\n",
    "rf = RandomForestClassifier(verbose=1)\n",
    "rand_search = RandomizedSearchCV(rf,\n",
    "                                param_distributions=params_to_test,\n",
    "                                cv=5,\n",
    "                                verbose=1)"
   ]
  },
  {
   "cell_type": "code",
   "execution_count": 35,
   "metadata": {},
   "outputs": [
    {
     "name": "stdout",
     "output_type": "stream",
     "text": [
      "Fitting 5 folds for each of 10 candidates, totalling 50 fits\n"
     ]
    },
    {
     "name": "stderr",
     "output_type": "stream",
     "text": [
      "[Parallel(n_jobs=1)]: Using backend SequentialBackend with 1 concurrent workers.\n",
      "[Parallel(n_jobs=1)]: Done 384 out of 384 | elapsed:   55.5s finished\n",
      "[Parallel(n_jobs=1)]: Using backend SequentialBackend with 1 concurrent workers.\n",
      "[Parallel(n_jobs=1)]: Done 384 out of 384 | elapsed:    0.1s finished\n",
      "[Parallel(n_jobs=1)]: Using backend SequentialBackend with 1 concurrent workers.\n",
      "[Parallel(n_jobs=1)]: Done 384 out of 384 | elapsed:   54.4s finished\n",
      "[Parallel(n_jobs=1)]: Using backend SequentialBackend with 1 concurrent workers.\n",
      "[Parallel(n_jobs=1)]: Done 384 out of 384 | elapsed:    0.1s finished\n",
      "[Parallel(n_jobs=1)]: Using backend SequentialBackend with 1 concurrent workers.\n",
      "[Parallel(n_jobs=1)]: Done 384 out of 384 | elapsed:   54.3s finished\n",
      "[Parallel(n_jobs=1)]: Using backend SequentialBackend with 1 concurrent workers.\n",
      "[Parallel(n_jobs=1)]: Done 384 out of 384 | elapsed:    0.1s finished\n",
      "[Parallel(n_jobs=1)]: Using backend SequentialBackend with 1 concurrent workers.\n",
      "[Parallel(n_jobs=1)]: Done 384 out of 384 | elapsed:   54.6s finished\n",
      "[Parallel(n_jobs=1)]: Using backend SequentialBackend with 1 concurrent workers.\n",
      "[Parallel(n_jobs=1)]: Done 384 out of 384 | elapsed:    0.1s finished\n",
      "[Parallel(n_jobs=1)]: Using backend SequentialBackend with 1 concurrent workers.\n",
      "[Parallel(n_jobs=1)]: Done 384 out of 384 | elapsed:   54.8s finished\n",
      "[Parallel(n_jobs=1)]: Using backend SequentialBackend with 1 concurrent workers.\n",
      "[Parallel(n_jobs=1)]: Done 384 out of 384 | elapsed:    0.1s finished\n",
      "[Parallel(n_jobs=1)]: Using backend SequentialBackend with 1 concurrent workers.\n",
      "[Parallel(n_jobs=1)]: Done 174 out of 174 | elapsed:   24.6s finished\n",
      "[Parallel(n_jobs=1)]: Using backend SequentialBackend with 1 concurrent workers.\n",
      "[Parallel(n_jobs=1)]: Done 174 out of 174 | elapsed:    0.1s finished\n",
      "[Parallel(n_jobs=1)]: Using backend SequentialBackend with 1 concurrent workers.\n",
      "[Parallel(n_jobs=1)]: Done 174 out of 174 | elapsed:   24.6s finished\n",
      "[Parallel(n_jobs=1)]: Using backend SequentialBackend with 1 concurrent workers.\n",
      "[Parallel(n_jobs=1)]: Done 174 out of 174 | elapsed:    0.1s finished\n",
      "[Parallel(n_jobs=1)]: Using backend SequentialBackend with 1 concurrent workers.\n",
      "[Parallel(n_jobs=1)]: Done 174 out of 174 | elapsed:   24.6s finished\n",
      "[Parallel(n_jobs=1)]: Using backend SequentialBackend with 1 concurrent workers.\n",
      "[Parallel(n_jobs=1)]: Done 174 out of 174 | elapsed:    0.1s finished\n",
      "[Parallel(n_jobs=1)]: Using backend SequentialBackend with 1 concurrent workers.\n",
      "[Parallel(n_jobs=1)]: Done 174 out of 174 | elapsed:   25.6s finished\n",
      "[Parallel(n_jobs=1)]: Using backend SequentialBackend with 1 concurrent workers.\n",
      "[Parallel(n_jobs=1)]: Done 174 out of 174 | elapsed:    0.1s finished\n",
      "[Parallel(n_jobs=1)]: Using backend SequentialBackend with 1 concurrent workers.\n",
      "[Parallel(n_jobs=1)]: Done 174 out of 174 | elapsed:   25.3s finished\n",
      "[Parallel(n_jobs=1)]: Using backend SequentialBackend with 1 concurrent workers.\n",
      "[Parallel(n_jobs=1)]: Done 174 out of 174 | elapsed:    0.1s finished\n",
      "[Parallel(n_jobs=1)]: Using backend SequentialBackend with 1 concurrent workers.\n",
      "[Parallel(n_jobs=1)]: Done 199 out of 199 | elapsed:   28.0s finished\n",
      "[Parallel(n_jobs=1)]: Using backend SequentialBackend with 1 concurrent workers.\n",
      "[Parallel(n_jobs=1)]: Done 199 out of 199 | elapsed:    0.1s finished\n",
      "[Parallel(n_jobs=1)]: Using backend SequentialBackend with 1 concurrent workers.\n",
      "[Parallel(n_jobs=1)]: Done 199 out of 199 | elapsed:   28.1s finished\n",
      "[Parallel(n_jobs=1)]: Using backend SequentialBackend with 1 concurrent workers.\n",
      "[Parallel(n_jobs=1)]: Done 199 out of 199 | elapsed:    0.1s finished\n",
      "[Parallel(n_jobs=1)]: Using backend SequentialBackend with 1 concurrent workers.\n",
      "[Parallel(n_jobs=1)]: Done 199 out of 199 | elapsed:   28.1s finished\n",
      "[Parallel(n_jobs=1)]: Using backend SequentialBackend with 1 concurrent workers.\n",
      "[Parallel(n_jobs=1)]: Done 199 out of 199 | elapsed:    0.1s finished\n",
      "[Parallel(n_jobs=1)]: Using backend SequentialBackend with 1 concurrent workers.\n",
      "[Parallel(n_jobs=1)]: Done 199 out of 199 | elapsed:   28.4s finished\n",
      "[Parallel(n_jobs=1)]: Using backend SequentialBackend with 1 concurrent workers.\n",
      "[Parallel(n_jobs=1)]: Done 199 out of 199 | elapsed:    0.1s finished\n",
      "[Parallel(n_jobs=1)]: Using backend SequentialBackend with 1 concurrent workers.\n",
      "[Parallel(n_jobs=1)]: Done 199 out of 199 | elapsed:   28.3s finished\n",
      "[Parallel(n_jobs=1)]: Using backend SequentialBackend with 1 concurrent workers.\n",
      "[Parallel(n_jobs=1)]: Done 199 out of 199 | elapsed:    0.1s finished\n",
      "[Parallel(n_jobs=1)]: Using backend SequentialBackend with 1 concurrent workers.\n",
      "[Parallel(n_jobs=1)]: Done 475 out of 475 | elapsed:  1.1min finished\n",
      "[Parallel(n_jobs=1)]: Using backend SequentialBackend with 1 concurrent workers.\n",
      "[Parallel(n_jobs=1)]: Done 475 out of 475 | elapsed:    0.2s finished\n",
      "[Parallel(n_jobs=1)]: Using backend SequentialBackend with 1 concurrent workers.\n",
      "[Parallel(n_jobs=1)]: Done 475 out of 475 | elapsed:  1.1min finished\n",
      "[Parallel(n_jobs=1)]: Using backend SequentialBackend with 1 concurrent workers.\n",
      "[Parallel(n_jobs=1)]: Done 475 out of 475 | elapsed:    0.2s finished\n",
      "[Parallel(n_jobs=1)]: Using backend SequentialBackend with 1 concurrent workers.\n",
      "[Parallel(n_jobs=1)]: Done 475 out of 475 | elapsed:  1.1min finished\n",
      "[Parallel(n_jobs=1)]: Using backend SequentialBackend with 1 concurrent workers.\n",
      "[Parallel(n_jobs=1)]: Done 475 out of 475 | elapsed:    0.2s finished\n",
      "[Parallel(n_jobs=1)]: Using backend SequentialBackend with 1 concurrent workers.\n",
      "[Parallel(n_jobs=1)]: Done 475 out of 475 | elapsed:  1.1min finished\n",
      "[Parallel(n_jobs=1)]: Using backend SequentialBackend with 1 concurrent workers.\n",
      "[Parallel(n_jobs=1)]: Done 475 out of 475 | elapsed:    0.2s finished\n",
      "[Parallel(n_jobs=1)]: Using backend SequentialBackend with 1 concurrent workers.\n",
      "[Parallel(n_jobs=1)]: Done 475 out of 475 | elapsed:  1.1min finished\n",
      "[Parallel(n_jobs=1)]: Using backend SequentialBackend with 1 concurrent workers.\n",
      "[Parallel(n_jobs=1)]: Done 475 out of 475 | elapsed:    0.2s finished\n",
      "[Parallel(n_jobs=1)]: Using backend SequentialBackend with 1 concurrent workers.\n",
      "[Parallel(n_jobs=1)]: Done 355 out of 355 | elapsed:   50.0s finished\n",
      "[Parallel(n_jobs=1)]: Using backend SequentialBackend with 1 concurrent workers.\n",
      "[Parallel(n_jobs=1)]: Done 355 out of 355 | elapsed:    0.1s finished\n",
      "[Parallel(n_jobs=1)]: Using backend SequentialBackend with 1 concurrent workers.\n",
      "[Parallel(n_jobs=1)]: Done 355 out of 355 | elapsed:   50.3s finished\n",
      "[Parallel(n_jobs=1)]: Using backend SequentialBackend with 1 concurrent workers.\n",
      "[Parallel(n_jobs=1)]: Done 355 out of 355 | elapsed:    0.1s finished\n",
      "[Parallel(n_jobs=1)]: Using backend SequentialBackend with 1 concurrent workers.\n",
      "[Parallel(n_jobs=1)]: Done 355 out of 355 | elapsed:   50.2s finished\n",
      "[Parallel(n_jobs=1)]: Using backend SequentialBackend with 1 concurrent workers.\n",
      "[Parallel(n_jobs=1)]: Done 355 out of 355 | elapsed:    0.1s finished\n",
      "[Parallel(n_jobs=1)]: Using backend SequentialBackend with 1 concurrent workers.\n",
      "[Parallel(n_jobs=1)]: Done 355 out of 355 | elapsed:   51.3s finished\n",
      "[Parallel(n_jobs=1)]: Using backend SequentialBackend with 1 concurrent workers.\n",
      "[Parallel(n_jobs=1)]: Done 355 out of 355 | elapsed:    0.1s finished\n",
      "[Parallel(n_jobs=1)]: Using backend SequentialBackend with 1 concurrent workers.\n",
      "[Parallel(n_jobs=1)]: Done 355 out of 355 | elapsed:   51.3s finished\n",
      "[Parallel(n_jobs=1)]: Using backend SequentialBackend with 1 concurrent workers.\n",
      "[Parallel(n_jobs=1)]: Done 355 out of 355 | elapsed:    0.1s finished\n",
      "[Parallel(n_jobs=1)]: Using backend SequentialBackend with 1 concurrent workers.\n",
      "[Parallel(n_jobs=1)]: Done 263 out of 263 | elapsed:   13.4s finished\n",
      "[Parallel(n_jobs=1)]: Using backend SequentialBackend with 1 concurrent workers.\n",
      "[Parallel(n_jobs=1)]: Done 263 out of 263 | elapsed:    0.1s finished\n",
      "[Parallel(n_jobs=1)]: Using backend SequentialBackend with 1 concurrent workers.\n",
      "[Parallel(n_jobs=1)]: Done 263 out of 263 | elapsed:   13.3s finished\n",
      "[Parallel(n_jobs=1)]: Using backend SequentialBackend with 1 concurrent workers.\n",
      "[Parallel(n_jobs=1)]: Done 263 out of 263 | elapsed:    0.1s finished\n",
      "[Parallel(n_jobs=1)]: Using backend SequentialBackend with 1 concurrent workers.\n"
     ]
    },
    {
     "name": "stderr",
     "output_type": "stream",
     "text": [
      "[Parallel(n_jobs=1)]: Done 263 out of 263 | elapsed:   13.4s finished\n",
      "[Parallel(n_jobs=1)]: Using backend SequentialBackend with 1 concurrent workers.\n",
      "[Parallel(n_jobs=1)]: Done 263 out of 263 | elapsed:    0.1s finished\n",
      "[Parallel(n_jobs=1)]: Using backend SequentialBackend with 1 concurrent workers.\n",
      "[Parallel(n_jobs=1)]: Done 263 out of 263 | elapsed:   13.5s finished\n",
      "[Parallel(n_jobs=1)]: Using backend SequentialBackend with 1 concurrent workers.\n",
      "[Parallel(n_jobs=1)]: Done 263 out of 263 | elapsed:    0.1s finished\n",
      "[Parallel(n_jobs=1)]: Using backend SequentialBackend with 1 concurrent workers.\n",
      "[Parallel(n_jobs=1)]: Done 263 out of 263 | elapsed:   13.4s finished\n",
      "[Parallel(n_jobs=1)]: Using backend SequentialBackend with 1 concurrent workers.\n",
      "[Parallel(n_jobs=1)]: Done 263 out of 263 | elapsed:    0.1s finished\n",
      "[Parallel(n_jobs=1)]: Using backend SequentialBackend with 1 concurrent workers.\n",
      "[Parallel(n_jobs=1)]: Done 465 out of 465 | elapsed:  1.1min finished\n",
      "[Parallel(n_jobs=1)]: Using backend SequentialBackend with 1 concurrent workers.\n",
      "[Parallel(n_jobs=1)]: Done 465 out of 465 | elapsed:    0.2s finished\n",
      "[Parallel(n_jobs=1)]: Using backend SequentialBackend with 1 concurrent workers.\n",
      "[Parallel(n_jobs=1)]: Done 465 out of 465 | elapsed:  1.1min finished\n",
      "[Parallel(n_jobs=1)]: Using backend SequentialBackend with 1 concurrent workers.\n",
      "[Parallel(n_jobs=1)]: Done 465 out of 465 | elapsed:    0.2s finished\n",
      "[Parallel(n_jobs=1)]: Using backend SequentialBackend with 1 concurrent workers.\n",
      "[Parallel(n_jobs=1)]: Done 465 out of 465 | elapsed:  1.1min finished\n",
      "[Parallel(n_jobs=1)]: Using backend SequentialBackend with 1 concurrent workers.\n",
      "[Parallel(n_jobs=1)]: Done 465 out of 465 | elapsed:    0.2s finished\n",
      "[Parallel(n_jobs=1)]: Using backend SequentialBackend with 1 concurrent workers.\n",
      "[Parallel(n_jobs=1)]: Done 465 out of 465 | elapsed:  1.1min finished\n",
      "[Parallel(n_jobs=1)]: Using backend SequentialBackend with 1 concurrent workers.\n",
      "[Parallel(n_jobs=1)]: Done 465 out of 465 | elapsed:    0.2s finished\n",
      "[Parallel(n_jobs=1)]: Using backend SequentialBackend with 1 concurrent workers.\n",
      "[Parallel(n_jobs=1)]: Done 465 out of 465 | elapsed:  1.1min finished\n",
      "[Parallel(n_jobs=1)]: Using backend SequentialBackend with 1 concurrent workers.\n",
      "[Parallel(n_jobs=1)]: Done 465 out of 465 | elapsed:    0.2s finished\n",
      "[Parallel(n_jobs=1)]: Using backend SequentialBackend with 1 concurrent workers.\n",
      "[Parallel(n_jobs=1)]: Done 228 out of 228 | elapsed:   32.1s finished\n",
      "[Parallel(n_jobs=1)]: Using backend SequentialBackend with 1 concurrent workers.\n",
      "[Parallel(n_jobs=1)]: Done 228 out of 228 | elapsed:    0.1s finished\n",
      "[Parallel(n_jobs=1)]: Using backend SequentialBackend with 1 concurrent workers.\n",
      "[Parallel(n_jobs=1)]: Done 228 out of 228 | elapsed:   32.3s finished\n",
      "[Parallel(n_jobs=1)]: Using backend SequentialBackend with 1 concurrent workers.\n",
      "[Parallel(n_jobs=1)]: Done 228 out of 228 | elapsed:    0.1s finished\n",
      "[Parallel(n_jobs=1)]: Using backend SequentialBackend with 1 concurrent workers.\n",
      "[Parallel(n_jobs=1)]: Done 228 out of 228 | elapsed:   32.3s finished\n",
      "[Parallel(n_jobs=1)]: Using backend SequentialBackend with 1 concurrent workers.\n",
      "[Parallel(n_jobs=1)]: Done 228 out of 228 | elapsed:    0.1s finished\n",
      "[Parallel(n_jobs=1)]: Using backend SequentialBackend with 1 concurrent workers.\n",
      "[Parallel(n_jobs=1)]: Done 228 out of 228 | elapsed:   32.3s finished\n",
      "[Parallel(n_jobs=1)]: Using backend SequentialBackend with 1 concurrent workers.\n",
      "[Parallel(n_jobs=1)]: Done 228 out of 228 | elapsed:    0.1s finished\n",
      "[Parallel(n_jobs=1)]: Using backend SequentialBackend with 1 concurrent workers.\n",
      "[Parallel(n_jobs=1)]: Done 228 out of 228 | elapsed:   32.1s finished\n",
      "[Parallel(n_jobs=1)]: Using backend SequentialBackend with 1 concurrent workers.\n",
      "[Parallel(n_jobs=1)]: Done 228 out of 228 | elapsed:    0.1s finished\n",
      "[Parallel(n_jobs=1)]: Using backend SequentialBackend with 1 concurrent workers.\n",
      "[Parallel(n_jobs=1)]: Done 463 out of 463 | elapsed:   23.6s finished\n",
      "[Parallel(n_jobs=1)]: Using backend SequentialBackend with 1 concurrent workers.\n",
      "[Parallel(n_jobs=1)]: Done 463 out of 463 | elapsed:    0.2s finished\n",
      "[Parallel(n_jobs=1)]: Using backend SequentialBackend with 1 concurrent workers.\n",
      "[Parallel(n_jobs=1)]: Done 463 out of 463 | elapsed:   24.6s finished\n",
      "[Parallel(n_jobs=1)]: Using backend SequentialBackend with 1 concurrent workers.\n",
      "[Parallel(n_jobs=1)]: Done 463 out of 463 | elapsed:    0.2s finished\n",
      "[Parallel(n_jobs=1)]: Using backend SequentialBackend with 1 concurrent workers.\n",
      "[Parallel(n_jobs=1)]: Done 463 out of 463 | elapsed:   23.6s finished\n",
      "[Parallel(n_jobs=1)]: Using backend SequentialBackend with 1 concurrent workers.\n",
      "[Parallel(n_jobs=1)]: Done 463 out of 463 | elapsed:    0.2s finished\n",
      "[Parallel(n_jobs=1)]: Using backend SequentialBackend with 1 concurrent workers.\n",
      "[Parallel(n_jobs=1)]: Done 463 out of 463 | elapsed:   23.7s finished\n",
      "[Parallel(n_jobs=1)]: Using backend SequentialBackend with 1 concurrent workers.\n",
      "[Parallel(n_jobs=1)]: Done 463 out of 463 | elapsed:    0.2s finished\n",
      "[Parallel(n_jobs=1)]: Using backend SequentialBackend with 1 concurrent workers.\n",
      "[Parallel(n_jobs=1)]: Done 463 out of 463 | elapsed:   23.7s finished\n",
      "[Parallel(n_jobs=1)]: Using backend SequentialBackend with 1 concurrent workers.\n",
      "[Parallel(n_jobs=1)]: Done 463 out of 463 | elapsed:    0.2s finished\n",
      "[Parallel(n_jobs=1)]: Using backend SequentialBackend with 1 concurrent workers.\n",
      "[Parallel(n_jobs=1)]: Done 318 out of 318 | elapsed:    9.5s finished\n",
      "[Parallel(n_jobs=1)]: Using backend SequentialBackend with 1 concurrent workers.\n",
      "[Parallel(n_jobs=1)]: Done 318 out of 318 | elapsed:    0.1s finished\n",
      "[Parallel(n_jobs=1)]: Using backend SequentialBackend with 1 concurrent workers.\n",
      "[Parallel(n_jobs=1)]: Done 318 out of 318 | elapsed:    9.6s finished\n",
      "[Parallel(n_jobs=1)]: Using backend SequentialBackend with 1 concurrent workers.\n",
      "[Parallel(n_jobs=1)]: Done 318 out of 318 | elapsed:    0.1s finished\n",
      "[Parallel(n_jobs=1)]: Using backend SequentialBackend with 1 concurrent workers.\n",
      "[Parallel(n_jobs=1)]: Done 318 out of 318 | elapsed:    9.5s finished\n",
      "[Parallel(n_jobs=1)]: Using backend SequentialBackend with 1 concurrent workers.\n",
      "[Parallel(n_jobs=1)]: Done 318 out of 318 | elapsed:    0.1s finished\n",
      "[Parallel(n_jobs=1)]: Using backend SequentialBackend with 1 concurrent workers.\n",
      "[Parallel(n_jobs=1)]: Done 318 out of 318 | elapsed:    9.6s finished\n",
      "[Parallel(n_jobs=1)]: Using backend SequentialBackend with 1 concurrent workers.\n",
      "[Parallel(n_jobs=1)]: Done 318 out of 318 | elapsed:    0.1s finished\n",
      "[Parallel(n_jobs=1)]: Using backend SequentialBackend with 1 concurrent workers.\n",
      "[Parallel(n_jobs=1)]: Done 318 out of 318 | elapsed:    9.7s finished\n",
      "[Parallel(n_jobs=1)]: Using backend SequentialBackend with 1 concurrent workers.\n",
      "[Parallel(n_jobs=1)]: Done 318 out of 318 | elapsed:    0.1s finished\n",
      "[Parallel(n_jobs=1)]: Using backend SequentialBackend with 1 concurrent workers.\n",
      "[Parallel(n_jobs=1)]: Done 355 out of 355 | elapsed:  1.1min finished\n"
     ]
    },
    {
     "data": {
      "text/html": [
       "<style>#sk-container-id-1 {color: black;}#sk-container-id-1 pre{padding: 0;}#sk-container-id-1 div.sk-toggleable {background-color: white;}#sk-container-id-1 label.sk-toggleable__label {cursor: pointer;display: block;width: 100%;margin-bottom: 0;padding: 0.3em;box-sizing: border-box;text-align: center;}#sk-container-id-1 label.sk-toggleable__label-arrow:before {content: \"▸\";float: left;margin-right: 0.25em;color: #696969;}#sk-container-id-1 label.sk-toggleable__label-arrow:hover:before {color: black;}#sk-container-id-1 div.sk-estimator:hover label.sk-toggleable__label-arrow:before {color: black;}#sk-container-id-1 div.sk-toggleable__content {max-height: 0;max-width: 0;overflow: hidden;text-align: left;background-color: #f0f8ff;}#sk-container-id-1 div.sk-toggleable__content pre {margin: 0.2em;color: black;border-radius: 0.25em;background-color: #f0f8ff;}#sk-container-id-1 input.sk-toggleable__control:checked~div.sk-toggleable__content {max-height: 200px;max-width: 100%;overflow: auto;}#sk-container-id-1 input.sk-toggleable__control:checked~label.sk-toggleable__label-arrow:before {content: \"▾\";}#sk-container-id-1 div.sk-estimator input.sk-toggleable__control:checked~label.sk-toggleable__label {background-color: #d4ebff;}#sk-container-id-1 div.sk-label input.sk-toggleable__control:checked~label.sk-toggleable__label {background-color: #d4ebff;}#sk-container-id-1 input.sk-hidden--visually {border: 0;clip: rect(1px 1px 1px 1px);clip: rect(1px, 1px, 1px, 1px);height: 1px;margin: -1px;overflow: hidden;padding: 0;position: absolute;width: 1px;}#sk-container-id-1 div.sk-estimator {font-family: monospace;background-color: #f0f8ff;border: 1px dotted black;border-radius: 0.25em;box-sizing: border-box;margin-bottom: 0.5em;}#sk-container-id-1 div.sk-estimator:hover {background-color: #d4ebff;}#sk-container-id-1 div.sk-parallel-item::after {content: \"\";width: 100%;border-bottom: 1px solid gray;flex-grow: 1;}#sk-container-id-1 div.sk-label:hover label.sk-toggleable__label {background-color: #d4ebff;}#sk-container-id-1 div.sk-serial::before {content: \"\";position: absolute;border-left: 1px solid gray;box-sizing: border-box;top: 0;bottom: 0;left: 50%;z-index: 0;}#sk-container-id-1 div.sk-serial {display: flex;flex-direction: column;align-items: center;background-color: white;padding-right: 0.2em;padding-left: 0.2em;position: relative;}#sk-container-id-1 div.sk-item {position: relative;z-index: 1;}#sk-container-id-1 div.sk-parallel {display: flex;align-items: stretch;justify-content: center;background-color: white;position: relative;}#sk-container-id-1 div.sk-item::before, #sk-container-id-1 div.sk-parallel-item::before {content: \"\";position: absolute;border-left: 1px solid gray;box-sizing: border-box;top: 0;bottom: 0;left: 50%;z-index: -1;}#sk-container-id-1 div.sk-parallel-item {display: flex;flex-direction: column;z-index: 1;position: relative;background-color: white;}#sk-container-id-1 div.sk-parallel-item:first-child::after {align-self: flex-end;width: 50%;}#sk-container-id-1 div.sk-parallel-item:last-child::after {align-self: flex-start;width: 50%;}#sk-container-id-1 div.sk-parallel-item:only-child::after {width: 0;}#sk-container-id-1 div.sk-dashed-wrapped {border: 1px dashed gray;margin: 0 0.4em 0.5em 0.4em;box-sizing: border-box;padding-bottom: 0.4em;background-color: white;}#sk-container-id-1 div.sk-label label {font-family: monospace;font-weight: bold;display: inline-block;line-height: 1.2em;}#sk-container-id-1 div.sk-label-container {text-align: center;}#sk-container-id-1 div.sk-container {/* jupyter's `normalize.less` sets `[hidden] { display: none; }` but bootstrap.min.css set `[hidden] { display: none !important; }` so we also need the `!important` here to be able to override the default hidden behavior on the sphinx rendered scikit-learn.org. See: https://github.com/scikit-learn/scikit-learn/issues/21755 */display: inline-block !important;position: relative;}#sk-container-id-1 div.sk-text-repr-fallback {display: none;}</style><div id=\"sk-container-id-1\" class=\"sk-top-container\"><div class=\"sk-text-repr-fallback\"><pre>RandomizedSearchCV(cv=5, estimator=RandomForestClassifier(verbose=1),\n",
       "                   param_distributions={&#x27;criterion&#x27;: [&#x27;gini&#x27;, &#x27;entropy&#x27;,\n",
       "                                                      &#x27;log_loss&#x27;],\n",
       "                                        &#x27;max_depth&#x27;: &lt;scipy.stats._distn_infrastructure.rv_discrete_frozen object at 0x2ace00e8d6c0&gt;,\n",
       "                                        &#x27;n_estimators&#x27;: &lt;scipy.stats._distn_infrastructure.rv_discrete_frozen object at 0x2acdfa530be0&gt;},\n",
       "                   verbose=1)</pre><b>In a Jupyter environment, please rerun this cell to show the HTML representation or trust the notebook. <br />On GitHub, the HTML representation is unable to render, please try loading this page with nbviewer.org.</b></div><div class=\"sk-container\" hidden><div class=\"sk-item sk-dashed-wrapped\"><div class=\"sk-label-container\"><div class=\"sk-label sk-toggleable\"><input class=\"sk-toggleable__control sk-hidden--visually\" id=\"sk-estimator-id-1\" type=\"checkbox\" ><label for=\"sk-estimator-id-1\" class=\"sk-toggleable__label sk-toggleable__label-arrow\">RandomizedSearchCV</label><div class=\"sk-toggleable__content\"><pre>RandomizedSearchCV(cv=5, estimator=RandomForestClassifier(verbose=1),\n",
       "                   param_distributions={&#x27;criterion&#x27;: [&#x27;gini&#x27;, &#x27;entropy&#x27;,\n",
       "                                                      &#x27;log_loss&#x27;],\n",
       "                                        &#x27;max_depth&#x27;: &lt;scipy.stats._distn_infrastructure.rv_discrete_frozen object at 0x2ace00e8d6c0&gt;,\n",
       "                                        &#x27;n_estimators&#x27;: &lt;scipy.stats._distn_infrastructure.rv_discrete_frozen object at 0x2acdfa530be0&gt;},\n",
       "                   verbose=1)</pre></div></div></div><div class=\"sk-parallel\"><div class=\"sk-parallel-item\"><div class=\"sk-item\"><div class=\"sk-label-container\"><div class=\"sk-label sk-toggleable\"><input class=\"sk-toggleable__control sk-hidden--visually\" id=\"sk-estimator-id-2\" type=\"checkbox\" ><label for=\"sk-estimator-id-2\" class=\"sk-toggleable__label sk-toggleable__label-arrow\">estimator: RandomForestClassifier</label><div class=\"sk-toggleable__content\"><pre>RandomForestClassifier(verbose=1)</pre></div></div></div><div class=\"sk-serial\"><div class=\"sk-item\"><div class=\"sk-estimator sk-toggleable\"><input class=\"sk-toggleable__control sk-hidden--visually\" id=\"sk-estimator-id-3\" type=\"checkbox\" ><label for=\"sk-estimator-id-3\" class=\"sk-toggleable__label sk-toggleable__label-arrow\">RandomForestClassifier</label><div class=\"sk-toggleable__content\"><pre>RandomForestClassifier(verbose=1)</pre></div></div></div></div></div></div></div></div></div></div>"
      ],
      "text/plain": [
       "RandomizedSearchCV(cv=5, estimator=RandomForestClassifier(verbose=1),\n",
       "                   param_distributions={'criterion': ['gini', 'entropy',\n",
       "                                                      'log_loss'],\n",
       "                                        'max_depth': <scipy.stats._distn_infrastructure.rv_discrete_frozen object at 0x2ace00e8d6c0>,\n",
       "                                        'n_estimators': <scipy.stats._distn_infrastructure.rv_discrete_frozen object at 0x2acdfa530be0>},\n",
       "                   verbose=1)"
      ]
     },
     "execution_count": 35,
     "metadata": {},
     "output_type": "execute_result"
    }
   ],
   "source": [
    "rand_search.fit(X_train, y_train)"
   ]
  },
  {
   "cell_type": "code",
   "execution_count": 45,
   "metadata": {},
   "outputs": [
    {
     "name": "stdout",
     "output_type": "stream",
     "text": [
      "Best hyperparameters: {'criterion': 'entropy', 'max_depth': 47, 'n_estimators': 355}\n"
     ]
    }
   ],
   "source": [
    "best_rf = rand_search.best_estimator_\n",
    "print('Best hyperparameters:',  rand_search.best_params_)"
   ]
  },
  {
   "cell_type": "code",
   "execution_count": 46,
   "metadata": {},
   "outputs": [],
   "source": [
    "# Save the model as a pickle\n",
    "with open('../data/ml_outputs/co_occurrence_RF_model_03Jun2024_2000_per_class_CLEANED.pk', 'wb') as f:\n",
    "    pickle.dump(best_rf, f)"
   ]
  },
  {
   "cell_type": "markdown",
   "metadata": {},
   "source": [
    "### Evaluate the model"
   ]
  },
  {
   "cell_type": "code",
   "execution_count": 47,
   "metadata": {},
   "outputs": [],
   "source": [
    "# Load the model back in \n",
    "with open('../data/ml_outputs/co_occurrence_RF_model_03Jun2024_2000_per_class_CLEANED.pk', 'rb') as f:\n",
    "    best_rf = pickle.load(f)"
   ]
  },
  {
   "cell_type": "code",
   "execution_count": 48,
   "metadata": {},
   "outputs": [],
   "source": [
    "train_df = pd.read_csv('../data/ml_inputs/dt_co_occurrence_cleaned_training_pairs_2000_03Jun2024.csv', index_col=0)\n",
    "test_df = pd.read_csv('../data/ml_inputs/dt_co_occurrence_cleaned_testing_pairs_1000_03Jun2024.csv', index_col=0)"
   ]
  },
  {
   "cell_type": "code",
   "execution_count": 49,
   "metadata": {},
   "outputs": [],
   "source": [
    "X_test = test_df.drop(columns='label').to_numpy()\n",
    "y_test = test_df['label'].to_numpy()"
   ]
  },
  {
   "cell_type": "code",
   "execution_count": 50,
   "metadata": {},
   "outputs": [
    {
     "name": "stderr",
     "output_type": "stream",
     "text": [
      "[Parallel(n_jobs=1)]: Using backend SequentialBackend with 1 concurrent workers.\n",
      "[Parallel(n_jobs=1)]: Done 355 out of 355 | elapsed:    0.3s finished\n"
     ]
    }
   ],
   "source": [
    "y_pred = best_rf.predict(X_test)"
   ]
  },
  {
   "cell_type": "code",
   "execution_count": 51,
   "metadata": {},
   "outputs": [],
   "source": [
    "cm = confusion_matrix(y_test, y_pred)"
   ]
  },
  {
   "cell_type": "code",
   "execution_count": 52,
   "metadata": {},
   "outputs": [
    {
     "data": {
      "image/png": "[encoded data removed]",
      "text/plain": [
       "<Figure size 640x480 with 2 Axes>"
      ]
     },
     "metadata": {},
     "output_type": "display_data"
    }
   ],
   "source": [
    "ConfusionMatrixDisplay(confusion_matrix=cm).plot();"
   ]
  },
  {
   "cell_type": "code",
   "execution_count": 54,
   "metadata": {},
   "outputs": [
    {
     "name": "stdout",
     "output_type": "stream",
     "text": [
      "The 2,000 sample model achieved an F1 of 0.20.\n"
     ]
    }
   ],
   "source": [
    "f1 = f1_score(y_pred, y_test, average='macro')\n",
    "print(f'The 2,000 sample model achieved an F1 of {f1:.2f}.')"
   ]
  },
  {
   "cell_type": "code",
   "execution_count": 55,
   "metadata": {},
   "outputs": [
    {
     "name": "stderr",
     "output_type": "stream",
     "text": [
      "[Parallel(n_jobs=1)]: Using backend SequentialBackend with 1 concurrent workers.\n"
     ]
    },
    {
     "name": "stdout",
     "output_type": "stream",
     "text": [
      "The 2,000 sample model achieved an AUROC of 0.54.\n"
     ]
    },
    {
     "name": "stderr",
     "output_type": "stream",
     "text": [
      "[Parallel(n_jobs=1)]: Done 355 out of 355 | elapsed:    0.3s finished\n"
     ]
    }
   ],
   "source": [
    "aucroc_score = roc_auc_score(y_test, best_rf.predict_proba(X_test), average='macro', multi_class='ovo')\n",
    "print(f'The 2,000 sample model achieved an AUROC of {aucroc_score:.2f}.')"
   ]
  },
  {
   "cell_type": "markdown",
   "metadata": {},
   "source": [
    "## Using PyKEEN built-in prediction\n",
    "It looks like a simple RF model with just the node embeddings isn't going to cut it for prediction. Let's try the built-in PyKEEN prediction methods and see if we can do any better.\n",
    "\n",
    "The tricky thing about link prediction is choosing *what to predict*. In the above RF case, we asked about a (relatively) random set of 8,000 triples in the test set. In PyKEEN, while there is an option to `predict_all` triples, it's very computationally expensive because it involves calculating the score for every single possible triple. Therefore, we can do a few different things, like, given a head entity, predict the likelihood of anything being a tail entity, or get scores for a list of triples. For the sake of being able to compare these results with the RF model above, let's ask it to predict the types of the triples in the same test set. Since it wants a predicate for a given triple, we will choose predicates randomly from the three options for the negative samples."
   ]
  },
  {
   "cell_type": "code",
   "execution_count": 67,
   "metadata": {},
   "outputs": [],
   "source": [
    "test_trips = []\n",
    "negative_trips = []\n",
    "for lab, pairs in test_pairs.items():\n",
    "    if lab == 'negative':\n",
    "        predicate = choice(['desiccation', 'drought', 'both'])\n",
    "        negative_trips.extend([(pair[0], predicate, pair[1]) for pair in pairs])\n",
    "    else:\n",
    "        predicate = lab\n",
    "    test_trips.extend([(pair[0], predicate, pair[1]) for pair in pairs])"
   ]
  },
  {
   "cell_type": "code",
   "execution_count": 68,
   "metadata": {},
   "outputs": [
    {
     "name": "stderr",
     "output_type": "stream",
     "text": [
      "Using maximize_memory_utilization on non-CUDA tensors. This may lead to undocumented crashes due to CPU OOM killer.\n"
     ]
    }
   ],
   "source": [
    "scores = predict.predict_triples(\n",
    "    model=my_model,\n",
    "    triples=test_trips,\n",
    "    triples_factory=testing,\n",
    ")"
   ]
  },
  {
   "cell_type": "code",
   "execution_count": 83,
   "metadata": {},
   "outputs": [],
   "source": [
    "score_df = scores.process(testing).df"
   ]
  },
  {
   "cell_type": "code",
   "execution_count": 84,
   "metadata": {},
   "outputs": [
    {
     "data": {
      "text/html": [
       "<div>\n",
       "<style scoped>\n",
       "    .dataframe tbody tr th:only-of-type {\n",
       "        vertical-align: middle;\n",
       "    }\n",
       "\n",
       "    .dataframe tbody tr th {\n",
       "        vertical-align: top;\n",
       "    }\n",
       "\n",
       "    .dataframe thead th {\n",
       "        text-align: right;\n",
       "    }\n",
       "</style>\n",
       "<table border=\"1\" class=\"dataframe\">\n",
       "  <thead>\n",
       "    <tr style=\"text-align: right;\">\n",
       "      <th></th>\n",
       "      <th>head_id</th>\n",
       "      <th>head_label</th>\n",
       "      <th>relation_id</th>\n",
       "      <th>relation_label</th>\n",
       "      <th>tail_id</th>\n",
       "      <th>tail_label</th>\n",
       "      <th>score</th>\n",
       "    </tr>\n",
       "  </thead>\n",
       "  <tbody>\n",
       "    <tr>\n",
       "      <th>0</th>\n",
       "      <td>158625</td>\n",
       "      <td>malus xdomestica ' gala</td>\n",
       "      <td>0</td>\n",
       "      <td>both</td>\n",
       "      <td>110261</td>\n",
       "      <td>gala-4x</td>\n",
       "      <td>0.000003</td>\n",
       "    </tr>\n",
       "    <tr>\n",
       "      <th>1</th>\n",
       "      <td>257205</td>\n",
       "      <td>stratosphere</td>\n",
       "      <td>1</td>\n",
       "      <td>desiccation</td>\n",
       "      <td>159926</td>\n",
       "      <td>marsbox</td>\n",
       "      <td>0.000003</td>\n",
       "    </tr>\n",
       "    <tr>\n",
       "      <th>2</th>\n",
       "      <td>24208</td>\n",
       "      <td>apy(2)sk(2 ) and apsk(3 ) transformation</td>\n",
       "      <td>0</td>\n",
       "      <td>both</td>\n",
       "      <td>225854</td>\n",
       "      <td>recombinant apy(2)sk(2 )</td>\n",
       "      <td>0.000002</td>\n",
       "    </tr>\n",
       "    <tr>\n",
       "      <th>3</th>\n",
       "      <td>132043</td>\n",
       "      <td>hypobaria</td>\n",
       "      <td>0</td>\n",
       "      <td>both</td>\n",
       "      <td>132045</td>\n",
       "      <td>hypobaric biology</td>\n",
       "      <td>0.000002</td>\n",
       "    </tr>\n",
       "    <tr>\n",
       "      <th>4</th>\n",
       "      <td>95163</td>\n",
       "      <td>ellagic acid derivatives</td>\n",
       "      <td>1</td>\n",
       "      <td>desiccation</td>\n",
       "      <td>267887</td>\n",
       "      <td>terminalia chebula retz</td>\n",
       "      <td>0.000002</td>\n",
       "    </tr>\n",
       "  </tbody>\n",
       "</table>\n",
       "</div>"
      ],
      "text/plain": [
       "   head_id                                head_label  relation_id  \\\n",
       "0   158625                   malus xdomestica ' gala            0   \n",
       "1   257205                              stratosphere            1   \n",
       "2    24208  apy(2)sk(2 ) and apsk(3 ) transformation            0   \n",
       "3   132043                                 hypobaria            0   \n",
       "4    95163                  ellagic acid derivatives            1   \n",
       "\n",
       "  relation_label  tail_id                tail_label     score  \n",
       "0           both   110261                   gala-4x  0.000003  \n",
       "1    desiccation   159926                   marsbox  0.000003  \n",
       "2           both   225854  recombinant apy(2)sk(2 )  0.000002  \n",
       "3           both   132045         hypobaric biology  0.000002  \n",
       "4    desiccation   267887   terminalia chebula retz  0.000002  "
      ]
     },
     "execution_count": 84,
     "metadata": {},
     "output_type": "execute_result"
    }
   ],
   "source": [
    "score_df = score_df.sort_values(by='score', ascending=False).reset_index(drop=True)\n",
    "score_df.head()"
   ]
  },
  {
   "cell_type": "markdown",
   "metadata": {},
   "source": [
    "Add back a column to check which triples were supposed to be negative:"
   ]
  },
  {
   "cell_type": "code",
   "execution_count": 85,
   "metadata": {},
   "outputs": [],
   "source": [
    "def is_negative(row):\n",
    "    if (row.head_label, row.relation_label, row.tail_label) in negative_trips:\n",
    "        return True\n",
    "    else:\n",
    "        return False"
   ]
  },
  {
   "cell_type": "code",
   "execution_count": 86,
   "metadata": {},
   "outputs": [],
   "source": [
    "score_df['is_negative'] = score_df.apply(is_negative, axis=1)"
   ]
  },
  {
   "cell_type": "markdown",
   "metadata": {},
   "source": [
    "We want to see where the negative triples rank in the scoring. We would like them to be at the bottom if the model is performing well:"
   ]
  },
  {
   "cell_type": "code",
   "execution_count": 89,
   "metadata": {},
   "outputs": [],
   "source": [
    "neg_ranks = score_df[score_df['is_negative']].index.tolist()"
   ]
  },
  {
   "cell_type": "code",
   "execution_count": 91,
   "metadata": {},
   "outputs": [],
   "source": [
    "pos_ranks = score_df[~score_df['is_negative']].index.tolist()"
   ]
  },
  {
   "cell_type": "code",
   "execution_count": 99,
   "metadata": {},
   "outputs": [
    {
     "data": {
      "text/plain": [
       "<matplotlib.legend.Legend at 0x2acde8233550>"
      ]
     },
     "execution_count": 99,
     "metadata": {},
     "output_type": "execute_result"
    },
    {
     "data": {
      "image/png": "[encoded data removed]",
      "text/plain": [
       "<Figure size 640x480 with 1 Axes>"
      ]
     },
     "metadata": {},
     "output_type": "display_data"
    }
   ],
   "source": [
    "fig, ax = plt.subplots()\n",
    "\n",
    "ax.hist(pos_ranks, color='deeppink', alpha=0.5, label='True positive triples')\n",
    "ax.hist(neg_ranks, color='indigo', alpha=0.5, label='True negative triples')\n",
    "ax.set_xlabel('Plausibility score')\n",
    "ax.set_ylabel('Triple count')\n",
    "ax.legend()"
   ]
  },
  {
   "cell_type": "markdown",
   "metadata": {},
   "source": [
    "Unfortunately, both kinds of triples are at both ends of the scoring spectrum. However, we see that negative and positive triples display somewhat different patterns of score distribution. Whereas positive triples are most often scoring in the middle of the pack, negative triples either score on the high-ranked end or the low-ranked end, but not so much in the middle."
   ]
  },
  {
   "cell_type": "markdown",
   "metadata": {},
   "source": [
    "If we were to use this method to look for the most probable new connections in the graph without having a previous hypothesis about what kinds of triples we think are most likely to be interesting, we would use `predict_all`. We can just store the top 100 to save on memory, but it doesn't change how many scores have to be calculated. This may prove too computationally challenging, but I would like to try it:"
   ]
  },
  {
   "cell_type": "code",
   "execution_count": 100,
   "metadata": {},
   "outputs": [
    {
     "name": "stderr",
     "output_type": "stream",
     "text": [
      "predict is an expensive operation, involving 268,971,381,552 score evaluations.\n"
     ]
    },
    {
     "data": {
      "application/vnd.jupyter.widget-view+json": {
       "model_id": "d1b2a3d0ae734399b4c7aa1b6ef2217d",
       "version_major": 2,
       "version_minor": 0
      },
      "text/plain": [
       "scoring:   0%|          | 0.00/898k [00:00<?, ?batch/s]"
      ]
     },
     "metadata": {},
     "output_type": "display_data"
    },
    {
     "name": "stderr",
     "output_type": "stream",
     "text": [
      "\n",
      "KeyboardInterrupt\n",
      "\n"
     ]
    }
   ],
   "source": [
    "all_scores = predict.predict_all(\n",
    "    model=my_model,\n",
    "    k=100\n",
    ")"
   ]
  },
  {
   "cell_type": "code",
   "execution_count": null,
   "metadata": {},
   "outputs": [],
   "source": []
  }
 ],
 "metadata": {
  "kernelspec": {
   "display_name": "graphs",
   "language": "python",
   "name": "graphs"
  },
  "language_info": {
   "codemirror_mode": {
    "name": "ipython",
    "version": 3
   },
   "file_extension": ".py",
   "mimetype": "text/x-python",
   "name": "python",
   "nbconvert_exporter": "python",
   "pygments_lexer": "ipython3",
   "version": "3.10.13"
  }
 },
 "nbformat": 4,
 "nbformat_minor": 2
}
