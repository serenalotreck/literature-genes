{
 "cells": [
  {
   "cell_type": "markdown",
   "metadata": {},
   "source": [
    "# Static link prediction\n",
    "In this notebook, we will apply models from the PyKEEN package to generate link predictions on the entire graph as a static object."
   ]
  },
  {
   "cell_type": "code",
   "execution_count": 1,
   "metadata": {},
   "outputs": [
    {
     "name": "stderr",
     "output_type": "stream",
     "text": [
      "2024-06-01 14:33:48.647773: I tensorflow/core/platform/cpu_feature_guard.cc:193] This TensorFlow binary is optimized with oneAPI Deep Neural Network Library (oneDNN) to use the following CPU instructions in performance-critical operations:  SSE4.1 SSE4.2 AVX\n",
      "To enable them in other operations, rebuild TensorFlow with the appropriate compiler flags.\n"
     ]
    }
   ],
   "source": [
    "import networkx as nx\n",
    "from pykeen.triples import TriplesFactory\n",
    "from pykeen.pipeline import pipeline"
   ]
  },
  {
   "cell_type": "markdown",
   "metadata": {},
   "source": [
    "## Read in the network and format"
   ]
  },
  {
   "cell_type": "code",
   "execution_count": 2,
   "metadata": {},
   "outputs": [],
   "source": [
    "graph = nx.read_graphml('../data/kg/all_drought_dt_co_occurrence_graph_02May2024.graphml')"
   ]
  },
  {
   "cell_type": "code",
   "execution_count": 3,
   "metadata": {},
   "outputs": [
    {
     "data": {
      "text/html": [
       "<div>\n",
       "<style scoped>\n",
       "    .dataframe tbody tr th:only-of-type {\n",
       "        vertical-align: middle;\n",
       "    }\n",
       "\n",
       "    .dataframe tbody tr th {\n",
       "        vertical-align: top;\n",
       "    }\n",
       "\n",
       "    .dataframe thead th {\n",
       "        text-align: right;\n",
       "    }\n",
       "</style>\n",
       "<table border=\"1\" class=\"dataframe\">\n",
       "  <thead>\n",
       "    <tr style=\"text-align: right;\">\n",
       "      <th></th>\n",
       "      <th>source</th>\n",
       "      <th>target</th>\n",
       "      <th>uids_of_origin</th>\n",
       "      <th>first_year_mentioned</th>\n",
       "      <th>is_drought</th>\n",
       "      <th>is_desiccation</th>\n",
       "      <th>num_doc_mentions_all_time</th>\n",
       "    </tr>\n",
       "  </thead>\n",
       "  <tbody>\n",
       "    <tr>\n",
       "      <th>0</th>\n",
       "      <td>peg-induced drought tolerance</td>\n",
       "      <td>sesame</td>\n",
       "      <td>WOS:000623658100043</td>\n",
       "      <td>2021</td>\n",
       "      <td>True</td>\n",
       "      <td>False</td>\n",
       "      <td>1</td>\n",
       "    </tr>\n",
       "    <tr>\n",
       "      <th>1</th>\n",
       "      <td>peg-induced drought tolerance</td>\n",
       "      <td>sesame drought tolerance</td>\n",
       "      <td>WOS:000623658100043</td>\n",
       "      <td>2021</td>\n",
       "      <td>True</td>\n",
       "      <td>False</td>\n",
       "      <td>1</td>\n",
       "    </tr>\n",
       "    <tr>\n",
       "      <th>2</th>\n",
       "      <td>peg-induced drought tolerance</td>\n",
       "      <td>otsa</td>\n",
       "      <td>WOS:000621810600016</td>\n",
       "      <td>2020</td>\n",
       "      <td>True</td>\n",
       "      <td>False</td>\n",
       "      <td>1</td>\n",
       "    </tr>\n",
       "    <tr>\n",
       "      <th>3</th>\n",
       "      <td>peg-induced drought tolerance</td>\n",
       "      <td>p5cr</td>\n",
       "      <td>WOS:000621810600016</td>\n",
       "      <td>2020</td>\n",
       "      <td>True</td>\n",
       "      <td>False</td>\n",
       "      <td>1</td>\n",
       "    </tr>\n",
       "    <tr>\n",
       "      <th>4</th>\n",
       "      <td>peg-induced drought tolerance</td>\n",
       "      <td>glgx</td>\n",
       "      <td>WOS:000621810600016</td>\n",
       "      <td>2020</td>\n",
       "      <td>True</td>\n",
       "      <td>False</td>\n",
       "      <td>1</td>\n",
       "    </tr>\n",
       "  </tbody>\n",
       "</table>\n",
       "</div>"
      ],
      "text/plain": [
       "                          source                    target  \\\n",
       "0  peg-induced drought tolerance                    sesame   \n",
       "1  peg-induced drought tolerance  sesame drought tolerance   \n",
       "2  peg-induced drought tolerance                      otsa   \n",
       "3  peg-induced drought tolerance                      p5cr   \n",
       "4  peg-induced drought tolerance                      glgx   \n",
       "\n",
       "        uids_of_origin first_year_mentioned  is_drought  is_desiccation  \\\n",
       "0  WOS:000623658100043                 2021        True           False   \n",
       "1  WOS:000623658100043                 2021        True           False   \n",
       "2  WOS:000621810600016                 2020        True           False   \n",
       "3  WOS:000621810600016                 2020        True           False   \n",
       "4  WOS:000621810600016                 2020        True           False   \n",
       "\n",
       "   num_doc_mentions_all_time  \n",
       "0                          1  \n",
       "1                          1  \n",
       "2                          1  \n",
       "3                          1  \n",
       "4                          1  "
      ]
     },
     "execution_count": 3,
     "metadata": {},
     "output_type": "execute_result"
    }
   ],
   "source": [
    "edgelist = nx.to_pandas_edgelist(graph)\n",
    "edgelist.head()"
   ]
  },
  {
   "cell_type": "code",
   "execution_count": 4,
   "metadata": {},
   "outputs": [],
   "source": [
    "def get_predicate(row):\n",
    "    if row.is_drought:\n",
    "        if row.is_desiccation:\n",
    "            return 'both'\n",
    "        else:\n",
    "            return 'drought'\n",
    "    else:\n",
    "        if row.is_desiccation:\n",
    "            return 'desiccation'"
   ]
  },
  {
   "cell_type": "code",
   "execution_count": 5,
   "metadata": {},
   "outputs": [],
   "source": [
    "edgelist['predicate'] = edgelist.apply(get_predicate, axis=1)"
   ]
  },
  {
   "cell_type": "code",
   "execution_count": 6,
   "metadata": {},
   "outputs": [
    {
     "data": {
      "text/html": [
       "<div>\n",
       "<style scoped>\n",
       "    .dataframe tbody tr th:only-of-type {\n",
       "        vertical-align: middle;\n",
       "    }\n",
       "\n",
       "    .dataframe tbody tr th {\n",
       "        vertical-align: top;\n",
       "    }\n",
       "\n",
       "    .dataframe thead th {\n",
       "        text-align: right;\n",
       "    }\n",
       "</style>\n",
       "<table border=\"1\" class=\"dataframe\">\n",
       "  <thead>\n",
       "    <tr style=\"text-align: right;\">\n",
       "      <th></th>\n",
       "      <th>source</th>\n",
       "      <th>target</th>\n",
       "      <th>uids_of_origin</th>\n",
       "      <th>first_year_mentioned</th>\n",
       "      <th>is_drought</th>\n",
       "      <th>is_desiccation</th>\n",
       "      <th>num_doc_mentions_all_time</th>\n",
       "      <th>predicate</th>\n",
       "    </tr>\n",
       "  </thead>\n",
       "  <tbody>\n",
       "    <tr>\n",
       "      <th>0</th>\n",
       "      <td>peg-induced drought tolerance</td>\n",
       "      <td>sesame</td>\n",
       "      <td>WOS:000623658100043</td>\n",
       "      <td>2021</td>\n",
       "      <td>True</td>\n",
       "      <td>False</td>\n",
       "      <td>1</td>\n",
       "      <td>drought</td>\n",
       "    </tr>\n",
       "    <tr>\n",
       "      <th>1</th>\n",
       "      <td>peg-induced drought tolerance</td>\n",
       "      <td>sesame drought tolerance</td>\n",
       "      <td>WOS:000623658100043</td>\n",
       "      <td>2021</td>\n",
       "      <td>True</td>\n",
       "      <td>False</td>\n",
       "      <td>1</td>\n",
       "      <td>drought</td>\n",
       "    </tr>\n",
       "    <tr>\n",
       "      <th>2</th>\n",
       "      <td>peg-induced drought tolerance</td>\n",
       "      <td>otsa</td>\n",
       "      <td>WOS:000621810600016</td>\n",
       "      <td>2020</td>\n",
       "      <td>True</td>\n",
       "      <td>False</td>\n",
       "      <td>1</td>\n",
       "      <td>drought</td>\n",
       "    </tr>\n",
       "    <tr>\n",
       "      <th>3</th>\n",
       "      <td>peg-induced drought tolerance</td>\n",
       "      <td>p5cr</td>\n",
       "      <td>WOS:000621810600016</td>\n",
       "      <td>2020</td>\n",
       "      <td>True</td>\n",
       "      <td>False</td>\n",
       "      <td>1</td>\n",
       "      <td>drought</td>\n",
       "    </tr>\n",
       "    <tr>\n",
       "      <th>4</th>\n",
       "      <td>peg-induced drought tolerance</td>\n",
       "      <td>glgx</td>\n",
       "      <td>WOS:000621810600016</td>\n",
       "      <td>2020</td>\n",
       "      <td>True</td>\n",
       "      <td>False</td>\n",
       "      <td>1</td>\n",
       "      <td>drought</td>\n",
       "    </tr>\n",
       "  </tbody>\n",
       "</table>\n",
       "</div>"
      ],
      "text/plain": [
       "                          source                    target  \\\n",
       "0  peg-induced drought tolerance                    sesame   \n",
       "1  peg-induced drought tolerance  sesame drought tolerance   \n",
       "2  peg-induced drought tolerance                      otsa   \n",
       "3  peg-induced drought tolerance                      p5cr   \n",
       "4  peg-induced drought tolerance                      glgx   \n",
       "\n",
       "        uids_of_origin first_year_mentioned  is_drought  is_desiccation  \\\n",
       "0  WOS:000623658100043                 2021        True           False   \n",
       "1  WOS:000623658100043                 2021        True           False   \n",
       "2  WOS:000621810600016                 2020        True           False   \n",
       "3  WOS:000621810600016                 2020        True           False   \n",
       "4  WOS:000621810600016                 2020        True           False   \n",
       "\n",
       "   num_doc_mentions_all_time predicate  \n",
       "0                          1   drought  \n",
       "1                          1   drought  \n",
       "2                          1   drought  \n",
       "3                          1   drought  \n",
       "4                          1   drought  "
      ]
     },
     "execution_count": 6,
     "metadata": {},
     "output_type": "execute_result"
    }
   ],
   "source": [
    "edgelist.head()"
   ]
  },
  {
   "cell_type": "code",
   "execution_count": 7,
   "metadata": {},
   "outputs": [],
   "source": [
    "triples = edgelist[['source', 'predicate', 'target']].to_numpy()"
   ]
  },
  {
   "cell_type": "code",
   "execution_count": 8,
   "metadata": {},
   "outputs": [],
   "source": [
    "tf = TriplesFactory.from_labeled_triples(triples, create_inverse_triples=True)"
   ]
  },
  {
   "cell_type": "markdown",
   "metadata": {},
   "source": [
    "## Train a model"
   ]
  },
  {
   "cell_type": "code",
   "execution_count": 9,
   "metadata": {},
   "outputs": [
    {
     "name": "stderr",
     "output_type": "stream",
     "text": [
      "using automatically assigned random_state=3243504460\n"
     ]
    }
   ],
   "source": [
    "training, validation, testing = tf.split([0.8, 0.1, 0.1])"
   ]
  },
  {
   "cell_type": "code",
   "execution_count": 14,
   "metadata": {},
   "outputs": [
    {
     "name": "stderr",
     "output_type": "stream",
     "text": [
      "INFO:pykeen.pipeline.api:=> no training loop checkpoint file found at '/mnt/home/lotrecks/.data/pykeen/checkpoints/dt_rescal_notebook.pt'. Creating a new file.\n",
      "WARNING:pykeen.pipeline.api:No random seed is specified. Setting to 506401005.\n",
      "WARNING:pykeen.utils:No cuda devices were available. The model runs on CPU\n",
      "INFO:pykeen.pipeline.api:Using device: None\n",
      "INFO:pykeen.stoppers.early_stopping:Inferred checkpoint path for best model weights: /mnt/home/lotrecks/.data/pykeen/checkpoints/best-model-weights-f73342c0-e282-40c9-b25e-9e508ee7bde5.pt\n",
      "INFO:pykeen.training.training_loop:=> no checkpoint found at '/mnt/home/lotrecks/.data/pykeen/checkpoints/dt_rescal_notebook.pt'. Creating a new file.\n",
      "INFO:pykeen.triples.triples_factory:Creating inverse triples.\n"
     ]
    },
    {
     "data": {
      "application/vnd.jupyter.widget-view+json": {
       "model_id": "5af4fd7e8ffd4f49a4ef3943068757e8",
       "version_major": 2,
       "version_minor": 0
      },
      "text/plain": [
       "Training epochs on cpu:   0%|          | 0/1 [00:00<?, ?epoch/s]"
      ]
     },
     "metadata": {},
     "output_type": "display_data"
    },
    {
     "name": "stderr",
     "output_type": "stream",
     "text": [
      "INFO:pykeen.triples.triples_factory:Creating inverse triples.\n"
     ]
    },
    {
     "data": {
      "application/vnd.jupyter.widget-view+json": {
       "model_id": "9d931fd00db9418395b39669e5c89a43",
       "version_major": 2,
       "version_minor": 0
      },
      "text/plain": [
       "Training batches on cpu:   0%|          | 0/8058 [00:00<?, ?batch/s]"
      ]
     },
     "metadata": {},
     "output_type": "display_data"
    },
    {
     "name": "stderr",
     "output_type": "stream",
     "text": [
      "\n",
      "KeyboardInterrupt\n",
      "\n"
     ]
    }
   ],
   "source": [
    "result = pipeline(\n",
    "    training=training,\n",
    "    validation=validation,\n",
    "    testing=testing,\n",
    "    stopper='early',\n",
    "    model='RESCAL',\n",
    "    training_kwargs=dict(\n",
    "        num_epochs=1,\n",
    "        checkpoint_name='dt_rescal_notebook.pt',\n",
    "        checkpoint_frequency=0\n",
    "    )\n",
    "    \n",
    ")"
   ]
  },
  {
   "cell_type": "markdown",
   "metadata": {},
   "source": [
    "## Use embedding representations to make predictions\n",
    "Rather than use the built-in prediction capabilities of the embedding model (which I have previously found to be terrible), I would like to try taking the embeddings and using them in a RF model to start. The idea is to use the node embeddings as features, and try to predict new edges."
   ]
  },
  {
   "cell_type": "code",
   "execution_count": null,
   "metadata": {},
   "outputs": [],
   "source": [
    "model = result.model\n",
    "node_reps = model.entity_representations"
   ]
  }
 ],
 "metadata": {
  "kernelspec": {
   "display_name": "graphs",
   "language": "python",
   "name": "graphs"
  },
  "language_info": {
   "codemirror_mode": {
    "name": "ipython",
    "version": 3
   },
   "file_extension": ".py",
   "mimetype": "text/x-python",
   "name": "python",
   "nbconvert_exporter": "python",
   "pygments_lexer": "ipython3",
   "version": "3.10.13"
  }
 },
 "nbformat": 4,
 "nbformat_minor": 2
}
